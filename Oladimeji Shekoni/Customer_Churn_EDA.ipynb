{
  "cells": [
    {
      "cell_type": "markdown",
      "metadata": {
        "id": "jd1rpTypW5Ae"
      },
      "source": [
        "#Importing Libraries"
      ]
    },
    {
      "cell_type": "code",
      "execution_count": null,
      "metadata": {
        "colab": {
          "base_uri": "https://localhost:8080/"
        },
        "id": "Ock4oOgQ6ldh",
        "outputId": "454cac78-2555-4893-928f-8431870151f2"
      },
      "outputs": [],
      "source": [
        "  !pip install --upgrade plotly "
      ]
    },
    {
      "cell_type": "code",
      "execution_count": null,
      "metadata": {
        "colab": {
          "base_uri": "https://localhost:8080/"
        },
        "id": "BDp_iIPbjONc",
        "outputId": "c49ad1aa-9037-4dd6-ed9b-4db1217fe984"
      },
      "outputs": [
        {
          "data": {
            "text/html": [
              "        <script type=\"text/javascript\">\n",
              "        window.PlotlyConfig = {MathJaxConfig: 'local'};\n",
              "        if (window.MathJax) {MathJax.Hub.Config({SVG: {font: \"STIX-Web\"}});}\n",
              "        if (typeof require !== 'undefined') {\n",
              "        require.undef(\"plotly\");\n",
              "        requirejs.config({\n",
              "            paths: {\n",
              "                'plotly': ['https://cdn.plot.ly/plotly-2.8.3.min']\n",
              "            }\n",
              "        });\n",
              "        require(['plotly'], function(Plotly) {\n",
              "            window._Plotly = Plotly;\n",
              "        });\n",
              "        }\n",
              "        </script>\n",
              "        "
            ]
          },
          "metadata": {},
          "output_type": "display_data"
        }
      ],
      "source": [
        "import pandas as pd\n",
        "import numpy as np \n",
        "import plotly as py\n",
        "import plotly.graph_objs as go\n",
        "import plotly.express as px\n",
        "from plotly.subplots import make_subplots\n",
        "from plotly.offline import init_notebook_mode\n",
        "init_notebook_mode(connected = True)\n",
        "# import seaborn as sns\n",
        "# import matplotlib.pyplot as plt\n",
        "%matplotlib inline\n"
      ]
    },
    {
      "cell_type": "markdown",
      "metadata": {},
      "source": []
    },
    {
      "cell_type": "markdown",
      "metadata": {
        "id": "jIfENJZyWwUt"
      },
      "source": [
        "#Loading The Dataset "
      ]
    },
    {
      "cell_type": "code",
      "execution_count": null,
      "metadata": {
        "id": "-qBuofCujTJs"
      },
      "outputs": [],
      "source": [
        "data = pd.read_csv('/content/Customer Churn.csv')"
      ]
    },
    {
      "cell_type": "code",
      "execution_count": null,
      "metadata": {
        "colab": {
          "base_uri": "https://localhost:8080/"
        },
        "id": "S6xvovBzvRPI",
        "outputId": "59ad586a-47d3-47cb-ddfc-729cec251efd"
      },
      "outputs": [
        {
          "data": {
            "text/html": [
              "\n",
              "  <div id=\"df-2b4f9084-e505-464c-b9c9-d89dc2995567\">\n",
              "    <div class=\"colab-df-container\">\n",
              "      <div>\n",
              "<style scoped>\n",
              "    .dataframe tbody tr th:only-of-type {\n",
              "        vertical-align: middle;\n",
              "    }\n",
              "\n",
              "    .dataframe tbody tr th {\n",
              "        vertical-align: top;\n",
              "    }\n",
              "\n",
              "    .dataframe thead th {\n",
              "        text-align: right;\n",
              "    }\n",
              "</style>\n",
              "<table border=\"1\" class=\"dataframe\">\n",
              "  <thead>\n",
              "    <tr style=\"text-align: right;\">\n",
              "      <th></th>\n",
              "      <th>Call  Failure</th>\n",
              "      <th>Complains</th>\n",
              "      <th>Subscription  Length</th>\n",
              "      <th>Charge  Amount</th>\n",
              "      <th>Seconds of Use</th>\n",
              "      <th>Frequency of use</th>\n",
              "      <th>Frequency of SMS</th>\n",
              "      <th>Distinct Called Numbers</th>\n",
              "      <th>Age Group</th>\n",
              "      <th>Tariff Plan</th>\n",
              "      <th>Status</th>\n",
              "      <th>Age</th>\n",
              "      <th>Customer Value</th>\n",
              "      <th>FN</th>\n",
              "      <th>FP</th>\n",
              "      <th>Churn</th>\n",
              "    </tr>\n",
              "  </thead>\n",
              "  <tbody>\n",
              "    <tr>\n",
              "      <th>0</th>\n",
              "      <td>8</td>\n",
              "      <td>0</td>\n",
              "      <td>38</td>\n",
              "      <td>0</td>\n",
              "      <td>4370</td>\n",
              "      <td>71</td>\n",
              "      <td>5</td>\n",
              "      <td>17</td>\n",
              "      <td>3</td>\n",
              "      <td>1</td>\n",
              "      <td>1</td>\n",
              "      <td>30</td>\n",
              "      <td>197.640</td>\n",
              "      <td>177.8760</td>\n",
              "      <td>69.7640</td>\n",
              "      <td>0</td>\n",
              "    </tr>\n",
              "    <tr>\n",
              "      <th>1</th>\n",
              "      <td>0</td>\n",
              "      <td>0</td>\n",
              "      <td>39</td>\n",
              "      <td>0</td>\n",
              "      <td>318</td>\n",
              "      <td>5</td>\n",
              "      <td>7</td>\n",
              "      <td>4</td>\n",
              "      <td>2</td>\n",
              "      <td>1</td>\n",
              "      <td>2</td>\n",
              "      <td>25</td>\n",
              "      <td>46.035</td>\n",
              "      <td>41.4315</td>\n",
              "      <td>60.0000</td>\n",
              "      <td>0</td>\n",
              "    </tr>\n",
              "    <tr>\n",
              "      <th>2</th>\n",
              "      <td>10</td>\n",
              "      <td>0</td>\n",
              "      <td>37</td>\n",
              "      <td>0</td>\n",
              "      <td>2453</td>\n",
              "      <td>60</td>\n",
              "      <td>359</td>\n",
              "      <td>24</td>\n",
              "      <td>3</td>\n",
              "      <td>1</td>\n",
              "      <td>1</td>\n",
              "      <td>30</td>\n",
              "      <td>1536.520</td>\n",
              "      <td>1382.8680</td>\n",
              "      <td>203.6520</td>\n",
              "      <td>0</td>\n",
              "    </tr>\n",
              "    <tr>\n",
              "      <th>3</th>\n",
              "      <td>10</td>\n",
              "      <td>0</td>\n",
              "      <td>38</td>\n",
              "      <td>0</td>\n",
              "      <td>4198</td>\n",
              "      <td>66</td>\n",
              "      <td>1</td>\n",
              "      <td>35</td>\n",
              "      <td>1</td>\n",
              "      <td>1</td>\n",
              "      <td>1</td>\n",
              "      <td>15</td>\n",
              "      <td>240.020</td>\n",
              "      <td>216.0180</td>\n",
              "      <td>74.0020</td>\n",
              "      <td>0</td>\n",
              "    </tr>\n",
              "    <tr>\n",
              "      <th>4</th>\n",
              "      <td>3</td>\n",
              "      <td>0</td>\n",
              "      <td>38</td>\n",
              "      <td>0</td>\n",
              "      <td>2393</td>\n",
              "      <td>58</td>\n",
              "      <td>2</td>\n",
              "      <td>33</td>\n",
              "      <td>1</td>\n",
              "      <td>1</td>\n",
              "      <td>1</td>\n",
              "      <td>15</td>\n",
              "      <td>145.805</td>\n",
              "      <td>131.2245</td>\n",
              "      <td>64.5805</td>\n",
              "      <td>0</td>\n",
              "    </tr>\n",
              "  </tbody>\n",
              "</table>\n",
              "</div>\n",
              "      <button class=\"colab-df-convert\" onclick=\"convertToInteractive('df-2b4f9084-e505-464c-b9c9-d89dc2995567')\"\n",
              "              title=\"Convert this dataframe to an interactive table.\"\n",
              "              style=\"display:none;\">\n",
              "        \n",
              "  <svg xmlns=\"http://www.w3.org/2000/svg\" height=\"24px\"viewBox=\"0 0 24 24\"\n",
              "       width=\"24px\">\n",
              "    <path d=\"M0 0h24v24H0V0z\" fill=\"none\"/>\n",
              "    <path d=\"M18.56 5.44l.94 2.06.94-2.06 2.06-.94-2.06-.94-.94-2.06-.94 2.06-2.06.94zm-11 1L8.5 8.5l.94-2.06 2.06-.94-2.06-.94L8.5 2.5l-.94 2.06-2.06.94zm10 10l.94 2.06.94-2.06 2.06-.94-2.06-.94-.94-2.06-.94 2.06-2.06.94z\"/><path d=\"M17.41 7.96l-1.37-1.37c-.4-.4-.92-.59-1.43-.59-.52 0-1.04.2-1.43.59L10.3 9.45l-7.72 7.72c-.78.78-.78 2.05 0 2.83L4 21.41c.39.39.9.59 1.41.59.51 0 1.02-.2 1.41-.59l7.78-7.78 2.81-2.81c.8-.78.8-2.07 0-2.86zM5.41 20L4 18.59l7.72-7.72 1.47 1.35L5.41 20z\"/>\n",
              "  </svg>\n",
              "      </button>\n",
              "      \n",
              "  <style>\n",
              "    .colab-df-container {\n",
              "      display:flex;\n",
              "      flex-wrap:wrap;\n",
              "      gap: 12px;\n",
              "    }\n",
              "\n",
              "    .colab-df-convert {\n",
              "      background-color: #E8F0FE;\n",
              "      border: none;\n",
              "      border-radius: 50%;\n",
              "      cursor: pointer;\n",
              "      display: none;\n",
              "      fill: #1967D2;\n",
              "      height: 32px;\n",
              "      padding: 0 0 0 0;\n",
              "      width: 32px;\n",
              "    }\n",
              "\n",
              "    .colab-df-convert:hover {\n",
              "      background-color: #E2EBFA;\n",
              "      box-shadow: 0px 1px 2px rgba(60, 64, 67, 0.3), 0px 1px 3px 1px rgba(60, 64, 67, 0.15);\n",
              "      fill: #174EA6;\n",
              "    }\n",
              "\n",
              "    [theme=dark] .colab-df-convert {\n",
              "      background-color: #3B4455;\n",
              "      fill: #D2E3FC;\n",
              "    }\n",
              "\n",
              "    [theme=dark] .colab-df-convert:hover {\n",
              "      background-color: #434B5C;\n",
              "      box-shadow: 0px 1px 3px 1px rgba(0, 0, 0, 0.15);\n",
              "      filter: drop-shadow(0px 1px 2px rgba(0, 0, 0, 0.3));\n",
              "      fill: #FFFFFF;\n",
              "    }\n",
              "  </style>\n",
              "\n",
              "      <script>\n",
              "        const buttonEl =\n",
              "          document.querySelector('#df-2b4f9084-e505-464c-b9c9-d89dc2995567 button.colab-df-convert');\n",
              "        buttonEl.style.display =\n",
              "          google.colab.kernel.accessAllowed ? 'block' : 'none';\n",
              "\n",
              "        async function convertToInteractive(key) {\n",
              "          const element = document.querySelector('#df-2b4f9084-e505-464c-b9c9-d89dc2995567');\n",
              "          const dataTable =\n",
              "            await google.colab.kernel.invokeFunction('convertToInteractive',\n",
              "                                                     [key], {});\n",
              "          if (!dataTable) return;\n",
              "\n",
              "          const docLinkHtml = 'Like what you see? Visit the ' +\n",
              "            '<a target=\"_blank\" href=https://colab.research.google.com/notebooks/data_table.ipynb>data table notebook</a>'\n",
              "            + ' to learn more about interactive tables.';\n",
              "          element.innerHTML = '';\n",
              "          dataTable['output_type'] = 'display_data';\n",
              "          await google.colab.output.renderOutput(dataTable, element);\n",
              "          const docLink = document.createElement('div');\n",
              "          docLink.innerHTML = docLinkHtml;\n",
              "          element.appendChild(docLink);\n",
              "        }\n",
              "      </script>\n",
              "    </div>\n",
              "  </div>\n",
              "  "
            ],
            "text/plain": [
              "   Call  Failure  Complains  Subscription  Length  ...         FN        FP  Churn\n",
              "0              8          0                    38  ...   177.8760   69.7640      0\n",
              "1              0          0                    39  ...    41.4315   60.0000      0\n",
              "2             10          0                    37  ...  1382.8680  203.6520      0\n",
              "3             10          0                    38  ...   216.0180   74.0020      0\n",
              "4              3          0                    38  ...   131.2245   64.5805      0\n",
              "\n",
              "[5 rows x 16 columns]"
            ]
          },
          "execution_count": 4,
          "metadata": {},
          "output_type": "execute_result"
        }
      ],
      "source": [
        "data.head()"
      ]
    },
    {
      "cell_type": "code",
      "execution_count": null,
      "metadata": {
        "colab": {
          "base_uri": "https://localhost:8080/"
        },
        "id": "fYSHW5iA0OB3",
        "outputId": "0eb096e1-8c20-44fe-9c9c-f302fd62fe33"
      },
      "outputs": [
        {
          "data": {
            "text/html": [
              "\n",
              "  <div id=\"df-ed37ffb0-81d4-4e09-b50f-04efd1c7eb56\">\n",
              "    <div class=\"colab-df-container\">\n",
              "      <div>\n",
              "<style scoped>\n",
              "    .dataframe tbody tr th:only-of-type {\n",
              "        vertical-align: middle;\n",
              "    }\n",
              "\n",
              "    .dataframe tbody tr th {\n",
              "        vertical-align: top;\n",
              "    }\n",
              "\n",
              "    .dataframe thead th {\n",
              "        text-align: right;\n",
              "    }\n",
              "</style>\n",
              "<table border=\"1\" class=\"dataframe\">\n",
              "  <thead>\n",
              "    <tr style=\"text-align: right;\">\n",
              "      <th></th>\n",
              "      <th>Call  Failure</th>\n",
              "      <th>Complains</th>\n",
              "      <th>Subscription  Length</th>\n",
              "      <th>Charge  Amount</th>\n",
              "      <th>Seconds of Use</th>\n",
              "      <th>Frequency of use</th>\n",
              "      <th>Frequency of SMS</th>\n",
              "      <th>Distinct Called Numbers</th>\n",
              "      <th>Age Group</th>\n",
              "      <th>Tariff Plan</th>\n",
              "      <th>Status</th>\n",
              "      <th>Age</th>\n",
              "      <th>Customer Value</th>\n",
              "      <th>FN</th>\n",
              "      <th>FP</th>\n",
              "      <th>Churn</th>\n",
              "    </tr>\n",
              "  </thead>\n",
              "  <tbody>\n",
              "    <tr>\n",
              "      <th>count</th>\n",
              "      <td>3150.000000</td>\n",
              "      <td>3150.000000</td>\n",
              "      <td>3150.000000</td>\n",
              "      <td>3150.000000</td>\n",
              "      <td>3150.000000</td>\n",
              "      <td>3150.000000</td>\n",
              "      <td>3150.000000</td>\n",
              "      <td>3150.000000</td>\n",
              "      <td>3150.000000</td>\n",
              "      <td>3150.000000</td>\n",
              "      <td>3150.000000</td>\n",
              "      <td>3150.000000</td>\n",
              "      <td>3150.000000</td>\n",
              "      <td>3150.000000</td>\n",
              "      <td>3150.000000</td>\n",
              "      <td>3150.000000</td>\n",
              "    </tr>\n",
              "    <tr>\n",
              "      <th>mean</th>\n",
              "      <td>7.627937</td>\n",
              "      <td>0.076508</td>\n",
              "      <td>32.541905</td>\n",
              "      <td>0.942857</td>\n",
              "      <td>4472.459683</td>\n",
              "      <td>69.460635</td>\n",
              "      <td>73.174921</td>\n",
              "      <td>23.509841</td>\n",
              "      <td>2.826032</td>\n",
              "      <td>1.077778</td>\n",
              "      <td>1.248254</td>\n",
              "      <td>30.998413</td>\n",
              "      <td>470.972916</td>\n",
              "      <td>423.875624</td>\n",
              "      <td>98.304688</td>\n",
              "      <td>0.157143</td>\n",
              "    </tr>\n",
              "    <tr>\n",
              "      <th>std</th>\n",
              "      <td>7.263886</td>\n",
              "      <td>0.265851</td>\n",
              "      <td>8.573482</td>\n",
              "      <td>1.521072</td>\n",
              "      <td>4197.908687</td>\n",
              "      <td>57.413308</td>\n",
              "      <td>112.237560</td>\n",
              "      <td>17.217337</td>\n",
              "      <td>0.892555</td>\n",
              "      <td>0.267864</td>\n",
              "      <td>0.432069</td>\n",
              "      <td>8.831095</td>\n",
              "      <td>517.015433</td>\n",
              "      <td>465.313890</td>\n",
              "      <td>50.724492</td>\n",
              "      <td>0.363993</td>\n",
              "    </tr>\n",
              "    <tr>\n",
              "      <th>min</th>\n",
              "      <td>0.000000</td>\n",
              "      <td>0.000000</td>\n",
              "      <td>3.000000</td>\n",
              "      <td>0.000000</td>\n",
              "      <td>0.000000</td>\n",
              "      <td>0.000000</td>\n",
              "      <td>0.000000</td>\n",
              "      <td>0.000000</td>\n",
              "      <td>1.000000</td>\n",
              "      <td>1.000000</td>\n",
              "      <td>1.000000</td>\n",
              "      <td>15.000000</td>\n",
              "      <td>0.000000</td>\n",
              "      <td>0.000000</td>\n",
              "      <td>60.000000</td>\n",
              "      <td>0.000000</td>\n",
              "    </tr>\n",
              "    <tr>\n",
              "      <th>25%</th>\n",
              "      <td>1.000000</td>\n",
              "      <td>0.000000</td>\n",
              "      <td>30.000000</td>\n",
              "      <td>0.000000</td>\n",
              "      <td>1391.250000</td>\n",
              "      <td>27.000000</td>\n",
              "      <td>6.000000</td>\n",
              "      <td>10.000000</td>\n",
              "      <td>2.000000</td>\n",
              "      <td>1.000000</td>\n",
              "      <td>1.000000</td>\n",
              "      <td>25.000000</td>\n",
              "      <td>113.801250</td>\n",
              "      <td>102.421125</td>\n",
              "      <td>61.380125</td>\n",
              "      <td>0.000000</td>\n",
              "    </tr>\n",
              "    <tr>\n",
              "      <th>50%</th>\n",
              "      <td>6.000000</td>\n",
              "      <td>0.000000</td>\n",
              "      <td>35.000000</td>\n",
              "      <td>0.000000</td>\n",
              "      <td>2990.000000</td>\n",
              "      <td>54.000000</td>\n",
              "      <td>21.000000</td>\n",
              "      <td>21.000000</td>\n",
              "      <td>3.000000</td>\n",
              "      <td>1.000000</td>\n",
              "      <td>1.000000</td>\n",
              "      <td>30.000000</td>\n",
              "      <td>228.480000</td>\n",
              "      <td>205.632000</td>\n",
              "      <td>72.848000</td>\n",
              "      <td>0.000000</td>\n",
              "    </tr>\n",
              "    <tr>\n",
              "      <th>75%</th>\n",
              "      <td>12.000000</td>\n",
              "      <td>0.000000</td>\n",
              "      <td>38.000000</td>\n",
              "      <td>1.000000</td>\n",
              "      <td>6478.250000</td>\n",
              "      <td>95.000000</td>\n",
              "      <td>87.000000</td>\n",
              "      <td>34.000000</td>\n",
              "      <td>3.000000</td>\n",
              "      <td>1.000000</td>\n",
              "      <td>1.000000</td>\n",
              "      <td>30.000000</td>\n",
              "      <td>788.388750</td>\n",
              "      <td>709.549875</td>\n",
              "      <td>128.838875</td>\n",
              "      <td>0.000000</td>\n",
              "    </tr>\n",
              "    <tr>\n",
              "      <th>max</th>\n",
              "      <td>36.000000</td>\n",
              "      <td>1.000000</td>\n",
              "      <td>47.000000</td>\n",
              "      <td>10.000000</td>\n",
              "      <td>17090.000000</td>\n",
              "      <td>255.000000</td>\n",
              "      <td>522.000000</td>\n",
              "      <td>97.000000</td>\n",
              "      <td>5.000000</td>\n",
              "      <td>2.000000</td>\n",
              "      <td>2.000000</td>\n",
              "      <td>55.000000</td>\n",
              "      <td>2165.280000</td>\n",
              "      <td>1948.752000</td>\n",
              "      <td>266.528000</td>\n",
              "      <td>1.000000</td>\n",
              "    </tr>\n",
              "  </tbody>\n",
              "</table>\n",
              "</div>\n",
              "      <button class=\"colab-df-convert\" onclick=\"convertToInteractive('df-ed37ffb0-81d4-4e09-b50f-04efd1c7eb56')\"\n",
              "              title=\"Convert this dataframe to an interactive table.\"\n",
              "              style=\"display:none;\">\n",
              "        \n",
              "  <svg xmlns=\"http://www.w3.org/2000/svg\" height=\"24px\"viewBox=\"0 0 24 24\"\n",
              "       width=\"24px\">\n",
              "    <path d=\"M0 0h24v24H0V0z\" fill=\"none\"/>\n",
              "    <path d=\"M18.56 5.44l.94 2.06.94-2.06 2.06-.94-2.06-.94-.94-2.06-.94 2.06-2.06.94zm-11 1L8.5 8.5l.94-2.06 2.06-.94-2.06-.94L8.5 2.5l-.94 2.06-2.06.94zm10 10l.94 2.06.94-2.06 2.06-.94-2.06-.94-.94-2.06-.94 2.06-2.06.94z\"/><path d=\"M17.41 7.96l-1.37-1.37c-.4-.4-.92-.59-1.43-.59-.52 0-1.04.2-1.43.59L10.3 9.45l-7.72 7.72c-.78.78-.78 2.05 0 2.83L4 21.41c.39.39.9.59 1.41.59.51 0 1.02-.2 1.41-.59l7.78-7.78 2.81-2.81c.8-.78.8-2.07 0-2.86zM5.41 20L4 18.59l7.72-7.72 1.47 1.35L5.41 20z\"/>\n",
              "  </svg>\n",
              "      </button>\n",
              "      \n",
              "  <style>\n",
              "    .colab-df-container {\n",
              "      display:flex;\n",
              "      flex-wrap:wrap;\n",
              "      gap: 12px;\n",
              "    }\n",
              "\n",
              "    .colab-df-convert {\n",
              "      background-color: #E8F0FE;\n",
              "      border: none;\n",
              "      border-radius: 50%;\n",
              "      cursor: pointer;\n",
              "      display: none;\n",
              "      fill: #1967D2;\n",
              "      height: 32px;\n",
              "      padding: 0 0 0 0;\n",
              "      width: 32px;\n",
              "    }\n",
              "\n",
              "    .colab-df-convert:hover {\n",
              "      background-color: #E2EBFA;\n",
              "      box-shadow: 0px 1px 2px rgba(60, 64, 67, 0.3), 0px 1px 3px 1px rgba(60, 64, 67, 0.15);\n",
              "      fill: #174EA6;\n",
              "    }\n",
              "\n",
              "    [theme=dark] .colab-df-convert {\n",
              "      background-color: #3B4455;\n",
              "      fill: #D2E3FC;\n",
              "    }\n",
              "\n",
              "    [theme=dark] .colab-df-convert:hover {\n",
              "      background-color: #434B5C;\n",
              "      box-shadow: 0px 1px 3px 1px rgba(0, 0, 0, 0.15);\n",
              "      filter: drop-shadow(0px 1px 2px rgba(0, 0, 0, 0.3));\n",
              "      fill: #FFFFFF;\n",
              "    }\n",
              "  </style>\n",
              "\n",
              "      <script>\n",
              "        const buttonEl =\n",
              "          document.querySelector('#df-ed37ffb0-81d4-4e09-b50f-04efd1c7eb56 button.colab-df-convert');\n",
              "        buttonEl.style.display =\n",
              "          google.colab.kernel.accessAllowed ? 'block' : 'none';\n",
              "\n",
              "        async function convertToInteractive(key) {\n",
              "          const element = document.querySelector('#df-ed37ffb0-81d4-4e09-b50f-04efd1c7eb56');\n",
              "          const dataTable =\n",
              "            await google.colab.kernel.invokeFunction('convertToInteractive',\n",
              "                                                     [key], {});\n",
              "          if (!dataTable) return;\n",
              "\n",
              "          const docLinkHtml = 'Like what you see? Visit the ' +\n",
              "            '<a target=\"_blank\" href=https://colab.research.google.com/notebooks/data_table.ipynb>data table notebook</a>'\n",
              "            + ' to learn more about interactive tables.';\n",
              "          element.innerHTML = '';\n",
              "          dataTable['output_type'] = 'display_data';\n",
              "          await google.colab.output.renderOutput(dataTable, element);\n",
              "          const docLink = document.createElement('div');\n",
              "          docLink.innerHTML = docLinkHtml;\n",
              "          element.appendChild(docLink);\n",
              "        }\n",
              "      </script>\n",
              "    </div>\n",
              "  </div>\n",
              "  "
            ],
            "text/plain": [
              "       Call  Failure    Complains  ...           FP        Churn\n",
              "count    3150.000000  3150.000000  ...  3150.000000  3150.000000\n",
              "mean        7.627937     0.076508  ...    98.304688     0.157143\n",
              "std         7.263886     0.265851  ...    50.724492     0.363993\n",
              "min         0.000000     0.000000  ...    60.000000     0.000000\n",
              "25%         1.000000     0.000000  ...    61.380125     0.000000\n",
              "50%         6.000000     0.000000  ...    72.848000     0.000000\n",
              "75%        12.000000     0.000000  ...   128.838875     0.000000\n",
              "max        36.000000     1.000000  ...   266.528000     1.000000\n",
              "\n",
              "[8 rows x 16 columns]"
            ]
          },
          "execution_count": 5,
          "metadata": {},
          "output_type": "execute_result"
        }
      ],
      "source": [
        "data.describe(include = 'all')"
      ]
    },
    {
      "cell_type": "code",
      "execution_count": null,
      "metadata": {
        "colab": {
          "base_uri": "https://localhost:8080/"
        },
        "id": "WanJjQWHvgHR",
        "outputId": "0e8087d3-73fc-4ce0-c413-d2b6b93a14f9"
      },
      "outputs": [
        {
          "data": {
            "text/plain": [
              "Call  Failure              0\n",
              "Complains                  0\n",
              "Subscription  Length       0\n",
              "Charge  Amount             0\n",
              "Seconds of Use             0\n",
              "Frequency of use           0\n",
              "Frequency of SMS           0\n",
              "Distinct Called Numbers    0\n",
              "Age Group                  0\n",
              "Tariff Plan                0\n",
              "Status                     0\n",
              "Age                        0\n",
              "Customer Value             0\n",
              "FN                         0\n",
              "FP                         0\n",
              "Churn                      0\n",
              "dtype: int64"
            ]
          },
          "execution_count": 6,
          "metadata": {},
          "output_type": "execute_result"
        }
      ],
      "source": [
        "data.isnull().sum()"
      ]
    },
    {
      "cell_type": "code",
      "execution_count": null,
      "metadata": {
        "colab": {
          "base_uri": "https://localhost:8080/"
        },
        "id": "nujsGcVPezBC",
        "outputId": "3f03ad61-99a0-48e4-c1fa-775bb370c081"
      },
      "outputs": [
        {
          "data": {
            "text/html": [
              "\n",
              "  <div id=\"df-a8b1826e-14e7-46fb-a8b2-6f094ec22ef6\">\n",
              "    <div class=\"colab-df-container\">\n",
              "      <div>\n",
              "<style scoped>\n",
              "    .dataframe tbody tr th:only-of-type {\n",
              "        vertical-align: middle;\n",
              "    }\n",
              "\n",
              "    .dataframe tbody tr th {\n",
              "        vertical-align: top;\n",
              "    }\n",
              "\n",
              "    .dataframe thead th {\n",
              "        text-align: right;\n",
              "    }\n",
              "</style>\n",
              "<table border=\"1\" class=\"dataframe\">\n",
              "  <thead>\n",
              "    <tr style=\"text-align: right;\">\n",
              "      <th></th>\n",
              "      <th>Call  Failure</th>\n",
              "      <th>Complains</th>\n",
              "      <th>Subscription  Length</th>\n",
              "      <th>Charge  Amount</th>\n",
              "      <th>Seconds of Use</th>\n",
              "      <th>Frequency of use</th>\n",
              "      <th>Frequency of SMS</th>\n",
              "      <th>Distinct Called Numbers</th>\n",
              "      <th>Age Group</th>\n",
              "      <th>Tariff Plan</th>\n",
              "      <th>Status</th>\n",
              "      <th>Age</th>\n",
              "      <th>Customer Value</th>\n",
              "      <th>FN</th>\n",
              "      <th>FP</th>\n",
              "      <th>Churn</th>\n",
              "    </tr>\n",
              "  </thead>\n",
              "  <tbody>\n",
              "    <tr>\n",
              "      <th>3145</th>\n",
              "      <td>21</td>\n",
              "      <td>0</td>\n",
              "      <td>19</td>\n",
              "      <td>2</td>\n",
              "      <td>6697</td>\n",
              "      <td>147</td>\n",
              "      <td>92</td>\n",
              "      <td>44</td>\n",
              "      <td>2</td>\n",
              "      <td>2</td>\n",
              "      <td>1</td>\n",
              "      <td>25</td>\n",
              "      <td>721.98</td>\n",
              "      <td>649.782</td>\n",
              "      <td>122.198</td>\n",
              "      <td>0</td>\n",
              "    </tr>\n",
              "    <tr>\n",
              "      <th>3146</th>\n",
              "      <td>17</td>\n",
              "      <td>0</td>\n",
              "      <td>17</td>\n",
              "      <td>1</td>\n",
              "      <td>9237</td>\n",
              "      <td>177</td>\n",
              "      <td>80</td>\n",
              "      <td>42</td>\n",
              "      <td>5</td>\n",
              "      <td>1</td>\n",
              "      <td>1</td>\n",
              "      <td>55</td>\n",
              "      <td>261.21</td>\n",
              "      <td>235.089</td>\n",
              "      <td>76.121</td>\n",
              "      <td>0</td>\n",
              "    </tr>\n",
              "    <tr>\n",
              "      <th>3147</th>\n",
              "      <td>13</td>\n",
              "      <td>0</td>\n",
              "      <td>18</td>\n",
              "      <td>4</td>\n",
              "      <td>3157</td>\n",
              "      <td>51</td>\n",
              "      <td>38</td>\n",
              "      <td>21</td>\n",
              "      <td>3</td>\n",
              "      <td>1</td>\n",
              "      <td>1</td>\n",
              "      <td>30</td>\n",
              "      <td>280.32</td>\n",
              "      <td>252.288</td>\n",
              "      <td>78.032</td>\n",
              "      <td>0</td>\n",
              "    </tr>\n",
              "    <tr>\n",
              "      <th>3148</th>\n",
              "      <td>7</td>\n",
              "      <td>0</td>\n",
              "      <td>11</td>\n",
              "      <td>2</td>\n",
              "      <td>4695</td>\n",
              "      <td>46</td>\n",
              "      <td>222</td>\n",
              "      <td>12</td>\n",
              "      <td>3</td>\n",
              "      <td>1</td>\n",
              "      <td>1</td>\n",
              "      <td>30</td>\n",
              "      <td>1077.64</td>\n",
              "      <td>969.876</td>\n",
              "      <td>157.764</td>\n",
              "      <td>0</td>\n",
              "    </tr>\n",
              "    <tr>\n",
              "      <th>3149</th>\n",
              "      <td>8</td>\n",
              "      <td>1</td>\n",
              "      <td>11</td>\n",
              "      <td>2</td>\n",
              "      <td>1792</td>\n",
              "      <td>25</td>\n",
              "      <td>7</td>\n",
              "      <td>9</td>\n",
              "      <td>3</td>\n",
              "      <td>1</td>\n",
              "      <td>1</td>\n",
              "      <td>30</td>\n",
              "      <td>100.68</td>\n",
              "      <td>90.612</td>\n",
              "      <td>60.068</td>\n",
              "      <td>1</td>\n",
              "    </tr>\n",
              "  </tbody>\n",
              "</table>\n",
              "</div>\n",
              "      <button class=\"colab-df-convert\" onclick=\"convertToInteractive('df-a8b1826e-14e7-46fb-a8b2-6f094ec22ef6')\"\n",
              "              title=\"Convert this dataframe to an interactive table.\"\n",
              "              style=\"display:none;\">\n",
              "        \n",
              "  <svg xmlns=\"http://www.w3.org/2000/svg\" height=\"24px\"viewBox=\"0 0 24 24\"\n",
              "       width=\"24px\">\n",
              "    <path d=\"M0 0h24v24H0V0z\" fill=\"none\"/>\n",
              "    <path d=\"M18.56 5.44l.94 2.06.94-2.06 2.06-.94-2.06-.94-.94-2.06-.94 2.06-2.06.94zm-11 1L8.5 8.5l.94-2.06 2.06-.94-2.06-.94L8.5 2.5l-.94 2.06-2.06.94zm10 10l.94 2.06.94-2.06 2.06-.94-2.06-.94-.94-2.06-.94 2.06-2.06.94z\"/><path d=\"M17.41 7.96l-1.37-1.37c-.4-.4-.92-.59-1.43-.59-.52 0-1.04.2-1.43.59L10.3 9.45l-7.72 7.72c-.78.78-.78 2.05 0 2.83L4 21.41c.39.39.9.59 1.41.59.51 0 1.02-.2 1.41-.59l7.78-7.78 2.81-2.81c.8-.78.8-2.07 0-2.86zM5.41 20L4 18.59l7.72-7.72 1.47 1.35L5.41 20z\"/>\n",
              "  </svg>\n",
              "      </button>\n",
              "      \n",
              "  <style>\n",
              "    .colab-df-container {\n",
              "      display:flex;\n",
              "      flex-wrap:wrap;\n",
              "      gap: 12px;\n",
              "    }\n",
              "\n",
              "    .colab-df-convert {\n",
              "      background-color: #E8F0FE;\n",
              "      border: none;\n",
              "      border-radius: 50%;\n",
              "      cursor: pointer;\n",
              "      display: none;\n",
              "      fill: #1967D2;\n",
              "      height: 32px;\n",
              "      padding: 0 0 0 0;\n",
              "      width: 32px;\n",
              "    }\n",
              "\n",
              "    .colab-df-convert:hover {\n",
              "      background-color: #E2EBFA;\n",
              "      box-shadow: 0px 1px 2px rgba(60, 64, 67, 0.3), 0px 1px 3px 1px rgba(60, 64, 67, 0.15);\n",
              "      fill: #174EA6;\n",
              "    }\n",
              "\n",
              "    [theme=dark] .colab-df-convert {\n",
              "      background-color: #3B4455;\n",
              "      fill: #D2E3FC;\n",
              "    }\n",
              "\n",
              "    [theme=dark] .colab-df-convert:hover {\n",
              "      background-color: #434B5C;\n",
              "      box-shadow: 0px 1px 3px 1px rgba(0, 0, 0, 0.15);\n",
              "      filter: drop-shadow(0px 1px 2px rgba(0, 0, 0, 0.3));\n",
              "      fill: #FFFFFF;\n",
              "    }\n",
              "  </style>\n",
              "\n",
              "      <script>\n",
              "        const buttonEl =\n",
              "          document.querySelector('#df-a8b1826e-14e7-46fb-a8b2-6f094ec22ef6 button.colab-df-convert');\n",
              "        buttonEl.style.display =\n",
              "          google.colab.kernel.accessAllowed ? 'block' : 'none';\n",
              "\n",
              "        async function convertToInteractive(key) {\n",
              "          const element = document.querySelector('#df-a8b1826e-14e7-46fb-a8b2-6f094ec22ef6');\n",
              "          const dataTable =\n",
              "            await google.colab.kernel.invokeFunction('convertToInteractive',\n",
              "                                                     [key], {});\n",
              "          if (!dataTable) return;\n",
              "\n",
              "          const docLinkHtml = 'Like what you see? Visit the ' +\n",
              "            '<a target=\"_blank\" href=https://colab.research.google.com/notebooks/data_table.ipynb>data table notebook</a>'\n",
              "            + ' to learn more about interactive tables.';\n",
              "          element.innerHTML = '';\n",
              "          dataTable['output_type'] = 'display_data';\n",
              "          await google.colab.output.renderOutput(dataTable, element);\n",
              "          const docLink = document.createElement('div');\n",
              "          docLink.innerHTML = docLinkHtml;\n",
              "          element.appendChild(docLink);\n",
              "        }\n",
              "      </script>\n",
              "    </div>\n",
              "  </div>\n",
              "  "
            ],
            "text/plain": [
              "      Call  Failure  Complains  Subscription  Length  ...       FN       FP  Churn\n",
              "3145             21          0                    19  ...  649.782  122.198      0\n",
              "3146             17          0                    17  ...  235.089   76.121      0\n",
              "3147             13          0                    18  ...  252.288   78.032      0\n",
              "3148              7          0                    11  ...  969.876  157.764      0\n",
              "3149              8          1                    11  ...   90.612   60.068      1\n",
              "\n",
              "[5 rows x 16 columns]"
            ]
          },
          "execution_count": 7,
          "metadata": {},
          "output_type": "execute_result"
        }
      ],
      "source": [
        "data.tail()"
      ]
    },
    {
      "cell_type": "code",
      "execution_count": null,
      "metadata": {
        "colab": {
          "base_uri": "https://localhost:8080/"
        },
        "id": "2YwB6A21vv22",
        "outputId": "ab721fa2-181c-4b82-fe2e-2a96b2789906"
      },
      "outputs": [
        {
          "data": {
            "text/plain": [
              "0    2655\n",
              "1     495\n",
              "Name: Churn, dtype: int64"
            ]
          },
          "execution_count": 8,
          "metadata": {},
          "output_type": "execute_result"
        }
      ],
      "source": [
        "data['Churn'].value_counts()"
      ]
    },
    {
      "cell_type": "code",
      "execution_count": null,
      "metadata": {
        "colab": {
          "base_uri": "https://localhost:8080/"
        },
        "id": "QPNOD2n9vdGa",
        "outputId": "df06d869-b2a0-4c87-ddbc-1dd0ef2d73fd"
      },
      "outputs": [
        {
          "data": {
            "text/plain": [
              "3    1425\n",
              "2    1037\n",
              "4     395\n",
              "5     170\n",
              "1     123\n",
              "Name: Age Group, dtype: int64"
            ]
          },
          "execution_count": 9,
          "metadata": {},
          "output_type": "execute_result"
        }
      ],
      "source": [
        "data['Age Group'].value_counts()"
      ]
    },
    {
      "cell_type": "code",
      "execution_count": null,
      "metadata": {
        "colab": {
          "base_uri": "https://localhost:8080/"
        },
        "id": "Y3kekVJfv38g",
        "outputId": "302304e0-21a8-4b9a-9b60-f94594325597"
      },
      "outputs": [
        {
          "data": {
            "text/plain": [
              "array([1, 2])"
            ]
          },
          "execution_count": 10,
          "metadata": {},
          "output_type": "execute_result"
        }
      ],
      "source": [
        "data['Tariff Plan'].unique()"
      ]
    },
    {
      "cell_type": "code",
      "execution_count": null,
      "metadata": {
        "colab": {
          "base_uri": "https://localhost:8080/"
        },
        "id": "-K4sm0kNvjIC",
        "outputId": "8515bad0-e4d2-499f-f29b-495a97cd889d"
      },
      "outputs": [
        {
          "data": {
            "text/plain": [
              "0    2655\n",
              "1     495\n",
              "Name: Churn, dtype: int64"
            ]
          },
          "execution_count": 11,
          "metadata": {},
          "output_type": "execute_result"
        }
      ],
      "source": [
        "data['Churn'].value_counts()"
      ]
    },
    {
      "cell_type": "code",
      "execution_count": null,
      "metadata": {
        "id": "sw_KQRgl2kYQ"
      },
      "outputs": [],
      "source": [
        "ch = {1: 'Churn', 0: 'Non Churn'}\n",
        "data['Churn'] = data['Churn'].map(ch)"
      ]
    },
    {
      "cell_type": "code",
      "execution_count": null,
      "metadata": {
        "colab": {
          "base_uri": "https://localhost:8080/"
        },
        "id": "VTc5ADArEvJH",
        "outputId": "f49bfb1f-6f02-49bf-9eda-ec93f63e494b"
      },
      "outputs": [
        {
          "data": {
            "text/plain": [
              "Text(0.5, 1.0, 'Correlation Matrix for Customer Churn')"
            ]
          },
          "execution_count": 13,
          "metadata": {},
          "output_type": "execute_result"
        },
        {
          "data": {
            "image/png": "[encoded data removed]",
            "text/plain": [
              "<Figure size 1080x720 with 2 Axes>"
            ]
          },
          "metadata": {},
          "output_type": "display_data"
        }
      ],
      "source": [
        "plt.figure(figsize = (15,10))\n",
        "corr_mat = data.corr()\n",
        "mask = np.zeros_like(corr_mat)\n",
        "mask[np.triu_indices_from(mask)] = True\n",
        "with sns.axes_style(\"white\"):\n",
        "    ax = sns.heatmap(corr_mat, mask=mask, annot=True)\n",
        "plt.title('Correlation Matrix for Customer Churn')"
      ]
    },
    {
      "cell_type": "markdown",
      "metadata": {
        "id": "Ycmw0KesJv6W"
      },
      "source": [
        "#Exploratory Data Analysis"
      ]
    },
    {
      "cell_type": "markdown",
      "metadata": {
        "id": "uW9CqNvxMO6w"
      },
      "source": [
        "Viewing the percentage of Churned user to that of Non Churned user"
      ]
    },
    {
      "cell_type": "code",
      "execution_count": null,
      "metadata": {
        "colab": {
          "base_uri": "https://localhost:8080/",
          "height": 517
        },
        "id": "jf45gpAHA-nT",
        "outputId": "703d00db-f802-445d-bee8-364df2b5d240"
      },
      "outputs": [
        {
          "data": {
            "text/html": [
              "<html>\n",
              "<head><meta charset=\"utf-8\" /></head>\n",
              "<body>\n",
              "    <div>            <script src=\"https://cdnjs.cloudflare.com/ajax/libs/mathjax/2.7.5/MathJax.js?config=TeX-AMS-MML_SVG\"></script><script type=\"text/javascript\">if (window.MathJax) {MathJax.Hub.Config({SVG: {font: \"STIX-Web\"}});}</script>                <script type=\"text/javascript\">window.PlotlyConfig = {MathJaxConfig: 'local'};</script>\n",
              "        <script src=\"https://cdn.plot.ly/plotly-2.8.3.min.js\"></script>                <div id=\"5ba18e4c-7f62-4b2c-b86c-850a27ff508e\" class=\"plotly-graph-div\" style=\"height:500px; width:500px;\"></div>            <script type=\"text/javascript\">                                    window.PLOTLYENV=window.PLOTLYENV || {};                                    if (document.getElementById(\"5ba18e4c-7f62-4b2c-b86c-850a27ff508e\")) {                    Plotly.newPlot(                        \"5ba18e4c-7f62-4b2c-b86c-850a27ff508e\",                        [{\"labels\":[\"Non Churn\",\"Churn\"],\"name\":\"Churn\",\"values\":[2655,495],\"type\":\"pie\",\"domain\":{\"x\":[0.0,1.0],\"y\":[0.0,1.0]},\"textfont\":{\"size\":16},\"hole\":0.4,\"hoverinfo\":\"label+percent\"}],                        {\"template\":{\"data\":{\"bar\":[{\"error_x\":{\"color\":\"#2a3f5f\"},\"error_y\":{\"color\":\"#2a3f5f\"},\"marker\":{\"line\":{\"color\":\"#E5ECF6\",\"width\":0.5},\"pattern\":{\"fillmode\":\"overlay\",\"size\":10,\"solidity\":0.2}},\"type\":\"bar\"}],\"barpolar\":[{\"marker\":{\"line\":{\"color\":\"#E5ECF6\",\"width\":0.5},\"pattern\":{\"fillmode\":\"overlay\",\"size\":10,\"solidity\":0.2}},\"type\":\"barpolar\"}],\"carpet\":[{\"aaxis\":{\"endlinecolor\":\"#2a3f5f\",\"gridcolor\":\"white\",\"linecolor\":\"white\",\"minorgridcolor\":\"white\",\"startlinecolor\":\"#2a3f5f\"},\"baxis\":{\"endlinecolor\":\"#2a3f5f\",\"gridcolor\":\"white\",\"linecolor\":\"white\",\"minorgridcolor\":\"white\",\"startlinecolor\":\"#2a3f5f\"},\"type\":\"carpet\"}],\"choropleth\":[{\"colorbar\":{\"outlinewidth\":0,\"ticks\":\"\"},\"type\":\"choropleth\"}],\"contour\":[{\"colorbar\":{\"outlinewidth\":0,\"ticks\":\"\"},\"colorscale\":[[0.0,\"#0d0887\"],[0.1111111111111111,\"#46039f\"],[0.2222222222222222,\"#7201a8\"],[0.3333333333333333,\"#9c179e\"],[0.4444444444444444,\"#bd3786\"],[0.5555555555555556,\"#d8576b\"],[0.6666666666666666,\"#ed7953\"],[0.7777777777777778,\"#fb9f3a\"],[0.8888888888888888,\"#fdca26\"],[1.0,\"#f0f921\"]],\"type\":\"contour\"}],\"contourcarpet\":[{\"colorbar\":{\"outlinewidth\":0,\"ticks\":\"\"},\"type\":\"contourcarpet\"}],\"heatmap\":[{\"colorbar\":{\"outlinewidth\":0,\"ticks\":\"\"},\"colorscale\":[[0.0,\"#0d0887\"],[0.1111111111111111,\"#46039f\"],[0.2222222222222222,\"#7201a8\"],[0.3333333333333333,\"#9c179e\"],[0.4444444444444444,\"#bd3786\"],[0.5555555555555556,\"#d8576b\"],[0.6666666666666666,\"#ed7953\"],[0.7777777777777778,\"#fb9f3a\"],[0.8888888888888888,\"#fdca26\"],[1.0,\"#f0f921\"]],\"type\":\"heatmap\"}],\"heatmapgl\":[{\"colorbar\":{\"outlinewidth\":0,\"ticks\":\"\"},\"colorscale\":[[0.0,\"#0d0887\"],[0.1111111111111111,\"#46039f\"],[0.2222222222222222,\"#7201a8\"],[0.3333333333333333,\"#9c179e\"],[0.4444444444444444,\"#bd3786\"],[0.5555555555555556,\"#d8576b\"],[0.6666666666666666,\"#ed7953\"],[0.7777777777777778,\"#fb9f3a\"],[0.8888888888888888,\"#fdca26\"],[1.0,\"#f0f921\"]],\"type\":\"heatmapgl\"}],\"histogram\":[{\"marker\":{\"pattern\":{\"fillmode\":\"overlay\",\"size\":10,\"solidity\":0.2}},\"type\":\"histogram\"}],\"histogram2d\":[{\"colorbar\":{\"outlinewidth\":0,\"ticks\":\"\"},\"colorscale\":[[0.0,\"#0d0887\"],[0.1111111111111111,\"#46039f\"],[0.2222222222222222,\"#7201a8\"],[0.3333333333333333,\"#9c179e\"],[0.4444444444444444,\"#bd3786\"],[0.5555555555555556,\"#d8576b\"],[0.6666666666666666,\"#ed7953\"],[0.7777777777777778,\"#fb9f3a\"],[0.8888888888888888,\"#fdca26\"],[1.0,\"#f0f921\"]],\"type\":\"histogram2d\"}],\"histogram2dcontour\":[{\"colorbar\":{\"outlinewidth\":0,\"ticks\":\"\"},\"colorscale\":[[0.0,\"#0d0887\"],[0.1111111111111111,\"#46039f\"],[0.2222222222222222,\"#7201a8\"],[0.3333333333333333,\"#9c179e\"],[0.4444444444444444,\"#bd3786\"],[0.5555555555555556,\"#d8576b\"],[0.6666666666666666,\"#ed7953\"],[0.7777777777777778,\"#fb9f3a\"],[0.8888888888888888,\"#fdca26\"],[1.0,\"#f0f921\"]],\"type\":\"histogram2dcontour\"}],\"mesh3d\":[{\"colorbar\":{\"outlinewidth\":0,\"ticks\":\"\"},\"type\":\"mesh3d\"}],\"parcoords\":[{\"line\":{\"colorbar\":{\"outlinewidth\":0,\"ticks\":\"\"}},\"type\":\"parcoords\"}],\"pie\":[{\"automargin\":true,\"type\":\"pie\"}],\"scatter\":[{\"marker\":{\"colorbar\":{\"outlinewidth\":0,\"ticks\":\"\"}},\"type\":\"scatter\"}],\"scatter3d\":[{\"line\":{\"colorbar\":{\"outlinewidth\":0,\"ticks\":\"\"}},\"marker\":{\"colorbar\":{\"outlinewidth\":0,\"ticks\":\"\"}},\"type\":\"scatter3d\"}],\"scattercarpet\":[{\"marker\":{\"colorbar\":{\"outlinewidth\":0,\"ticks\":\"\"}},\"type\":\"scattercarpet\"}],\"scattergeo\":[{\"marker\":{\"colorbar\":{\"outlinewidth\":0,\"ticks\":\"\"}},\"type\":\"scattergeo\"}],\"scattergl\":[{\"marker\":{\"colorbar\":{\"outlinewidth\":0,\"ticks\":\"\"}},\"type\":\"scattergl\"}],\"scattermapbox\":[{\"marker\":{\"colorbar\":{\"outlinewidth\":0,\"ticks\":\"\"}},\"type\":\"scattermapbox\"}],\"scatterpolar\":[{\"marker\":{\"colorbar\":{\"outlinewidth\":0,\"ticks\":\"\"}},\"type\":\"scatterpolar\"}],\"scatterpolargl\":[{\"marker\":{\"colorbar\":{\"outlinewidth\":0,\"ticks\":\"\"}},\"type\":\"scatterpolargl\"}],\"scatterternary\":[{\"marker\":{\"colorbar\":{\"outlinewidth\":0,\"ticks\":\"\"}},\"type\":\"scatterternary\"}],\"surface\":[{\"colorbar\":{\"outlinewidth\":0,\"ticks\":\"\"},\"colorscale\":[[0.0,\"#0d0887\"],[0.1111111111111111,\"#46039f\"],[0.2222222222222222,\"#7201a8\"],[0.3333333333333333,\"#9c179e\"],[0.4444444444444444,\"#bd3786\"],[0.5555555555555556,\"#d8576b\"],[0.6666666666666666,\"#ed7953\"],[0.7777777777777778,\"#fb9f3a\"],[0.8888888888888888,\"#fdca26\"],[1.0,\"#f0f921\"]],\"type\":\"surface\"}],\"table\":[{\"cells\":{\"fill\":{\"color\":\"#EBF0F8\"},\"line\":{\"color\":\"white\"}},\"header\":{\"fill\":{\"color\":\"#C8D4E3\"},\"line\":{\"color\":\"white\"}},\"type\":\"table\"}]},\"layout\":{\"annotationdefaults\":{\"arrowcolor\":\"#2a3f5f\",\"arrowhead\":0,\"arrowwidth\":1},\"autotypenumbers\":\"strict\",\"coloraxis\":{\"colorbar\":{\"outlinewidth\":0,\"ticks\":\"\"}},\"colorscale\":{\"diverging\":[[0,\"#8e0152\"],[0.1,\"#c51b7d\"],[0.2,\"#de77ae\"],[0.3,\"#f1b6da\"],[0.4,\"#fde0ef\"],[0.5,\"#f7f7f7\"],[0.6,\"#e6f5d0\"],[0.7,\"#b8e186\"],[0.8,\"#7fbc41\"],[0.9,\"#4d9221\"],[1,\"#276419\"]],\"sequential\":[[0.0,\"#0d0887\"],[0.1111111111111111,\"#46039f\"],[0.2222222222222222,\"#7201a8\"],[0.3333333333333333,\"#9c179e\"],[0.4444444444444444,\"#bd3786\"],[0.5555555555555556,\"#d8576b\"],[0.6666666666666666,\"#ed7953\"],[0.7777777777777778,\"#fb9f3a\"],[0.8888888888888888,\"#fdca26\"],[1.0,\"#f0f921\"]],\"sequentialminus\":[[0.0,\"#0d0887\"],[0.1111111111111111,\"#46039f\"],[0.2222222222222222,\"#7201a8\"],[0.3333333333333333,\"#9c179e\"],[0.4444444444444444,\"#bd3786\"],[0.5555555555555556,\"#d8576b\"],[0.6666666666666666,\"#ed7953\"],[0.7777777777777778,\"#fb9f3a\"],[0.8888888888888888,\"#fdca26\"],[1.0,\"#f0f921\"]]},\"colorway\":[\"#636efa\",\"#EF553B\",\"#00cc96\",\"#ab63fa\",\"#FFA15A\",\"#19d3f3\",\"#FF6692\",\"#B6E880\",\"#FF97FF\",\"#FECB52\"],\"font\":{\"color\":\"#2a3f5f\"},\"geo\":{\"bgcolor\":\"white\",\"lakecolor\":\"white\",\"landcolor\":\"#E5ECF6\",\"showlakes\":true,\"showland\":true,\"subunitcolor\":\"white\"},\"hoverlabel\":{\"align\":\"left\"},\"hovermode\":\"closest\",\"mapbox\":{\"style\":\"light\"},\"paper_bgcolor\":\"white\",\"plot_bgcolor\":\"#E5ECF6\",\"polar\":{\"angularaxis\":{\"gridcolor\":\"white\",\"linecolor\":\"white\",\"ticks\":\"\"},\"bgcolor\":\"#E5ECF6\",\"radialaxis\":{\"gridcolor\":\"white\",\"linecolor\":\"white\",\"ticks\":\"\"}},\"scene\":{\"xaxis\":{\"backgroundcolor\":\"#E5ECF6\",\"gridcolor\":\"white\",\"gridwidth\":2,\"linecolor\":\"white\",\"showbackground\":true,\"ticks\":\"\",\"zerolinecolor\":\"white\"},\"yaxis\":{\"backgroundcolor\":\"#E5ECF6\",\"gridcolor\":\"white\",\"gridwidth\":2,\"linecolor\":\"white\",\"showbackground\":true,\"ticks\":\"\",\"zerolinecolor\":\"white\"},\"zaxis\":{\"backgroundcolor\":\"#E5ECF6\",\"gridcolor\":\"white\",\"gridwidth\":2,\"linecolor\":\"white\",\"showbackground\":true,\"ticks\":\"\",\"zerolinecolor\":\"white\"}},\"shapedefaults\":{\"line\":{\"color\":\"#2a3f5f\"}},\"ternary\":{\"aaxis\":{\"gridcolor\":\"white\",\"linecolor\":\"white\",\"ticks\":\"\"},\"baxis\":{\"gridcolor\":\"white\",\"linecolor\":\"white\",\"ticks\":\"\"},\"bgcolor\":\"#E5ECF6\",\"caxis\":{\"gridcolor\":\"white\",\"linecolor\":\"white\",\"ticks\":\"\"}},\"title\":{\"x\":0.05},\"xaxis\":{\"automargin\":true,\"gridcolor\":\"white\",\"linecolor\":\"white\",\"ticks\":\"\",\"title\":{\"standoff\":15},\"zerolinecolor\":\"white\",\"zerolinewidth\":2},\"yaxis\":{\"automargin\":true,\"gridcolor\":\"white\",\"linecolor\":\"white\",\"ticks\":\"\",\"title\":{\"standoff\":15},\"zerolinecolor\":\"white\",\"zerolinewidth\":2}}},\"title\":{\"text\":\"Churn Distributions\"},\"height\":500,\"width\":500,\"annotations\":[{\"showarrow\":false,\"text\":\"Churn\",\"x\":0.5,\"y\":0.5,\"font\":{\"size\":20}}]},                        {\"responsive\": true}                    ).then(function(){\n",
              "                            \n",
              "var gd = document.getElementById('5ba18e4c-7f62-4b2c-b86c-850a27ff508e');\n",
              "var x = new MutationObserver(function (mutations, observer) {{\n",
              "        var display = window.getComputedStyle(gd).display;\n",
              "        if (!display || display === 'none') {{\n",
              "            console.log([gd, 'removed!']);\n",
              "            Plotly.purge(gd);\n",
              "            observer.disconnect();\n",
              "        }}\n",
              "}});\n",
              "\n",
              "// Listen for the removal of the full notebook cells\n",
              "var notebookContainer = gd.closest('#notebook-container');\n",
              "if (notebookContainer) {{\n",
              "    x.observe(notebookContainer, {childList: true});\n",
              "}}\n",
              "\n",
              "// Listen for the clearing of the current output cell\n",
              "var outputEl = gd.closest('.output');\n",
              "if (outputEl) {{\n",
              "    x.observe(outputEl, {childList: true});\n",
              "}}\n",
              "\n",
              "                        })                };                            </script>        </div>\n",
              "</body>\n",
              "</html>"
            ]
          },
          "metadata": {},
          "output_type": "display_data"
        }
      ],
      "source": [
        "c_labels = ['Non Churn', 'Churn']\n",
        "# Create subplots: use 'domain' type for Pie subplot\n",
        "fig = make_subplots(rows=1, cols=1, specs=[[{'type':'domain'}]])\n",
        "fig.add_trace(go.Pie(labels=c_labels, values=data['Churn'].value_counts(), name=\"Churn\"),\\\n",
        "              1, 1)\n",
        "\n",
        "# Use `hole` to create a donut-like pie chart\n",
        "fig.update_traces(hole=.4, hoverinfo=\"label+percent\", textfont_size=16)\n",
        "\n",
        "fig.update_layout(\n",
        "    title_text=\"Churn Distributions\",height = 500, width = 500,\n",
        "    # Add annotations in the center of the donut pies.\n",
        "    annotations=[dict(text='Churn', x=0.5, y=0.5, font_size=20, showarrow=False)])\n",
        "fig.show(renderer= 'colab')"
      ]
    },
    {
      "cell_type": "markdown",
      "metadata": {
        "id": "1gBwt4NLWaMv"
      },
      "source": [
        "It is clear that majority of the customers 84% didn't churn, leaving just a few customer that churned 16%"
      ]
    },
    {
      "cell_type": "code",
      "execution_count": null,
      "metadata": {
        "colab": {
          "base_uri": "https://localhost:8080/"
        },
        "id": "xBBiUjGPhLJt",
        "outputId": "264473b8-9e52-4c1a-a6ca-36ed48bd3da7"
      },
      "outputs": [
        {
          "data": {
            "text/plain": [
              "3    1425\n",
              "2    1037\n",
              "4     395\n",
              "5     170\n",
              "1     123\n",
              "Name: Age Group, dtype: int64"
            ]
          },
          "execution_count": 15,
          "metadata": {},
          "output_type": "execute_result"
        }
      ],
      "source": [
        "data['Age Group'].value_counts()"
      ]
    },
    {
      "cell_type": "code",
      "execution_count": null,
      "metadata": {
        "colab": {
          "base_uri": "https://localhost:8080/",
          "height": 517
        },
        "id": "uZAlVSp54qhg",
        "outputId": "b00c10af-78e4-4e97-b6b3-a52ada5097aa"
      },
      "outputs": [
        {
          "data": {
            "text/html": [
              "<html>\n",
              "<head><meta charset=\"utf-8\" /></head>\n",
              "<body>\n",
              "    <div>            <script src=\"https://cdnjs.cloudflare.com/ajax/libs/mathjax/2.7.5/MathJax.js?config=TeX-AMS-MML_SVG\"></script><script type=\"text/javascript\">if (window.MathJax) {MathJax.Hub.Config({SVG: {font: \"STIX-Web\"}});}</script>                <script type=\"text/javascript\">window.PlotlyConfig = {MathJaxConfig: 'local'};</script>\n",
              "        <script src=\"https://cdn.plot.ly/plotly-2.8.3.min.js\"></script>                <div id=\"19eb18b3-8ec4-42b5-8893-4fd52f2db964\" class=\"plotly-graph-div\" style=\"height:500px; width:700px;\"></div>            <script type=\"text/javascript\">                                    window.PLOTLYENV=window.PLOTLYENV || {};                                    if (document.getElementById(\"19eb18b3-8ec4-42b5-8893-4fd52f2db964\")) {                    Plotly.newPlot(                        \"19eb18b3-8ec4-42b5-8893-4fd52f2db964\",                        [{\"alignmentgroup\":\"True\",\"bingroup\":\"x\",\"hovertemplate\":\"Age=%{x}<br>count=%{y}<extra></extra>\",\"legendgroup\":\"\",\"marker\":{\"color\":\"#636efa\",\"pattern\":{\"shape\":\"\"}},\"name\":\"\",\"nbinsx\":5,\"offsetgroup\":\"\",\"orientation\":\"v\",\"showlegend\":false,\"x\":[30,25,30,15,15,30,30,30,30,30,30,30,30,30,25,30,25,30,25,25,45,25,25,55,25,30,30,30,30,30,55,45,55,25,25,25,30,25,25,45,25,45,25,30,25,25,45,30,30,30,30,30,30,15,25,30,30,30,30,30,30,30,30,30,25,30,25,30,25,30,45,25,30,55,25,30,30,30,30,45,55,45,55,25,30,30,30,25,30,45,30,45,25,30,25,25,55,30,30,30,25,25,25,15,15,30,30,30,30,30,25,30,30,30,25,30,25,25,25,25,30,25,25,45,25,30,25,30,30,30,45,45,55,25,25,25,30,25,25,45,25,45,25,30,25,15,45,30,30,30,30,30,30,15,25,30,30,30,30,30,30,30,30,30,25,30,25,30,25,30,45,25,30,55,25,30,30,30,30,45,55,45,55,25,25,30,30,25,25,45,30,45,25,30,25,25,55,30,30,30,25,25,25,15,15,30,30,30,30,30,25,30,30,30,25,30,25,25,25,25,30,25,25,45,25,30,30,30,30,30,45,45,55,25,25,25,30,25,25,45,25,45,25,30,25,15,45,30,30,30,30,30,30,15,25,30,30,30,30,30,30,30,30,30,25,30,25,30,25,30,45,25,30,55,25,30,30,45,30,45,55,45,55,25,30,30,30,25,30,55,30,45,25,30,30,25,55,30,30,30,25,25,25,15,15,25,30,30,30,30,25,30,30,30,25,30,25,25,25,25,30,25,25,45,25,30,25,30,30,30,45,45,55,25,25,25,30,25,25,45,25,45,25,30,25,15,45,30,30,25,30,25,30,15,15,30,30,30,30,30,30,30,30,30,25,30,25,30,25,25,45,25,25,55,25,30,30,30,30,30,55,45,55,25,25,25,30,25,25,45,25,45,25,30,25,25,45,30,30,30,30,25,30,15,15,30,30,30,30,30,30,30,30,30,25,30,25,30,25,25,45,25,25,55,25,30,30,30,30,30,55,45,55,25,25,25,30,25,25,45,25,45,25,30,25,25,45,30,30,30,30,30,30,15,25,30,30,30,30,30,30,30,30,30,25,30,25,30,25,30,45,25,30,55,25,30,30,30,30,45,55,45,55,25,25,30,30,25,25,45,30,45,25,30,25,25,55,30,30,30,25,25,25,15,15,30,30,30,30,30,25,30,30,30,25,30,25,25,25,25,30,25,25,45,25,30,30,30,30,30,45,45,55,25,25,25,30,25,25,45,25,45,25,30,25,15,45,30,30,30,30,30,30,15,25,30,45,30,30,30,30,30,30,45,25,30,25,30,25,30,45,25,30,55,30,30,30,45,30,45,55,45,55,25,30,30,45,25,30,55,30,45,25,30,30,25,55,30,30,30,25,25,25,15,15,25,30,30,30,30,25,30,30,30,25,30,25,25,25,25,30,25,25,45,25,30,25,30,25,30,45,45,45,25,25,25,30,25,25,45,25,45,25,30,25,15,45,30,30,25,30,25,30,15,15,30,30,30,30,30,30,30,30,30,25,30,25,30,25,25,45,25,25,55,25,30,30,30,30,30,55,45,55,25,25,25,30,25,25,45,25,45,25,30,25,25,45,30,30,30,30,25,30,15,15,30,30,30,30,30,30,30,30,30,25,30,25,30,25,25,45,25,25,55,25,30,30,30,30,30,55,45,55,25,25,25,30,25,25,45,25,45,25,30,25,25,45,30,30,30,25,25,25,15,15,25,30,30,30,30,25,30,30,30,25,30,25,25,25,25,30,25,25,45,25,30,25,30,25,30,45,45,45,25,25,25,30,25,25,45,25,45,25,30,25,15,45,30,30,25,30,30,30,15,25,30,45,30,30,30,30,30,30,45,25,30,25,30,25,30,45,25,30,55,30,30,30,45,30,45,55,45,55,25,30,30,45,25,30,55,30,45,25,30,30,25,55,30,30,30,30,30,30,15,25,30,30,30,30,30,30,30,30,30,25,30,25,30,25,30,45,25,30,55,25,30,30,30,30,45,55,45,55,25,30,30,30,25,30,45,30,45,25,30,25,25,55,30,30,30,25,25,25,15,15,30,30,30,30,30,25,30,30,30,25,30,25,25,25,25,30,25,25,45,25,30,25,30,30,30,45,45,55,25,25,25,30,25,25,45,25,45,25,30,25,15,45,30,30,30,30,25,30,15,15,30,30,30,30,30,30,30,30,30,25,30,25,30,25,25,45,25,25,55,25,30,30,30,30,30,55,45,55,25,25,25,30,25,25,45,25,45,25,30,25,25,45,30,30,30,30,25,30,15,15,30,30,30,30,30,30,30,30,30,25,30,25,30,25,25,45,25,25,55,25,30,30,30,30,30,55,45,55,25,25,25,30,25,25,45,25,45,25,30,25,25,45,30,30,30,25,25,25,15,15,25,30,30,30,30,25,30,30,30,25,30,25,25,25,25,30,25,25,45,25,30,25,30,30,30,45,45,55,25,25,25,30,25,25,45,25,45,25,30,25,15,45,30,30,25,25,25,25,15,15,30,30,30,30,30,25,30,30,30,25,30,25,25,25,25,30,25,25,45,25,30,30,30,30,30,45,45,55,25,25,25,30,25,25,45,25,45,25,30,25,15,45,30,30,30,25,25,25,25,15,25,30,30,30,30,25,30,25,30,25,30,25,25,25,25,30,25,25,45,25,30,25,30,25,30,45,30,45,25,25,25,30,25,25,45,25,45,25,30,25,15,45,30,30,25,25,25,25,25,15,30,30,30,30,30,25,30,30,30,25,30,25,25,25,25,30,25,25,45,25,30,25,30,30,30,45,45,55,25,25,25,30,25,25,45,25,45,25,30,25,15,45,30,30,30,25,25,25,15,15,25,30,30,30,30,25,30,30,30,25,30,25,25,25,25,30,25,25,45,25,30,25,30,25,30,45,45,45,25,25,25,30,25,25,45,25,45,25,30,25,15,45,30,30,25,30,25,30,15,15,30,30,30,30,30,30,30,30,30,25,30,25,30,25,25,45,25,25,55,25,30,30,30,30,30,55,45,55,25,25,25,30,25,25,45,25,45,25,30,25,25,45,30,30,30,25,25,25,15,15,25,30,30,30,30,25,30,25,30,25,30,25,25,25,25,30,25,25,45,25,30,25,30,25,30,45,30,45,25,25,25,30,25,25,45,25,45,25,30,25,15,45,30,25,25,25,25,25,15,15,25,30,30,30,30,25,30,30,30,25,30,25,25,25,25,30,25,25,45,25,30,25,30,30,30,45,45,55,25,25,25,30,25,25,45,25,45,25,30,25,15,45,30,30,25,25,25,25,15,15,25,30,30,30,30,25,30,30,30,25,30,25,25,25,25,30,25,25,45,25,30,25,30,30,30,45,45,55,25,25,25,30,25,25,45,25,45,25,30,25,15,45,30,30,25,25,25,25,15,15,30,30,30,30,30,25,30,30,30,25,30,25,25,25,25,30,25,25,45,25,30,25,30,30,30,45,45,55,25,25,25,30,25,25,45,25,45,25,30,25,15,45,30,30,30,25,25,25,15,15,25,30,30,30,30,25,30,30,30,25,30,25,25,25,25,30,25,25,45,25,30,25,30,25,30,45,45,45,25,25,25,30,25,25,45,25,45,25,30,25,15,45,30,30,25,30,30,30,15,25,30,30,30,30,30,30,30,30,30,25,30,25,30,25,30,45,25,30,55,25,30,30,30,30,45,55,45,55,25,25,30,30,25,25,45,30,45,25,30,25,25,55,30,30,30,25,25,25,15,15,25,30,30,30,30,25,30,25,30,25,30,25,25,25,25,30,25,25,45,25,30,25,30,25,30,45,30,45,25,25,25,30,25,25,45,25,45,15,30,25,15,45,30,25,25,25,25,25,15,15,25,30,30,30,30,25,30,30,30,25,30,25,25,25,25,30,25,25,45,25,30,25,30,30,30,45,45,55,25,25,25,30,25,25,45,25,45,25,30,25,15,45,30,30,25,25,25,25,25,15,25,30,30,30,30,25,30,30,30,25,30,25,25,25,25,30,25,25,45,25,30,25,30,30,30,45,45,55,25,25,25,30,25,25,45,25,45,25,30,25,15,45,30,30,25,25,25,25,15,15,25,30,30,30,30,25,30,25,30,25,30,25,25,25,25,30,25,25,45,25,30,25,30,25,30,45,30,45,25,25,25,30,25,25,45,25,45,15,30,25,15,45,30,25,25,30,30,30,15,25,30,30,30,30,30,30,30,30,30,25,30,25,30,25,30,45,25,30,55,25,30,30,30,30,45,55,45,55,25,25,30,30,25,25,45,30,45,25,30,25,25,55,30,30,30,25,25,25,15,15,30,30,30,30,30,25,30,30,30,25,30,25,25,25,25,30,25,25,45,25,30,30,30,30,30,45,45,55,25,25,25,30,25,25,45,25,45,25,30,25,15,45,30,30,30,25,25,25,15,15,25,30,30,30,30,25,30,25,30,25,30,25,25,25,25,30,25,25,45,25,30,25,30,25,30,45,30,45,25,25,25,30,25,25,45,25,45,25,30,25,15,45,30,30,25,25,25,25,15,15,25,30,30,30,30,25,30,30,30,25,30,25,25,25,25,30,25,25,45,25,30,25,30,30,30,45,45,55,25,25,25,30,25,25,45,25,45,25,30,25,15,45,30,30,25,25,25,25,15,15,25,30,30,30,30,25,30,30,30,25,30,25,25,25,25,30,25,25,45,25,30,25,30,30,30,45,45,55,25,25,25,30,25,25,45,25,45,25,30,25,15,45,30,30,25,30,30,30,15,25,30,30,30,30,30,30,30,30,30,25,30,25,30,25,30,45,25,30,55,25,30,30,45,30,45,55,45,55,25,30,30,30,25,30,55,30,45,25,30,30,25,55,30,30,30,30,30,30,15,25,30,45,30,30,45,30,45,30,45,25,30,25,30,30,30,45,25,30,55,30,30,30,45,30,45,55,45,55,25,30,30,45,25,30,55,30,45,25,30,30,25,55,30,30,30,30,30,30,15,25,30,30,30,30,30,30,30,30,30,25,30,25,30,25,30,45,25,30,55,25,30,30,30,30,45,55,45,55,25,25,30,30,25,25,45,30,45,25,30,25,25,55,30,30,30,30,30,30,15,25,30,45,30,30,30,30,30,30,45,25,30,25,30,25,30,45,25,30,55,30,30,30,45,30,45,55,45,55,25,30,30,45,25,30,55,30,45,25,30,30,25,55,30,30,30,30,30,30,25,25,30,30,30,30,30,30,30,30,30,25,30,25,30,25,30,45,25,30,55,25,30,30,30,30,45,55,45,55,25,30,30,30,25,30,45,30,45,25,30,25,25,55,30,30,30,30,30,30,15,25,30,45,30,30,45,30,45,30,45,25,45,30,30,30,30,45,25,30,55,30,45,30,45,30,45,55,45,55,25,30,30,45,25,30,55,30,45,25,45,30,25,55,45,30,30,30,25,30,25,15,30,30,30,30,30,30,30,30,30,25,30,25,30,25,25,45,25,25,55,25,30,30,30,30,30,55,45,55,25,25,25,30,25,25,45,25,45,25,30,25,25,45,30,30,30,30,30,30,15,25,30,30,30,30,30,30,30,30,30,25,30,25,30,25,30,45,25,30,55,25,30,30,45,30,45,55,45,55,25,30,30,30,25,30,55,30,45,25,30,30,25,55,30,30,30,30,30,30,15,25,30,30,30,30,30,30,30,30,30,25,30,25,30,25,30,45,25,30,55,25,30,30,45,30,45,55,45,55,25,30,30,30,25,30,55,30,45,25,30,30,25,55,30,30,30,30,30,30,15,25,30,45,30,30,30,30,30,30,45,25,30,25,30,25,30,45,25,30,55,30,30,30,45,30,45,55,45,55,25,30,30,45,25,30,55,30,45,25,30,30,25,55,30,30,30,30,30,30,15,25,30,30,30,30,30,30,30,30,30,25,30,25,30,25,30,45,25,30,55,25,30,30,30,30,45,55,45,55,25,30,30,30,25,30,45,30,45,25,30,25,25,55,30,30,30,30,30,30,15,25,30,45,30,30,45,30,45,30,45,30,45,30,30,30,30,45,30,30,55,30,45,30,45,30,45,55,45,55,25,30,30,45,30,30,55,30,45,25,45,30,25,55,45,30,30,25,25,25,15,15,30,30,30,30,30,25,30,30,30,25,30,25,25,25,25,30,25,25,45,25,30,30,30,30,30,45,45,55,25,25,25,30,25,25,45,25,45,25,30,25,15,45,30,30,30,30,30,30,15,25,30,30,30,30,30,30,30,30,30,25,30,25,30,25,30,45,25,30,55,25,30,30,45,30,45,55,45,55,25,30,30,30,25,30,55,30,45,25,30,30,25,55,30,30,30,30,30,30,15,25,30,30,30,30,30,30,30,30,30,25,30,25,30,25,30,45,25,30,55,25,30,30,45,30,45,55,45,55,25,30,30,30,25,30,55,30,45,25,30,30,25,55,30,30,30,25,25,25,15,15,30,30,30,30,30,25,30,30,30,25,30,25,25,25,25,30,25,25,45,25,30,30,30,30,30,45,45,55,25,25,25,30,25,25,45,25,45,25,30,25,15,45,30,30,30,30,30,30,15,25,30,45,30,30,45,30,45,30,45,30,45,30,30,30,30,45,30,30,55,30,45,30,45,30,45,55,45,55,25,30,30,45,30,30,55,30,45,25,45,30,25,55,45,30,30,30,30,30,15,25,30,45,30,30,45,30,45,30,45,25,30,25,30,30,30,45,25,30,55,30,30,30,45,30,45,55,45,55,25,30,30,45,25,30,55,30,45,25,30,30,25,55,30,30,30,30,30,30,15,25,30,30,30,30,30,30,30,30,30,25,30,25,30,25,30,45,25,30,55,25,30,30,30,30,45,55,45,55,25,25,30,30,25,25,45,30,45,25,30,25,25,55,30,30,30,30,30,30,15,25,30,30,30,30,30,30,30,30,30,25,30,25,30,25,30,45,25,30,55,25,30,30,45,30,45,55,45,55,25,30,30,30,25,30,55,30,45,25,30,30,25,55,30,30,30,30,30,30,15,25,30,30,30,30,30,30,30,30,30,25,30,25,30,25,30,45,25,30,55,25,30,30,45,30,45,55,45,55,25,30,30,30,25,30,55,30,45,25,30,30,25,55,30,30,30],\"xaxis\":\"x\",\"yaxis\":\"y\",\"type\":\"histogram\"}],                        {\"template\":{\"data\":{\"bar\":[{\"error_x\":{\"color\":\"#2a3f5f\"},\"error_y\":{\"color\":\"#2a3f5f\"},\"marker\":{\"line\":{\"color\":\"#E5ECF6\",\"width\":0.5},\"pattern\":{\"fillmode\":\"overlay\",\"size\":10,\"solidity\":0.2}},\"type\":\"bar\"}],\"barpolar\":[{\"marker\":{\"line\":{\"color\":\"#E5ECF6\",\"width\":0.5},\"pattern\":{\"fillmode\":\"overlay\",\"size\":10,\"solidity\":0.2}},\"type\":\"barpolar\"}],\"carpet\":[{\"aaxis\":{\"endlinecolor\":\"#2a3f5f\",\"gridcolor\":\"white\",\"linecolor\":\"white\",\"minorgridcolor\":\"white\",\"startlinecolor\":\"#2a3f5f\"},\"baxis\":{\"endlinecolor\":\"#2a3f5f\",\"gridcolor\":\"white\",\"linecolor\":\"white\",\"minorgridcolor\":\"white\",\"startlinecolor\":\"#2a3f5f\"},\"type\":\"carpet\"}],\"choropleth\":[{\"colorbar\":{\"outlinewidth\":0,\"ticks\":\"\"},\"type\":\"choropleth\"}],\"contour\":[{\"colorbar\":{\"outlinewidth\":0,\"ticks\":\"\"},\"colorscale\":[[0.0,\"#0d0887\"],[0.1111111111111111,\"#46039f\"],[0.2222222222222222,\"#7201a8\"],[0.3333333333333333,\"#9c179e\"],[0.4444444444444444,\"#bd3786\"],[0.5555555555555556,\"#d8576b\"],[0.6666666666666666,\"#ed7953\"],[0.7777777777777778,\"#fb9f3a\"],[0.8888888888888888,\"#fdca26\"],[1.0,\"#f0f921\"]],\"type\":\"contour\"}],\"contourcarpet\":[{\"colorbar\":{\"outlinewidth\":0,\"ticks\":\"\"},\"type\":\"contourcarpet\"}],\"heatmap\":[{\"colorbar\":{\"outlinewidth\":0,\"ticks\":\"\"},\"colorscale\":[[0.0,\"#0d0887\"],[0.1111111111111111,\"#46039f\"],[0.2222222222222222,\"#7201a8\"],[0.3333333333333333,\"#9c179e\"],[0.4444444444444444,\"#bd3786\"],[0.5555555555555556,\"#d8576b\"],[0.6666666666666666,\"#ed7953\"],[0.7777777777777778,\"#fb9f3a\"],[0.8888888888888888,\"#fdca26\"],[1.0,\"#f0f921\"]],\"type\":\"heatmap\"}],\"heatmapgl\":[{\"colorbar\":{\"outlinewidth\":0,\"ticks\":\"\"},\"colorscale\":[[0.0,\"#0d0887\"],[0.1111111111111111,\"#46039f\"],[0.2222222222222222,\"#7201a8\"],[0.3333333333333333,\"#9c179e\"],[0.4444444444444444,\"#bd3786\"],[0.5555555555555556,\"#d8576b\"],[0.6666666666666666,\"#ed7953\"],[0.7777777777777778,\"#fb9f3a\"],[0.8888888888888888,\"#fdca26\"],[1.0,\"#f0f921\"]],\"type\":\"heatmapgl\"}],\"histogram\":[{\"marker\":{\"pattern\":{\"fillmode\":\"overlay\",\"size\":10,\"solidity\":0.2}},\"type\":\"histogram\"}],\"histogram2d\":[{\"colorbar\":{\"outlinewidth\":0,\"ticks\":\"\"},\"colorscale\":[[0.0,\"#0d0887\"],[0.1111111111111111,\"#46039f\"],[0.2222222222222222,\"#7201a8\"],[0.3333333333333333,\"#9c179e\"],[0.4444444444444444,\"#bd3786\"],[0.5555555555555556,\"#d8576b\"],[0.6666666666666666,\"#ed7953\"],[0.7777777777777778,\"#fb9f3a\"],[0.8888888888888888,\"#fdca26\"],[1.0,\"#f0f921\"]],\"type\":\"histogram2d\"}],\"histogram2dcontour\":[{\"colorbar\":{\"outlinewidth\":0,\"ticks\":\"\"},\"colorscale\":[[0.0,\"#0d0887\"],[0.1111111111111111,\"#46039f\"],[0.2222222222222222,\"#7201a8\"],[0.3333333333333333,\"#9c179e\"],[0.4444444444444444,\"#bd3786\"],[0.5555555555555556,\"#d8576b\"],[0.6666666666666666,\"#ed7953\"],[0.7777777777777778,\"#fb9f3a\"],[0.8888888888888888,\"#fdca26\"],[1.0,\"#f0f921\"]],\"type\":\"histogram2dcontour\"}],\"mesh3d\":[{\"colorbar\":{\"outlinewidth\":0,\"ticks\":\"\"},\"type\":\"mesh3d\"}],\"parcoords\":[{\"line\":{\"colorbar\":{\"outlinewidth\":0,\"ticks\":\"\"}},\"type\":\"parcoords\"}],\"pie\":[{\"automargin\":true,\"type\":\"pie\"}],\"scatter\":[{\"marker\":{\"colorbar\":{\"outlinewidth\":0,\"ticks\":\"\"}},\"type\":\"scatter\"}],\"scatter3d\":[{\"line\":{\"colorbar\":{\"outlinewidth\":0,\"ticks\":\"\"}},\"marker\":{\"colorbar\":{\"outlinewidth\":0,\"ticks\":\"\"}},\"type\":\"scatter3d\"}],\"scattercarpet\":[{\"marker\":{\"colorbar\":{\"outlinewidth\":0,\"ticks\":\"\"}},\"type\":\"scattercarpet\"}],\"scattergeo\":[{\"marker\":{\"colorbar\":{\"outlinewidth\":0,\"ticks\":\"\"}},\"type\":\"scattergeo\"}],\"scattergl\":[{\"marker\":{\"colorbar\":{\"outlinewidth\":0,\"ticks\":\"\"}},\"type\":\"scattergl\"}],\"scattermapbox\":[{\"marker\":{\"colorbar\":{\"outlinewidth\":0,\"ticks\":\"\"}},\"type\":\"scattermapbox\"}],\"scatterpolar\":[{\"marker\":{\"colorbar\":{\"outlinewidth\":0,\"ticks\":\"\"}},\"type\":\"scatterpolar\"}],\"scatterpolargl\":[{\"marker\":{\"colorbar\":{\"outlinewidth\":0,\"ticks\":\"\"}},\"type\":\"scatterpolargl\"}],\"scatterternary\":[{\"marker\":{\"colorbar\":{\"outlinewidth\":0,\"ticks\":\"\"}},\"type\":\"scatterternary\"}],\"surface\":[{\"colorbar\":{\"outlinewidth\":0,\"ticks\":\"\"},\"colorscale\":[[0.0,\"#0d0887\"],[0.1111111111111111,\"#46039f\"],[0.2222222222222222,\"#7201a8\"],[0.3333333333333333,\"#9c179e\"],[0.4444444444444444,\"#bd3786\"],[0.5555555555555556,\"#d8576b\"],[0.6666666666666666,\"#ed7953\"],[0.7777777777777778,\"#fb9f3a\"],[0.8888888888888888,\"#fdca26\"],[1.0,\"#f0f921\"]],\"type\":\"surface\"}],\"table\":[{\"cells\":{\"fill\":{\"color\":\"#EBF0F8\"},\"line\":{\"color\":\"white\"}},\"header\":{\"fill\":{\"color\":\"#C8D4E3\"},\"line\":{\"color\":\"white\"}},\"type\":\"table\"}]},\"layout\":{\"annotationdefaults\":{\"arrowcolor\":\"#2a3f5f\",\"arrowhead\":0,\"arrowwidth\":1},\"autotypenumbers\":\"strict\",\"coloraxis\":{\"colorbar\":{\"outlinewidth\":0,\"ticks\":\"\"}},\"colorscale\":{\"diverging\":[[0,\"#8e0152\"],[0.1,\"#c51b7d\"],[0.2,\"#de77ae\"],[0.3,\"#f1b6da\"],[0.4,\"#fde0ef\"],[0.5,\"#f7f7f7\"],[0.6,\"#e6f5d0\"],[0.7,\"#b8e186\"],[0.8,\"#7fbc41\"],[0.9,\"#4d9221\"],[1,\"#276419\"]],\"sequential\":[[0.0,\"#0d0887\"],[0.1111111111111111,\"#46039f\"],[0.2222222222222222,\"#7201a8\"],[0.3333333333333333,\"#9c179e\"],[0.4444444444444444,\"#bd3786\"],[0.5555555555555556,\"#d8576b\"],[0.6666666666666666,\"#ed7953\"],[0.7777777777777778,\"#fb9f3a\"],[0.8888888888888888,\"#fdca26\"],[1.0,\"#f0f921\"]],\"sequentialminus\":[[0.0,\"#0d0887\"],[0.1111111111111111,\"#46039f\"],[0.2222222222222222,\"#7201a8\"],[0.3333333333333333,\"#9c179e\"],[0.4444444444444444,\"#bd3786\"],[0.5555555555555556,\"#d8576b\"],[0.6666666666666666,\"#ed7953\"],[0.7777777777777778,\"#fb9f3a\"],[0.8888888888888888,\"#fdca26\"],[1.0,\"#f0f921\"]]},\"colorway\":[\"#636efa\",\"#EF553B\",\"#00cc96\",\"#ab63fa\",\"#FFA15A\",\"#19d3f3\",\"#FF6692\",\"#B6E880\",\"#FF97FF\",\"#FECB52\"],\"font\":{\"color\":\"#2a3f5f\"},\"geo\":{\"bgcolor\":\"white\",\"lakecolor\":\"white\",\"landcolor\":\"#E5ECF6\",\"showlakes\":true,\"showland\":true,\"subunitcolor\":\"white\"},\"hoverlabel\":{\"align\":\"left\"},\"hovermode\":\"closest\",\"mapbox\":{\"style\":\"light\"},\"paper_bgcolor\":\"white\",\"plot_bgcolor\":\"#E5ECF6\",\"polar\":{\"angularaxis\":{\"gridcolor\":\"white\",\"linecolor\":\"white\",\"ticks\":\"\"},\"bgcolor\":\"#E5ECF6\",\"radialaxis\":{\"gridcolor\":\"white\",\"linecolor\":\"white\",\"ticks\":\"\"}},\"scene\":{\"xaxis\":{\"backgroundcolor\":\"#E5ECF6\",\"gridcolor\":\"white\",\"gridwidth\":2,\"linecolor\":\"white\",\"showbackground\":true,\"ticks\":\"\",\"zerolinecolor\":\"white\"},\"yaxis\":{\"backgroundcolor\":\"#E5ECF6\",\"gridcolor\":\"white\",\"gridwidth\":2,\"linecolor\":\"white\",\"showbackground\":true,\"ticks\":\"\",\"zerolinecolor\":\"white\"},\"zaxis\":{\"backgroundcolor\":\"#E5ECF6\",\"gridcolor\":\"white\",\"gridwidth\":2,\"linecolor\":\"white\",\"showbackground\":true,\"ticks\":\"\",\"zerolinecolor\":\"white\"}},\"shapedefaults\":{\"line\":{\"color\":\"#2a3f5f\"}},\"ternary\":{\"aaxis\":{\"gridcolor\":\"white\",\"linecolor\":\"white\",\"ticks\":\"\"},\"baxis\":{\"gridcolor\":\"white\",\"linecolor\":\"white\",\"ticks\":\"\"},\"bgcolor\":\"#E5ECF6\",\"caxis\":{\"gridcolor\":\"white\",\"linecolor\":\"white\",\"ticks\":\"\"}},\"title\":{\"x\":0.05},\"xaxis\":{\"automargin\":true,\"gridcolor\":\"white\",\"linecolor\":\"white\",\"ticks\":\"\",\"title\":{\"standoff\":15},\"zerolinecolor\":\"white\",\"zerolinewidth\":2},\"yaxis\":{\"automargin\":true,\"gridcolor\":\"white\",\"linecolor\":\"white\",\"ticks\":\"\",\"title\":{\"standoff\":15},\"zerolinecolor\":\"white\",\"zerolinewidth\":2}}},\"xaxis\":{\"anchor\":\"y\",\"domain\":[0.0,1.0],\"title\":{\"text\":\"Age\"}},\"yaxis\":{\"anchor\":\"x\",\"domain\":[0.0,1.0],\"title\":{\"text\":\"count\"}},\"legend\":{\"tracegroupgap\":0},\"margin\":{\"t\":60},\"barmode\":\"relative\",\"title\":{\"text\":\"Age Distribution\"},\"height\":500,\"width\":700},                        {\"responsive\": true}                    ).then(function(){\n",
              "                            \n",
              "var gd = document.getElementById('19eb18b3-8ec4-42b5-8893-4fd52f2db964');\n",
              "var x = new MutationObserver(function (mutations, observer) {{\n",
              "        var display = window.getComputedStyle(gd).display;\n",
              "        if (!display || display === 'none') {{\n",
              "            console.log([gd, 'removed!']);\n",
              "            Plotly.purge(gd);\n",
              "            observer.disconnect();\n",
              "        }}\n",
              "}});\n",
              "\n",
              "// Listen for the removal of the full notebook cells\n",
              "var notebookContainer = gd.closest('#notebook-container');\n",
              "if (notebookContainer) {{\n",
              "    x.observe(notebookContainer, {childList: true});\n",
              "}}\n",
              "\n",
              "// Listen for the clearing of the current output cell\n",
              "var outputEl = gd.closest('.output');\n",
              "if (outputEl) {{\n",
              "    x.observe(outputEl, {childList: true});\n",
              "}}\n",
              "\n",
              "                        })                };                            </script>        </div>\n",
              "</body>\n",
              "</html>"
            ]
          },
          "metadata": {},
          "output_type": "display_data"
        }
      ],
      "source": [
        "fig =px.histogram(data['Age'], x='Age', nbins= 5)\n",
        "\n",
        "fig.update_layout(height=500, width=700, title_text=\"Age Distribution\")\n",
        "fig.show(renderer = 'colab')"
      ]
    },
    {
      "cell_type": "markdown",
      "metadata": {
        "id": "TNH1TIrJMrJm"
      },
      "source": [
        "The bulk of the users falls within the ages 25 and 30"
      ]
    },
    {
      "cell_type": "code",
      "execution_count": null,
      "metadata": {
        "colab": {
          "base_uri": "https://localhost:8080/"
        },
        "id": "9Hj9TElH0nBy",
        "outputId": "bd77592f-178b-4436-c4b9-c0455211389c"
      },
      "outputs": [
        {
          "data": {
            "text/plain": [
              "0    2909\n",
              "1     241\n",
              "Name: Complains, dtype: int64"
            ]
          },
          "execution_count": 9,
          "metadata": {},
          "output_type": "execute_result"
        }
      ],
      "source": [
        "data['Complains'].value_counts()"
      ]
    },
    {
      "cell_type": "code",
      "execution_count": null,
      "metadata": {
        "id": "38mLeod50yk7"
      },
      "outputs": [],
      "source": [
        "data['Call  Failure'].value_counts()"
      ]
    },
    {
      "cell_type": "code",
      "execution_count": null,
      "metadata": {
        "colab": {
          "base_uri": "https://localhost:8080/",
          "height": 175
        },
        "id": "WRDnptJF1DG3",
        "outputId": "00085a00-3b56-4d7e-8348-1262c1524147"
      },
      "outputs": [
        {
          "data": {
            "text/html": [
              "\n",
              "  <div id=\"df-bba4b821-a92c-4d78-b6aa-a0e45ff23170\">\n",
              "    <div class=\"colab-df-container\">\n",
              "      <div>\n",
              "<style scoped>\n",
              "    .dataframe tbody tr th:only-of-type {\n",
              "        vertical-align: middle;\n",
              "    }\n",
              "\n",
              "    .dataframe tbody tr th {\n",
              "        vertical-align: top;\n",
              "    }\n",
              "\n",
              "    .dataframe thead th {\n",
              "        text-align: right;\n",
              "    }\n",
              "</style>\n",
              "<table border=\"1\" class=\"dataframe\">\n",
              "  <thead>\n",
              "    <tr style=\"text-align: right;\">\n",
              "      <th></th>\n",
              "      <th>Complains</th>\n",
              "      <th>Churn</th>\n",
              "      <th>count</th>\n",
              "    </tr>\n",
              "  </thead>\n",
              "  <tbody>\n",
              "    <tr>\n",
              "      <th>0</th>\n",
              "      <td>Not Complained</td>\n",
              "      <td>Churn</td>\n",
              "      <td>295</td>\n",
              "    </tr>\n",
              "    <tr>\n",
              "      <th>1</th>\n",
              "      <td>Not Complained</td>\n",
              "      <td>Non Churn</td>\n",
              "      <td>2614</td>\n",
              "    </tr>\n",
              "    <tr>\n",
              "      <th>2</th>\n",
              "      <td>Complained</td>\n",
              "      <td>Churn</td>\n",
              "      <td>200</td>\n",
              "    </tr>\n",
              "    <tr>\n",
              "      <th>3</th>\n",
              "      <td>Complained</td>\n",
              "      <td>Non Churn</td>\n",
              "      <td>41</td>\n",
              "    </tr>\n",
              "  </tbody>\n",
              "</table>\n",
              "</div>\n",
              "      <button class=\"colab-df-convert\" onclick=\"convertToInteractive('df-bba4b821-a92c-4d78-b6aa-a0e45ff23170')\"\n",
              "              title=\"Convert this dataframe to an interactive table.\"\n",
              "              style=\"display:none;\">\n",
              "        \n",
              "  <svg xmlns=\"http://www.w3.org/2000/svg\" height=\"24px\"viewBox=\"0 0 24 24\"\n",
              "       width=\"24px\">\n",
              "    <path d=\"M0 0h24v24H0V0z\" fill=\"none\"/>\n",
              "    <path d=\"M18.56 5.44l.94 2.06.94-2.06 2.06-.94-2.06-.94-.94-2.06-.94 2.06-2.06.94zm-11 1L8.5 8.5l.94-2.06 2.06-.94-2.06-.94L8.5 2.5l-.94 2.06-2.06.94zm10 10l.94 2.06.94-2.06 2.06-.94-2.06-.94-.94-2.06-.94 2.06-2.06.94z\"/><path d=\"M17.41 7.96l-1.37-1.37c-.4-.4-.92-.59-1.43-.59-.52 0-1.04.2-1.43.59L10.3 9.45l-7.72 7.72c-.78.78-.78 2.05 0 2.83L4 21.41c.39.39.9.59 1.41.59.51 0 1.02-.2 1.41-.59l7.78-7.78 2.81-2.81c.8-.78.8-2.07 0-2.86zM5.41 20L4 18.59l7.72-7.72 1.47 1.35L5.41 20z\"/>\n",
              "  </svg>\n",
              "      </button>\n",
              "      \n",
              "  <style>\n",
              "    .colab-df-container {\n",
              "      display:flex;\n",
              "      flex-wrap:wrap;\n",
              "      gap: 12px;\n",
              "    }\n",
              "\n",
              "    .colab-df-convert {\n",
              "      background-color: #E8F0FE;\n",
              "      border: none;\n",
              "      border-radius: 50%;\n",
              "      cursor: pointer;\n",
              "      display: none;\n",
              "      fill: #1967D2;\n",
              "      height: 32px;\n",
              "      padding: 0 0 0 0;\n",
              "      width: 32px;\n",
              "    }\n",
              "\n",
              "    .colab-df-convert:hover {\n",
              "      background-color: #E2EBFA;\n",
              "      box-shadow: 0px 1px 2px rgba(60, 64, 67, 0.3), 0px 1px 3px 1px rgba(60, 64, 67, 0.15);\n",
              "      fill: #174EA6;\n",
              "    }\n",
              "\n",
              "    [theme=dark] .colab-df-convert {\n",
              "      background-color: #3B4455;\n",
              "      fill: #D2E3FC;\n",
              "    }\n",
              "\n",
              "    [theme=dark] .colab-df-convert:hover {\n",
              "      background-color: #434B5C;\n",
              "      box-shadow: 0px 1px 3px 1px rgba(0, 0, 0, 0.15);\n",
              "      filter: drop-shadow(0px 1px 2px rgba(0, 0, 0, 0.3));\n",
              "      fill: #FFFFFF;\n",
              "    }\n",
              "  </style>\n",
              "\n",
              "      <script>\n",
              "        const buttonEl =\n",
              "          document.querySelector('#df-bba4b821-a92c-4d78-b6aa-a0e45ff23170 button.colab-df-convert');\n",
              "        buttonEl.style.display =\n",
              "          google.colab.kernel.accessAllowed ? 'block' : 'none';\n",
              "\n",
              "        async function convertToInteractive(key) {\n",
              "          const element = document.querySelector('#df-bba4b821-a92c-4d78-b6aa-a0e45ff23170');\n",
              "          const dataTable =\n",
              "            await google.colab.kernel.invokeFunction('convertToInteractive',\n",
              "                                                     [key], {});\n",
              "          if (!dataTable) return;\n",
              "\n",
              "          const docLinkHtml = 'Like what you see? Visit the ' +\n",
              "            '<a target=\"_blank\" href=https://colab.research.google.com/notebooks/data_table.ipynb>data table notebook</a>'\n",
              "            + ' to learn more about interactive tables.';\n",
              "          element.innerHTML = '';\n",
              "          dataTable['output_type'] = 'display_data';\n",
              "          await google.colab.output.renderOutput(dataTable, element);\n",
              "          const docLink = document.createElement('div');\n",
              "          docLink.innerHTML = docLinkHtml;\n",
              "          element.appendChild(docLink);\n",
              "        }\n",
              "      </script>\n",
              "    </div>\n",
              "  </div>\n",
              "  "
            ],
            "text/plain": [
              "        Complains      Churn  count\n",
              "0  Not Complained      Churn    295\n",
              "1  Not Complained  Non Churn   2614\n",
              "2      Complained      Churn    200\n",
              "3      Complained  Non Churn     41"
            ]
          },
          "execution_count": 6,
          "metadata": {},
          "output_type": "execute_result"
        }
      ],
      "source": [
        "complain = data.groupby(['Complains', 'Churn']).agg({'Churn': 'count'})\\\n",
        ".rename(columns = {'Churn': 'count'}).reset_index()\n",
        "complain.iloc[[0,1], 0] = 'Not Complained'\n",
        "complain.iloc[[2,3], 0] = 'Complained'\n",
        "complain"
      ]
    },
    {
      "cell_type": "code",
      "execution_count": null,
      "metadata": {
        "colab": {
          "base_uri": "https://localhost:8080/"
        },
        "id": "ukZWa55N3ys9",
        "outputId": "8690a65d-305f-4cea-f3c8-f752587ca391"
      },
      "outputs": [
        {
          "data": {
            "text/plain": [
              "array([1, 2])"
            ]
          },
          "execution_count": 7,
          "metadata": {},
          "output_type": "execute_result"
        }
      ],
      "source": [
        "data['Status'].unique()"
      ]
    },
    {
      "cell_type": "code",
      "execution_count": null,
      "metadata": {
        "colab": {
          "base_uri": "https://localhost:8080/",
          "height": 617
        },
        "id": "tVqBNsK34yXo",
        "outputId": "f74ce68a-1287-4b2d-c7a7-8342c27ea689"
      },
      "outputs": [
        {
          "data": {
            "text/html": [
              "<html>\n",
              "<head><meta charset=\"utf-8\" /></head>\n",
              "<body>\n",
              "    <div>\n",
              "            <script src=\"https://cdnjs.cloudflare.com/ajax/libs/mathjax/2.7.5/MathJax.js?config=TeX-AMS-MML_SVG\"></script><script type=\"text/javascript\">if (window.MathJax) {MathJax.Hub.Config({SVG: {font: \"STIX-Web\"}});}</script>\n",
              "                <script type=\"text/javascript\">window.PlotlyConfig = {MathJaxConfig: 'local'};</script>\n",
              "        <script src=\"https://cdn.plot.ly/plotly-latest.min.js\"></script>    \n",
              "            <div id=\"1a5e95e2-29fb-4a75-9fd2-77d2a0fc2cc2\" class=\"plotly-graph-div\" style=\"height:600px; width:600px;\"></div>\n",
              "            <script type=\"text/javascript\">\n",
              "                \n",
              "                    window.PLOTLYENV=window.PLOTLYENV || {};\n",
              "                    \n",
              "                if (document.getElementById(\"1a5e95e2-29fb-4a75-9fd2-77d2a0fc2cc2\")) {\n",
              "                    Plotly.newPlot(\n",
              "                        '1a5e95e2-29fb-4a75-9fd2-77d2a0fc2cc2',\n",
              "                        [{\"branchvalues\": \"total\", \"customdata\": [[\"Complained\"], [\"Not Complained\"], [\"Complained\"], [\"Not Complained\"], [\"Complained\"], [\"Not Complained\"]], \"domain\": {\"x\": [0.0, 1.0], \"y\": [0.0, 1.0]}, \"hovertemplate\": \"labels=%{label}<br>count=%{value}<br>parent=%{parent}<br>id=%{id}<br>Complains=%{customdata[0]}<extra></extra>\", \"ids\": [\"Complained/Non Churn\", \"Not Complained/Non Churn\", \"Complained/Churn\", \"Not Complained/Churn\", \"Complained\", \"Not Complained\"], \"labels\": [\"Non Churn\", \"Non Churn\", \"Churn\", \"Churn\", \"Complained\", \"Not Complained\"], \"marker\": {\"colors\": [\"#2A3132\", \"#336B87\", \"#2A3132\", \"#336B87\", \"#2A3132\", \"#336B87\"]}, \"name\": \"\", \"parents\": [\"Complained\", \"Not Complained\", \"Complained\", \"Not Complained\", \"\", \"\"], \"textinfo\": \"label+percent parent\", \"type\": \"sunburst\", \"values\": [41, 2614, 200, 295, 241, 2909]}],\n",
              "                        {\"height\": 600, \"legend\": {\"tracegroupgap\": 0}, \"plot_bgcolor\": \"white\", \"template\": {\"data\": {\"bar\": [{\"error_x\": {\"color\": \"#2a3f5f\"}, \"error_y\": {\"color\": \"#2a3f5f\"}, \"marker\": {\"line\": {\"color\": \"#E5ECF6\", \"width\": 0.5}}, \"type\": \"bar\"}], \"barpolar\": [{\"marker\": {\"line\": {\"color\": \"#E5ECF6\", \"width\": 0.5}}, \"type\": \"barpolar\"}], \"carpet\": [{\"aaxis\": {\"endlinecolor\": \"#2a3f5f\", \"gridcolor\": \"white\", \"linecolor\": \"white\", \"minorgridcolor\": \"white\", \"startlinecolor\": \"#2a3f5f\"}, \"baxis\": {\"endlinecolor\": \"#2a3f5f\", \"gridcolor\": \"white\", \"linecolor\": \"white\", \"minorgridcolor\": \"white\", \"startlinecolor\": \"#2a3f5f\"}, \"type\": \"carpet\"}], \"choropleth\": [{\"colorbar\": {\"outlinewidth\": 0, \"ticks\": \"\"}, \"type\": \"choropleth\"}], \"contour\": [{\"colorbar\": {\"outlinewidth\": 0, \"ticks\": \"\"}, \"colorscale\": [[0.0, \"#0d0887\"], [0.1111111111111111, \"#46039f\"], [0.2222222222222222, \"#7201a8\"], [0.3333333333333333, \"#9c179e\"], [0.4444444444444444, \"#bd3786\"], [0.5555555555555556, \"#d8576b\"], [0.6666666666666666, \"#ed7953\"], [0.7777777777777778, \"#fb9f3a\"], [0.8888888888888888, \"#fdca26\"], [1.0, \"#f0f921\"]], \"type\": \"contour\"}], \"contourcarpet\": [{\"colorbar\": {\"outlinewidth\": 0, \"ticks\": \"\"}, \"type\": \"contourcarpet\"}], \"heatmap\": [{\"colorbar\": {\"outlinewidth\": 0, \"ticks\": \"\"}, \"colorscale\": [[0.0, \"#0d0887\"], [0.1111111111111111, \"#46039f\"], [0.2222222222222222, \"#7201a8\"], [0.3333333333333333, \"#9c179e\"], [0.4444444444444444, \"#bd3786\"], [0.5555555555555556, \"#d8576b\"], [0.6666666666666666, \"#ed7953\"], [0.7777777777777778, \"#fb9f3a\"], [0.8888888888888888, \"#fdca26\"], [1.0, \"#f0f921\"]], \"type\": \"heatmap\"}], \"heatmapgl\": [{\"colorbar\": {\"outlinewidth\": 0, \"ticks\": \"\"}, \"colorscale\": [[0.0, \"#0d0887\"], [0.1111111111111111, \"#46039f\"], [0.2222222222222222, \"#7201a8\"], [0.3333333333333333, \"#9c179e\"], [0.4444444444444444, \"#bd3786\"], [0.5555555555555556, \"#d8576b\"], [0.6666666666666666, \"#ed7953\"], [0.7777777777777778, \"#fb9f3a\"], [0.8888888888888888, \"#fdca26\"], [1.0, \"#f0f921\"]], \"type\": \"heatmapgl\"}], \"histogram\": [{\"marker\": {\"colorbar\": {\"outlinewidth\": 0, \"ticks\": \"\"}}, \"type\": \"histogram\"}], \"histogram2d\": [{\"colorbar\": {\"outlinewidth\": 0, \"ticks\": \"\"}, \"colorscale\": [[0.0, \"#0d0887\"], [0.1111111111111111, \"#46039f\"], [0.2222222222222222, \"#7201a8\"], [0.3333333333333333, \"#9c179e\"], [0.4444444444444444, \"#bd3786\"], [0.5555555555555556, \"#d8576b\"], [0.6666666666666666, \"#ed7953\"], [0.7777777777777778, \"#fb9f3a\"], [0.8888888888888888, \"#fdca26\"], [1.0, \"#f0f921\"]], \"type\": \"histogram2d\"}], \"histogram2dcontour\": [{\"colorbar\": {\"outlinewidth\": 0, \"ticks\": \"\"}, \"colorscale\": [[0.0, \"#0d0887\"], [0.1111111111111111, \"#46039f\"], [0.2222222222222222, \"#7201a8\"], [0.3333333333333333, \"#9c179e\"], [0.4444444444444444, \"#bd3786\"], [0.5555555555555556, \"#d8576b\"], [0.6666666666666666, \"#ed7953\"], [0.7777777777777778, \"#fb9f3a\"], [0.8888888888888888, \"#fdca26\"], [1.0, \"#f0f921\"]], \"type\": \"histogram2dcontour\"}], \"mesh3d\": [{\"colorbar\": {\"outlinewidth\": 0, \"ticks\": \"\"}, \"type\": \"mesh3d\"}], \"parcoords\": [{\"line\": {\"colorbar\": {\"outlinewidth\": 0, \"ticks\": \"\"}}, \"type\": \"parcoords\"}], \"pie\": [{\"automargin\": true, \"type\": \"pie\"}], \"scatter\": [{\"marker\": {\"colorbar\": {\"outlinewidth\": 0, \"ticks\": \"\"}}, \"type\": \"scatter\"}], \"scatter3d\": [{\"line\": {\"colorbar\": {\"outlinewidth\": 0, \"ticks\": \"\"}}, \"marker\": {\"colorbar\": {\"outlinewidth\": 0, \"ticks\": \"\"}}, \"type\": \"scatter3d\"}], \"scattercarpet\": [{\"marker\": {\"colorbar\": {\"outlinewidth\": 0, \"ticks\": \"\"}}, \"type\": \"scattercarpet\"}], \"scattergeo\": [{\"marker\": {\"colorbar\": {\"outlinewidth\": 0, \"ticks\": \"\"}}, \"type\": \"scattergeo\"}], \"scattergl\": [{\"marker\": {\"colorbar\": {\"outlinewidth\": 0, \"ticks\": \"\"}}, \"type\": \"scattergl\"}], \"scattermapbox\": [{\"marker\": {\"colorbar\": {\"outlinewidth\": 0, \"ticks\": \"\"}}, \"type\": \"scattermapbox\"}], \"scatterpolar\": [{\"marker\": {\"colorbar\": {\"outlinewidth\": 0, \"ticks\": \"\"}}, \"type\": \"scatterpolar\"}], \"scatterpolargl\": [{\"marker\": {\"colorbar\": {\"outlinewidth\": 0, \"ticks\": \"\"}}, \"type\": \"scatterpolargl\"}], \"scatterternary\": [{\"marker\": {\"colorbar\": {\"outlinewidth\": 0, \"ticks\": \"\"}}, \"type\": \"scatterternary\"}], \"surface\": [{\"colorbar\": {\"outlinewidth\": 0, \"ticks\": \"\"}, \"colorscale\": [[0.0, \"#0d0887\"], [0.1111111111111111, \"#46039f\"], [0.2222222222222222, \"#7201a8\"], [0.3333333333333333, \"#9c179e\"], [0.4444444444444444, \"#bd3786\"], [0.5555555555555556, \"#d8576b\"], [0.6666666666666666, \"#ed7953\"], [0.7777777777777778, \"#fb9f3a\"], [0.8888888888888888, \"#fdca26\"], [1.0, \"#f0f921\"]], \"type\": \"surface\"}], \"table\": [{\"cells\": {\"fill\": {\"color\": \"#EBF0F8\"}, \"line\": {\"color\": \"white\"}}, \"header\": {\"fill\": {\"color\": \"#C8D4E3\"}, \"line\": {\"color\": \"white\"}}, \"type\": \"table\"}]}, \"layout\": {\"annotationdefaults\": {\"arrowcolor\": \"#2a3f5f\", \"arrowhead\": 0, \"arrowwidth\": 1}, \"coloraxis\": {\"colorbar\": {\"outlinewidth\": 0, \"ticks\": \"\"}}, \"colorscale\": {\"diverging\": [[0, \"#8e0152\"], [0.1, \"#c51b7d\"], [0.2, \"#de77ae\"], [0.3, \"#f1b6da\"], [0.4, \"#fde0ef\"], [0.5, \"#f7f7f7\"], [0.6, \"#e6f5d0\"], [0.7, \"#b8e186\"], [0.8, \"#7fbc41\"], [0.9, \"#4d9221\"], [1, \"#276419\"]], \"sequential\": [[0.0, \"#0d0887\"], [0.1111111111111111, \"#46039f\"], [0.2222222222222222, \"#7201a8\"], [0.3333333333333333, \"#9c179e\"], [0.4444444444444444, \"#bd3786\"], [0.5555555555555556, \"#d8576b\"], [0.6666666666666666, \"#ed7953\"], [0.7777777777777778, \"#fb9f3a\"], [0.8888888888888888, \"#fdca26\"], [1.0, \"#f0f921\"]], \"sequentialminus\": [[0.0, \"#0d0887\"], [0.1111111111111111, \"#46039f\"], [0.2222222222222222, \"#7201a8\"], [0.3333333333333333, \"#9c179e\"], [0.4444444444444444, \"#bd3786\"], [0.5555555555555556, \"#d8576b\"], [0.6666666666666666, \"#ed7953\"], [0.7777777777777778, \"#fb9f3a\"], [0.8888888888888888, \"#fdca26\"], [1.0, \"#f0f921\"]]}, \"colorway\": [\"#636efa\", \"#EF553B\", \"#00cc96\", \"#ab63fa\", \"#FFA15A\", \"#19d3f3\", \"#FF6692\", \"#B6E880\", \"#FF97FF\", \"#FECB52\"], \"font\": {\"color\": \"#2a3f5f\"}, \"geo\": {\"bgcolor\": \"white\", \"lakecolor\": \"white\", \"landcolor\": \"#E5ECF6\", \"showlakes\": true, \"showland\": true, \"subunitcolor\": \"white\"}, \"hoverlabel\": {\"align\": \"left\"}, \"hovermode\": \"closest\", \"mapbox\": {\"style\": \"light\"}, \"paper_bgcolor\": \"white\", \"plot_bgcolor\": \"#E5ECF6\", \"polar\": {\"angularaxis\": {\"gridcolor\": \"white\", \"linecolor\": \"white\", \"ticks\": \"\"}, \"bgcolor\": \"#E5ECF6\", \"radialaxis\": {\"gridcolor\": \"white\", \"linecolor\": \"white\", \"ticks\": \"\"}}, \"scene\": {\"xaxis\": {\"backgroundcolor\": \"#E5ECF6\", \"gridcolor\": \"white\", \"gridwidth\": 2, \"linecolor\": \"white\", \"showbackground\": true, \"ticks\": \"\", \"zerolinecolor\": \"white\"}, \"yaxis\": {\"backgroundcolor\": \"#E5ECF6\", \"gridcolor\": \"white\", \"gridwidth\": 2, \"linecolor\": \"white\", \"showbackground\": true, \"ticks\": \"\", \"zerolinecolor\": \"white\"}, \"zaxis\": {\"backgroundcolor\": \"#E5ECF6\", \"gridcolor\": \"white\", \"gridwidth\": 2, \"linecolor\": \"white\", \"showbackground\": true, \"ticks\": \"\", \"zerolinecolor\": \"white\"}}, \"shapedefaults\": {\"line\": {\"color\": \"#2a3f5f\"}}, \"ternary\": {\"aaxis\": {\"gridcolor\": \"white\", \"linecolor\": \"white\", \"ticks\": \"\"}, \"baxis\": {\"gridcolor\": \"white\", \"linecolor\": \"white\", \"ticks\": \"\"}, \"bgcolor\": \"#E5ECF6\", \"caxis\": {\"gridcolor\": \"white\", \"linecolor\": \"white\", \"ticks\": \"\"}}, \"title\": {\"x\": 0.05}, \"xaxis\": {\"automargin\": true, \"gridcolor\": \"white\", \"linecolor\": \"white\", \"ticks\": \"\", \"title\": {\"standoff\": 15}, \"zerolinecolor\": \"white\", \"zerolinewidth\": 2}, \"yaxis\": {\"automargin\": true, \"gridcolor\": \"white\", \"linecolor\": \"white\", \"ticks\": \"\", \"title\": {\"standoff\": 15}, \"zerolinecolor\": \"white\", \"zerolinewidth\": 2}}}, \"title\": {\"font\": {\"color\": \"#221f1f\", \"family\": \"Calibri Black\", \"size\": 22}, \"text\": \"Affect of complains on customer churn\", \"x\": 0.5}, \"width\": 600},\n",
              "                        {\"responsive\": true}\n",
              "                    ).then(function(){\n",
              "                            \n",
              "var gd = document.getElementById('1a5e95e2-29fb-4a75-9fd2-77d2a0fc2cc2');\n",
              "var x = new MutationObserver(function (mutations, observer) {{\n",
              "        var display = window.getComputedStyle(gd).display;\n",
              "        if (!display || display === 'none') {{\n",
              "            console.log([gd, 'removed!']);\n",
              "            Plotly.purge(gd);\n",
              "            observer.disconnect();\n",
              "        }}\n",
              "}});\n",
              "\n",
              "// Listen for the removal of the full notebook cells\n",
              "var notebookContainer = gd.closest('#notebook-container');\n",
              "if (notebookContainer) {{\n",
              "    x.observe(notebookContainer, {childList: true});\n",
              "}}\n",
              "\n",
              "// Listen for the clearing of the current output cell\n",
              "var outputEl = gd.closest('.output');\n",
              "if (outputEl) {{\n",
              "    x.observe(outputEl, {childList: true});\n",
              "}}\n",
              "\n",
              "                        })\n",
              "                };\n",
              "                \n",
              "            </script>\n",
              "        </div>\n",
              "</body>\n",
              "</html>"
            ]
          },
          "metadata": {},
          "output_type": "display_data"
        }
      ],
      "source": [
        "fig = px.sunburst(complain, path = ['Complains', 'Churn'], values = 'count', \\\n",
        "                  color = 'Complains', title = 'Affect of complains on customer churn',\n",
        "                 color_discrete_map = {'Not Complained': '#336B87', 'Complained': '#2A3132'},\n",
        "                 width = 600, height = 600)\n",
        "\n",
        "fig.update_layout(plot_bgcolor = 'white', title_font_family = 'Calibri Black', \\\n",
        "                  title_font_color = '#221f1f', title_font_size = 22, title_x = 0.5)\n",
        "\n",
        "fig.update_traces(textinfo = 'label + percent parent')\n",
        "                  \n",
        "fig.show(renderer=\"colab\")\n"
      ]
    },
    {
      "cell_type": "code",
      "execution_count": null,
      "metadata": {
        "colab": {
          "base_uri": "https://localhost:8080/",
          "height": 175
        },
        "id": "br149XGd3TJW",
        "outputId": "0b451e48-708d-4967-f762-cd1f55df4984"
      },
      "outputs": [
        {
          "data": {
            "text/html": [
              "<div>\n",
              "<style scoped>\n",
              "    .dataframe tbody tr th:only-of-type {\n",
              "        vertical-align: middle;\n",
              "    }\n",
              "\n",
              "    .dataframe tbody tr th {\n",
              "        vertical-align: top;\n",
              "    }\n",
              "\n",
              "    .dataframe thead th {\n",
              "        text-align: right;\n",
              "    }\n",
              "</style>\n",
              "<table border=\"1\" class=\"dataframe\">\n",
              "  <thead>\n",
              "    <tr style=\"text-align: right;\">\n",
              "      <th></th>\n",
              "      <th>Status</th>\n",
              "      <th>Churn</th>\n",
              "      <th>count</th>\n",
              "    </tr>\n",
              "  </thead>\n",
              "  <tbody>\n",
              "    <tr>\n",
              "      <th>0</th>\n",
              "      <td>Active</td>\n",
              "      <td>Churn</td>\n",
              "      <td>125</td>\n",
              "    </tr>\n",
              "    <tr>\n",
              "      <th>1</th>\n",
              "      <td>Active</td>\n",
              "      <td>Non Churn</td>\n",
              "      <td>2243</td>\n",
              "    </tr>\n",
              "    <tr>\n",
              "      <th>2</th>\n",
              "      <td>Non Active</td>\n",
              "      <td>Churn</td>\n",
              "      <td>370</td>\n",
              "    </tr>\n",
              "    <tr>\n",
              "      <th>3</th>\n",
              "      <td>Non Active</td>\n",
              "      <td>Non Churn</td>\n",
              "      <td>412</td>\n",
              "    </tr>\n",
              "  </tbody>\n",
              "</table>\n",
              "</div>"
            ],
            "text/plain": [
              "       Status      Churn  count\n",
              "0      Active      Churn    125\n",
              "1      Active  Non Churn   2243\n",
              "2  Non Active      Churn    370\n",
              "3  Non Active  Non Churn    412"
            ]
          },
          "execution_count": 6,
          "metadata": {},
          "output_type": "execute_result"
        }
      ],
      "source": [
        "status = data.groupby(['Status', 'Churn']).agg({'Churn': 'count'}).rename(columns = {'Churn': 'count'}).reset_index()\n",
        "status.iloc[[0,1], 0] = 'Active'\n",
        "status.iloc[[2,3], 0] = 'Non Active'\n",
        "status"
      ]
    },
    {
      "cell_type": "code",
      "execution_count": null,
      "metadata": {
        "colab": {
          "base_uri": "https://localhost:8080/",
          "height": 617
        },
        "id": "bjnMKDhq70do",
        "outputId": "bc171553-c308-4f02-c6ba-7f3efaff865d"
      },
      "outputs": [
        {
          "data": {
            "text/html": [
              "<html>\n",
              "<head><meta charset=\"utf-8\" /></head>\n",
              "<body>\n",
              "    <div>\n",
              "            <script src=\"https://cdnjs.cloudflare.com/ajax/libs/mathjax/2.7.5/MathJax.js?config=TeX-AMS-MML_SVG\"></script><script type=\"text/javascript\">if (window.MathJax) {MathJax.Hub.Config({SVG: {font: \"STIX-Web\"}});}</script>\n",
              "                <script type=\"text/javascript\">window.PlotlyConfig = {MathJaxConfig: 'local'};</script>\n",
              "        <script src=\"https://cdn.plot.ly/plotly-latest.min.js\"></script>    \n",
              "            <div id=\"894fab2d-3985-4644-9442-323c177595b6\" class=\"plotly-graph-div\" style=\"height:600px; width:600px;\"></div>\n",
              "            <script type=\"text/javascript\">\n",
              "                \n",
              "                    window.PLOTLYENV=window.PLOTLYENV || {};\n",
              "                    \n",
              "                if (document.getElementById(\"894fab2d-3985-4644-9442-323c177595b6\")) {\n",
              "                    Plotly.newPlot(\n",
              "                        '894fab2d-3985-4644-9442-323c177595b6',\n",
              "                        [{\"branchvalues\": \"total\", \"customdata\": [[\"Active\"], [\"Non Active\"], [\"Active\"], [\"Non Active\"], [\"Active\"], [\"Non Active\"]], \"domain\": {\"x\": [0.0, 1.0], \"y\": [0.0, 1.0]}, \"hovertemplate\": \"labels=%{label}<br>count=%{value}<br>parent=%{parent}<br>id=%{id}<br>Status=%{customdata[0]}<extra></extra>\", \"ids\": [\"Active/Churn\", \"Non Active/Churn\", \"Active/Non Churn\", \"Non Active/Non Churn\", \"Active\", \"Non Active\"], \"labels\": [\"Churn\", \"Churn\", \"Non Churn\", \"Non Churn\", \"Active\", \"Non Active\"], \"marker\": {\"colors\": [\"#2A3132\", \"#00cc96\", \"#2A3132\", \"#00cc96\", \"#2A3132\", \"#00cc96\"]}, \"name\": \"\", \"parents\": [\"Active\", \"Non Active\", \"Active\", \"Non Active\", \"\", \"\"], \"textinfo\": \"label+percent parent\", \"type\": \"sunburst\", \"values\": [125, 370, 2243, 412, 2368, 782]}],\n",
              "                        {\"height\": 600, \"legend\": {\"tracegroupgap\": 0}, \"plot_bgcolor\": \"white\", \"template\": {\"data\": {\"bar\": [{\"error_x\": {\"color\": \"#2a3f5f\"}, \"error_y\": {\"color\": \"#2a3f5f\"}, \"marker\": {\"line\": {\"color\": \"#E5ECF6\", \"width\": 0.5}}, \"type\": \"bar\"}], \"barpolar\": [{\"marker\": {\"line\": {\"color\": \"#E5ECF6\", \"width\": 0.5}}, \"type\": \"barpolar\"}], \"carpet\": [{\"aaxis\": {\"endlinecolor\": \"#2a3f5f\", \"gridcolor\": \"white\", \"linecolor\": \"white\", \"minorgridcolor\": \"white\", \"startlinecolor\": \"#2a3f5f\"}, \"baxis\": {\"endlinecolor\": \"#2a3f5f\", \"gridcolor\": \"white\", \"linecolor\": \"white\", \"minorgridcolor\": \"white\", \"startlinecolor\": \"#2a3f5f\"}, \"type\": \"carpet\"}], \"choropleth\": [{\"colorbar\": {\"outlinewidth\": 0, \"ticks\": \"\"}, \"type\": \"choropleth\"}], \"contour\": [{\"colorbar\": {\"outlinewidth\": 0, \"ticks\": \"\"}, \"colorscale\": [[0.0, \"#0d0887\"], [0.1111111111111111, \"#46039f\"], [0.2222222222222222, \"#7201a8\"], [0.3333333333333333, \"#9c179e\"], [0.4444444444444444, \"#bd3786\"], [0.5555555555555556, \"#d8576b\"], [0.6666666666666666, \"#ed7953\"], [0.7777777777777778, \"#fb9f3a\"], [0.8888888888888888, \"#fdca26\"], [1.0, \"#f0f921\"]], \"type\": \"contour\"}], \"contourcarpet\": [{\"colorbar\": {\"outlinewidth\": 0, \"ticks\": \"\"}, \"type\": \"contourcarpet\"}], \"heatmap\": [{\"colorbar\": {\"outlinewidth\": 0, \"ticks\": \"\"}, \"colorscale\": [[0.0, \"#0d0887\"], [0.1111111111111111, \"#46039f\"], [0.2222222222222222, \"#7201a8\"], [0.3333333333333333, \"#9c179e\"], [0.4444444444444444, \"#bd3786\"], [0.5555555555555556, \"#d8576b\"], [0.6666666666666666, \"#ed7953\"], [0.7777777777777778, \"#fb9f3a\"], [0.8888888888888888, \"#fdca26\"], [1.0, \"#f0f921\"]], \"type\": \"heatmap\"}], \"heatmapgl\": [{\"colorbar\": {\"outlinewidth\": 0, \"ticks\": \"\"}, \"colorscale\": [[0.0, \"#0d0887\"], [0.1111111111111111, \"#46039f\"], [0.2222222222222222, \"#7201a8\"], [0.3333333333333333, \"#9c179e\"], [0.4444444444444444, \"#bd3786\"], [0.5555555555555556, \"#d8576b\"], [0.6666666666666666, \"#ed7953\"], [0.7777777777777778, \"#fb9f3a\"], [0.8888888888888888, \"#fdca26\"], [1.0, \"#f0f921\"]], \"type\": \"heatmapgl\"}], \"histogram\": [{\"marker\": {\"colorbar\": {\"outlinewidth\": 0, \"ticks\": \"\"}}, \"type\": \"histogram\"}], \"histogram2d\": [{\"colorbar\": {\"outlinewidth\": 0, \"ticks\": \"\"}, \"colorscale\": [[0.0, \"#0d0887\"], [0.1111111111111111, \"#46039f\"], [0.2222222222222222, \"#7201a8\"], [0.3333333333333333, \"#9c179e\"], [0.4444444444444444, \"#bd3786\"], [0.5555555555555556, \"#d8576b\"], [0.6666666666666666, \"#ed7953\"], [0.7777777777777778, \"#fb9f3a\"], [0.8888888888888888, \"#fdca26\"], [1.0, \"#f0f921\"]], \"type\": \"histogram2d\"}], \"histogram2dcontour\": [{\"colorbar\": {\"outlinewidth\": 0, \"ticks\": \"\"}, \"colorscale\": [[0.0, \"#0d0887\"], [0.1111111111111111, \"#46039f\"], [0.2222222222222222, \"#7201a8\"], [0.3333333333333333, \"#9c179e\"], [0.4444444444444444, \"#bd3786\"], [0.5555555555555556, \"#d8576b\"], [0.6666666666666666, \"#ed7953\"], [0.7777777777777778, \"#fb9f3a\"], [0.8888888888888888, \"#fdca26\"], [1.0, \"#f0f921\"]], \"type\": \"histogram2dcontour\"}], \"mesh3d\": [{\"colorbar\": {\"outlinewidth\": 0, \"ticks\": \"\"}, \"type\": \"mesh3d\"}], \"parcoords\": [{\"line\": {\"colorbar\": {\"outlinewidth\": 0, \"ticks\": \"\"}}, \"type\": \"parcoords\"}], \"pie\": [{\"automargin\": true, \"type\": \"pie\"}], \"scatter\": [{\"marker\": {\"colorbar\": {\"outlinewidth\": 0, \"ticks\": \"\"}}, \"type\": \"scatter\"}], \"scatter3d\": [{\"line\": {\"colorbar\": {\"outlinewidth\": 0, \"ticks\": \"\"}}, \"marker\": {\"colorbar\": {\"outlinewidth\": 0, \"ticks\": \"\"}}, \"type\": \"scatter3d\"}], \"scattercarpet\": [{\"marker\": {\"colorbar\": {\"outlinewidth\": 0, \"ticks\": \"\"}}, \"type\": \"scattercarpet\"}], \"scattergeo\": [{\"marker\": {\"colorbar\": {\"outlinewidth\": 0, \"ticks\": \"\"}}, \"type\": \"scattergeo\"}], \"scattergl\": [{\"marker\": {\"colorbar\": {\"outlinewidth\": 0, \"ticks\": \"\"}}, \"type\": \"scattergl\"}], \"scattermapbox\": [{\"marker\": {\"colorbar\": {\"outlinewidth\": 0, \"ticks\": \"\"}}, \"type\": \"scattermapbox\"}], \"scatterpolar\": [{\"marker\": {\"colorbar\": {\"outlinewidth\": 0, \"ticks\": \"\"}}, \"type\": \"scatterpolar\"}], \"scatterpolargl\": [{\"marker\": {\"colorbar\": {\"outlinewidth\": 0, \"ticks\": \"\"}}, \"type\": \"scatterpolargl\"}], \"scatterternary\": [{\"marker\": {\"colorbar\": {\"outlinewidth\": 0, \"ticks\": \"\"}}, \"type\": \"scatterternary\"}], \"surface\": [{\"colorbar\": {\"outlinewidth\": 0, \"ticks\": \"\"}, \"colorscale\": [[0.0, \"#0d0887\"], [0.1111111111111111, \"#46039f\"], [0.2222222222222222, \"#7201a8\"], [0.3333333333333333, \"#9c179e\"], [0.4444444444444444, \"#bd3786\"], [0.5555555555555556, \"#d8576b\"], [0.6666666666666666, \"#ed7953\"], [0.7777777777777778, \"#fb9f3a\"], [0.8888888888888888, \"#fdca26\"], [1.0, \"#f0f921\"]], \"type\": \"surface\"}], \"table\": [{\"cells\": {\"fill\": {\"color\": \"#EBF0F8\"}, \"line\": {\"color\": \"white\"}}, \"header\": {\"fill\": {\"color\": \"#C8D4E3\"}, \"line\": {\"color\": \"white\"}}, \"type\": \"table\"}]}, \"layout\": {\"annotationdefaults\": {\"arrowcolor\": \"#2a3f5f\", \"arrowhead\": 0, \"arrowwidth\": 1}, \"coloraxis\": {\"colorbar\": {\"outlinewidth\": 0, \"ticks\": \"\"}}, \"colorscale\": {\"diverging\": [[0, \"#8e0152\"], [0.1, \"#c51b7d\"], [0.2, \"#de77ae\"], [0.3, \"#f1b6da\"], [0.4, \"#fde0ef\"], [0.5, \"#f7f7f7\"], [0.6, \"#e6f5d0\"], [0.7, \"#b8e186\"], [0.8, \"#7fbc41\"], [0.9, \"#4d9221\"], [1, \"#276419\"]], \"sequential\": [[0.0, \"#0d0887\"], [0.1111111111111111, \"#46039f\"], [0.2222222222222222, \"#7201a8\"], [0.3333333333333333, \"#9c179e\"], [0.4444444444444444, \"#bd3786\"], [0.5555555555555556, \"#d8576b\"], [0.6666666666666666, \"#ed7953\"], [0.7777777777777778, \"#fb9f3a\"], [0.8888888888888888, \"#fdca26\"], [1.0, \"#f0f921\"]], \"sequentialminus\": [[0.0, \"#0d0887\"], [0.1111111111111111, \"#46039f\"], [0.2222222222222222, \"#7201a8\"], [0.3333333333333333, \"#9c179e\"], [0.4444444444444444, \"#bd3786\"], [0.5555555555555556, \"#d8576b\"], [0.6666666666666666, \"#ed7953\"], [0.7777777777777778, \"#fb9f3a\"], [0.8888888888888888, \"#fdca26\"], [1.0, \"#f0f921\"]]}, \"colorway\": [\"#636efa\", \"#EF553B\", \"#00cc96\", \"#ab63fa\", \"#FFA15A\", \"#19d3f3\", \"#FF6692\", \"#B6E880\", \"#FF97FF\", \"#FECB52\"], \"font\": {\"color\": \"#2a3f5f\"}, \"geo\": {\"bgcolor\": \"white\", \"lakecolor\": \"white\", \"landcolor\": \"#E5ECF6\", \"showlakes\": true, \"showland\": true, \"subunitcolor\": \"white\"}, \"hoverlabel\": {\"align\": \"left\"}, \"hovermode\": \"closest\", \"mapbox\": {\"style\": \"light\"}, \"paper_bgcolor\": \"white\", \"plot_bgcolor\": \"#E5ECF6\", \"polar\": {\"angularaxis\": {\"gridcolor\": \"white\", \"linecolor\": \"white\", \"ticks\": \"\"}, \"bgcolor\": \"#E5ECF6\", \"radialaxis\": {\"gridcolor\": \"white\", \"linecolor\": \"white\", \"ticks\": \"\"}}, \"scene\": {\"xaxis\": {\"backgroundcolor\": \"#E5ECF6\", \"gridcolor\": \"white\", \"gridwidth\": 2, \"linecolor\": \"white\", \"showbackground\": true, \"ticks\": \"\", \"zerolinecolor\": \"white\"}, \"yaxis\": {\"backgroundcolor\": \"#E5ECF6\", \"gridcolor\": \"white\", \"gridwidth\": 2, \"linecolor\": \"white\", \"showbackground\": true, \"ticks\": \"\", \"zerolinecolor\": \"white\"}, \"zaxis\": {\"backgroundcolor\": \"#E5ECF6\", \"gridcolor\": \"white\", \"gridwidth\": 2, \"linecolor\": \"white\", \"showbackground\": true, \"ticks\": \"\", \"zerolinecolor\": \"white\"}}, \"shapedefaults\": {\"line\": {\"color\": \"#2a3f5f\"}}, \"ternary\": {\"aaxis\": {\"gridcolor\": \"white\", \"linecolor\": \"white\", \"ticks\": \"\"}, \"baxis\": {\"gridcolor\": \"white\", \"linecolor\": \"white\", \"ticks\": \"\"}, \"bgcolor\": \"#E5ECF6\", \"caxis\": {\"gridcolor\": \"white\", \"linecolor\": \"white\", \"ticks\": \"\"}}, \"title\": {\"x\": 0.05}, \"xaxis\": {\"automargin\": true, \"gridcolor\": \"white\", \"linecolor\": \"white\", \"ticks\": \"\", \"title\": {\"standoff\": 15}, \"zerolinecolor\": \"white\", \"zerolinewidth\": 2}, \"yaxis\": {\"automargin\": true, \"gridcolor\": \"white\", \"linecolor\": \"white\", \"ticks\": \"\", \"title\": {\"standoff\": 15}, \"zerolinecolor\": \"white\", \"zerolinewidth\": 2}}}, \"title\": {\"font\": {\"color\": \"#221f1f\", \"family\": \"Calibri Black\", \"size\": 22}, \"text\": \"Affect of status on customer churn\", \"x\": 0.5}, \"width\": 600},\n",
              "                        {\"responsive\": true}\n",
              "                    ).then(function(){\n",
              "                            \n",
              "var gd = document.getElementById('894fab2d-3985-4644-9442-323c177595b6');\n",
              "var x = new MutationObserver(function (mutations, observer) {{\n",
              "        var display = window.getComputedStyle(gd).display;\n",
              "        if (!display || display === 'none') {{\n",
              "            console.log([gd, 'removed!']);\n",
              "            Plotly.purge(gd);\n",
              "            observer.disconnect();\n",
              "        }}\n",
              "}});\n",
              "\n",
              "// Listen for the removal of the full notebook cells\n",
              "var notebookContainer = gd.closest('#notebook-container');\n",
              "if (notebookContainer) {{\n",
              "    x.observe(notebookContainer, {childList: true});\n",
              "}}\n",
              "\n",
              "// Listen for the clearing of the current output cell\n",
              "var outputEl = gd.closest('.output');\n",
              "if (outputEl) {{\n",
              "    x.observe(outputEl, {childList: true});\n",
              "}}\n",
              "\n",
              "                        })\n",
              "                };\n",
              "                \n",
              "            </script>\n",
              "        </div>\n",
              "</body>\n",
              "</html>"
            ]
          },
          "metadata": {},
          "output_type": "display_data"
        }
      ],
      "source": [
        "fig = px.sunburst(status, path = ['Status', 'Churn'], values = 'count', color = 'Status', title = 'Affect of status on customer churn',\n",
        "                 color_discrete_map = {'Not Active': '#336B87', 'Active': '#2A3132'},\n",
        "                 width = 600, height = 600)\n",
        "\n",
        "fig.update_layout(plot_bgcolor = 'white', title_font_family = 'Calibri Black', title_font_color = '#221f1f', title_font_size = 22, title_x = 0.5)\n",
        "\n",
        "fig.update_traces(textinfo = 'label + percent parent')\n",
        "                  \n",
        "fig.show(renderer=\"colab\")"
      ]
    },
    {
      "cell_type": "code",
      "execution_count": null,
      "metadata": {
        "colab": {
          "base_uri": "https://localhost:8080/",
          "height": 174
        },
        "id": "eDvq2bD4MDqN",
        "outputId": "467a47fd-8728-4703-bdaa-d1f400babb93"
      },
      "outputs": [
        {
          "data": {
            "text/html": [
              "<div>\n",
              "<style scoped>\n",
              "    .dataframe tbody tr th:only-of-type {\n",
              "        vertical-align: middle;\n",
              "    }\n",
              "\n",
              "    .dataframe tbody tr th {\n",
              "        vertical-align: top;\n",
              "    }\n",
              "\n",
              "    .dataframe thead th {\n",
              "        text-align: right;\n",
              "    }\n",
              "</style>\n",
              "<table border=\"1\" class=\"dataframe\">\n",
              "  <thead>\n",
              "    <tr style=\"text-align: right;\">\n",
              "      <th></th>\n",
              "      <th>Tariff Plan</th>\n",
              "      <th>Churn</th>\n",
              "      <th>count</th>\n",
              "    </tr>\n",
              "  </thead>\n",
              "  <tbody>\n",
              "    <tr>\n",
              "      <th>0</th>\n",
              "      <td>Active</td>\n",
              "      <td>Churn</td>\n",
              "      <td>489</td>\n",
              "    </tr>\n",
              "    <tr>\n",
              "      <th>1</th>\n",
              "      <td>Active</td>\n",
              "      <td>Non Churn</td>\n",
              "      <td>2416</td>\n",
              "    </tr>\n",
              "    <tr>\n",
              "      <th>2</th>\n",
              "      <td>Non Active</td>\n",
              "      <td>Churn</td>\n",
              "      <td>6</td>\n",
              "    </tr>\n",
              "    <tr>\n",
              "      <th>3</th>\n",
              "      <td>Non Active</td>\n",
              "      <td>Non Churn</td>\n",
              "      <td>239</td>\n",
              "    </tr>\n",
              "  </tbody>\n",
              "</table>\n",
              "</div>"
            ],
            "text/plain": [
              "  Tariff Plan      Churn  count\n",
              "0      Active      Churn    489\n",
              "1      Active  Non Churn   2416\n",
              "2  Non Active      Churn      6\n",
              "3  Non Active  Non Churn    239"
            ]
          },
          "execution_count": 91,
          "metadata": {},
          "output_type": "execute_result"
        }
      ],
      "source": [
        "tariff = data.groupby(['Tariff Plan', 'Churn']).agg({'Churn': 'count'}).rename(columns = {'Churn': 'count'}).reset_index()\n",
        "tariff.iloc[[0,1], 0] = 'Active'\n",
        "tariff.iloc[[2,3], 0] = 'Non Active'\n",
        "tariff"
      ]
    },
    {
      "cell_type": "code",
      "execution_count": null,
      "metadata": {
        "colab": {
          "base_uri": "https://localhost:8080/",
          "height": 617
        },
        "id": "j6iclGo_MVy7",
        "outputId": "9dba8205-0c90-42dd-d1e9-77b508a80d04"
      },
      "outputs": [
        {
          "data": {
            "text/html": [
              "<html>\n",
              "<head><meta charset=\"utf-8\" /></head>\n",
              "<body>\n",
              "    <div>            <script src=\"https://cdnjs.cloudflare.com/ajax/libs/mathjax/2.7.5/MathJax.js?config=TeX-AMS-MML_SVG\"></script><script type=\"text/javascript\">if (window.MathJax) {MathJax.Hub.Config({SVG: {font: \"STIX-Web\"}});}</script>                <script type=\"text/javascript\">window.PlotlyConfig = {MathJaxConfig: 'local'};</script>\n",
              "        <script src=\"https://cdn.plot.ly/plotly-2.6.3.min.js\"></script>                <div id=\"3521149a-1cec-4656-9090-8daad232c3a3\" class=\"plotly-graph-div\" style=\"height:600px; width:600px;\"></div>            <script type=\"text/javascript\">                                    window.PLOTLYENV=window.PLOTLYENV || {};                                    if (document.getElementById(\"3521149a-1cec-4656-9090-8daad232c3a3\")) {                    Plotly.newPlot(                        \"3521149a-1cec-4656-9090-8daad232c3a3\",                        [{\"branchvalues\":\"total\",\"customdata\":[[\"Active\"],[\"Non Active\"],[\"Active\"],[\"Non Active\"],[\"Active\"],[\"Non Active\"]],\"domain\":{\"x\":[0.0,1.0],\"y\":[0.0,1.0]},\"hovertemplate\":\"labels=%{label}<br>count=%{value}<br>parent=%{parent}<br>id=%{id}<br>Tariff Plan=%{customdata[0]}<extra></extra>\",\"ids\":[\"Active/Churn\",\"Non Active/Churn\",\"Active/Non Churn\",\"Non Active/Non Churn\",\"Active\",\"Non Active\"],\"labels\":[\"Churn\",\"Churn\",\"Non Churn\",\"Non Churn\",\"Active\",\"Non Active\"],\"marker\":{\"colors\":[\"#2A3132\",\"#00cc96\",\"#2A3132\",\"#00cc96\",\"#2A3132\",\"#00cc96\"]},\"name\":\"\",\"parents\":[\"Active\",\"Non Active\",\"Active\",\"Non Active\",\"\",\"\"],\"values\":[489,6,2416,239,2905,245],\"type\":\"sunburst\",\"textinfo\":\"label+percent parent\"}],                        {\"template\":{\"data\":{\"bar\":[{\"error_x\":{\"color\":\"#2a3f5f\"},\"error_y\":{\"color\":\"#2a3f5f\"},\"marker\":{\"line\":{\"color\":\"#E5ECF6\",\"width\":0.5},\"pattern\":{\"fillmode\":\"overlay\",\"size\":10,\"solidity\":0.2}},\"type\":\"bar\"}],\"barpolar\":[{\"marker\":{\"line\":{\"color\":\"#E5ECF6\",\"width\":0.5},\"pattern\":{\"fillmode\":\"overlay\",\"size\":10,\"solidity\":0.2}},\"type\":\"barpolar\"}],\"carpet\":[{\"aaxis\":{\"endlinecolor\":\"#2a3f5f\",\"gridcolor\":\"white\",\"linecolor\":\"white\",\"minorgridcolor\":\"white\",\"startlinecolor\":\"#2a3f5f\"},\"baxis\":{\"endlinecolor\":\"#2a3f5f\",\"gridcolor\":\"white\",\"linecolor\":\"white\",\"minorgridcolor\":\"white\",\"startlinecolor\":\"#2a3f5f\"},\"type\":\"carpet\"}],\"choropleth\":[{\"colorbar\":{\"outlinewidth\":0,\"ticks\":\"\"},\"type\":\"choropleth\"}],\"contour\":[{\"colorbar\":{\"outlinewidth\":0,\"ticks\":\"\"},\"colorscale\":[[0.0,\"#0d0887\"],[0.1111111111111111,\"#46039f\"],[0.2222222222222222,\"#7201a8\"],[0.3333333333333333,\"#9c179e\"],[0.4444444444444444,\"#bd3786\"],[0.5555555555555556,\"#d8576b\"],[0.6666666666666666,\"#ed7953\"],[0.7777777777777778,\"#fb9f3a\"],[0.8888888888888888,\"#fdca26\"],[1.0,\"#f0f921\"]],\"type\":\"contour\"}],\"contourcarpet\":[{\"colorbar\":{\"outlinewidth\":0,\"ticks\":\"\"},\"type\":\"contourcarpet\"}],\"heatmap\":[{\"colorbar\":{\"outlinewidth\":0,\"ticks\":\"\"},\"colorscale\":[[0.0,\"#0d0887\"],[0.1111111111111111,\"#46039f\"],[0.2222222222222222,\"#7201a8\"],[0.3333333333333333,\"#9c179e\"],[0.4444444444444444,\"#bd3786\"],[0.5555555555555556,\"#d8576b\"],[0.6666666666666666,\"#ed7953\"],[0.7777777777777778,\"#fb9f3a\"],[0.8888888888888888,\"#fdca26\"],[1.0,\"#f0f921\"]],\"type\":\"heatmap\"}],\"heatmapgl\":[{\"colorbar\":{\"outlinewidth\":0,\"ticks\":\"\"},\"colorscale\":[[0.0,\"#0d0887\"],[0.1111111111111111,\"#46039f\"],[0.2222222222222222,\"#7201a8\"],[0.3333333333333333,\"#9c179e\"],[0.4444444444444444,\"#bd3786\"],[0.5555555555555556,\"#d8576b\"],[0.6666666666666666,\"#ed7953\"],[0.7777777777777778,\"#fb9f3a\"],[0.8888888888888888,\"#fdca26\"],[1.0,\"#f0f921\"]],\"type\":\"heatmapgl\"}],\"histogram\":[{\"marker\":{\"pattern\":{\"fillmode\":\"overlay\",\"size\":10,\"solidity\":0.2}},\"type\":\"histogram\"}],\"histogram2d\":[{\"colorbar\":{\"outlinewidth\":0,\"ticks\":\"\"},\"colorscale\":[[0.0,\"#0d0887\"],[0.1111111111111111,\"#46039f\"],[0.2222222222222222,\"#7201a8\"],[0.3333333333333333,\"#9c179e\"],[0.4444444444444444,\"#bd3786\"],[0.5555555555555556,\"#d8576b\"],[0.6666666666666666,\"#ed7953\"],[0.7777777777777778,\"#fb9f3a\"],[0.8888888888888888,\"#fdca26\"],[1.0,\"#f0f921\"]],\"type\":\"histogram2d\"}],\"histogram2dcontour\":[{\"colorbar\":{\"outlinewidth\":0,\"ticks\":\"\"},\"colorscale\":[[0.0,\"#0d0887\"],[0.1111111111111111,\"#46039f\"],[0.2222222222222222,\"#7201a8\"],[0.3333333333333333,\"#9c179e\"],[0.4444444444444444,\"#bd3786\"],[0.5555555555555556,\"#d8576b\"],[0.6666666666666666,\"#ed7953\"],[0.7777777777777778,\"#fb9f3a\"],[0.8888888888888888,\"#fdca26\"],[1.0,\"#f0f921\"]],\"type\":\"histogram2dcontour\"}],\"mesh3d\":[{\"colorbar\":{\"outlinewidth\":0,\"ticks\":\"\"},\"type\":\"mesh3d\"}],\"parcoords\":[{\"line\":{\"colorbar\":{\"outlinewidth\":0,\"ticks\":\"\"}},\"type\":\"parcoords\"}],\"pie\":[{\"automargin\":true,\"type\":\"pie\"}],\"scatter\":[{\"marker\":{\"colorbar\":{\"outlinewidth\":0,\"ticks\":\"\"}},\"type\":\"scatter\"}],\"scatter3d\":[{\"line\":{\"colorbar\":{\"outlinewidth\":0,\"ticks\":\"\"}},\"marker\":{\"colorbar\":{\"outlinewidth\":0,\"ticks\":\"\"}},\"type\":\"scatter3d\"}],\"scattercarpet\":[{\"marker\":{\"colorbar\":{\"outlinewidth\":0,\"ticks\":\"\"}},\"type\":\"scattercarpet\"}],\"scattergeo\":[{\"marker\":{\"colorbar\":{\"outlinewidth\":0,\"ticks\":\"\"}},\"type\":\"scattergeo\"}],\"scattergl\":[{\"marker\":{\"colorbar\":{\"outlinewidth\":0,\"ticks\":\"\"}},\"type\":\"scattergl\"}],\"scattermapbox\":[{\"marker\":{\"colorbar\":{\"outlinewidth\":0,\"ticks\":\"\"}},\"type\":\"scattermapbox\"}],\"scatterpolar\":[{\"marker\":{\"colorbar\":{\"outlinewidth\":0,\"ticks\":\"\"}},\"type\":\"scatterpolar\"}],\"scatterpolargl\":[{\"marker\":{\"colorbar\":{\"outlinewidth\":0,\"ticks\":\"\"}},\"type\":\"scatterpolargl\"}],\"scatterternary\":[{\"marker\":{\"colorbar\":{\"outlinewidth\":0,\"ticks\":\"\"}},\"type\":\"scatterternary\"}],\"surface\":[{\"colorbar\":{\"outlinewidth\":0,\"ticks\":\"\"},\"colorscale\":[[0.0,\"#0d0887\"],[0.1111111111111111,\"#46039f\"],[0.2222222222222222,\"#7201a8\"],[0.3333333333333333,\"#9c179e\"],[0.4444444444444444,\"#bd3786\"],[0.5555555555555556,\"#d8576b\"],[0.6666666666666666,\"#ed7953\"],[0.7777777777777778,\"#fb9f3a\"],[0.8888888888888888,\"#fdca26\"],[1.0,\"#f0f921\"]],\"type\":\"surface\"}],\"table\":[{\"cells\":{\"fill\":{\"color\":\"#EBF0F8\"},\"line\":{\"color\":\"white\"}},\"header\":{\"fill\":{\"color\":\"#C8D4E3\"},\"line\":{\"color\":\"white\"}},\"type\":\"table\"}]},\"layout\":{\"annotationdefaults\":{\"arrowcolor\":\"#2a3f5f\",\"arrowhead\":0,\"arrowwidth\":1},\"autotypenumbers\":\"strict\",\"coloraxis\":{\"colorbar\":{\"outlinewidth\":0,\"ticks\":\"\"}},\"colorscale\":{\"diverging\":[[0,\"#8e0152\"],[0.1,\"#c51b7d\"],[0.2,\"#de77ae\"],[0.3,\"#f1b6da\"],[0.4,\"#fde0ef\"],[0.5,\"#f7f7f7\"],[0.6,\"#e6f5d0\"],[0.7,\"#b8e186\"],[0.8,\"#7fbc41\"],[0.9,\"#4d9221\"],[1,\"#276419\"]],\"sequential\":[[0.0,\"#0d0887\"],[0.1111111111111111,\"#46039f\"],[0.2222222222222222,\"#7201a8\"],[0.3333333333333333,\"#9c179e\"],[0.4444444444444444,\"#bd3786\"],[0.5555555555555556,\"#d8576b\"],[0.6666666666666666,\"#ed7953\"],[0.7777777777777778,\"#fb9f3a\"],[0.8888888888888888,\"#fdca26\"],[1.0,\"#f0f921\"]],\"sequentialminus\":[[0.0,\"#0d0887\"],[0.1111111111111111,\"#46039f\"],[0.2222222222222222,\"#7201a8\"],[0.3333333333333333,\"#9c179e\"],[0.4444444444444444,\"#bd3786\"],[0.5555555555555556,\"#d8576b\"],[0.6666666666666666,\"#ed7953\"],[0.7777777777777778,\"#fb9f3a\"],[0.8888888888888888,\"#fdca26\"],[1.0,\"#f0f921\"]]},\"colorway\":[\"#636efa\",\"#EF553B\",\"#00cc96\",\"#ab63fa\",\"#FFA15A\",\"#19d3f3\",\"#FF6692\",\"#B6E880\",\"#FF97FF\",\"#FECB52\"],\"font\":{\"color\":\"#2a3f5f\"},\"geo\":{\"bgcolor\":\"white\",\"lakecolor\":\"white\",\"landcolor\":\"#E5ECF6\",\"showlakes\":true,\"showland\":true,\"subunitcolor\":\"white\"},\"hoverlabel\":{\"align\":\"left\"},\"hovermode\":\"closest\",\"mapbox\":{\"style\":\"light\"},\"paper_bgcolor\":\"white\",\"plot_bgcolor\":\"#E5ECF6\",\"polar\":{\"angularaxis\":{\"gridcolor\":\"white\",\"linecolor\":\"white\",\"ticks\":\"\"},\"bgcolor\":\"#E5ECF6\",\"radialaxis\":{\"gridcolor\":\"white\",\"linecolor\":\"white\",\"ticks\":\"\"}},\"scene\":{\"xaxis\":{\"backgroundcolor\":\"#E5ECF6\",\"gridcolor\":\"white\",\"gridwidth\":2,\"linecolor\":\"white\",\"showbackground\":true,\"ticks\":\"\",\"zerolinecolor\":\"white\"},\"yaxis\":{\"backgroundcolor\":\"#E5ECF6\",\"gridcolor\":\"white\",\"gridwidth\":2,\"linecolor\":\"white\",\"showbackground\":true,\"ticks\":\"\",\"zerolinecolor\":\"white\"},\"zaxis\":{\"backgroundcolor\":\"#E5ECF6\",\"gridcolor\":\"white\",\"gridwidth\":2,\"linecolor\":\"white\",\"showbackground\":true,\"ticks\":\"\",\"zerolinecolor\":\"white\"}},\"shapedefaults\":{\"line\":{\"color\":\"#2a3f5f\"}},\"ternary\":{\"aaxis\":{\"gridcolor\":\"white\",\"linecolor\":\"white\",\"ticks\":\"\"},\"baxis\":{\"gridcolor\":\"white\",\"linecolor\":\"white\",\"ticks\":\"\"},\"bgcolor\":\"#E5ECF6\",\"caxis\":{\"gridcolor\":\"white\",\"linecolor\":\"white\",\"ticks\":\"\"}},\"title\":{\"x\":0.05},\"xaxis\":{\"automargin\":true,\"gridcolor\":\"white\",\"linecolor\":\"white\",\"ticks\":\"\",\"title\":{\"standoff\":15},\"zerolinecolor\":\"white\",\"zerolinewidth\":2},\"yaxis\":{\"automargin\":true,\"gridcolor\":\"white\",\"linecolor\":\"white\",\"ticks\":\"\",\"title\":{\"standoff\":15},\"zerolinecolor\":\"white\",\"zerolinewidth\":2}}},\"legend\":{\"tracegroupgap\":0},\"title\":{\"text\":\"Affect of Tariff Plan on customer churn\",\"font\":{\"family\":\"Calibri Black\",\"color\":\"#221f1f\",\"size\":22},\"x\":0.5},\"height\":600,\"width\":600,\"plot_bgcolor\":\"white\"},                        {\"responsive\": true}                    ).then(function(){\n",
              "                            \n",
              "var gd = document.getElementById('3521149a-1cec-4656-9090-8daad232c3a3');\n",
              "var x = new MutationObserver(function (mutations, observer) {{\n",
              "        var display = window.getComputedStyle(gd).display;\n",
              "        if (!display || display === 'none') {{\n",
              "            console.log([gd, 'removed!']);\n",
              "            Plotly.purge(gd);\n",
              "            observer.disconnect();\n",
              "        }}\n",
              "}});\n",
              "\n",
              "// Listen for the removal of the full notebook cells\n",
              "var notebookContainer = gd.closest('#notebook-container');\n",
              "if (notebookContainer) {{\n",
              "    x.observe(notebookContainer, {childList: true});\n",
              "}}\n",
              "\n",
              "// Listen for the clearing of the current output cell\n",
              "var outputEl = gd.closest('.output');\n",
              "if (outputEl) {{\n",
              "    x.observe(outputEl, {childList: true});\n",
              "}}\n",
              "\n",
              "                        })                };                            </script>        </div>\n",
              "</body>\n",
              "</html>"
            ]
          },
          "metadata": {},
          "output_type": "display_data"
        }
      ],
      "source": [
        "fig = px.sunburst(tariff, path = ['Tariff Plan', 'Churn'], values = 'count', \\\n",
        "                  color = 'Tariff Plan', title = 'Affect of Tariff Plan on customer churn',\n",
        "                 color_discrete_map = {'Not Active': '#403433', 'Active': '#2A3132'},\n",
        "                 width = 600, height = 600)\n",
        "\n",
        "fig.update_layout(plot_bgcolor = 'white', title_font_family = 'Calibri Black', \\\n",
        "                  title_font_color = '#221f1f', title_font_size = 22, title_x = 0.5)\n",
        "\n",
        "fig.update_traces(textinfo = 'label + percent parent')\n",
        "                  \n",
        "fig.show(renderer=\"colab\")"
      ]
    },
    {
      "cell_type": "code",
      "execution_count": null,
      "metadata": {
        "colab": {
          "base_uri": "https://localhost:8080/",
          "height": 331
        },
        "id": "FvvYBD2f315o",
        "outputId": "69f3bb16-084c-4722-e2d5-21beba175762"
      },
      "outputs": [
        {
          "data": {
            "text/html": [
              "\n",
              "  <div id=\"df-75869f54-f2f3-4141-8ff8-5995e397761b\">\n",
              "    <div class=\"colab-df-container\">\n",
              "      <div>\n",
              "<style scoped>\n",
              "    .dataframe tbody tr th:only-of-type {\n",
              "        vertical-align: middle;\n",
              "    }\n",
              "\n",
              "    .dataframe tbody tr th {\n",
              "        vertical-align: top;\n",
              "    }\n",
              "\n",
              "    .dataframe thead th {\n",
              "        text-align: right;\n",
              "    }\n",
              "</style>\n",
              "<table border=\"1\" class=\"dataframe\">\n",
              "  <thead>\n",
              "    <tr style=\"text-align: right;\">\n",
              "      <th></th>\n",
              "      <th>Age Group</th>\n",
              "      <th>Churn</th>\n",
              "      <th>count</th>\n",
              "    </tr>\n",
              "  </thead>\n",
              "  <tbody>\n",
              "    <tr>\n",
              "      <th>0</th>\n",
              "      <td>1</td>\n",
              "      <td>Non Churn</td>\n",
              "      <td>123</td>\n",
              "    </tr>\n",
              "    <tr>\n",
              "      <th>1</th>\n",
              "      <td>2</td>\n",
              "      <td>Churn</td>\n",
              "      <td>184</td>\n",
              "    </tr>\n",
              "    <tr>\n",
              "      <th>2</th>\n",
              "      <td>2</td>\n",
              "      <td>Non Churn</td>\n",
              "      <td>853</td>\n",
              "    </tr>\n",
              "    <tr>\n",
              "      <th>3</th>\n",
              "      <td>3</td>\n",
              "      <td>Churn</td>\n",
              "      <td>230</td>\n",
              "    </tr>\n",
              "    <tr>\n",
              "      <th>4</th>\n",
              "      <td>3</td>\n",
              "      <td>Non Churn</td>\n",
              "      <td>1195</td>\n",
              "    </tr>\n",
              "    <tr>\n",
              "      <th>5</th>\n",
              "      <td>4</td>\n",
              "      <td>Churn</td>\n",
              "      <td>79</td>\n",
              "    </tr>\n",
              "    <tr>\n",
              "      <th>6</th>\n",
              "      <td>4</td>\n",
              "      <td>Non Churn</td>\n",
              "      <td>316</td>\n",
              "    </tr>\n",
              "    <tr>\n",
              "      <th>7</th>\n",
              "      <td>5</td>\n",
              "      <td>Churn</td>\n",
              "      <td>2</td>\n",
              "    </tr>\n",
              "    <tr>\n",
              "      <th>8</th>\n",
              "      <td>5</td>\n",
              "      <td>Non Churn</td>\n",
              "      <td>168</td>\n",
              "    </tr>\n",
              "  </tbody>\n",
              "</table>\n",
              "</div>\n",
              "      <button class=\"colab-df-convert\" onclick=\"convertToInteractive('df-75869f54-f2f3-4141-8ff8-5995e397761b')\"\n",
              "              title=\"Convert this dataframe to an interactive table.\"\n",
              "              style=\"display:none;\">\n",
              "        \n",
              "  <svg xmlns=\"http://www.w3.org/2000/svg\" height=\"24px\"viewBox=\"0 0 24 24\"\n",
              "       width=\"24px\">\n",
              "    <path d=\"M0 0h24v24H0V0z\" fill=\"none\"/>\n",
              "    <path d=\"M18.56 5.44l.94 2.06.94-2.06 2.06-.94-2.06-.94-.94-2.06-.94 2.06-2.06.94zm-11 1L8.5 8.5l.94-2.06 2.06-.94-2.06-.94L8.5 2.5l-.94 2.06-2.06.94zm10 10l.94 2.06.94-2.06 2.06-.94-2.06-.94-.94-2.06-.94 2.06-2.06.94z\"/><path d=\"M17.41 7.96l-1.37-1.37c-.4-.4-.92-.59-1.43-.59-.52 0-1.04.2-1.43.59L10.3 9.45l-7.72 7.72c-.78.78-.78 2.05 0 2.83L4 21.41c.39.39.9.59 1.41.59.51 0 1.02-.2 1.41-.59l7.78-7.78 2.81-2.81c.8-.78.8-2.07 0-2.86zM5.41 20L4 18.59l7.72-7.72 1.47 1.35L5.41 20z\"/>\n",
              "  </svg>\n",
              "      </button>\n",
              "      \n",
              "  <style>\n",
              "    .colab-df-container {\n",
              "      display:flex;\n",
              "      flex-wrap:wrap;\n",
              "      gap: 12px;\n",
              "    }\n",
              "\n",
              "    .colab-df-convert {\n",
              "      background-color: #E8F0FE;\n",
              "      border: none;\n",
              "      border-radius: 50%;\n",
              "      cursor: pointer;\n",
              "      display: none;\n",
              "      fill: #1967D2;\n",
              "      height: 32px;\n",
              "      padding: 0 0 0 0;\n",
              "      width: 32px;\n",
              "    }\n",
              "\n",
              "    .colab-df-convert:hover {\n",
              "      background-color: #E2EBFA;\n",
              "      box-shadow: 0px 1px 2px rgba(60, 64, 67, 0.3), 0px 1px 3px 1px rgba(60, 64, 67, 0.15);\n",
              "      fill: #174EA6;\n",
              "    }\n",
              "\n",
              "    [theme=dark] .colab-df-convert {\n",
              "      background-color: #3B4455;\n",
              "      fill: #D2E3FC;\n",
              "    }\n",
              "\n",
              "    [theme=dark] .colab-df-convert:hover {\n",
              "      background-color: #434B5C;\n",
              "      box-shadow: 0px 1px 3px 1px rgba(0, 0, 0, 0.15);\n",
              "      filter: drop-shadow(0px 1px 2px rgba(0, 0, 0, 0.3));\n",
              "      fill: #FFFFFF;\n",
              "    }\n",
              "  </style>\n",
              "\n",
              "      <script>\n",
              "        const buttonEl =\n",
              "          document.querySelector('#df-75869f54-f2f3-4141-8ff8-5995e397761b button.colab-df-convert');\n",
              "        buttonEl.style.display =\n",
              "          google.colab.kernel.accessAllowed ? 'block' : 'none';\n",
              "\n",
              "        async function convertToInteractive(key) {\n",
              "          const element = document.querySelector('#df-75869f54-f2f3-4141-8ff8-5995e397761b');\n",
              "          const dataTable =\n",
              "            await google.colab.kernel.invokeFunction('convertToInteractive',\n",
              "                                                     [key], {});\n",
              "          if (!dataTable) return;\n",
              "\n",
              "          const docLinkHtml = 'Like what you see? Visit the ' +\n",
              "            '<a target=\"_blank\" href=https://colab.research.google.com/notebooks/data_table.ipynb>data table notebook</a>'\n",
              "            + ' to learn more about interactive tables.';\n",
              "          element.innerHTML = '';\n",
              "          dataTable['output_type'] = 'display_data';\n",
              "          await google.colab.output.renderOutput(dataTable, element);\n",
              "          const docLink = document.createElement('div');\n",
              "          docLink.innerHTML = docLinkHtml;\n",
              "          element.appendChild(docLink);\n",
              "        }\n",
              "      </script>\n",
              "    </div>\n",
              "  </div>\n",
              "  "
            ],
            "text/plain": [
              "   Age Group      Churn  count\n",
              "0          1  Non Churn    123\n",
              "1          2      Churn    184\n",
              "2          2  Non Churn    853\n",
              "3          3      Churn    230\n",
              "4          3  Non Churn   1195\n",
              "5          4      Churn     79\n",
              "6          4  Non Churn    316\n",
              "7          5      Churn      2\n",
              "8          5  Non Churn    168"
            ]
          },
          "execution_count": 7,
          "metadata": {},
          "output_type": "execute_result"
        }
      ],
      "source": [
        "age = data.groupby(['Age Group', 'Churn']).agg({'Churn': 'count'}).\\\n",
        "                    rename(columns = {'Churn': 'count'}).reset_index()\n",
        "age"
      ]
    },
    {
      "cell_type": "code",
      "execution_count": null,
      "metadata": {
        "colab": {
          "base_uri": "https://localhost:8080/",
          "height": 617
        },
        "id": "lkKtREy_8h6x",
        "outputId": "68eaf25a-ff0b-44d5-d6a4-c404c8b5eeab"
      },
      "outputs": [
        {
          "data": {
            "text/html": [
              "<html>\n",
              "<head><meta charset=\"utf-8\" /></head>\n",
              "<body>\n",
              "    <div>\n",
              "            <script src=\"https://cdnjs.cloudflare.com/ajax/libs/mathjax/2.7.5/MathJax.js?config=TeX-AMS-MML_SVG\"></script><script type=\"text/javascript\">if (window.MathJax) {MathJax.Hub.Config({SVG: {font: \"STIX-Web\"}});}</script>\n",
              "                <script type=\"text/javascript\">window.PlotlyConfig = {MathJaxConfig: 'local'};</script>\n",
              "        <script src=\"https://cdn.plot.ly/plotly-latest.min.js\"></script>    \n",
              "            <div id=\"0678b308-e449-47ee-8ae2-14697dfbf4da\" class=\"plotly-graph-div\" style=\"height:600px; width:600px;\"></div>\n",
              "            <script type=\"text/javascript\">\n",
              "                \n",
              "                    window.PLOTLYENV=window.PLOTLYENV || {};\n",
              "                    \n",
              "                if (document.getElementById(\"0678b308-e449-47ee-8ae2-14697dfbf4da\")) {\n",
              "                    Plotly.newPlot(\n",
              "                        '0678b308-e449-47ee-8ae2-14697dfbf4da',\n",
              "                        [{\"branchvalues\": \"total\", \"customdata\": [[2], [3], [4], [5], [1], [2], [3], [4], [5], [1], [2], [3], [4], [5]], \"domain\": {\"x\": [0.0, 1.0], \"y\": [0.0, 1.0]}, \"hovertemplate\": \"labels=%{label}<br>count=%{value}<br>parent=%{parent}<br>id=%{id}<br>Age Group=%{color}<extra></extra>\", \"ids\": [\"2/Churn\", \"3/Churn\", \"4/Churn\", \"5/Churn\", \"1/Non Churn\", \"2/Non Churn\", \"3/Non Churn\", \"4/Non Churn\", \"5/Non Churn\", \"1\", \"2\", \"3\", \"4\", \"5\"], \"labels\": [\"Churn\", \"Churn\", \"Churn\", \"Churn\", \"Non Churn\", \"Non Churn\", \"Non Churn\", \"Non Churn\", \"Non Churn\", \"1\", \"2\", \"3\", \"4\", \"5\"], \"marker\": {\"coloraxis\": \"coloraxis\", \"colors\": [2, 3, 4, 5, 1, 2, 3, 4, 5, 1, 2, 3, 4, 5]}, \"name\": \"\", \"parents\": [\"2\", \"3\", \"4\", \"5\", \"1\", \"2\", \"3\", \"4\", \"5\", \"\", \"\", \"\", \"\", \"\"], \"textinfo\": \"label+percent parent\", \"type\": \"sunburst\", \"values\": [184, 230, 79, 2, 123, 853, 1195, 316, 168, 123, 1037, 1425, 395, 170]}],\n",
              "                        {\"coloraxis\": {\"colorbar\": {\"title\": {\"text\": \"Age Group\"}}, \"colorscale\": [[0.0, \"#0d0887\"], [0.1111111111111111, \"#46039f\"], [0.2222222222222222, \"#7201a8\"], [0.3333333333333333, \"#9c179e\"], [0.4444444444444444, \"#bd3786\"], [0.5555555555555556, \"#d8576b\"], [0.6666666666666666, \"#ed7953\"], [0.7777777777777778, \"#fb9f3a\"], [0.8888888888888888, \"#fdca26\"], [1.0, \"#f0f921\"]]}, \"height\": 600, \"legend\": {\"tracegroupgap\": 0}, \"plot_bgcolor\": \"white\", \"template\": {\"data\": {\"bar\": [{\"error_x\": {\"color\": \"#2a3f5f\"}, \"error_y\": {\"color\": \"#2a3f5f\"}, \"marker\": {\"line\": {\"color\": \"#E5ECF6\", \"width\": 0.5}}, \"type\": \"bar\"}], \"barpolar\": [{\"marker\": {\"line\": {\"color\": \"#E5ECF6\", \"width\": 0.5}}, \"type\": \"barpolar\"}], \"carpet\": [{\"aaxis\": {\"endlinecolor\": \"#2a3f5f\", \"gridcolor\": \"white\", \"linecolor\": \"white\", \"minorgridcolor\": \"white\", \"startlinecolor\": \"#2a3f5f\"}, \"baxis\": {\"endlinecolor\": \"#2a3f5f\", \"gridcolor\": \"white\", \"linecolor\": \"white\", \"minorgridcolor\": \"white\", \"startlinecolor\": \"#2a3f5f\"}, \"type\": \"carpet\"}], \"choropleth\": [{\"colorbar\": {\"outlinewidth\": 0, \"ticks\": \"\"}, \"type\": \"choropleth\"}], \"contour\": [{\"colorbar\": {\"outlinewidth\": 0, \"ticks\": \"\"}, \"colorscale\": [[0.0, \"#0d0887\"], [0.1111111111111111, \"#46039f\"], [0.2222222222222222, \"#7201a8\"], [0.3333333333333333, \"#9c179e\"], [0.4444444444444444, \"#bd3786\"], [0.5555555555555556, \"#d8576b\"], [0.6666666666666666, \"#ed7953\"], [0.7777777777777778, \"#fb9f3a\"], [0.8888888888888888, \"#fdca26\"], [1.0, \"#f0f921\"]], \"type\": \"contour\"}], \"contourcarpet\": [{\"colorbar\": {\"outlinewidth\": 0, \"ticks\": \"\"}, \"type\": \"contourcarpet\"}], \"heatmap\": [{\"colorbar\": {\"outlinewidth\": 0, \"ticks\": \"\"}, \"colorscale\": [[0.0, \"#0d0887\"], [0.1111111111111111, \"#46039f\"], [0.2222222222222222, \"#7201a8\"], [0.3333333333333333, \"#9c179e\"], [0.4444444444444444, \"#bd3786\"], [0.5555555555555556, \"#d8576b\"], [0.6666666666666666, \"#ed7953\"], [0.7777777777777778, \"#fb9f3a\"], [0.8888888888888888, \"#fdca26\"], [1.0, \"#f0f921\"]], \"type\": \"heatmap\"}], \"heatmapgl\": [{\"colorbar\": {\"outlinewidth\": 0, \"ticks\": \"\"}, \"colorscale\": [[0.0, \"#0d0887\"], [0.1111111111111111, \"#46039f\"], [0.2222222222222222, \"#7201a8\"], [0.3333333333333333, \"#9c179e\"], [0.4444444444444444, \"#bd3786\"], [0.5555555555555556, \"#d8576b\"], [0.6666666666666666, \"#ed7953\"], [0.7777777777777778, \"#fb9f3a\"], [0.8888888888888888, \"#fdca26\"], [1.0, \"#f0f921\"]], \"type\": \"heatmapgl\"}], \"histogram\": [{\"marker\": {\"colorbar\": {\"outlinewidth\": 0, \"ticks\": \"\"}}, \"type\": \"histogram\"}], \"histogram2d\": [{\"colorbar\": {\"outlinewidth\": 0, \"ticks\": \"\"}, \"colorscale\": [[0.0, \"#0d0887\"], [0.1111111111111111, \"#46039f\"], [0.2222222222222222, \"#7201a8\"], [0.3333333333333333, \"#9c179e\"], [0.4444444444444444, \"#bd3786\"], [0.5555555555555556, \"#d8576b\"], [0.6666666666666666, \"#ed7953\"], [0.7777777777777778, \"#fb9f3a\"], [0.8888888888888888, \"#fdca26\"], [1.0, \"#f0f921\"]], \"type\": \"histogram2d\"}], \"histogram2dcontour\": [{\"colorbar\": {\"outlinewidth\": 0, \"ticks\": \"\"}, \"colorscale\": [[0.0, \"#0d0887\"], [0.1111111111111111, \"#46039f\"], [0.2222222222222222, \"#7201a8\"], [0.3333333333333333, \"#9c179e\"], [0.4444444444444444, \"#bd3786\"], [0.5555555555555556, \"#d8576b\"], [0.6666666666666666, \"#ed7953\"], [0.7777777777777778, \"#fb9f3a\"], [0.8888888888888888, \"#fdca26\"], [1.0, \"#f0f921\"]], \"type\": \"histogram2dcontour\"}], \"mesh3d\": [{\"colorbar\": {\"outlinewidth\": 0, \"ticks\": \"\"}, \"type\": \"mesh3d\"}], \"parcoords\": [{\"line\": {\"colorbar\": {\"outlinewidth\": 0, \"ticks\": \"\"}}, \"type\": \"parcoords\"}], \"pie\": [{\"automargin\": true, \"type\": \"pie\"}], \"scatter\": [{\"marker\": {\"colorbar\": {\"outlinewidth\": 0, \"ticks\": \"\"}}, \"type\": \"scatter\"}], \"scatter3d\": [{\"line\": {\"colorbar\": {\"outlinewidth\": 0, \"ticks\": \"\"}}, \"marker\": {\"colorbar\": {\"outlinewidth\": 0, \"ticks\": \"\"}}, \"type\": \"scatter3d\"}], \"scattercarpet\": [{\"marker\": {\"colorbar\": {\"outlinewidth\": 0, \"ticks\": \"\"}}, \"type\": \"scattercarpet\"}], \"scattergeo\": [{\"marker\": {\"colorbar\": {\"outlinewidth\": 0, \"ticks\": \"\"}}, \"type\": \"scattergeo\"}], \"scattergl\": [{\"marker\": {\"colorbar\": {\"outlinewidth\": 0, \"ticks\": \"\"}}, \"type\": \"scattergl\"}], \"scattermapbox\": [{\"marker\": {\"colorbar\": {\"outlinewidth\": 0, \"ticks\": \"\"}}, \"type\": \"scattermapbox\"}], \"scatterpolar\": [{\"marker\": {\"colorbar\": {\"outlinewidth\": 0, \"ticks\": \"\"}}, \"type\": \"scatterpolar\"}], \"scatterpolargl\": [{\"marker\": {\"colorbar\": {\"outlinewidth\": 0, \"ticks\": \"\"}}, \"type\": \"scatterpolargl\"}], \"scatterternary\": [{\"marker\": {\"colorbar\": {\"outlinewidth\": 0, \"ticks\": \"\"}}, \"type\": \"scatterternary\"}], \"surface\": [{\"colorbar\": {\"outlinewidth\": 0, \"ticks\": \"\"}, \"colorscale\": [[0.0, \"#0d0887\"], [0.1111111111111111, \"#46039f\"], [0.2222222222222222, \"#7201a8\"], [0.3333333333333333, \"#9c179e\"], [0.4444444444444444, \"#bd3786\"], [0.5555555555555556, \"#d8576b\"], [0.6666666666666666, \"#ed7953\"], [0.7777777777777778, \"#fb9f3a\"], [0.8888888888888888, \"#fdca26\"], [1.0, \"#f0f921\"]], \"type\": \"surface\"}], \"table\": [{\"cells\": {\"fill\": {\"color\": \"#EBF0F8\"}, \"line\": {\"color\": \"white\"}}, \"header\": {\"fill\": {\"color\": \"#C8D4E3\"}, \"line\": {\"color\": \"white\"}}, \"type\": \"table\"}]}, \"layout\": {\"annotationdefaults\": {\"arrowcolor\": \"#2a3f5f\", \"arrowhead\": 0, \"arrowwidth\": 1}, \"coloraxis\": {\"colorbar\": {\"outlinewidth\": 0, \"ticks\": \"\"}}, \"colorscale\": {\"diverging\": [[0, \"#8e0152\"], [0.1, \"#c51b7d\"], [0.2, \"#de77ae\"], [0.3, \"#f1b6da\"], [0.4, \"#fde0ef\"], [0.5, \"#f7f7f7\"], [0.6, \"#e6f5d0\"], [0.7, \"#b8e186\"], [0.8, \"#7fbc41\"], [0.9, \"#4d9221\"], [1, \"#276419\"]], \"sequential\": [[0.0, \"#0d0887\"], [0.1111111111111111, \"#46039f\"], [0.2222222222222222, \"#7201a8\"], [0.3333333333333333, \"#9c179e\"], [0.4444444444444444, \"#bd3786\"], [0.5555555555555556, \"#d8576b\"], [0.6666666666666666, \"#ed7953\"], [0.7777777777777778, \"#fb9f3a\"], [0.8888888888888888, \"#fdca26\"], [1.0, \"#f0f921\"]], \"sequentialminus\": [[0.0, \"#0d0887\"], [0.1111111111111111, \"#46039f\"], [0.2222222222222222, \"#7201a8\"], [0.3333333333333333, \"#9c179e\"], [0.4444444444444444, \"#bd3786\"], [0.5555555555555556, \"#d8576b\"], [0.6666666666666666, \"#ed7953\"], [0.7777777777777778, \"#fb9f3a\"], [0.8888888888888888, \"#fdca26\"], [1.0, \"#f0f921\"]]}, \"colorway\": [\"#636efa\", \"#EF553B\", \"#00cc96\", \"#ab63fa\", \"#FFA15A\", \"#19d3f3\", \"#FF6692\", \"#B6E880\", \"#FF97FF\", \"#FECB52\"], \"font\": {\"color\": \"#2a3f5f\"}, \"geo\": {\"bgcolor\": \"white\", \"lakecolor\": \"white\", \"landcolor\": \"#E5ECF6\", \"showlakes\": true, \"showland\": true, \"subunitcolor\": \"white\"}, \"hoverlabel\": {\"align\": \"left\"}, \"hovermode\": \"closest\", \"mapbox\": {\"style\": \"light\"}, \"paper_bgcolor\": \"white\", \"plot_bgcolor\": \"#E5ECF6\", \"polar\": {\"angularaxis\": {\"gridcolor\": \"white\", \"linecolor\": \"white\", \"ticks\": \"\"}, \"bgcolor\": \"#E5ECF6\", \"radialaxis\": {\"gridcolor\": \"white\", \"linecolor\": \"white\", \"ticks\": \"\"}}, \"scene\": {\"xaxis\": {\"backgroundcolor\": \"#E5ECF6\", \"gridcolor\": \"white\", \"gridwidth\": 2, \"linecolor\": \"white\", \"showbackground\": true, \"ticks\": \"\", \"zerolinecolor\": \"white\"}, \"yaxis\": {\"backgroundcolor\": \"#E5ECF6\", \"gridcolor\": \"white\", \"gridwidth\": 2, \"linecolor\": \"white\", \"showbackground\": true, \"ticks\": \"\", \"zerolinecolor\": \"white\"}, \"zaxis\": {\"backgroundcolor\": \"#E5ECF6\", \"gridcolor\": \"white\", \"gridwidth\": 2, \"linecolor\": \"white\", \"showbackground\": true, \"ticks\": \"\", \"zerolinecolor\": \"white\"}}, \"shapedefaults\": {\"line\": {\"color\": \"#2a3f5f\"}}, \"ternary\": {\"aaxis\": {\"gridcolor\": \"white\", \"linecolor\": \"white\", \"ticks\": \"\"}, \"baxis\": {\"gridcolor\": \"white\", \"linecolor\": \"white\", \"ticks\": \"\"}, \"bgcolor\": \"#E5ECF6\", \"caxis\": {\"gridcolor\": \"white\", \"linecolor\": \"white\", \"ticks\": \"\"}}, \"title\": {\"x\": 0.05}, \"xaxis\": {\"automargin\": true, \"gridcolor\": \"white\", \"linecolor\": \"white\", \"ticks\": \"\", \"title\": {\"standoff\": 15}, \"zerolinecolor\": \"white\", \"zerolinewidth\": 2}, \"yaxis\": {\"automargin\": true, \"gridcolor\": \"white\", \"linecolor\": \"white\", \"ticks\": \"\", \"title\": {\"standoff\": 15}, \"zerolinecolor\": \"white\", \"zerolinewidth\": 2}}}, \"title\": {\"font\": {\"color\": \"#221f1f\", \"family\": \"Calibri Black\", \"size\": 22}, \"text\": \"Affect of customer age on customer churn\", \"x\": 0.5}, \"width\": 600},\n",
              "                        {\"responsive\": true}\n",
              "                    ).then(function(){\n",
              "                            \n",
              "var gd = document.getElementById('0678b308-e449-47ee-8ae2-14697dfbf4da');\n",
              "var x = new MutationObserver(function (mutations, observer) {{\n",
              "        var display = window.getComputedStyle(gd).display;\n",
              "        if (!display || display === 'none') {{\n",
              "            console.log([gd, 'removed!']);\n",
              "            Plotly.purge(gd);\n",
              "            observer.disconnect();\n",
              "        }}\n",
              "}});\n",
              "\n",
              "// Listen for the removal of the full notebook cells\n",
              "var notebookContainer = gd.closest('#notebook-container');\n",
              "if (notebookContainer) {{\n",
              "    x.observe(notebookContainer, {childList: true});\n",
              "}}\n",
              "\n",
              "// Listen for the clearing of the current output cell\n",
              "var outputEl = gd.closest('.output');\n",
              "if (outputEl) {{\n",
              "    x.observe(outputEl, {childList: true});\n",
              "}}\n",
              "\n",
              "                        })\n",
              "                };\n",
              "                \n",
              "            </script>\n",
              "        </div>\n",
              "</body>\n",
              "</html>"
            ]
          },
          "metadata": {},
          "output_type": "display_data"
        }
      ],
      "source": [
        "fig = px.sunburst(age, path = ['Age Group', 'Churn'], values = 'count', color = \\\n",
        "                  'Age Group', title = 'Affect of customer age on customer churn',\n",
        "                 color_discrete_map = {'Not Active': '#336B87', 'Active': '#2A3132'},\n",
        "                 width = 600, height = 600)\n",
        "\n",
        "fig.update_layout(plot_bgcolor = 'white', title_font_family = 'Calibri Black', \\\n",
        "                  title_font_color = '#221f1f', title_font_size = 22, title_x = 0.5)\n",
        "\n",
        "fig.update_traces(textinfo = 'label + percent parent')\n",
        "                  \n",
        "fig.show(renderer=\"colab\")"
      ]
    },
    {
      "cell_type": "markdown",
      "metadata": {
        "id": "DdLY6yAzRcG2"
      },
      "source": [
        "\n",
        "**The most important factors affecting customer churn:**\n",
        "1. Users who do not complain are still likely to leave.\n",
        "2. Users who are non active are most likely to leave.\n",
        "3. Users who uses Tarrif plans have more chances to leave compaired to that with non active Tarrif plans\n",
        "4. Customers who are in the group age of 2 and 3 uses the service more and are more likely to leave, compare to user with age group of 1 and 5"
      ]
    },
    {
      "cell_type": "code",
      "execution_count": null,
      "metadata": {
        "colab": {
          "base_uri": "https://localhost:8080/"
        },
        "id": "MbbEQYlqHAjd",
        "outputId": "a5833fb9-821c-486b-88a9-021340ea7752"
      },
      "outputs": [
        {
          "data": {
            "text/plain": [
              "2"
            ]
          },
          "execution_count": 90,
          "metadata": {},
          "output_type": "execute_result"
        }
      ],
      "source": [
        "data['Tariff Plan'].nunique()"
      ]
    },
    {
      "cell_type": "code",
      "execution_count": null,
      "metadata": {
        "colab": {
          "base_uri": "https://localhost:8080/",
          "height": 517
        },
        "id": "X-Uhe30_cPRr",
        "outputId": "721e2826-7b76-457b-a4ef-d5a8266c54ba"
      },
      "outputs": [
        {
          "data": {
            "text/html": [
              "<html>\n",
              "<head><meta charset=\"utf-8\" /></head>\n",
              "<body>\n",
              "    <div>            <script src=\"https://cdnjs.cloudflare.com/ajax/libs/mathjax/2.7.5/MathJax.js?config=TeX-AMS-MML_SVG\"></script><script type=\"text/javascript\">if (window.MathJax) {MathJax.Hub.Config({SVG: {font: \"STIX-Web\"}});}</script>                <script type=\"text/javascript\">window.PlotlyConfig = {MathJaxConfig: 'local'};</script>\n",
              "        <script src=\"https://cdn.plot.ly/plotly-2.8.3.min.js\"></script>                <div id=\"5c3510af-199e-4488-b055-cb901279b84b\" class=\"plotly-graph-div\" style=\"height:500px; width:1200px;\"></div>            <script type=\"text/javascript\">                                    window.PLOTLYENV=window.PLOTLYENV || {};                                    if (document.getElementById(\"5c3510af-199e-4488-b055-cb901279b84b\")) {                    Plotly.newPlot(                        \"5c3510af-199e-4488-b055-cb901279b84b\",                        [{\"alignmentgroup\":\"True\",\"bingroup\":\"x\",\"hovertemplate\":\"Churn=Non Churn<br>Subscription  Length=%{x}<br>count=%{y}<extra></extra>\",\"legendgroup\":\"Non Churn\",\"marker\":{\"color\":\"#636efa\",\"pattern\":{\"shape\":\"\"}},\"name\":\"Non Churn\",\"nbinsx\":200,\"offsetgroup\":\"Non Churn\",\"orientation\":\"v\",\"showlegend\":true,\"x\":[38,39,37,38,38,38,38,37,38,38,38,38,38,38,37,37,38,37,37,37,36,34,36,33,36,31,34,36,35,36,27,26,27,25,25,18,17,15,16,9,40,41,39,40,40,40,40,39,40,40,40,40,40,40,39,39,39,40,39,39,39,38,38,36,38,35,38,33,36,38,37,38,29,28,29,28,27,27,20,19,17,18,11,36,37,35,36,36,36,36,35,36,36,36,36,36,36,35,35,35,36,35,35,35,34,32,34,31,34,29,32,34,33,34,25,24,25,23,23,16,15,13,14,7,42,41,42,42,42,42,41,42,42,42,42,42,42,41,41,41,42,41,41,41,40,38,40,37,40,35,38,40,39,40,31,30,31,30,29,29,22,21,19,20,13,34,35,33,34,34,34,34,33,34,34,34,34,34,34,33,33,33,34,33,33,33,32,30,32,29,32,27,30,32,31,32,23,22,23,22,21,21,14,13,11,12,5,44,45,43,44,44,44,44,43,44,44,44,44,44,44,43,43,43,44,43,43,43,42,42,40,42,39,42,37,40,42,41,42,33,32,33,32,31,31,24,23,21,22,15,32,33,31,32,32,32,32,31,32,32,32,32,32,32,31,31,31,32,31,31,31,30,28,30,27,25,28,30,29,30,21,20,21,20,19,19,12,11,9,10,3,41,42,40,41,41,41,41,40,41,41,41,41,41,41,40,40,40,41,40,40,40,39,39,37,39,36,39,34,37,39,38,39,29,30,29,28,28,21,20,18,19,12,35,36,34,35,35,35,35,34,35,35,35,35,35,35,34,34,34,35,34,34,34,33,31,33,30,33,28,31,33,32,33,24,23,24,23,22,22,15,14,12,13,6,38,39,37,38,38,38,38,37,38,38,38,38,38,38,37,37,37,38,37,37,37,36,36,34,36,33,36,31,34,36,36,27,26,27,26,25,25,18,17,15,16,9,38,39,37,38,38,38,38,37,38,38,38,38,38,38,37,37,37,38,37,37,37,36,34,36,33,36,31,34,36,35,36,27,26,27,26,25,25,18,17,15,16,9,39,40,38,39,39,39,39,38,39,39,39,39,39,39,38,38,38,39,38,38,38,37,37,35,37,34,37,32,35,37,36,37,28,27,28,27,26,26,19,18,16,17,10,37,38,36,37,37,37,37,36,37,37,37,37,37,37,36,36,36,37,36,36,36,35,33,35,32,35,30,33,35,34,35,26,25,26,25,24,24,17,16,14,15,8,38,39,37,38,38,38,38,37,38,38,38,38,38,38,37,37,37,38,37,37,37,36,34,36,33,36,31,34,36,35,36,26,27,26,25,25,18,17,15,16,9,38,39,37,38,38,38,38,37,38,38,38,38,38,38,37,37,37,38,37,37,37,36,34,36,33,36,31,34,36,35,36,27,26,27,26,25,25,18,17,15,16,9,33,34,32,33,33,33,33,32,33,33,33,33,33,33,32,32,32,33,32,32,32,31,29,31,28,31,26,29,31,30,31,22,21,22,21,20,20,13,12,10,11,4,43,44,42,43,43,43,43,42,43,43,43,43,43,43,42,42,42,43,42,42,42,41,41,39,41,38,41,36,39,41,40,41,31,32,31,30,30,23,22,20,21,14,39,40,38,39,39,39,39,38,39,39,39,39,39,39,38,38,38,39,38,38,38,37,37,35,37,34,37,32,35,37,36,37,28,27,28,27,26,26,19,18,16,17,10,37,38,36,37,37,37,37,36,37,37,37,37,37,37,36,36,36,37,36,36,36,35,33,35,32,35,30,33,35,34,35,26,25,26,25,24,24,17,16,14,15,8,38,39,37,38,38,38,38,37,38,38,38,38,38,38,37,37,37,38,37,37,37,36,34,36,33,36,31,34,36,35,36,26,27,26,25,25,18,17,15,16,9,38,39,37,38,38,38,38,37,38,38,38,38,38,38,37,37,37,38,37,37,37,36,34,36,33,36,31,34,36,35,36,27,26,27,26,25,25,18,17,15,16,9,36,37,35,36,36,36,36,35,36,36,36,36,36,36,35,35,35,36,35,35,35,34,32,34,31,34,29,32,34,33,34,24,25,24,23,23,16,15,13,14,7,38,39,37,38,38,38,38,37,38,38,38,38,38,38,37,37,37,38,37,37,37,36,34,36,33,36,31,34,36,35,36,27,26,27,26,25,25,18,17,15,16,9,34,35,33,34,34,34,34,33,34,34,34,34,34,34,33,33,33,34,33,33,33,32,30,32,29,32,27,30,32,31,32,23,22,23,22,21,21,14,13,11,12,5,40,41,39,40,40,40,40,39,40,40,40,40,40,40,39,39,39,40,39,39,39,38,36,38,35,38,33,36,38,37,38,29,28,29,28,27,27,20,19,17,18,11,32,33,31,32,32,32,32,31,32,32,32,32,32,32,31,31,31,32,31,31,31,30,28,30,27,30,25,28,30,29,30,21,20,21,20,19,19,12,11,9,10,3,42,43,41,42,42,42,42,41,42,42,42,42,42,42,41,41,41,42,41,41,41,40,40,38,40,37,40,35,38,40,39,40,31,30,31,30,29,29,22,21,19,20,13,30,31,29,30,30,30,30,29,30,30,30,30,30,30,29,29,29,30,29,29,29,28,26,28,25,23,26,28,27,28,19,18,19,18,17,17,10,9,7,8,3,39,40,38,39,39,39,39,38,39,39,39,39,39,39,38,38,38,39,38,38,38,37,35,37,34,37,32,35,37,36,37,28,27,28,27,26,26,19,18,16,17,10,33,34,32,33,33,33,33,32,33,33,33,33,33,33,32,32,32,33,32,32,32,31,29,31,28,31,26,29,31,30,31,22,21,22,21,20,20,13,12,10,11,4,36,37,35,36,36,36,36,35,36,36,36,36,36,36,35,35,35,36,35,35,35,34,34,32,34,31,34,29,32,34,34,25,24,25,24,23,23,16,15,13,14,7,36,37,35,36,36,36,36,35,36,36,36,36,36,36,35,35,35,36,35,35,35,34,32,34,31,34,29,32,34,33,34,25,24,25,24,23,23,16,15,13,14,7,37,38,36,37,37,37,37,36,37,37,37,37,37,37,36,36,36,37,36,36,36,35,33,35,32,35,30,33,35,34,35,26,25,26,25,24,24,17,16,14,15,8,35,36,34,35,35,35,35,34,35,35,35,35,35,35,34,34,34,35,34,34,34,33,31,33,30,33,28,31,33,32,33,24,23,24,23,22,22,15,14,12,13,6,36,37,35,36,36,36,36,35,36,36,36,36,36,36,35,35,35,36,35,35,35,34,32,34,31,34,29,32,34,33,34,25,24,25,24,23,23,16,15,13,14,7,36,37,35,36,36,36,36,35,36,36,36,36,36,36,35,35,35,36,35,35,35,34,32,34,31,34,29,32,34,33,34,25,24,25,24,23,23,16,15,13,14,7,31,32,30,31,31,31,31,30,31,31,31,31,31,31,30,30,30,31,30,30,30,29,27,29,26,29,24,27,29,28,29,20,19,20,19,18,18,11,10,8,9,3,41,42,40,41,41,41,41,40,41,41,41,41,41,41,40,40,40,41,40,40,40,39,37,39,36,39,34,37,39,38,39,30,29,30,29,28,28,21,20,18,19,12,37,38,36,37,37,37,37,36,37,37,37,37,37,37,36,36,36,37,36,36,36,35,35,33,35,32,35,30,33,35,34,35,26,25,26,25,24,24,17,16,14,15,8,35,36,34,35,35,35,35,34,35,35,35,35,35,35,34,34,34,35,34,34,34,33,31,33,30,33,28,31,33,32,33,24,23,24,23,22,22,15,14,12,13,6,36,37,35,36,36,36,36,35,36,36,36,36,36,36,35,35,35,36,35,35,35,34,32,34,31,34,29,32,34,33,34,25,24,25,24,23,23,16,15,13,14,7,36,37,35,36,36,36,36,35,36,36,36,36,36,36,35,35,35,36,35,35,35,34,32,34,31,34,29,32,34,33,34,25,24,25,24,23,23,16,15,13,14,7,40,41,39,40,40,40,40,39,40,40,40,40,40,40,39,39,39,40,39,39,39,38,38,36,38,35,38,33,36,38,37,38,29,28,29,28,27,27,20,19,17,18,11,42,43,41,42,42,42,42,41,42,42,42,42,42,42,41,41,41,42,41,41,41,40,40,38,40,37,40,35,38,40,39,40,31,30,31,30,29,29,22,21,19,20,13,38,39,37,38,38,38,38,37,38,38,38,38,38,38,37,37,37,38,37,37,37,36,36,34,36,33,36,31,34,36,35,36,27,26,27,26,25,25,18,17,15,16,9,44,45,43,44,44,44,44,43,44,44,44,44,44,44,43,43,43,44,43,43,43,42,42,40,42,39,42,37,40,42,41,42,33,32,33,32,31,31,24,23,21,22,15,36,37,35,36,36,36,36,35,36,36,36,36,36,36,35,35,35,36,35,35,35,34,34,32,34,31,34,29,32,34,33,34,25,24,25,24,23,23,16,15,13,14,7,46,47,45,46,46,46,46,45,46,46,46,46,46,46,45,45,45,46,45,45,45,44,44,42,44,41,44,39,42,44,43,44,35,34,35,34,33,33,26,25,23,24,17,34,35,33,34,34,34,34,33,34,34,34,34,34,34,33,33,33,34,33,33,33,32,30,32,29,27,30,32,31,32,23,22,23,22,21,21,14,13,11,12,5,43,44,42,43,43,43,43,42,43,43,43,43,43,43,42,42,42,43,42,42,42,41,41,39,41,38,41,36,39,41,40,41,32,31,32,31,30,30,23,22,20,21,14,37,38,36,37,37,37,37,36,37,37,37,37,37,37,36,36,36,37,36,36,36,35,33,35,32,35,30,33,35,34,35,26,25,26,25,24,24,17,16,14,15,8,40,41,39,40,40,40,40,39,40,40,40,40,40,40,39,39,39,40,39,39,39,38,38,36,38,35,38,33,36,38,38,29,28,29,28,27,27,20,19,17,18,11,40,41,39,40,40,40,40,39,40,40,40,40,40,40,39,39,39,40,39,39,39,38,36,38,35,38,33,36,38,37,38,29,28,29,28,27,27,20,19,17,18,11,41,42,40,41,41,41,41,40,41,41,41,41,41,41,40,40,40,41,40,40,40,39,39,37,39,36,39,34,37,39,38,39,30,29,30,29,28,28,21,20,18,19,12,39,40,38,39,39,39,39,38,39,39,39,39,39,39,38,38,38,39,38,38,38,37,35,37,34,37,32,35,37,36,37,28,27,28,27,26,26,19,18,16,17,10,40,41,39,40,40,40,40,39,40,40,40,40,40,40,39,39,39,40,39,39,39,38,38,36,38,35,38,33,36,38,37,38,29,28,29,28,27,27,20,19,17,18,11,40,41,39,40,40,40,40,39,40,40,40,40,40,40,39,39,39,40,39,39,39,38,38,36,38,35,38,33,36,38,37,38,29,28,29,28,27,27,20,19,17,18,11,35,36,34,35,35,35,35,34,35,35,35,35,35,35,34,34,34,35,34,34,34,33,31,33,30,33,28,31,33,32,33,24,23,24,23,22,22,15,14,12,13,6,45,46,44,45,45,45,45,44,45,45,45,45,45,45,44,44,44,45,44,44,44,43,43,41,43,40,43,38,41,43,42,43,34,33,34,33,32,32,25,24,22,23,16,41,42,40,41,41,41,41,40,41,41,41,41,41,41,40,40,40,41,40,40,40,39,39,37,39,36,39,34,37,39,38,39,30,29,29,28,28,21,20,18,19,12,39,40,38,39,39,39,39,38,39,39,39,39,39,39,38,38,38,39,38,38,38,37,35,37,34,37,32,35,37,36,37,28,27,28,27,26,26,19,18,16,17,10,40,41,39,40,40,40,40,39,40,40,40,40,40,40,39,39,39,40,39,39,39,38,38,36,38,35,38,33,36,38,37,38,29,28,29,28,27,27,20,19,17,18,11,40,41,39,40,40,40,40,39,40,40,40,40,40,40,39,39,39,40,39,39,39,38,38,36,38,35,38,33,36,38,37,38,29,28,29,28,27,27,20,19,17,18,11],\"xaxis\":\"x\",\"yaxis\":\"y\",\"type\":\"histogram\"},{\"alignmentgroup\":\"True\",\"hovertemplate\":\"Churn=Non Churn<br>Subscription  Length=%{x}<extra></extra>\",\"legendgroup\":\"Non Churn\",\"marker\":{\"color\":\"#636efa\"},\"name\":\"Non Churn\",\"notched\":true,\"offsetgroup\":\"Non Churn\",\"showlegend\":false,\"x\":[38,39,37,38,38,38,38,37,38,38,38,38,38,38,37,37,38,37,37,37,36,34,36,33,36,31,34,36,35,36,27,26,27,25,25,18,17,15,16,9,40,41,39,40,40,40,40,39,40,40,40,40,40,40,39,39,39,40,39,39,39,38,38,36,38,35,38,33,36,38,37,38,29,28,29,28,27,27,20,19,17,18,11,36,37,35,36,36,36,36,35,36,36,36,36,36,36,35,35,35,36,35,35,35,34,32,34,31,34,29,32,34,33,34,25,24,25,23,23,16,15,13,14,7,42,41,42,42,42,42,41,42,42,42,42,42,42,41,41,41,42,41,41,41,40,38,40,37,40,35,38,40,39,40,31,30,31,30,29,29,22,21,19,20,13,34,35,33,34,34,34,34,33,34,34,34,34,34,34,33,33,33,34,33,33,33,32,30,32,29,32,27,30,32,31,32,23,22,23,22,21,21,14,13,11,12,5,44,45,43,44,44,44,44,43,44,44,44,44,44,44,43,43,43,44,43,43,43,42,42,40,42,39,42,37,40,42,41,42,33,32,33,32,31,31,24,23,21,22,15,32,33,31,32,32,32,32,31,32,32,32,32,32,32,31,31,31,32,31,31,31,30,28,30,27,25,28,30,29,30,21,20,21,20,19,19,12,11,9,10,3,41,42,40,41,41,41,41,40,41,41,41,41,41,41,40,40,40,41,40,40,40,39,39,37,39,36,39,34,37,39,38,39,29,30,29,28,28,21,20,18,19,12,35,36,34,35,35,35,35,34,35,35,35,35,35,35,34,34,34,35,34,34,34,33,31,33,30,33,28,31,33,32,33,24,23,24,23,22,22,15,14,12,13,6,38,39,37,38,38,38,38,37,38,38,38,38,38,38,37,37,37,38,37,37,37,36,36,34,36,33,36,31,34,36,36,27,26,27,26,25,25,18,17,15,16,9,38,39,37,38,38,38,38,37,38,38,38,38,38,38,37,37,37,38,37,37,37,36,34,36,33,36,31,34,36,35,36,27,26,27,26,25,25,18,17,15,16,9,39,40,38,39,39,39,39,38,39,39,39,39,39,39,38,38,38,39,38,38,38,37,37,35,37,34,37,32,35,37,36,37,28,27,28,27,26,26,19,18,16,17,10,37,38,36,37,37,37,37,36,37,37,37,37,37,37,36,36,36,37,36,36,36,35,33,35,32,35,30,33,35,34,35,26,25,26,25,24,24,17,16,14,15,8,38,39,37,38,38,38,38,37,38,38,38,38,38,38,37,37,37,38,37,37,37,36,34,36,33,36,31,34,36,35,36,26,27,26,25,25,18,17,15,16,9,38,39,37,38,38,38,38,37,38,38,38,38,38,38,37,37,37,38,37,37,37,36,34,36,33,36,31,34,36,35,36,27,26,27,26,25,25,18,17,15,16,9,33,34,32,33,33,33,33,32,33,33,33,33,33,33,32,32,32,33,32,32,32,31,29,31,28,31,26,29,31,30,31,22,21,22,21,20,20,13,12,10,11,4,43,44,42,43,43,43,43,42,43,43,43,43,43,43,42,42,42,43,42,42,42,41,41,39,41,38,41,36,39,41,40,41,31,32,31,30,30,23,22,20,21,14,39,40,38,39,39,39,39,38,39,39,39,39,39,39,38,38,38,39,38,38,38,37,37,35,37,34,37,32,35,37,36,37,28,27,28,27,26,26,19,18,16,17,10,37,38,36,37,37,37,37,36,37,37,37,37,37,37,36,36,36,37,36,36,36,35,33,35,32,35,30,33,35,34,35,26,25,26,25,24,24,17,16,14,15,8,38,39,37,38,38,38,38,37,38,38,38,38,38,38,37,37,37,38,37,37,37,36,34,36,33,36,31,34,36,35,36,26,27,26,25,25,18,17,15,16,9,38,39,37,38,38,38,38,37,38,38,38,38,38,38,37,37,37,38,37,37,37,36,34,36,33,36,31,34,36,35,36,27,26,27,26,25,25,18,17,15,16,9,36,37,35,36,36,36,36,35,36,36,36,36,36,36,35,35,35,36,35,35,35,34,32,34,31,34,29,32,34,33,34,24,25,24,23,23,16,15,13,14,7,38,39,37,38,38,38,38,37,38,38,38,38,38,38,37,37,37,38,37,37,37,36,34,36,33,36,31,34,36,35,36,27,26,27,26,25,25,18,17,15,16,9,34,35,33,34,34,34,34,33,34,34,34,34,34,34,33,33,33,34,33,33,33,32,30,32,29,32,27,30,32,31,32,23,22,23,22,21,21,14,13,11,12,5,40,41,39,40,40,40,40,39,40,40,40,40,40,40,39,39,39,40,39,39,39,38,36,38,35,38,33,36,38,37,38,29,28,29,28,27,27,20,19,17,18,11,32,33,31,32,32,32,32,31,32,32,32,32,32,32,31,31,31,32,31,31,31,30,28,30,27,30,25,28,30,29,30,21,20,21,20,19,19,12,11,9,10,3,42,43,41,42,42,42,42,41,42,42,42,42,42,42,41,41,41,42,41,41,41,40,40,38,40,37,40,35,38,40,39,40,31,30,31,30,29,29,22,21,19,20,13,30,31,29,30,30,30,30,29,30,30,30,30,30,30,29,29,29,30,29,29,29,28,26,28,25,23,26,28,27,28,19,18,19,18,17,17,10,9,7,8,3,39,40,38,39,39,39,39,38,39,39,39,39,39,39,38,38,38,39,38,38,38,37,35,37,34,37,32,35,37,36,37,28,27,28,27,26,26,19,18,16,17,10,33,34,32,33,33,33,33,32,33,33,33,33,33,33,32,32,32,33,32,32,32,31,29,31,28,31,26,29,31,30,31,22,21,22,21,20,20,13,12,10,11,4,36,37,35,36,36,36,36,35,36,36,36,36,36,36,35,35,35,36,35,35,35,34,34,32,34,31,34,29,32,34,34,25,24,25,24,23,23,16,15,13,14,7,36,37,35,36,36,36,36,35,36,36,36,36,36,36,35,35,35,36,35,35,35,34,32,34,31,34,29,32,34,33,34,25,24,25,24,23,23,16,15,13,14,7,37,38,36,37,37,37,37,36,37,37,37,37,37,37,36,36,36,37,36,36,36,35,33,35,32,35,30,33,35,34,35,26,25,26,25,24,24,17,16,14,15,8,35,36,34,35,35,35,35,34,35,35,35,35,35,35,34,34,34,35,34,34,34,33,31,33,30,33,28,31,33,32,33,24,23,24,23,22,22,15,14,12,13,6,36,37,35,36,36,36,36,35,36,36,36,36,36,36,35,35,35,36,35,35,35,34,32,34,31,34,29,32,34,33,34,25,24,25,24,23,23,16,15,13,14,7,36,37,35,36,36,36,36,35,36,36,36,36,36,36,35,35,35,36,35,35,35,34,32,34,31,34,29,32,34,33,34,25,24,25,24,23,23,16,15,13,14,7,31,32,30,31,31,31,31,30,31,31,31,31,31,31,30,30,30,31,30,30,30,29,27,29,26,29,24,27,29,28,29,20,19,20,19,18,18,11,10,8,9,3,41,42,40,41,41,41,41,40,41,41,41,41,41,41,40,40,40,41,40,40,40,39,37,39,36,39,34,37,39,38,39,30,29,30,29,28,28,21,20,18,19,12,37,38,36,37,37,37,37,36,37,37,37,37,37,37,36,36,36,37,36,36,36,35,35,33,35,32,35,30,33,35,34,35,26,25,26,25,24,24,17,16,14,15,8,35,36,34,35,35,35,35,34,35,35,35,35,35,35,34,34,34,35,34,34,34,33,31,33,30,33,28,31,33,32,33,24,23,24,23,22,22,15,14,12,13,6,36,37,35,36,36,36,36,35,36,36,36,36,36,36,35,35,35,36,35,35,35,34,32,34,31,34,29,32,34,33,34,25,24,25,24,23,23,16,15,13,14,7,36,37,35,36,36,36,36,35,36,36,36,36,36,36,35,35,35,36,35,35,35,34,32,34,31,34,29,32,34,33,34,25,24,25,24,23,23,16,15,13,14,7,40,41,39,40,40,40,40,39,40,40,40,40,40,40,39,39,39,40,39,39,39,38,38,36,38,35,38,33,36,38,37,38,29,28,29,28,27,27,20,19,17,18,11,42,43,41,42,42,42,42,41,42,42,42,42,42,42,41,41,41,42,41,41,41,40,40,38,40,37,40,35,38,40,39,40,31,30,31,30,29,29,22,21,19,20,13,38,39,37,38,38,38,38,37,38,38,38,38,38,38,37,37,37,38,37,37,37,36,36,34,36,33,36,31,34,36,35,36,27,26,27,26,25,25,18,17,15,16,9,44,45,43,44,44,44,44,43,44,44,44,44,44,44,43,43,43,44,43,43,43,42,42,40,42,39,42,37,40,42,41,42,33,32,33,32,31,31,24,23,21,22,15,36,37,35,36,36,36,36,35,36,36,36,36,36,36,35,35,35,36,35,35,35,34,34,32,34,31,34,29,32,34,33,34,25,24,25,24,23,23,16,15,13,14,7,46,47,45,46,46,46,46,45,46,46,46,46,46,46,45,45,45,46,45,45,45,44,44,42,44,41,44,39,42,44,43,44,35,34,35,34,33,33,26,25,23,24,17,34,35,33,34,34,34,34,33,34,34,34,34,34,34,33,33,33,34,33,33,33,32,30,32,29,27,30,32,31,32,23,22,23,22,21,21,14,13,11,12,5,43,44,42,43,43,43,43,42,43,43,43,43,43,43,42,42,42,43,42,42,42,41,41,39,41,38,41,36,39,41,40,41,32,31,32,31,30,30,23,22,20,21,14,37,38,36,37,37,37,37,36,37,37,37,37,37,37,36,36,36,37,36,36,36,35,33,35,32,35,30,33,35,34,35,26,25,26,25,24,24,17,16,14,15,8,40,41,39,40,40,40,40,39,40,40,40,40,40,40,39,39,39,40,39,39,39,38,38,36,38,35,38,33,36,38,38,29,28,29,28,27,27,20,19,17,18,11,40,41,39,40,40,40,40,39,40,40,40,40,40,40,39,39,39,40,39,39,39,38,36,38,35,38,33,36,38,37,38,29,28,29,28,27,27,20,19,17,18,11,41,42,40,41,41,41,41,40,41,41,41,41,41,41,40,40,40,41,40,40,40,39,39,37,39,36,39,34,37,39,38,39,30,29,30,29,28,28,21,20,18,19,12,39,40,38,39,39,39,39,38,39,39,39,39,39,39,38,38,38,39,38,38,38,37,35,37,34,37,32,35,37,36,37,28,27,28,27,26,26,19,18,16,17,10,40,41,39,40,40,40,40,39,40,40,40,40,40,40,39,39,39,40,39,39,39,38,38,36,38,35,38,33,36,38,37,38,29,28,29,28,27,27,20,19,17,18,11,40,41,39,40,40,40,40,39,40,40,40,40,40,40,39,39,39,40,39,39,39,38,38,36,38,35,38,33,36,38,37,38,29,28,29,28,27,27,20,19,17,18,11,35,36,34,35,35,35,35,34,35,35,35,35,35,35,34,34,34,35,34,34,34,33,31,33,30,33,28,31,33,32,33,24,23,24,23,22,22,15,14,12,13,6,45,46,44,45,45,45,45,44,45,45,45,45,45,45,44,44,44,45,44,44,44,43,43,41,43,40,43,38,41,43,42,43,34,33,34,33,32,32,25,24,22,23,16,41,42,40,41,41,41,41,40,41,41,41,41,41,41,40,40,40,41,40,40,40,39,39,37,39,36,39,34,37,39,38,39,30,29,29,28,28,21,20,18,19,12,39,40,38,39,39,39,39,38,39,39,39,39,39,39,38,38,38,39,38,38,38,37,35,37,34,37,32,35,37,36,37,28,27,28,27,26,26,19,18,16,17,10,40,41,39,40,40,40,40,39,40,40,40,40,40,40,39,39,39,40,39,39,39,38,38,36,38,35,38,33,36,38,37,38,29,28,29,28,27,27,20,19,17,18,11,40,41,39,40,40,40,40,39,40,40,40,40,40,40,39,39,39,40,39,39,39,38,38,36,38,35,38,33,36,38,37,38,29,28,29,28,27,27,20,19,17,18,11],\"xaxis\":\"x2\",\"yaxis\":\"y2\",\"type\":\"box\"},{\"alignmentgroup\":\"True\",\"bingroup\":\"x\",\"hovertemplate\":\"Churn=Churn<br>Subscription  Length=%{x}<br>count=%{y}<extra></extra>\",\"legendgroup\":\"Churn\",\"marker\":{\"color\":\"#EF553B\",\"pattern\":{\"shape\":\"\"}},\"name\":\"Churn\",\"nbinsx\":200,\"offsetgroup\":\"Churn\",\"orientation\":\"v\",\"showlegend\":true,\"x\":[37,37,33,36,35,36,36,36,26,9,39,35,37,38,38,38,11,35,31,34,33,34,34,34,24,7,43,41,37,40,39,40,40,40,13,33,29,32,31,32,32,32,5,43,39,41,42,42,42,15,31,27,30,29,30,30,30,30,3,40,36,38,39,39,39,30,12,34,30,33,32,33,33,33,6,37,33,35,36,36,36,35,9,37,33,36,35,36,36,36,9,38,34,36,37,37,37,10,36,32,35,34,35,35,35,8,37,33,36,35,36,36,36,27,9,37,33,36,35,36,36,36,9,32,28,31,30,31,31,31,4,42,38,40,41,41,41,32,14,38,34,36,37,37,37,10,36,32,35,34,35,35,35,8,37,33,36,35,36,36,36,27,9,37,33,36,35,36,36,36,9,35,31,34,33,34,34,34,25,7,37,33,36,35,36,36,36,9,33,29,32,31,32,32,32,5,39,35,38,37,38,38,38,11,31,27,30,29,30,30,30,3,41,37,39,40,40,40,13,29,25,28,27,28,28,28,28,3,38,34,37,36,37,37,37,10,32,28,31,30,31,31,31,4,35,31,33,34,34,34,33,7,35,31,34,33,34,34,34,7,36,32,35,34,35,35,35,8,34,30,33,32,33,33,33,6,35,31,34,33,34,34,34,7,35,31,34,33,34,34,34,7,30,26,29,28,29,29,29,3,40,36,39,38,39,39,39,12,36,32,34,35,35,35,8,34,30,33,32,33,33,33,6,35,31,34,33,34,34,34,7,35,31,34,33,34,34,34,7,39,35,37,38,38,38,11,41,37,39,40,40,40,13,37,33,35,36,36,36,9,43,39,41,42,42,42,15,35,31,33,34,34,34,7,45,41,43,44,44,44,17,33,29,32,31,32,32,32,32,5,42,38,40,41,41,41,14,36,32,35,34,35,35,35,8,39,35,37,38,38,38,37,11,39,35,38,37,38,38,38,11,40,36,38,39,39,39,12,38,34,37,36,37,37,37,10,39,35,37,38,38,38,11,39,35,37,38,38,38,11,34,30,33,32,33,33,33,6,44,40,42,43,43,43,16,40,36,38,39,39,39,30,12,38,34,37,36,37,37,37,10,39,35,37,38,38,38,11,39,35,37,38,38,38,11],\"xaxis\":\"x\",\"yaxis\":\"y\",\"type\":\"histogram\"},{\"alignmentgroup\":\"True\",\"hovertemplate\":\"Churn=Churn<br>Subscription  Length=%{x}<extra></extra>\",\"legendgroup\":\"Churn\",\"marker\":{\"color\":\"#EF553B\"},\"name\":\"Churn\",\"notched\":true,\"offsetgroup\":\"Churn\",\"showlegend\":false,\"x\":[37,37,33,36,35,36,36,36,26,9,39,35,37,38,38,38,11,35,31,34,33,34,34,34,24,7,43,41,37,40,39,40,40,40,13,33,29,32,31,32,32,32,5,43,39,41,42,42,42,15,31,27,30,29,30,30,30,30,3,40,36,38,39,39,39,30,12,34,30,33,32,33,33,33,6,37,33,35,36,36,36,35,9,37,33,36,35,36,36,36,9,38,34,36,37,37,37,10,36,32,35,34,35,35,35,8,37,33,36,35,36,36,36,27,9,37,33,36,35,36,36,36,9,32,28,31,30,31,31,31,4,42,38,40,41,41,41,32,14,38,34,36,37,37,37,10,36,32,35,34,35,35,35,8,37,33,36,35,36,36,36,27,9,37,33,36,35,36,36,36,9,35,31,34,33,34,34,34,25,7,37,33,36,35,36,36,36,9,33,29,32,31,32,32,32,5,39,35,38,37,38,38,38,11,31,27,30,29,30,30,30,3,41,37,39,40,40,40,13,29,25,28,27,28,28,28,28,3,38,34,37,36,37,37,37,10,32,28,31,30,31,31,31,4,35,31,33,34,34,34,33,7,35,31,34,33,34,34,34,7,36,32,35,34,35,35,35,8,34,30,33,32,33,33,33,6,35,31,34,33,34,34,34,7,35,31,34,33,34,34,34,7,30,26,29,28,29,29,29,3,40,36,39,38,39,39,39,12,36,32,34,35,35,35,8,34,30,33,32,33,33,33,6,35,31,34,33,34,34,34,7,35,31,34,33,34,34,34,7,39,35,37,38,38,38,11,41,37,39,40,40,40,13,37,33,35,36,36,36,9,43,39,41,42,42,42,15,35,31,33,34,34,34,7,45,41,43,44,44,44,17,33,29,32,31,32,32,32,32,5,42,38,40,41,41,41,14,36,32,35,34,35,35,35,8,39,35,37,38,38,38,37,11,39,35,38,37,38,38,38,11,40,36,38,39,39,39,12,38,34,37,36,37,37,37,10,39,35,37,38,38,38,11,39,35,37,38,38,38,11,34,30,33,32,33,33,33,6,44,40,42,43,43,43,16,40,36,38,39,39,39,30,12,38,34,37,36,37,37,37,10,39,35,37,38,38,38,11,39,35,37,38,38,38,11],\"xaxis\":\"x2\",\"yaxis\":\"y2\",\"type\":\"box\"}],                        {\"template\":{\"data\":{\"bar\":[{\"error_x\":{\"color\":\"#2a3f5f\"},\"error_y\":{\"color\":\"#2a3f5f\"},\"marker\":{\"line\":{\"color\":\"#E5ECF6\",\"width\":0.5},\"pattern\":{\"fillmode\":\"overlay\",\"size\":10,\"solidity\":0.2}},\"type\":\"bar\"}],\"barpolar\":[{\"marker\":{\"line\":{\"color\":\"#E5ECF6\",\"width\":0.5},\"pattern\":{\"fillmode\":\"overlay\",\"size\":10,\"solidity\":0.2}},\"type\":\"barpolar\"}],\"carpet\":[{\"aaxis\":{\"endlinecolor\":\"#2a3f5f\",\"gridcolor\":\"white\",\"linecolor\":\"white\",\"minorgridcolor\":\"white\",\"startlinecolor\":\"#2a3f5f\"},\"baxis\":{\"endlinecolor\":\"#2a3f5f\",\"gridcolor\":\"white\",\"linecolor\":\"white\",\"minorgridcolor\":\"white\",\"startlinecolor\":\"#2a3f5f\"},\"type\":\"carpet\"}],\"choropleth\":[{\"colorbar\":{\"outlinewidth\":0,\"ticks\":\"\"},\"type\":\"choropleth\"}],\"contour\":[{\"colorbar\":{\"outlinewidth\":0,\"ticks\":\"\"},\"colorscale\":[[0.0,\"#0d0887\"],[0.1111111111111111,\"#46039f\"],[0.2222222222222222,\"#7201a8\"],[0.3333333333333333,\"#9c179e\"],[0.4444444444444444,\"#bd3786\"],[0.5555555555555556,\"#d8576b\"],[0.6666666666666666,\"#ed7953\"],[0.7777777777777778,\"#fb9f3a\"],[0.8888888888888888,\"#fdca26\"],[1.0,\"#f0f921\"]],\"type\":\"contour\"}],\"contourcarpet\":[{\"colorbar\":{\"outlinewidth\":0,\"ticks\":\"\"},\"type\":\"contourcarpet\"}],\"heatmap\":[{\"colorbar\":{\"outlinewidth\":0,\"ticks\":\"\"},\"colorscale\":[[0.0,\"#0d0887\"],[0.1111111111111111,\"#46039f\"],[0.2222222222222222,\"#7201a8\"],[0.3333333333333333,\"#9c179e\"],[0.4444444444444444,\"#bd3786\"],[0.5555555555555556,\"#d8576b\"],[0.6666666666666666,\"#ed7953\"],[0.7777777777777778,\"#fb9f3a\"],[0.8888888888888888,\"#fdca26\"],[1.0,\"#f0f921\"]],\"type\":\"heatmap\"}],\"heatmapgl\":[{\"colorbar\":{\"outlinewidth\":0,\"ticks\":\"\"},\"colorscale\":[[0.0,\"#0d0887\"],[0.1111111111111111,\"#46039f\"],[0.2222222222222222,\"#7201a8\"],[0.3333333333333333,\"#9c179e\"],[0.4444444444444444,\"#bd3786\"],[0.5555555555555556,\"#d8576b\"],[0.6666666666666666,\"#ed7953\"],[0.7777777777777778,\"#fb9f3a\"],[0.8888888888888888,\"#fdca26\"],[1.0,\"#f0f921\"]],\"type\":\"heatmapgl\"}],\"histogram\":[{\"marker\":{\"pattern\":{\"fillmode\":\"overlay\",\"size\":10,\"solidity\":0.2}},\"type\":\"histogram\"}],\"histogram2d\":[{\"colorbar\":{\"outlinewidth\":0,\"ticks\":\"\"},\"colorscale\":[[0.0,\"#0d0887\"],[0.1111111111111111,\"#46039f\"],[0.2222222222222222,\"#7201a8\"],[0.3333333333333333,\"#9c179e\"],[0.4444444444444444,\"#bd3786\"],[0.5555555555555556,\"#d8576b\"],[0.6666666666666666,\"#ed7953\"],[0.7777777777777778,\"#fb9f3a\"],[0.8888888888888888,\"#fdca26\"],[1.0,\"#f0f921\"]],\"type\":\"histogram2d\"}],\"histogram2dcontour\":[{\"colorbar\":{\"outlinewidth\":0,\"ticks\":\"\"},\"colorscale\":[[0.0,\"#0d0887\"],[0.1111111111111111,\"#46039f\"],[0.2222222222222222,\"#7201a8\"],[0.3333333333333333,\"#9c179e\"],[0.4444444444444444,\"#bd3786\"],[0.5555555555555556,\"#d8576b\"],[0.6666666666666666,\"#ed7953\"],[0.7777777777777778,\"#fb9f3a\"],[0.8888888888888888,\"#fdca26\"],[1.0,\"#f0f921\"]],\"type\":\"histogram2dcontour\"}],\"mesh3d\":[{\"colorbar\":{\"outlinewidth\":0,\"ticks\":\"\"},\"type\":\"mesh3d\"}],\"parcoords\":[{\"line\":{\"colorbar\":{\"outlinewidth\":0,\"ticks\":\"\"}},\"type\":\"parcoords\"}],\"pie\":[{\"automargin\":true,\"type\":\"pie\"}],\"scatter\":[{\"marker\":{\"colorbar\":{\"outlinewidth\":0,\"ticks\":\"\"}},\"type\":\"scatter\"}],\"scatter3d\":[{\"line\":{\"colorbar\":{\"outlinewidth\":0,\"ticks\":\"\"}},\"marker\":{\"colorbar\":{\"outlinewidth\":0,\"ticks\":\"\"}},\"type\":\"scatter3d\"}],\"scattercarpet\":[{\"marker\":{\"colorbar\":{\"outlinewidth\":0,\"ticks\":\"\"}},\"type\":\"scattercarpet\"}],\"scattergeo\":[{\"marker\":{\"colorbar\":{\"outlinewidth\":0,\"ticks\":\"\"}},\"type\":\"scattergeo\"}],\"scattergl\":[{\"marker\":{\"colorbar\":{\"outlinewidth\":0,\"ticks\":\"\"}},\"type\":\"scattergl\"}],\"scattermapbox\":[{\"marker\":{\"colorbar\":{\"outlinewidth\":0,\"ticks\":\"\"}},\"type\":\"scattermapbox\"}],\"scatterpolar\":[{\"marker\":{\"colorbar\":{\"outlinewidth\":0,\"ticks\":\"\"}},\"type\":\"scatterpolar\"}],\"scatterpolargl\":[{\"marker\":{\"colorbar\":{\"outlinewidth\":0,\"ticks\":\"\"}},\"type\":\"scatterpolargl\"}],\"scatterternary\":[{\"marker\":{\"colorbar\":{\"outlinewidth\":0,\"ticks\":\"\"}},\"type\":\"scatterternary\"}],\"surface\":[{\"colorbar\":{\"outlinewidth\":0,\"ticks\":\"\"},\"colorscale\":[[0.0,\"#0d0887\"],[0.1111111111111111,\"#46039f\"],[0.2222222222222222,\"#7201a8\"],[0.3333333333333333,\"#9c179e\"],[0.4444444444444444,\"#bd3786\"],[0.5555555555555556,\"#d8576b\"],[0.6666666666666666,\"#ed7953\"],[0.7777777777777778,\"#fb9f3a\"],[0.8888888888888888,\"#fdca26\"],[1.0,\"#f0f921\"]],\"type\":\"surface\"}],\"table\":[{\"cells\":{\"fill\":{\"color\":\"#EBF0F8\"},\"line\":{\"color\":\"white\"}},\"header\":{\"fill\":{\"color\":\"#C8D4E3\"},\"line\":{\"color\":\"white\"}},\"type\":\"table\"}]},\"layout\":{\"annotationdefaults\":{\"arrowcolor\":\"#2a3f5f\",\"arrowhead\":0,\"arrowwidth\":1},\"autotypenumbers\":\"strict\",\"coloraxis\":{\"colorbar\":{\"outlinewidth\":0,\"ticks\":\"\"}},\"colorscale\":{\"diverging\":[[0,\"#8e0152\"],[0.1,\"#c51b7d\"],[0.2,\"#de77ae\"],[0.3,\"#f1b6da\"],[0.4,\"#fde0ef\"],[0.5,\"#f7f7f7\"],[0.6,\"#e6f5d0\"],[0.7,\"#b8e186\"],[0.8,\"#7fbc41\"],[0.9,\"#4d9221\"],[1,\"#276419\"]],\"sequential\":[[0.0,\"#0d0887\"],[0.1111111111111111,\"#46039f\"],[0.2222222222222222,\"#7201a8\"],[0.3333333333333333,\"#9c179e\"],[0.4444444444444444,\"#bd3786\"],[0.5555555555555556,\"#d8576b\"],[0.6666666666666666,\"#ed7953\"],[0.7777777777777778,\"#fb9f3a\"],[0.8888888888888888,\"#fdca26\"],[1.0,\"#f0f921\"]],\"sequentialminus\":[[0.0,\"#0d0887\"],[0.1111111111111111,\"#46039f\"],[0.2222222222222222,\"#7201a8\"],[0.3333333333333333,\"#9c179e\"],[0.4444444444444444,\"#bd3786\"],[0.5555555555555556,\"#d8576b\"],[0.6666666666666666,\"#ed7953\"],[0.7777777777777778,\"#fb9f3a\"],[0.8888888888888888,\"#fdca26\"],[1.0,\"#f0f921\"]]},\"colorway\":[\"#636efa\",\"#EF553B\",\"#00cc96\",\"#ab63fa\",\"#FFA15A\",\"#19d3f3\",\"#FF6692\",\"#B6E880\",\"#FF97FF\",\"#FECB52\"],\"font\":{\"color\":\"#2a3f5f\"},\"geo\":{\"bgcolor\":\"white\",\"lakecolor\":\"white\",\"landcolor\":\"#E5ECF6\",\"showlakes\":true,\"showland\":true,\"subunitcolor\":\"white\"},\"hoverlabel\":{\"align\":\"left\"},\"hovermode\":\"closest\",\"mapbox\":{\"style\":\"light\"},\"paper_bgcolor\":\"white\",\"plot_bgcolor\":\"#E5ECF6\",\"polar\":{\"angularaxis\":{\"gridcolor\":\"white\",\"linecolor\":\"white\",\"ticks\":\"\"},\"bgcolor\":\"#E5ECF6\",\"radialaxis\":{\"gridcolor\":\"white\",\"linecolor\":\"white\",\"ticks\":\"\"}},\"scene\":{\"xaxis\":{\"backgroundcolor\":\"#E5ECF6\",\"gridcolor\":\"white\",\"gridwidth\":2,\"linecolor\":\"white\",\"showbackground\":true,\"ticks\":\"\",\"zerolinecolor\":\"white\"},\"yaxis\":{\"backgroundcolor\":\"#E5ECF6\",\"gridcolor\":\"white\",\"gridwidth\":2,\"linecolor\":\"white\",\"showbackground\":true,\"ticks\":\"\",\"zerolinecolor\":\"white\"},\"zaxis\":{\"backgroundcolor\":\"#E5ECF6\",\"gridcolor\":\"white\",\"gridwidth\":2,\"linecolor\":\"white\",\"showbackground\":true,\"ticks\":\"\",\"zerolinecolor\":\"white\"}},\"shapedefaults\":{\"line\":{\"color\":\"#2a3f5f\"}},\"ternary\":{\"aaxis\":{\"gridcolor\":\"white\",\"linecolor\":\"white\",\"ticks\":\"\"},\"baxis\":{\"gridcolor\":\"white\",\"linecolor\":\"white\",\"ticks\":\"\"},\"bgcolor\":\"#E5ECF6\",\"caxis\":{\"gridcolor\":\"white\",\"linecolor\":\"white\",\"ticks\":\"\"}},\"title\":{\"x\":0.05},\"xaxis\":{\"automargin\":true,\"gridcolor\":\"white\",\"linecolor\":\"white\",\"ticks\":\"\",\"title\":{\"standoff\":15},\"zerolinecolor\":\"white\",\"zerolinewidth\":2},\"yaxis\":{\"automargin\":true,\"gridcolor\":\"white\",\"linecolor\":\"white\",\"ticks\":\"\",\"title\":{\"standoff\":15},\"zerolinecolor\":\"white\",\"zerolinewidth\":2}}},\"xaxis\":{\"anchor\":\"y\",\"domain\":[0.0,1.0],\"title\":{\"text\":\"Subscription  Length\"}},\"yaxis\":{\"anchor\":\"x\",\"domain\":[0.0,0.7326],\"title\":{\"text\":\"count\"}},\"xaxis2\":{\"anchor\":\"y2\",\"domain\":[0.0,1.0],\"matches\":\"x\",\"showticklabels\":false,\"showgrid\":true},\"yaxis2\":{\"anchor\":\"x2\",\"domain\":[0.7426,1.0],\"matches\":\"y2\",\"showticklabels\":false,\"showline\":false,\"ticks\":\"\",\"showgrid\":false},\"legend\":{\"title\":{\"text\":\"Churn\"},\"tracegroupgap\":0},\"margin\":{\"t\":60},\"barmode\":\"relative\",\"title\":{\"text\":\"Distribution of the subscription length within the last 12 months\"},\"height\":500,\"width\":1200},                        {\"responsive\": true}                    ).then(function(){\n",
              "                            \n",
              "var gd = document.getElementById('5c3510af-199e-4488-b055-cb901279b84b');\n",
              "var x = new MutationObserver(function (mutations, observer) {{\n",
              "        var display = window.getComputedStyle(gd).display;\n",
              "        if (!display || display === 'none') {{\n",
              "            console.log([gd, 'removed!']);\n",
              "            Plotly.purge(gd);\n",
              "            observer.disconnect();\n",
              "        }}\n",
              "}});\n",
              "\n",
              "// Listen for the removal of the full notebook cells\n",
              "var notebookContainer = gd.closest('#notebook-container');\n",
              "if (notebookContainer) {{\n",
              "    x.observe(notebookContainer, {childList: true});\n",
              "}}\n",
              "\n",
              "// Listen for the clearing of the current output cell\n",
              "var outputEl = gd.closest('.output');\n",
              "if (outputEl) {{\n",
              "    x.observe(outputEl, {childList: true});\n",
              "}}\n",
              "\n",
              "                        })                };                            </script>        </div>\n",
              "</body>\n",
              "</html>"
            ]
          },
          "metadata": {},
          "output_type": "display_data"
        }
      ],
      "source": [
        "  fig = px.histogram(data, x=\"Subscription  Length\", color=\"Churn\", marginal=\"box\", nbins= 200)\n",
        "\n",
        "fig.update_layout(height=500, width=1200, title_text=\"Distribution of the subscription length within the last 12 months\")\n",
        "fig.show(renderer= 'colab')"
      ]
    },
    {
      "cell_type": "markdown",
      "metadata": {
        "id": "NzQxYB5JNXEV"
      },
      "source": [
        "User with higher subscription are most likely to churn than users with low subscription\n"
      ]
    },
    {
      "cell_type": "code",
      "execution_count": null,
      "metadata": {
        "colab": {
          "base_uri": "https://localhost:8080/",
          "height": 517
        },
        "id": "FXNYnEBfgXxR",
        "outputId": "b1607200-a461-4380-b9cc-d4d6373a4bf9"
      },
      "outputs": [
        {
          "data": {
            "text/html": [
              "<html>\n",
              "<head><meta charset=\"utf-8\" /></head>\n",
              "<body>\n",
              "    <div>            <script src=\"https://cdnjs.cloudflare.com/ajax/libs/mathjax/2.7.5/MathJax.js?config=TeX-AMS-MML_SVG\"></script><script type=\"text/javascript\">if (window.MathJax) {MathJax.Hub.Config({SVG: {font: \"STIX-Web\"}});}</script>                <script type=\"text/javascript\">window.PlotlyConfig = {MathJaxConfig: 'local'};</script>\n",
              "        <script src=\"https://cdn.plot.ly/plotly-2.8.3.min.js\"></script>                <div id=\"05e57a64-42a6-4ae3-b276-04a96617df86\" class=\"plotly-graph-div\" style=\"height:500px; width:1200px;\"></div>            <script type=\"text/javascript\">                                    window.PLOTLYENV=window.PLOTLYENV || {};                                    if (document.getElementById(\"05e57a64-42a6-4ae3-b276-04a96617df86\")) {                    Plotly.newPlot(                        \"05e57a64-42a6-4ae3-b276-04a96617df86\",                        [{\"alignmentgroup\":\"True\",\"bingroup\":\"x\",\"hovertemplate\":\"Churn=Non Churn<br>Seconds of Use=%{x}<br>count=%{y}<extra></extra>\",\"legendgroup\":\"Non Churn\",\"marker\":{\"color\":\"#636efa\",\"pattern\":{\"shape\":\"\"}},\"name\":\"Non Churn\",\"nbinsx\":200,\"offsetgroup\":\"Non Churn\",\"orientation\":\"v\",\"showlegend\":true,\"x\":[4370,318,2453,4198,2393,3775,2360,9115,13773,4515,5918,2238,15140,3095,15485,6500,710,7508,11465,6718,10435,2840,1668,6785,338,16075,6965,3718,1665,2780,1315,1568,700,1225,3225,1695,6393,8933,2853,4390,4430,378,2513,4258,2453,3835,2420,9175,13833,4575,5978,2298,15200,3155,15545,6560,935,770,7568,11525,6778,10495,5878,2900,1728,6845,398,16135,7025,3778,1725,2840,1375,1628,760,885,1285,3285,1755,6453,8993,2913,4450,4310,258,2393,4138,2333,3715,2300,9055,13713,4455,5858,2178,15080,3035,15425,6440,815,650,7448,11405,6658,10375,2780,1608,6725,0,16015,6905,3658,1605,2720,1255,1508,640,1165,3165,1635,6333,8873,2793,4330,4450,2533,4278,2473,3855,2440,9195,13853,4595,5998,2318,15220,3175,15565,6580,955,790,7588,11545,6798,10515,2920,1748,6865,418,16155,7045,3798,1745,2860,1395,1648,780,905,1305,3305,1775,6473,9013,2933,4470,4290,0,2373,4118,2313,3695,2280,9035,13693,4435,5838,2158,15060,3015,15405,6420,795,630,7428,11385,6638,10355,2760,1588,6705,0,15995,6885,3638,1585,2700,1235,1488,620,0,1145,3145,1615,6313,8853,2773,4310,4630,578,2713,4458,2653,4035,2620,9375,14033,4775,6178,2498,15400,3355,15745,6760,1135,970,7768,11725,6978,10695,6078,3100,1928,7045,598,16335,7225,3978,1925,3040,1575,1828,960,1085,1485,3485,1955,6653,9193,3113,4650,4110,0,2193,3938,2133,3515,2100,8855,13513,4255,5658,1978,14880,2835,15225,6240,615,450,7248,11205,6458,10175,2580,0,6525,15815,6705,3458,1405,2520,1055,1308,440,0,965,2965,1435,6133,8673,2593,4130,4550,498,2633,4378,2573,3955,2540,9295,13953,4695,6098,2418,15320,3275,15665,6680,1055,890,7688,11645,6898,10615,5998,3020,1848,6965,518,16255,7145,3898,1845,2960,1748,880,1005,1405,3405,1875,6573,9113,3033,4570,4190,0,2273,4018,2213,3595,2180,8935,13593,4335,5738,2058,14960,2915,15305,6320,695,530,7328,11285,6538,10255,2660,1488,6605,0,15895,6785,3538,1485,2600,1135,1388,520,0,1045,3045,1515,6213,8753,2673,4210,4970,918,3053,4798,2993,4375,2960,9715,14373,5115,6518,2838,15740,3695,16085,7100,1475,1310,8108,12065,7318,11035,6418,3440,2268,7385,938,16675,7565,4318,3380,1915,2168,1300,1425,1825,3825,2295,6993,9533,3453,4990,3770,0,1853,3598,1793,3175,1760,8515,13173,3915,5318,1638,14540,2495,14885,5900,275,110,6908,10865,6118,9835,2240,1068,6185,0,15475,6365,3118,1065,2180,715,968,100,0,625,2625,1095,5793,8333,2253,3790,4485,433,2568,4313,2508,3890,2475,9230,13888,4630,6033,2353,15255,3210,15600,6615,990,825,7623,11580,6833,10550,5933,2955,1783,6900,453,16190,7080,3833,1780,2895,1430,1683,815,940,1340,3340,1810,6508,9048,2968,4505,4255,0,2338,4083,2278,3660,2245,9000,13658,4400,5803,2123,15025,2980,15370,6385,760,595,7393,11350,6603,10320,2725,1553,6670,0,15960,6850,3603,1550,2665,1200,1453,585,710,1110,3110,1580,6278,8818,2738,4275,4560,508,2643,4388,2583,3965,2550,9305,13963,4705,6108,2428,15330,3285,15675,6690,1065,900,7698,11655,6908,10625,3030,1858,6975,528,16265,7155,3908,1855,2970,1758,890,1015,1415,3415,1885,6582,9122,3042,4580,4180,128,2263,4008,2203,3585,2170,8925,13583,4325,5728,2048,14950,2905,15295,6310,685,520,7318,11275,6528,10245,2650,1478,6595,0,15885,6775,3528,1475,2590,1125,1378,510,635,1035,3035,1505,6202,8742,2662,4200,4370,318,2453,4198,2393,3775,2360,9115,13773,4515,5918,2238,15140,3095,15485,6500,875,710,7508,11465,6718,10435,2840,1668,6785,338,16075,6965,3718,1665,2780,1315,1568,700,825,1225,3225,1695,6392,8932,2852,4390,4370,318,2453,4198,2393,3775,2360,9115,13773,4515,5918,2238,15140,3095,15485,6500,875,710,7508,11465,6718,10435,5818,2840,1668,6785,338,16075,6965,3718,1665,2780,1568,700,825,1225,3225,1695,6392,8932,2852,4390,5080,1028,3163,4908,3103,4485,3070,9825,14483,5225,6628,2948,15850,3805,16195,7210,1585,1420,8218,12175,7428,11145,6528,3550,2378,7495,1048,16785,7675,4428,2375,3490,2025,2278,1410,1535,1935,3935,2405,7102,9642,3562,5100,3660,0,1743,3488,1683,3065,1650,8405,13063,3805,5208,1528,14430,2385,14775,5790,165,0,6798,10755,6008,9725,2130,958,6075,0,15365,6255,3008,955,2070,605,858,0,0,515,2515,985,5682,8222,2142,3680,4370,318,2453,4198,2393,3775,2360,9115,13773,4515,5918,2238,15140,3095,15485,6500,875,710,7508,11465,6718,10435,2840,1668,6785,338,16075,6965,3718,1665,2780,1568,700,825,1225,3225,1695,6392,8932,2852,4390,4370,318,2453,4198,2393,3775,2360,9115,13773,4515,5918,2238,15140,3095,15485,6500,875,710,7508,11465,6718,10435,2840,1668,6785,338,16075,6965,3718,1665,2780,1315,1568,700,825,1225,3225,1695,6392,8932,2852,4390,4065,0,2148,3893,2088,3470,2055,8810,13468,4210,5613,1933,14835,2790,15180,6195,570,405,7203,11160,6413,10130,2535,1363,6480,0,15770,6660,3413,1360,2475,1263,395,520,920,2920,1390,6088,8628,2548,4085,4125,73,2208,3953,2148,3530,2115,8870,13528,4270,5673,1993,14895,2850,15240,6255,630,465,7263,11220,6473,10190,2595,1423,6540,93,15830,6720,3473,1420,2535,1070,1323,455,580,980,2980,1450,6148,8688,2608,4145,4005,0,2088,3833,2028,3410,1995,8750,13408,4150,5553,1873,14775,2730,15120,6135,510,345,7143,11100,6353,10070,2475,1303,6420,0,15710,6600,3353,1300,2415,950,1203,335,0,860,2860,1330,6028,8568,2488,4025,4145,93,2228,3973,2168,3550,2135,8890,13548,4290,5693,2013,14915,2870,15260,6275,650,485,7283,11240,6493,10210,2615,1443,6560,0,15850,6740,3493,1440,2555,1090,1343,475,600,1000,3000,1470,6168,8708,2628,4165,3985,0,2068,3813,2008,3390,1975,8730,13388,4130,5533,1853,14755,2710,15100,6115,490,325,7123,11080,6333,10050,2455,1283,6400,0,15690,6580,3333,1280,2395,930,1183,315,0,840,2840,1310,6008,8548,2468,4005,4325,273,2408,4153,2348,3730,2315,9070,13728,4470,5873,2193,15095,3050,15440,6455,830,665,7463,11420,6673,10390,5773,2795,1623,6740,293,16030,6920,3673,1620,2735,1270,1523,655,780,1180,3180,1650,6348,8888,2808,4345,3805,0,1888,3633,1828,3210,1795,8550,13208,3950,5353,1673,14575,2530,14920,5935,0,0,6943,10900,6153,9870,2275,0,6220,15510,6400,3153,1100,2215,750,1003,0,0,660,2660,1130,5828,8368,2288,3825,4245,193,2328,4073,2268,3650,2235,8990,13648,4390,5793,2113,15015,2970,15360,6375,750,585,7383,11340,6593,10310,2715,1543,6660,213,15950,6840,3593,1540,2655,1190,1443,575,700,1100,3100,1570,6268,8808,2728,4265,3885,0,1968,3713,1908,3290,1875,8630,13288,4030,5433,1753,14655,2610,15000,6015,0,0,7023,10980,6233,9950,2355,0,6300,0,15590,6480,3233,1180,2295,830,1083,215,0,740,2740,1210,5908,8448,2368,3905,4665,613,2748,4493,2688,4070,2655,9410,14068,4810,6213,2533,15435,3390,15780,6795,1170,1005,7803,11760,7013,10730,6113,3135,1963,7080,633,16370,7260,4013,3075,1610,1863,995,1120,1520,3520,1990,6688,9228,3148,4685,3465,0,1548,3293,1488,2870,1455,8210,12868,3610,5013,1333,14235,2190,14580,5595,0,0,6603,10560,5813,9530,1935,0,5880,0,15170,6060,2813,760,1875,1903,663,0,0,0,2320,0,5488,8028,1948,3485,4180,128,2263,4008,2203,3585,2170,8925,13583,4325,5728,2048,14950,2905,15295,6310,685,520,7318,11275,6528,10245,2650,1478,6595,148,15885,6775,3528,1475,2590,1125,1378,510,635,1035,3035,1505,6203,8743,2663,4200,3950,0,2033,3778,1973,3355,1940,8695,13353,4095,5498,1818,14720,2675,15065,6080,455,290,7088,11045,6298,10015,2420,1248,6365,0,15655,6545,3298,1245,2360,895,1148,280,0,805,2805,1275,5973,8513,2433,3970,4255,0,2338,4083,2278,3660,2245,9000,13658,4400,5803,2123,15025,2980,15370,6385,760,595,7393,11350,6603,10320,2725,1553,6670,0,15960,6850,3603,1550,2665,1200,1453,585,710,1110,3110,1580,6277,8817,2737,4275,3875,0,1958,3703,1898,3280,1865,8620,13278,4020,5423,1743,14645,2600,14990,6005,380,215,7013,10970,6223,9940,2345,1173,6290,0,15580,6470,3223,1170,2285,820,1073,205,0,730,2730,1200,5897,8437,2357,3895,4065,0,2148,3893,2088,3470,2055,8810,13468,4210,5613,1933,14835,2790,15180,6195,570,405,7203,11160,6413,10130,2535,1363,6480,0,15770,6660,3413,1360,2475,1010,1263,395,520,920,2920,1390,6087,8627,2547,4085,4065,13,2148,3893,2088,3470,2055,8810,13468,4210,5613,1933,14835,2790,15180,6195,570,405,7203,11160,6413,10130,2535,1363,6480,33,15770,6660,3413,1360,2475,1010,1263,395,520,920,2920,1390,6087,8627,2547,4085,4775,723,2858,4603,2798,4180,2765,9520,14178,4920,6323,2643,15545,3500,15890,6905,1280,1115,7913,11870,7123,10840,6223,3245,2073,7190,743,16480,7370,4123,2070,3185,1720,1973,1105,1230,1630,3630,2100,6797,9337,3257,4795,3355,0,1438,3183,1378,2760,1345,8100,12758,3500,4903,1223,14125,2080,14470,5485,0,0,6493,10450,5703,9420,1825,653,5770,0,15060,5950,2703,650,1765,300,553,0,0,210,2210,680,5377,7917,1837,3375,4065,0,2148,3893,2088,3470,2055,8810,13468,4210,5613,1933,14835,2790,15180,6195,570,405,7203,11160,6413,10130,2535,1363,6480,0,15770,6660,3413,1360,2475,1010,1263,395,520,920,2920,1390,6087,8627,2547,4085,4065,0,2148,3893,2088,3470,2055,8810,13468,4210,5613,1933,14835,2790,15180,6195,570,405,7203,11160,6413,10130,2535,1363,6480,0,15770,6660,3413,1360,2475,1010,1263,395,520,920,2920,1390,6087,8627,2547,4085,4675,623,2758,4503,2698,4080,2665,9420,14078,4820,6223,2543,15445,3400,15790,6805,1180,1015,7813,11770,7023,10740,6123,3145,1973,7090,643,16380,7270,4023,1970,3085,1620,1873,1005,1130,1530,3530,2000,6698,9238,3158,4695,4735,683,2818,4563,2758,4140,2725,9480,14138,4880,6283,2603,15505,3460,15850,6865,1240,1075,7873,11830,7083,10800,6183,3205,2033,7150,703,16440,7330,4083,2030,3145,1680,1933,1065,1190,1590,3590,2060,6758,9298,3218,4755,4615,563,2698,4443,2638,4020,2605,9360,14018,4760,6163,2483,15385,3340,15730,6745,1120,955,7753,11710,6963,10680,6063,3085,1913,7030,305,16320,7210,3963,1910,3025,1560,1813,945,1070,1470,3470,1940,6638,9178,3098,4635,4755,703,2838,4583,2778,4160,2745,9500,14158,4900,6303,2623,15525,3480,15870,6885,1260,1095,7893,11850,7103,10820,6203,3225,2053,7170,723,16460,7350,4103,2050,3165,1700,1953,1085,1210,1610,3610,2080,6778,9318,3238,4775,4595,305,2678,4423,2618,4000,2585,9340,13998,4740,6143,2463,15365,3320,15710,6725,1100,935,7733,11690,6943,10660,6043,3065,1893,7010,305,16300,7190,3943,1890,3005,1540,1793,925,305,1450,3450,1920,6618,9158,3078,4615,4935,883,3018,4763,2958,4340,2925,9680,14338,5080,6483,2803,15705,3660,16050,7065,1440,1275,8073,12030,7283,11000,6383,3405,2233,7350,903,16640,7530,4283,2230,3345,1880,2133,1265,1390,1790,3790,2260,6958,9498,3418,4955,4415,305,2498,4243,2438,3820,2405,9160,13818,4560,5963,2283,15185,3140,15530,6545,920,755,7553,11510,6763,10480,2885,305,6830,16120,7010,3763,1710,2825,1360,1613,745,305,1270,3270,1740,6438,8978,2898,4435,4855,803,2938,4683,2878,4260,2845,9600,14258,5000,6403,2723,15625,3580,15970,6985,1360,1195,7993,11950,7203,10920,6303,3325,2153,7270,823,16560,7450,4203,2150,3265,1800,2053,1185,1310,1710,3710,2180,6878,9418,3338,4875,4495,305,2578,4323,2518,3900,2485,9240,13898,4640,6043,2363,15265,3220,15610,6625,1000,835,7633,11590,6843,10560,2965,1793,6910,305,16200,7090,3843,1790,2905,1440,1693,825,305,1350,3350,1820,6518,9058,2978,4515,5275,1223,3358,5103,3298,4680,3265,10020,14678,5420,6823,3143,16045,4000,16390,7405,1780,1615,8413,12370,7623,11340,6723,3745,2573,7690,1243,16980,7870,4623,3685,2220,2473,1605,1730,2130,4130,2600,7298,9838,3758,5295,4075,305,2158,3903,2098,3480,2065,8820,13478,4220,5623,1943,14845,2800,15190,6205,580,415,7213,11170,6423,10140,2545,1373,6490,305,15780,6670,3423,1370,2485,1020,1273,405,305,930,2930,1400,6098,8638,2558,4095,4790,738,2873,4618,2813,4195,2780,9535,14193,4935,6338,2658,15560,3515,15905,6920,1295,1130,7928,11885,7138,10855,6238,3260,2088,7205,758,16495,7385,4138,2085,3200,1735,1988,1120,1245,1645,3645,2115,6813,9353,3273,4810,4560,305,2643,4388,2583,3965,2550,9305,13963,4705,6108,2428,15330,3285,15675,6690,1065,900,7698,11655,6908,10625,3030,1858,6975,305,16265,7155,3908,1855,2970,1505,1758,890,1015,1415,3415,1885,6583,9123,3043,4580,4865,813,2948,4693,2888,4270,2855,9610,14268,5010,6413,2733,15635,3590,15980,6995,1370,1205,8003,11960,7213,10930,6313,3335,2163,7280,833,16570,7460,4213,2160,3275,1810,2063,1195,1320,1720,3720,2190,6887,9427,3347,4885,4485,433,2568,4313,2508,3890,2475,9230,13888,4630,6033,2353,15255,3210,15600,6615,990,825,7623,11580,6833,10550,5933,2955,1783,6900,453,16190,7080,3833,1780,2895,1430,1683,815,940,1340,3340,1810,6507,9047,2967,4505,4675,623,2758,4503,2698,4080,2665,9420,14078,4820,6223,2543,15445,3400,15790,6805,1180,1015,7813,11770,7023,10740,3145,1973,7090,643,16380,7270,4023,1970,3085,1620,1873,1005,1130,1530,3530,2000,6697,9237,3157,4695,4675,623,2758,4503,2698,4080,2665,9420,14078,4820,6223,2543,15445,3400,15790,6805,1180,1015,7813,11770,7023,10740,6123,3145,1973,7090,643,16380,7270,4023,1970,3085,1620,1873,1005,1130,1530,3530,2000,6697,9237,3157,4695,5385,1333,3468,5213,3408,4790,3375,10130,14788,5530,6933,3253,16155,4110,16500,7515,1890,1725,8523,12480,7733,11450,6833,3855,2683,7800,1353,17090,7980,4733,2680,3795,2330,2583,1840,2240,4240,2710,7407,9947,3867,5405,3965,0,2048,3793,1988,3370,1955,8710,13368,4110,5513,1833,14735,2690,15080,6095,470,305,7103,11060,6313,10030,2435,1263,6380,0,15670,6560,3313,1260,2375,910,1163,295,420,820,2820,1290,5987,8527,2447,3985,4675,623,2758,4503,2698,4080,2665,9420,14078,4820,6223,2543,15445,3400,15790,6805,1180,1015,7813,11770,7023,10740,6123,3145,1973,7090,643,16380,7270,4023,1970,3085,1620,1873,1005,1130,1530,3530,2000,6697,9237,3157,4695,4675,623,2758,4503,2698,4080,2665,9420,14078,4820,6223,2543,15445,3400,15790,6805,1180,1015,7813,11770,7023,10740,6123,3145,1973,7090,643,16380,7270,4023,1970,3085,1620,1873,1005,1130,1530,3530,2000,6697,9237,3157,4695],\"xaxis\":\"x\",\"yaxis\":\"y\",\"type\":\"histogram\"},{\"alignmentgroup\":\"True\",\"hovertemplate\":\"Churn=Non Churn<br>Seconds of Use=%{x}<extra></extra>\",\"legendgroup\":\"Non Churn\",\"marker\":{\"color\":\"#636efa\"},\"name\":\"Non Churn\",\"notched\":true,\"offsetgroup\":\"Non Churn\",\"showlegend\":false,\"x\":[4370,318,2453,4198,2393,3775,2360,9115,13773,4515,5918,2238,15140,3095,15485,6500,710,7508,11465,6718,10435,2840,1668,6785,338,16075,6965,3718,1665,2780,1315,1568,700,1225,3225,1695,6393,8933,2853,4390,4430,378,2513,4258,2453,3835,2420,9175,13833,4575,5978,2298,15200,3155,15545,6560,935,770,7568,11525,6778,10495,5878,2900,1728,6845,398,16135,7025,3778,1725,2840,1375,1628,760,885,1285,3285,1755,6453,8993,2913,4450,4310,258,2393,4138,2333,3715,2300,9055,13713,4455,5858,2178,15080,3035,15425,6440,815,650,7448,11405,6658,10375,2780,1608,6725,0,16015,6905,3658,1605,2720,1255,1508,640,1165,3165,1635,6333,8873,2793,4330,4450,2533,4278,2473,3855,2440,9195,13853,4595,5998,2318,15220,3175,15565,6580,955,790,7588,11545,6798,10515,2920,1748,6865,418,16155,7045,3798,1745,2860,1395,1648,780,905,1305,3305,1775,6473,9013,2933,4470,4290,0,2373,4118,2313,3695,2280,9035,13693,4435,5838,2158,15060,3015,15405,6420,795,630,7428,11385,6638,10355,2760,1588,6705,0,15995,6885,3638,1585,2700,1235,1488,620,0,1145,3145,1615,6313,8853,2773,4310,4630,578,2713,4458,2653,4035,2620,9375,14033,4775,6178,2498,15400,3355,15745,6760,1135,970,7768,11725,6978,10695,6078,3100,1928,7045,598,16335,7225,3978,1925,3040,1575,1828,960,1085,1485,3485,1955,6653,9193,3113,4650,4110,0,2193,3938,2133,3515,2100,8855,13513,4255,5658,1978,14880,2835,15225,6240,615,450,7248,11205,6458,10175,2580,0,6525,15815,6705,3458,1405,2520,1055,1308,440,0,965,2965,1435,6133,8673,2593,4130,4550,498,2633,4378,2573,3955,2540,9295,13953,4695,6098,2418,15320,3275,15665,6680,1055,890,7688,11645,6898,10615,5998,3020,1848,6965,518,16255,7145,3898,1845,2960,1748,880,1005,1405,3405,1875,6573,9113,3033,4570,4190,0,2273,4018,2213,3595,2180,8935,13593,4335,5738,2058,14960,2915,15305,6320,695,530,7328,11285,6538,10255,2660,1488,6605,0,15895,6785,3538,1485,2600,1135,1388,520,0,1045,3045,1515,6213,8753,2673,4210,4970,918,3053,4798,2993,4375,2960,9715,14373,5115,6518,2838,15740,3695,16085,7100,1475,1310,8108,12065,7318,11035,6418,3440,2268,7385,938,16675,7565,4318,3380,1915,2168,1300,1425,1825,3825,2295,6993,9533,3453,4990,3770,0,1853,3598,1793,3175,1760,8515,13173,3915,5318,1638,14540,2495,14885,5900,275,110,6908,10865,6118,9835,2240,1068,6185,0,15475,6365,3118,1065,2180,715,968,100,0,625,2625,1095,5793,8333,2253,3790,4485,433,2568,4313,2508,3890,2475,9230,13888,4630,6033,2353,15255,3210,15600,6615,990,825,7623,11580,6833,10550,5933,2955,1783,6900,453,16190,7080,3833,1780,2895,1430,1683,815,940,1340,3340,1810,6508,9048,2968,4505,4255,0,2338,4083,2278,3660,2245,9000,13658,4400,5803,2123,15025,2980,15370,6385,760,595,7393,11350,6603,10320,2725,1553,6670,0,15960,6850,3603,1550,2665,1200,1453,585,710,1110,3110,1580,6278,8818,2738,4275,4560,508,2643,4388,2583,3965,2550,9305,13963,4705,6108,2428,15330,3285,15675,6690,1065,900,7698,11655,6908,10625,3030,1858,6975,528,16265,7155,3908,1855,2970,1758,890,1015,1415,3415,1885,6582,9122,3042,4580,4180,128,2263,4008,2203,3585,2170,8925,13583,4325,5728,2048,14950,2905,15295,6310,685,520,7318,11275,6528,10245,2650,1478,6595,0,15885,6775,3528,1475,2590,1125,1378,510,635,1035,3035,1505,6202,8742,2662,4200,4370,318,2453,4198,2393,3775,2360,9115,13773,4515,5918,2238,15140,3095,15485,6500,875,710,7508,11465,6718,10435,2840,1668,6785,338,16075,6965,3718,1665,2780,1315,1568,700,825,1225,3225,1695,6392,8932,2852,4390,4370,318,2453,4198,2393,3775,2360,9115,13773,4515,5918,2238,15140,3095,15485,6500,875,710,7508,11465,6718,10435,5818,2840,1668,6785,338,16075,6965,3718,1665,2780,1568,700,825,1225,3225,1695,6392,8932,2852,4390,5080,1028,3163,4908,3103,4485,3070,9825,14483,5225,6628,2948,15850,3805,16195,7210,1585,1420,8218,12175,7428,11145,6528,3550,2378,7495,1048,16785,7675,4428,2375,3490,2025,2278,1410,1535,1935,3935,2405,7102,9642,3562,5100,3660,0,1743,3488,1683,3065,1650,8405,13063,3805,5208,1528,14430,2385,14775,5790,165,0,6798,10755,6008,9725,2130,958,6075,0,15365,6255,3008,955,2070,605,858,0,0,515,2515,985,5682,8222,2142,3680,4370,318,2453,4198,2393,3775,2360,9115,13773,4515,5918,2238,15140,3095,15485,6500,875,710,7508,11465,6718,10435,2840,1668,6785,338,16075,6965,3718,1665,2780,1568,700,825,1225,3225,1695,6392,8932,2852,4390,4370,318,2453,4198,2393,3775,2360,9115,13773,4515,5918,2238,15140,3095,15485,6500,875,710,7508,11465,6718,10435,2840,1668,6785,338,16075,6965,3718,1665,2780,1315,1568,700,825,1225,3225,1695,6392,8932,2852,4390,4065,0,2148,3893,2088,3470,2055,8810,13468,4210,5613,1933,14835,2790,15180,6195,570,405,7203,11160,6413,10130,2535,1363,6480,0,15770,6660,3413,1360,2475,1263,395,520,920,2920,1390,6088,8628,2548,4085,4125,73,2208,3953,2148,3530,2115,8870,13528,4270,5673,1993,14895,2850,15240,6255,630,465,7263,11220,6473,10190,2595,1423,6540,93,15830,6720,3473,1420,2535,1070,1323,455,580,980,2980,1450,6148,8688,2608,4145,4005,0,2088,3833,2028,3410,1995,8750,13408,4150,5553,1873,14775,2730,15120,6135,510,345,7143,11100,6353,10070,2475,1303,6420,0,15710,6600,3353,1300,2415,950,1203,335,0,860,2860,1330,6028,8568,2488,4025,4145,93,2228,3973,2168,3550,2135,8890,13548,4290,5693,2013,14915,2870,15260,6275,650,485,7283,11240,6493,10210,2615,1443,6560,0,15850,6740,3493,1440,2555,1090,1343,475,600,1000,3000,1470,6168,8708,2628,4165,3985,0,2068,3813,2008,3390,1975,8730,13388,4130,5533,1853,14755,2710,15100,6115,490,325,7123,11080,6333,10050,2455,1283,6400,0,15690,6580,3333,1280,2395,930,1183,315,0,840,2840,1310,6008,8548,2468,4005,4325,273,2408,4153,2348,3730,2315,9070,13728,4470,5873,2193,15095,3050,15440,6455,830,665,7463,11420,6673,10390,5773,2795,1623,6740,293,16030,6920,3673,1620,2735,1270,1523,655,780,1180,3180,1650,6348,8888,2808,4345,3805,0,1888,3633,1828,3210,1795,8550,13208,3950,5353,1673,14575,2530,14920,5935,0,0,6943,10900,6153,9870,2275,0,6220,15510,6400,3153,1100,2215,750,1003,0,0,660,2660,1130,5828,8368,2288,3825,4245,193,2328,4073,2268,3650,2235,8990,13648,4390,5793,2113,15015,2970,15360,6375,750,585,7383,11340,6593,10310,2715,1543,6660,213,15950,6840,3593,1540,2655,1190,1443,575,700,1100,3100,1570,6268,8808,2728,4265,3885,0,1968,3713,1908,3290,1875,8630,13288,4030,5433,1753,14655,2610,15000,6015,0,0,7023,10980,6233,9950,2355,0,6300,0,15590,6480,3233,1180,2295,830,1083,215,0,740,2740,1210,5908,8448,2368,3905,4665,613,2748,4493,2688,4070,2655,9410,14068,4810,6213,2533,15435,3390,15780,6795,1170,1005,7803,11760,7013,10730,6113,3135,1963,7080,633,16370,7260,4013,3075,1610,1863,995,1120,1520,3520,1990,6688,9228,3148,4685,3465,0,1548,3293,1488,2870,1455,8210,12868,3610,5013,1333,14235,2190,14580,5595,0,0,6603,10560,5813,9530,1935,0,5880,0,15170,6060,2813,760,1875,1903,663,0,0,0,2320,0,5488,8028,1948,3485,4180,128,2263,4008,2203,3585,2170,8925,13583,4325,5728,2048,14950,2905,15295,6310,685,520,7318,11275,6528,10245,2650,1478,6595,148,15885,6775,3528,1475,2590,1125,1378,510,635,1035,3035,1505,6203,8743,2663,4200,3950,0,2033,3778,1973,3355,1940,8695,13353,4095,5498,1818,14720,2675,15065,6080,455,290,7088,11045,6298,10015,2420,1248,6365,0,15655,6545,3298,1245,2360,895,1148,280,0,805,2805,1275,5973,8513,2433,3970,4255,0,2338,4083,2278,3660,2245,9000,13658,4400,5803,2123,15025,2980,15370,6385,760,595,7393,11350,6603,10320,2725,1553,6670,0,15960,6850,3603,1550,2665,1200,1453,585,710,1110,3110,1580,6277,8817,2737,4275,3875,0,1958,3703,1898,3280,1865,8620,13278,4020,5423,1743,14645,2600,14990,6005,380,215,7013,10970,6223,9940,2345,1173,6290,0,15580,6470,3223,1170,2285,820,1073,205,0,730,2730,1200,5897,8437,2357,3895,4065,0,2148,3893,2088,3470,2055,8810,13468,4210,5613,1933,14835,2790,15180,6195,570,405,7203,11160,6413,10130,2535,1363,6480,0,15770,6660,3413,1360,2475,1010,1263,395,520,920,2920,1390,6087,8627,2547,4085,4065,13,2148,3893,2088,3470,2055,8810,13468,4210,5613,1933,14835,2790,15180,6195,570,405,7203,11160,6413,10130,2535,1363,6480,33,15770,6660,3413,1360,2475,1010,1263,395,520,920,2920,1390,6087,8627,2547,4085,4775,723,2858,4603,2798,4180,2765,9520,14178,4920,6323,2643,15545,3500,15890,6905,1280,1115,7913,11870,7123,10840,6223,3245,2073,7190,743,16480,7370,4123,2070,3185,1720,1973,1105,1230,1630,3630,2100,6797,9337,3257,4795,3355,0,1438,3183,1378,2760,1345,8100,12758,3500,4903,1223,14125,2080,14470,5485,0,0,6493,10450,5703,9420,1825,653,5770,0,15060,5950,2703,650,1765,300,553,0,0,210,2210,680,5377,7917,1837,3375,4065,0,2148,3893,2088,3470,2055,8810,13468,4210,5613,1933,14835,2790,15180,6195,570,405,7203,11160,6413,10130,2535,1363,6480,0,15770,6660,3413,1360,2475,1010,1263,395,520,920,2920,1390,6087,8627,2547,4085,4065,0,2148,3893,2088,3470,2055,8810,13468,4210,5613,1933,14835,2790,15180,6195,570,405,7203,11160,6413,10130,2535,1363,6480,0,15770,6660,3413,1360,2475,1010,1263,395,520,920,2920,1390,6087,8627,2547,4085,4675,623,2758,4503,2698,4080,2665,9420,14078,4820,6223,2543,15445,3400,15790,6805,1180,1015,7813,11770,7023,10740,6123,3145,1973,7090,643,16380,7270,4023,1970,3085,1620,1873,1005,1130,1530,3530,2000,6698,9238,3158,4695,4735,683,2818,4563,2758,4140,2725,9480,14138,4880,6283,2603,15505,3460,15850,6865,1240,1075,7873,11830,7083,10800,6183,3205,2033,7150,703,16440,7330,4083,2030,3145,1680,1933,1065,1190,1590,3590,2060,6758,9298,3218,4755,4615,563,2698,4443,2638,4020,2605,9360,14018,4760,6163,2483,15385,3340,15730,6745,1120,955,7753,11710,6963,10680,6063,3085,1913,7030,305,16320,7210,3963,1910,3025,1560,1813,945,1070,1470,3470,1940,6638,9178,3098,4635,4755,703,2838,4583,2778,4160,2745,9500,14158,4900,6303,2623,15525,3480,15870,6885,1260,1095,7893,11850,7103,10820,6203,3225,2053,7170,723,16460,7350,4103,2050,3165,1700,1953,1085,1210,1610,3610,2080,6778,9318,3238,4775,4595,305,2678,4423,2618,4000,2585,9340,13998,4740,6143,2463,15365,3320,15710,6725,1100,935,7733,11690,6943,10660,6043,3065,1893,7010,305,16300,7190,3943,1890,3005,1540,1793,925,305,1450,3450,1920,6618,9158,3078,4615,4935,883,3018,4763,2958,4340,2925,9680,14338,5080,6483,2803,15705,3660,16050,7065,1440,1275,8073,12030,7283,11000,6383,3405,2233,7350,903,16640,7530,4283,2230,3345,1880,2133,1265,1390,1790,3790,2260,6958,9498,3418,4955,4415,305,2498,4243,2438,3820,2405,9160,13818,4560,5963,2283,15185,3140,15530,6545,920,755,7553,11510,6763,10480,2885,305,6830,16120,7010,3763,1710,2825,1360,1613,745,305,1270,3270,1740,6438,8978,2898,4435,4855,803,2938,4683,2878,4260,2845,9600,14258,5000,6403,2723,15625,3580,15970,6985,1360,1195,7993,11950,7203,10920,6303,3325,2153,7270,823,16560,7450,4203,2150,3265,1800,2053,1185,1310,1710,3710,2180,6878,9418,3338,4875,4495,305,2578,4323,2518,3900,2485,9240,13898,4640,6043,2363,15265,3220,15610,6625,1000,835,7633,11590,6843,10560,2965,1793,6910,305,16200,7090,3843,1790,2905,1440,1693,825,305,1350,3350,1820,6518,9058,2978,4515,5275,1223,3358,5103,3298,4680,3265,10020,14678,5420,6823,3143,16045,4000,16390,7405,1780,1615,8413,12370,7623,11340,6723,3745,2573,7690,1243,16980,7870,4623,3685,2220,2473,1605,1730,2130,4130,2600,7298,9838,3758,5295,4075,305,2158,3903,2098,3480,2065,8820,13478,4220,5623,1943,14845,2800,15190,6205,580,415,7213,11170,6423,10140,2545,1373,6490,305,15780,6670,3423,1370,2485,1020,1273,405,305,930,2930,1400,6098,8638,2558,4095,4790,738,2873,4618,2813,4195,2780,9535,14193,4935,6338,2658,15560,3515,15905,6920,1295,1130,7928,11885,7138,10855,6238,3260,2088,7205,758,16495,7385,4138,2085,3200,1735,1988,1120,1245,1645,3645,2115,6813,9353,3273,4810,4560,305,2643,4388,2583,3965,2550,9305,13963,4705,6108,2428,15330,3285,15675,6690,1065,900,7698,11655,6908,10625,3030,1858,6975,305,16265,7155,3908,1855,2970,1505,1758,890,1015,1415,3415,1885,6583,9123,3043,4580,4865,813,2948,4693,2888,4270,2855,9610,14268,5010,6413,2733,15635,3590,15980,6995,1370,1205,8003,11960,7213,10930,6313,3335,2163,7280,833,16570,7460,4213,2160,3275,1810,2063,1195,1320,1720,3720,2190,6887,9427,3347,4885,4485,433,2568,4313,2508,3890,2475,9230,13888,4630,6033,2353,15255,3210,15600,6615,990,825,7623,11580,6833,10550,5933,2955,1783,6900,453,16190,7080,3833,1780,2895,1430,1683,815,940,1340,3340,1810,6507,9047,2967,4505,4675,623,2758,4503,2698,4080,2665,9420,14078,4820,6223,2543,15445,3400,15790,6805,1180,1015,7813,11770,7023,10740,3145,1973,7090,643,16380,7270,4023,1970,3085,1620,1873,1005,1130,1530,3530,2000,6697,9237,3157,4695,4675,623,2758,4503,2698,4080,2665,9420,14078,4820,6223,2543,15445,3400,15790,6805,1180,1015,7813,11770,7023,10740,6123,3145,1973,7090,643,16380,7270,4023,1970,3085,1620,1873,1005,1130,1530,3530,2000,6697,9237,3157,4695,5385,1333,3468,5213,3408,4790,3375,10130,14788,5530,6933,3253,16155,4110,16500,7515,1890,1725,8523,12480,7733,11450,6833,3855,2683,7800,1353,17090,7980,4733,2680,3795,2330,2583,1840,2240,4240,2710,7407,9947,3867,5405,3965,0,2048,3793,1988,3370,1955,8710,13368,4110,5513,1833,14735,2690,15080,6095,470,305,7103,11060,6313,10030,2435,1263,6380,0,15670,6560,3313,1260,2375,910,1163,295,420,820,2820,1290,5987,8527,2447,3985,4675,623,2758,4503,2698,4080,2665,9420,14078,4820,6223,2543,15445,3400,15790,6805,1180,1015,7813,11770,7023,10740,6123,3145,1973,7090,643,16380,7270,4023,1970,3085,1620,1873,1005,1130,1530,3530,2000,6697,9237,3157,4695,4675,623,2758,4503,2698,4080,2665,9420,14078,4820,6223,2543,15445,3400,15790,6805,1180,1015,7813,11770,7023,10740,6123,3145,1973,7090,643,16380,7270,4023,1970,3085,1620,1873,1005,1130,1530,3530,2000,6697,9237,3157,4695],\"xaxis\":\"x2\",\"yaxis\":\"y2\",\"type\":\"box\"},{\"alignmentgroup\":\"True\",\"bingroup\":\"x\",\"hovertemplate\":\"Churn=Churn<br>Seconds of Use=%{x}<br>count=%{y}<extra></extra>\",\"legendgroup\":\"Churn\",\"marker\":{\"color\":\"#EF553B\",\"pattern\":{\"shape\":\"\"}},\"name\":\"Churn\",\"nbinsx\":200,\"offsetgroup\":\"Churn\",\"orientation\":\"v\",\"showlegend\":true,\"x\":[875,0,955,5818,2990,2268,133,628,825,1488,60,1015,3050,2328,193,688,1548,0,895,5758,2930,2208,0,568,765,1428,398,80,1035,5898,3070,2348,213,708,1568,0,875,5738,2910,2188,0,0,1408,260,1215,3250,2528,393,888,1748,0,695,5558,2730,2008,0,0,0,1228,180,1135,3170,2448,313,808,1495,1668,0,775,5638,2810,2088,0,0,1308,600,1555,3590,2868,733,1228,2265,2088,0,355,5218,2390,1668,0,0,888,115,1070,3105,2383,248,743,1603,0,840,5703,2875,2153,0,513,1373,190,1145,6008,3180,2458,323,818,1505,1677,0,765,5628,2800,2078,0,438,1297,0,955,5818,2990,2268,0,628,1487,0,955,2990,2268,133,628,1315,1487,710,1665,3700,2978,843,1338,2197,0,245,5108,2280,1558,0,0,777,0,955,5818,2990,2268,133,628,1315,1487,0,955,5818,2990,2268,133,628,1487,0,650,5513,2685,1963,0,323,1010,1183,0,710,5573,2745,2023,0,383,1243,0,590,5453,2625,1903,0,263,1123,0,730,5593,2765,2043,0,403,1263,0,570,5433,2605,1883,0,0,1103,0,910,2945,2223,88,583,1443,0,390,5253,2425,1703,0,0,0,0,0,830,5693,2865,2143,8,503,1363,0,470,5333,2505,1783,0,0,1003,295,1250,3285,2563,428,923,1960,1783,0,50,4913,2085,1363,0,0,0,0,765,5628,2800,2078,0,438,1298,0,535,5398,2570,1848,0,0,1068,0,840,5703,2875,2153,0,513,1372,0,460,5323,2495,1773,0,0,992,0,650,5513,2685,1963,0,0,1182,0,650,5513,2685,1963,0,323,1182,0,1360,3395,2673,538,1033,1892,0,0,4803,1975,1253,0,0,472,0,650,5513,2685,1963,0,323,1182,0,650,5513,2685,1963,0,323,1182,305,1260,3295,2573,438,933,1793,365,1320,3355,2633,498,993,1853,305,1200,3235,2513,305,873,1733,385,1340,3375,2653,518,1013,1873,305,1180,3215,2493,305,305,1713,565,1520,3555,2833,698,1193,2053,305,1000,5863,3035,2313,305,305,305,1533,485,1440,3475,2753,618,1113,1973,305,1080,5943,3115,2393,305,305,1613,905,1860,3895,3173,1038,1533,2570,2393,305,660,5523,2695,1973,305,305,1193,420,1375,3410,2688,553,1048,1908,305,1145,6008,3180,2458,305,818,1678,495,1450,3485,2763,628,1123,1982,0,1070,3105,2383,248,743,1602,0,1260,6123,3295,2573,438,933,1792,305,1260,3295,2573,438,933,1792,1015,1970,4005,3283,1148,1643,1715,2502,0,550,5413,2585,1863,0,223,1082,305,1260,3295,2573,438,933,1792,305,1260,3295,2573,438,933,1792],\"xaxis\":\"x\",\"yaxis\":\"y\",\"type\":\"histogram\"},{\"alignmentgroup\":\"True\",\"hovertemplate\":\"Churn=Churn<br>Seconds of Use=%{x}<extra></extra>\",\"legendgroup\":\"Churn\",\"marker\":{\"color\":\"#EF553B\"},\"name\":\"Churn\",\"notched\":true,\"offsetgroup\":\"Churn\",\"showlegend\":false,\"x\":[875,0,955,5818,2990,2268,133,628,825,1488,60,1015,3050,2328,193,688,1548,0,895,5758,2930,2208,0,568,765,1428,398,80,1035,5898,3070,2348,213,708,1568,0,875,5738,2910,2188,0,0,1408,260,1215,3250,2528,393,888,1748,0,695,5558,2730,2008,0,0,0,1228,180,1135,3170,2448,313,808,1495,1668,0,775,5638,2810,2088,0,0,1308,600,1555,3590,2868,733,1228,2265,2088,0,355,5218,2390,1668,0,0,888,115,1070,3105,2383,248,743,1603,0,840,5703,2875,2153,0,513,1373,190,1145,6008,3180,2458,323,818,1505,1677,0,765,5628,2800,2078,0,438,1297,0,955,5818,2990,2268,0,628,1487,0,955,2990,2268,133,628,1315,1487,710,1665,3700,2978,843,1338,2197,0,245,5108,2280,1558,0,0,777,0,955,5818,2990,2268,133,628,1315,1487,0,955,5818,2990,2268,133,628,1487,0,650,5513,2685,1963,0,323,1010,1183,0,710,5573,2745,2023,0,383,1243,0,590,5453,2625,1903,0,263,1123,0,730,5593,2765,2043,0,403,1263,0,570,5433,2605,1883,0,0,1103,0,910,2945,2223,88,583,1443,0,390,5253,2425,1703,0,0,0,0,0,830,5693,2865,2143,8,503,1363,0,470,5333,2505,1783,0,0,1003,295,1250,3285,2563,428,923,1960,1783,0,50,4913,2085,1363,0,0,0,0,765,5628,2800,2078,0,438,1298,0,535,5398,2570,1848,0,0,1068,0,840,5703,2875,2153,0,513,1372,0,460,5323,2495,1773,0,0,992,0,650,5513,2685,1963,0,0,1182,0,650,5513,2685,1963,0,323,1182,0,1360,3395,2673,538,1033,1892,0,0,4803,1975,1253,0,0,472,0,650,5513,2685,1963,0,323,1182,0,650,5513,2685,1963,0,323,1182,305,1260,3295,2573,438,933,1793,365,1320,3355,2633,498,993,1853,305,1200,3235,2513,305,873,1733,385,1340,3375,2653,518,1013,1873,305,1180,3215,2493,305,305,1713,565,1520,3555,2833,698,1193,2053,305,1000,5863,3035,2313,305,305,305,1533,485,1440,3475,2753,618,1113,1973,305,1080,5943,3115,2393,305,305,1613,905,1860,3895,3173,1038,1533,2570,2393,305,660,5523,2695,1973,305,305,1193,420,1375,3410,2688,553,1048,1908,305,1145,6008,3180,2458,305,818,1678,495,1450,3485,2763,628,1123,1982,0,1070,3105,2383,248,743,1602,0,1260,6123,3295,2573,438,933,1792,305,1260,3295,2573,438,933,1792,1015,1970,4005,3283,1148,1643,1715,2502,0,550,5413,2585,1863,0,223,1082,305,1260,3295,2573,438,933,1792,305,1260,3295,2573,438,933,1792],\"xaxis\":\"x2\",\"yaxis\":\"y2\",\"type\":\"box\"}],                        {\"template\":{\"data\":{\"bar\":[{\"error_x\":{\"color\":\"#2a3f5f\"},\"error_y\":{\"color\":\"#2a3f5f\"},\"marker\":{\"line\":{\"color\":\"#E5ECF6\",\"width\":0.5},\"pattern\":{\"fillmode\":\"overlay\",\"size\":10,\"solidity\":0.2}},\"type\":\"bar\"}],\"barpolar\":[{\"marker\":{\"line\":{\"color\":\"#E5ECF6\",\"width\":0.5},\"pattern\":{\"fillmode\":\"overlay\",\"size\":10,\"solidity\":0.2}},\"type\":\"barpolar\"}],\"carpet\":[{\"aaxis\":{\"endlinecolor\":\"#2a3f5f\",\"gridcolor\":\"white\",\"linecolor\":\"white\",\"minorgridcolor\":\"white\",\"startlinecolor\":\"#2a3f5f\"},\"baxis\":{\"endlinecolor\":\"#2a3f5f\",\"gridcolor\":\"white\",\"linecolor\":\"white\",\"minorgridcolor\":\"white\",\"startlinecolor\":\"#2a3f5f\"},\"type\":\"carpet\"}],\"choropleth\":[{\"colorbar\":{\"outlinewidth\":0,\"ticks\":\"\"},\"type\":\"choropleth\"}],\"contour\":[{\"colorbar\":{\"outlinewidth\":0,\"ticks\":\"\"},\"colorscale\":[[0.0,\"#0d0887\"],[0.1111111111111111,\"#46039f\"],[0.2222222222222222,\"#7201a8\"],[0.3333333333333333,\"#9c179e\"],[0.4444444444444444,\"#bd3786\"],[0.5555555555555556,\"#d8576b\"],[0.6666666666666666,\"#ed7953\"],[0.7777777777777778,\"#fb9f3a\"],[0.8888888888888888,\"#fdca26\"],[1.0,\"#f0f921\"]],\"type\":\"contour\"}],\"contourcarpet\":[{\"colorbar\":{\"outlinewidth\":0,\"ticks\":\"\"},\"type\":\"contourcarpet\"}],\"heatmap\":[{\"colorbar\":{\"outlinewidth\":0,\"ticks\":\"\"},\"colorscale\":[[0.0,\"#0d0887\"],[0.1111111111111111,\"#46039f\"],[0.2222222222222222,\"#7201a8\"],[0.3333333333333333,\"#9c179e\"],[0.4444444444444444,\"#bd3786\"],[0.5555555555555556,\"#d8576b\"],[0.6666666666666666,\"#ed7953\"],[0.7777777777777778,\"#fb9f3a\"],[0.8888888888888888,\"#fdca26\"],[1.0,\"#f0f921\"]],\"type\":\"heatmap\"}],\"heatmapgl\":[{\"colorbar\":{\"outlinewidth\":0,\"ticks\":\"\"},\"colorscale\":[[0.0,\"#0d0887\"],[0.1111111111111111,\"#46039f\"],[0.2222222222222222,\"#7201a8\"],[0.3333333333333333,\"#9c179e\"],[0.4444444444444444,\"#bd3786\"],[0.5555555555555556,\"#d8576b\"],[0.6666666666666666,\"#ed7953\"],[0.7777777777777778,\"#fb9f3a\"],[0.8888888888888888,\"#fdca26\"],[1.0,\"#f0f921\"]],\"type\":\"heatmapgl\"}],\"histogram\":[{\"marker\":{\"pattern\":{\"fillmode\":\"overlay\",\"size\":10,\"solidity\":0.2}},\"type\":\"histogram\"}],\"histogram2d\":[{\"colorbar\":{\"outlinewidth\":0,\"ticks\":\"\"},\"colorscale\":[[0.0,\"#0d0887\"],[0.1111111111111111,\"#46039f\"],[0.2222222222222222,\"#7201a8\"],[0.3333333333333333,\"#9c179e\"],[0.4444444444444444,\"#bd3786\"],[0.5555555555555556,\"#d8576b\"],[0.6666666666666666,\"#ed7953\"],[0.7777777777777778,\"#fb9f3a\"],[0.8888888888888888,\"#fdca26\"],[1.0,\"#f0f921\"]],\"type\":\"histogram2d\"}],\"histogram2dcontour\":[{\"colorbar\":{\"outlinewidth\":0,\"ticks\":\"\"},\"colorscale\":[[0.0,\"#0d0887\"],[0.1111111111111111,\"#46039f\"],[0.2222222222222222,\"#7201a8\"],[0.3333333333333333,\"#9c179e\"],[0.4444444444444444,\"#bd3786\"],[0.5555555555555556,\"#d8576b\"],[0.6666666666666666,\"#ed7953\"],[0.7777777777777778,\"#fb9f3a\"],[0.8888888888888888,\"#fdca26\"],[1.0,\"#f0f921\"]],\"type\":\"histogram2dcontour\"}],\"mesh3d\":[{\"colorbar\":{\"outlinewidth\":0,\"ticks\":\"\"},\"type\":\"mesh3d\"}],\"parcoords\":[{\"line\":{\"colorbar\":{\"outlinewidth\":0,\"ticks\":\"\"}},\"type\":\"parcoords\"}],\"pie\":[{\"automargin\":true,\"type\":\"pie\"}],\"scatter\":[{\"marker\":{\"colorbar\":{\"outlinewidth\":0,\"ticks\":\"\"}},\"type\":\"scatter\"}],\"scatter3d\":[{\"line\":{\"colorbar\":{\"outlinewidth\":0,\"ticks\":\"\"}},\"marker\":{\"colorbar\":{\"outlinewidth\":0,\"ticks\":\"\"}},\"type\":\"scatter3d\"}],\"scattercarpet\":[{\"marker\":{\"colorbar\":{\"outlinewidth\":0,\"ticks\":\"\"}},\"type\":\"scattercarpet\"}],\"scattergeo\":[{\"marker\":{\"colorbar\":{\"outlinewidth\":0,\"ticks\":\"\"}},\"type\":\"scattergeo\"}],\"scattergl\":[{\"marker\":{\"colorbar\":{\"outlinewidth\":0,\"ticks\":\"\"}},\"type\":\"scattergl\"}],\"scattermapbox\":[{\"marker\":{\"colorbar\":{\"outlinewidth\":0,\"ticks\":\"\"}},\"type\":\"scattermapbox\"}],\"scatterpolar\":[{\"marker\":{\"colorbar\":{\"outlinewidth\":0,\"ticks\":\"\"}},\"type\":\"scatterpolar\"}],\"scatterpolargl\":[{\"marker\":{\"colorbar\":{\"outlinewidth\":0,\"ticks\":\"\"}},\"type\":\"scatterpolargl\"}],\"scatterternary\":[{\"marker\":{\"colorbar\":{\"outlinewidth\":0,\"ticks\":\"\"}},\"type\":\"scatterternary\"}],\"surface\":[{\"colorbar\":{\"outlinewidth\":0,\"ticks\":\"\"},\"colorscale\":[[0.0,\"#0d0887\"],[0.1111111111111111,\"#46039f\"],[0.2222222222222222,\"#7201a8\"],[0.3333333333333333,\"#9c179e\"],[0.4444444444444444,\"#bd3786\"],[0.5555555555555556,\"#d8576b\"],[0.6666666666666666,\"#ed7953\"],[0.7777777777777778,\"#fb9f3a\"],[0.8888888888888888,\"#fdca26\"],[1.0,\"#f0f921\"]],\"type\":\"surface\"}],\"table\":[{\"cells\":{\"fill\":{\"color\":\"#EBF0F8\"},\"line\":{\"color\":\"white\"}},\"header\":{\"fill\":{\"color\":\"#C8D4E3\"},\"line\":{\"color\":\"white\"}},\"type\":\"table\"}]},\"layout\":{\"annotationdefaults\":{\"arrowcolor\":\"#2a3f5f\",\"arrowhead\":0,\"arrowwidth\":1},\"autotypenumbers\":\"strict\",\"coloraxis\":{\"colorbar\":{\"outlinewidth\":0,\"ticks\":\"\"}},\"colorscale\":{\"diverging\":[[0,\"#8e0152\"],[0.1,\"#c51b7d\"],[0.2,\"#de77ae\"],[0.3,\"#f1b6da\"],[0.4,\"#fde0ef\"],[0.5,\"#f7f7f7\"],[0.6,\"#e6f5d0\"],[0.7,\"#b8e186\"],[0.8,\"#7fbc41\"],[0.9,\"#4d9221\"],[1,\"#276419\"]],\"sequential\":[[0.0,\"#0d0887\"],[0.1111111111111111,\"#46039f\"],[0.2222222222222222,\"#7201a8\"],[0.3333333333333333,\"#9c179e\"],[0.4444444444444444,\"#bd3786\"],[0.5555555555555556,\"#d8576b\"],[0.6666666666666666,\"#ed7953\"],[0.7777777777777778,\"#fb9f3a\"],[0.8888888888888888,\"#fdca26\"],[1.0,\"#f0f921\"]],\"sequentialminus\":[[0.0,\"#0d0887\"],[0.1111111111111111,\"#46039f\"],[0.2222222222222222,\"#7201a8\"],[0.3333333333333333,\"#9c179e\"],[0.4444444444444444,\"#bd3786\"],[0.5555555555555556,\"#d8576b\"],[0.6666666666666666,\"#ed7953\"],[0.7777777777777778,\"#fb9f3a\"],[0.8888888888888888,\"#fdca26\"],[1.0,\"#f0f921\"]]},\"colorway\":[\"#636efa\",\"#EF553B\",\"#00cc96\",\"#ab63fa\",\"#FFA15A\",\"#19d3f3\",\"#FF6692\",\"#B6E880\",\"#FF97FF\",\"#FECB52\"],\"font\":{\"color\":\"#2a3f5f\"},\"geo\":{\"bgcolor\":\"white\",\"lakecolor\":\"white\",\"landcolor\":\"#E5ECF6\",\"showlakes\":true,\"showland\":true,\"subunitcolor\":\"white\"},\"hoverlabel\":{\"align\":\"left\"},\"hovermode\":\"closest\",\"mapbox\":{\"style\":\"light\"},\"paper_bgcolor\":\"white\",\"plot_bgcolor\":\"#E5ECF6\",\"polar\":{\"angularaxis\":{\"gridcolor\":\"white\",\"linecolor\":\"white\",\"ticks\":\"\"},\"bgcolor\":\"#E5ECF6\",\"radialaxis\":{\"gridcolor\":\"white\",\"linecolor\":\"white\",\"ticks\":\"\"}},\"scene\":{\"xaxis\":{\"backgroundcolor\":\"#E5ECF6\",\"gridcolor\":\"white\",\"gridwidth\":2,\"linecolor\":\"white\",\"showbackground\":true,\"ticks\":\"\",\"zerolinecolor\":\"white\"},\"yaxis\":{\"backgroundcolor\":\"#E5ECF6\",\"gridcolor\":\"white\",\"gridwidth\":2,\"linecolor\":\"white\",\"showbackground\":true,\"ticks\":\"\",\"zerolinecolor\":\"white\"},\"zaxis\":{\"backgroundcolor\":\"#E5ECF6\",\"gridcolor\":\"white\",\"gridwidth\":2,\"linecolor\":\"white\",\"showbackground\":true,\"ticks\":\"\",\"zerolinecolor\":\"white\"}},\"shapedefaults\":{\"line\":{\"color\":\"#2a3f5f\"}},\"ternary\":{\"aaxis\":{\"gridcolor\":\"white\",\"linecolor\":\"white\",\"ticks\":\"\"},\"baxis\":{\"gridcolor\":\"white\",\"linecolor\":\"white\",\"ticks\":\"\"},\"bgcolor\":\"#E5ECF6\",\"caxis\":{\"gridcolor\":\"white\",\"linecolor\":\"white\",\"ticks\":\"\"}},\"title\":{\"x\":0.05},\"xaxis\":{\"automargin\":true,\"gridcolor\":\"white\",\"linecolor\":\"white\",\"ticks\":\"\",\"title\":{\"standoff\":15},\"zerolinecolor\":\"white\",\"zerolinewidth\":2},\"yaxis\":{\"automargin\":true,\"gridcolor\":\"white\",\"linecolor\":\"white\",\"ticks\":\"\",\"title\":{\"standoff\":15},\"zerolinecolor\":\"white\",\"zerolinewidth\":2}}},\"xaxis\":{\"anchor\":\"y\",\"domain\":[0.0,1.0],\"title\":{\"text\":\"Seconds of Use\"}},\"yaxis\":{\"anchor\":\"x\",\"domain\":[0.0,0.7326],\"title\":{\"text\":\"count\"}},\"xaxis2\":{\"anchor\":\"y2\",\"domain\":[0.0,1.0],\"matches\":\"x\",\"showticklabels\":false,\"showgrid\":true},\"yaxis2\":{\"anchor\":\"x2\",\"domain\":[0.7426,1.0],\"matches\":\"y2\",\"showticklabels\":false,\"showline\":false,\"ticks\":\"\",\"showgrid\":false},\"legend\":{\"title\":{\"text\":\"Churn\"},\"tracegroupgap\":0},\"margin\":{\"t\":60},\"barmode\":\"relative\",\"title\":{\"text\":\"Distribution of the Seconds of Use within the last 12 months\"},\"height\":500,\"width\":1200},                        {\"responsive\": true}                    ).then(function(){\n",
              "                            \n",
              "var gd = document.getElementById('05e57a64-42a6-4ae3-b276-04a96617df86');\n",
              "var x = new MutationObserver(function (mutations, observer) {{\n",
              "        var display = window.getComputedStyle(gd).display;\n",
              "        if (!display || display === 'none') {{\n",
              "            console.log([gd, 'removed!']);\n",
              "            Plotly.purge(gd);\n",
              "            observer.disconnect();\n",
              "        }}\n",
              "}});\n",
              "\n",
              "// Listen for the removal of the full notebook cells\n",
              "var notebookContainer = gd.closest('#notebook-container');\n",
              "if (notebookContainer) {{\n",
              "    x.observe(notebookContainer, {childList: true});\n",
              "}}\n",
              "\n",
              "// Listen for the clearing of the current output cell\n",
              "var outputEl = gd.closest('.output');\n",
              "if (outputEl) {{\n",
              "    x.observe(outputEl, {childList: true});\n",
              "}}\n",
              "\n",
              "                        })                };                            </script>        </div>\n",
              "</body>\n",
              "</html>"
            ]
          },
          "metadata": {},
          "output_type": "display_data"
        }
      ],
      "source": [
        "fig = px.histogram(data, x=\"Seconds of Use\", color=\"Churn\", marginal=\"box\", nbins = 200)\n",
        "\n",
        "fig.update_layout(height=500, width=1200, title_text=\"Distribution of the Seconds of Use within the last 12 months\")\n",
        "fig.show(renderer= 'colab')"
      ]
    },
    {
      "cell_type": "markdown",
      "metadata": {
        "id": "ABKwBzkiNy-U"
      },
      "source": [
        "Users with the seconds of use within the range of 0-3399 have more chances of churning compaired to that of higher users of use."
      ]
    },
    {
      "cell_type": "code",
      "execution_count": null,
      "metadata": {
        "id": "sDU21bsdwPau"
      },
      "outputs": [],
      "source": [
        "x0 = data['Seconds of Use']\n",
        "x1 = data['Seconds of Use']\n",
        "# x1 = np.random.randn(2000) + 1\n",
        "\n",
        "fig = go.Figure()\n",
        "fig.add_trace(go.Histogram(x=x0))\n",
        "fig.add_trace(go.Histogram(x=x1))\n",
        "\n",
        "# The two histograms are drawn on top of another\n",
        "fig.update_layout(barmode='stack')\n",
        "fig.show()"
      ]
    },
    {
      "cell_type": "code",
      "execution_count": null,
      "metadata": {
        "colab": {
          "base_uri": "https://localhost:8080/",
          "height": 517
        },
        "id": "CRA5k8EZgc4I",
        "outputId": "71bc93f5-9cb4-445f-c6de-a65d63d21e81"
      },
      "outputs": [
        {
          "data": {
            "text/html": [
              "<html>\n",
              "<head><meta charset=\"utf-8\" /></head>\n",
              "<body>\n",
              "    <div>            <script src=\"https://cdnjs.cloudflare.com/ajax/libs/mathjax/2.7.5/MathJax.js?config=TeX-AMS-MML_SVG\"></script><script type=\"text/javascript\">if (window.MathJax) {MathJax.Hub.Config({SVG: {font: \"STIX-Web\"}});}</script>                <script type=\"text/javascript\">window.PlotlyConfig = {MathJaxConfig: 'local'};</script>\n",
              "        <script src=\"https://cdn.plot.ly/plotly-2.8.3.min.js\"></script>                <div id=\"42de5006-4b9a-46f1-9242-511d0defff96\" class=\"plotly-graph-div\" style=\"height:500px; width:1200px;\"></div>            <script type=\"text/javascript\">                                    window.PLOTLYENV=window.PLOTLYENV || {};                                    if (document.getElementById(\"42de5006-4b9a-46f1-9242-511d0defff96\")) {                    Plotly.newPlot(                        \"42de5006-4b9a-46f1-9242-511d0defff96\",                        [{\"alignmentgroup\":\"True\",\"bingroup\":\"x\",\"hovertemplate\":\"Churn=Non Churn<br>Customer Value=%{x}<br>count=%{y}<extra></extra>\",\"legendgroup\":\"Non Churn\",\"marker\":{\"color\":\"#636efa\",\"pattern\":{\"shape\":\"\"}},\"name\":\"Non Churn\",\"nbinsx\":200,\"offsetgroup\":\"Non Churn\",\"orientation\":\"v\",\"showlegend\":true,\"x\":[197.64,46.035,1536.52,240.02,145.805,282.28,1235.96,945.44,557.68,191.92,268.52,123.68,830.6,2056.88,1380.015,1007.44,80.96,2071.575,317.975,791.685,159.42,114.48,67.72,124.23,11.13,734.085,1538.145,180.0,220.36,914.985,929.295,115.175,77.625,142.065,163.44,203.445,676.53,410.1,239.92,1037.2,220.16,63.44,1559.04,270.985,144.63,304.8,1258.48,967.96,580.2,214.44,291.04,146.2,853.12,2079.4,1405.35,1029.96,65.34,103.48,1863.92,332.05,817.02,167.865,408.555,137.0,56.4,132.675,19.575,759.42,1389.76,182.52,242.88,940.32,848.56,129.25,91.52,87.45,167.4,185.96,228.78,701.865,254.505,262.44,1059.72,197.01,20.7,1703.25,231.055,131.34,259.76,1213.44,922.92,555.16,181.4,276.75,101.16,808.08,2034.36,1354.68,984.92,37.17,65.745,2046.24,486.24,766.35,261.625,111.96,65.2,192.975,0.0,731.25,1512.81,168.165,197.84,889.65,903.96,101.1,52.29,116.73,140.92,178.11,795.905,396.025,217.4,1014.68,240.92,1579.8,299.53,167.985,325.56,1279.24,988.72,600.96,235.2,311.8,166.96,873.88,2100.16,1428.705,1050.72,88.695,124.24,1884.68,345.025,840.375,175.65,157.76,69.375,140.46,27.36,782.775,1586.835,203.28,263.64,963.675,977.985,142.225,112.28,100.425,190.755,206.72,252.135,725.22,262.29,283.2,1080.48,196.155,0.0,1679.895,230.01,130.295,239.0,1192.68,902.16,554.4,180.64,266.895,88.4,787.32,2013.6,1331.325,964.16,36.315,42.39,2022.885,465.48,742.995,261.15,111.2,64.44,180.0,0.0,730.395,1489.455,167.31,177.08,866.295,880.605,88.125,28.935,27.5,93.375,128.16,154.755,767.36,383.05,196.64,993.92,268.44,111.72,1607.32,337.37,198.945,353.08,1306.76,1016.24,628.48,262.72,339.32,194.48,901.4,2127.68,1459.665,1078.24,119.655,151.76,1912.2,362.225,871.335,185.97,462.87,185.28,86.575,150.78,37.68,813.735,1438.04,230.8,291.16,994.635,896.84,95.655,139.8,117.625,221.715,234.24,251.64,756.18,272.61,310.72,1108.0,187.695,0.0,1648.935,219.67,119.955,237.915,1165.16,874.64,546.88,173.12,258.435,80.88,759.8,1986.08,1300.365,936.64,27.855,20.43,1991.925,453.96,712.035,256.45,103.68,0.0,165.3,721.935,1458.495,158.85,149.56,835.335,849.645,70.925,20.475,15.0,62.415,120.64,123.795,729.52,365.85,169.12,966.4,249.16,103.995,1588.04,310.86,216.645,333.8,1287.48,996.96,609.2,243.44,320.04,175.2,882.12,2108.4,1437.975,1058.96,97.965,132.48,2129.535,350.175,849.645,178.74,441.18,166.0,119.24,143.55,30.45,792.045,1596.105,237.96,271.88,972.945,147.375,135.585,105.575,200.025,214.96,261.405,734.49,442.3,291.44,1088.72,170.12,0.0,1485.0,224.18,124.465,230.76,1184.44,893.92,550.16,176.4,233.0,84.16,779.08,2005.36,1322.055,955.92,31.545,29.44,2013.615,285.775,733.725,155.1,106.96,60.2,104.91,0.0,725.625,1480.185,162.54,168.84,857.025,871.335,82.975,24.165,25.0,84.105,123.92,145.485,618.57,377.9,188.4,985.68,306.04,149.32,1644.92,389.07,241.245,390.68,1344.36,1053.84,666.08,300.32,376.92,232.08,939.0,2165.28,1501.965,1115.84,161.955,189.36,1949.8,385.725,913.635,200.07,505.17,222.88,110.075,164.88,51.78,856.035,1660.095,268.4,1036.935,1051.245,182.925,177.4,141.125,264.015,271.84,325.395,798.48,286.71,348.32,1145.6,172.395,0.0,1606.635,200.97,101.255,173.88,1127.56,837.04,533.28,159.52,243.135,67.28,722.2,1948.48,1258.065,899.04,12.555,5.13,1949.625,440.36,669.735,247.95,90.08,43.32,156.8,0.0,706.635,1416.195,143.55,111.96,793.035,807.345,47.425,5.175,0.0,29.115,107.04,81.495,677.82,342.35,131.52,928.8,330.48,173.76,1669.36,422.675,268.74,415.12,855.5,1078.28,690.52,324.76,401.36,256.52,963.44,1368.575,1529.46,1140.28,189.45,213.8,1974.24,401.0,941.13,209.235,473.48,247.32,125.35,174.045,60.945,883.53,1500.08,292.84,220.75,1064.43,958.88,118.92,201.84,156.4,291.51,296.28,313.68,825.975,295.875,372.76,1170.04,194.4,0.0,1579.14,227.865,128.15,168.12,1103.12,812.6,552.84,179.08,265.14,86.84,697.76,1924.04,1230.57,874.6,34.56,27.135,1922.13,459.92,642.24,260.175,109.64,62.88,169.025,0.0,728.64,1388.7,165.555,87.52,765.54,779.85,37.15,27.18,17.85,51.12,126.6,72.0,644.215,327.075,111.08,904.36,241.28,95.13,1580.16,300.025,205.81,325.92,1279.6,989.08,601.32,235.56,312.16,167.32,874.24,2100.52,1429.11,1051.08,89.1,124.6,2120.67,345.25,840.78,175.785,158.12,111.36,140.595,27.495,783.18,1587.24,229.095,264.0,964.08,142.45,126.72,100.65,191.16,207.08,252.54,725.58,437.35,283.52,1080.84,170.0,5.94,1492.88,224.015,124.3,238.64,1192.32,901.8,550.04,176.28,232.88,84.04,786.96,2013.24,1330.92,963.8,31.41,37.32,2022.48,290.7,742.59,155.055,106.84,60.08,107.865,0.0,725.49,1489.05,162.405,176.72,865.89,880.2,87.9,28.53,46.1,92.97,123.8,154.35,627.39,382.8,196.24,993.56,199.575,14.49,1692.315,234.19,134.475,281.295,1203.72,913.2,557.44,183.68,270.315,91.44,798.36,2024.64,1343.745,975.2,39.735,54.81,2035.305,476.52,755.415,263.05,114.24,67.48,186.9,8.575,733.815,1501.875,170.73,188.12,878.715,893.025,95.025,41.355,53.225,105.795,131.2,167.175,782.485,389.925,207.64,1004.96,229.88,73.16,1568.76,284.35,155.565,314.52,792.625,977.68,589.92,224.16,300.76,155.92,862.84,1305.7,1416.285,1039.68,76.275,113.2,1873.64,338.125,827.955,171.51,372.88,146.72,62.475,136.32,23.22,770.355,1399.48,192.24,157.875,951.255,81.195,101.24,93.525,178.335,195.68,213.08,712.755,258.135,272.12,1069.44,326.48,101.76,1597.36,323.675,187.74,343.12,1296.8,1006.28,618.52,252.76,329.36,184.52,891.44,2117.72,1448.46,1068.28,108.45,141.8,1902.24,356.0,860.13,182.235,451.665,175.32,80.35,147.045,33.945,802.53,1428.08,220.84,281.2,983.43,886.88,153.2,129.84,111.4,210.51,224.28,271.89,744.93,268.86,300.72,1098.04,167.4,0.0,1583.64,194.865,95.15,153.44,1107.12,816.6,528.84,155.08,238.14,62.84,701.76,1928.04,1235.07,878.6,7.56,0.0,1926.63,435.92,646.74,245.175,85.64,38.88,154.025,0.0,701.64,1393.2,138.555,91.52,770.04,784.35,34.65,0.0,0.0,24.12,102.6,58.5,649.66,329.55,111.04,908.36,197.64,46.035,1536.52,240.02,145.805,282.28,1235.96,945.44,557.68,191.92,268.52,123.68,830.6,2056.88,1380.015,1007.44,40.005,80.96,2071.575,317.975,791.685,159.42,114.48,67.72,124.23,11.13,734.085,1538.145,180.0,220.36,914.985,115.175,77.625,73.375,142.065,163.44,203.445,676.485,410.075,239.88,1037.2,197.64,46.035,1536.52,240.02,145.805,282.28,1235.96,945.44,557.68,191.92,268.52,123.68,830.6,2056.88,1380.015,1007.44,40.005,80.96,2071.575,317.975,791.685,159.42,114.48,67.72,124.23,11.13,734.085,1538.145,180.0,220.36,914.985,929.295,115.175,77.625,73.375,142.065,163.44,203.445,676.485,410.075,239.88,1037.2,185.85,0.0,1683.09,217.415,117.7,272.07,1195.52,905.0,545.24,171.48,256.59,83.24,790.16,2016.44,1334.52,967.0,26.01,45.585,2026.08,468.32,746.19,255.425,102.04,55.28,181.775,0.0,720.09,1492.65,157.005,179.92,869.49,89.9,32.13,48.1,96.57,123.0,157.95,771.265,384.825,199.48,996.76,202.185,25.875,1708.425,220.88,121.165,264.36,1218.04,927.52,547.76,174.0,281.925,105.76,812.68,2038.96,1359.855,989.52,28.845,70.92,2051.415,490.84,771.525,257.0,104.56,57.8,195.85,4.41,722.925,1517.985,159.84,202.44,894.825,909.135,103.975,57.465,62.175,121.905,145.52,183.285,802.23,398.9,222.0,1019.28,183.015,0.0,1657.755,175.05,114.235,246.735,1173.0,882.48,542.72,168.96,253.755,76.72,863.595,1993.92,1309.185,944.48,23.175,20.25,2000.745,449.8,720.855,253.85,99.52,52.76,167.7,0.0,717.255,1467.315,154.17,157.4,844.155,858.465,75.825,15.795,22.5,71.235,116.48,132.615,740.3,370.75,176.96,974.24,225.54,49.23,1731.78,199.575,149.71,285.12,1238.8,948.28,560.52,194.76,305.28,126.52,833.44,2059.72,1383.21,1010.28,43.2,94.275,2074.77,511.6,794.88,267.475,117.32,70.56,208.825,10.5,737.28,1541.34,183.195,223.2,918.18,932.49,116.95,80.82,75.15,145.26,166.28,206.64,830.775,411.875,242.76,1040.04,182.16,0.0,1634.4,212.905,113.19,223.38,1152.24,861.72,541.96,168.2,252.9,75.96,746.88,1973.16,1285.83,923.72,22.32,14.895,1977.39,449.04,697.5,253.375,98.76,52.0,162.225,0.0,716.4,1443.96,153.315,136.64,820.8,835.11,62.85,14.94,10.0,47.88,115.72,109.26,711.755,357.775,156.2,953.48,228.0,80.19,1566.88,281.765,187.55,312.64,1266.32,975.8,588.04,222.28,298.88,154.04,860.96,2087.24,1414.17,1037.8,74.16,111.32,2105.73,336.95,825.84,170.805,417.375,144.84,98.08,135.615,22.515,768.24,1572.3,214.155,250.72,949.14,963.45,134.15,111.78,92.35,176.22,193.8,237.6,710.685,429.075,270.28,1067.56,173.7,0.0,1603.44,202.565,102.85,192.42,1124.72,834.2,534.44,160.68,244.44,68.44,809.28,1945.64,1254.87,896.2,0.0,0.0,1946.43,441.52,666.54,248.675,91.24,0.0,157.525,707.94,1413.0,144.855,109.12,789.84,804.15,45.65,0.0,0.0,30.42,108.2,78.3,673.915,340.575,128.68,1041.705,234.81,58.5,1741.05,255.255,161.04,330.03,1247.04,956.52,568.76,203.0,314.55,134.76,841.68,2067.96,1392.48,1018.52,52.47,103.545,2084.04,519.84,804.15,272.625,125.56,78.8,213.975,15.285,746.55,1550.61,192.465,231.44,927.45,941.76,122.1,90.09,80.3,154.53,174.52,215.91,842.105,417.025,251.0,1048.28,177.39,0.0,1625.13,207.075,107.36,214.11,1144.0,853.48,537.72,163.96,248.13,71.72,738.64,1964.92,1276.56,915.48,0.0,0.0,1968.12,444.8,688.23,250.725,94.52,0.0,159.575,0.0,711.63,1434.69,148.545,128.4,811.53,825.84,57.7,10.17,7.5,38.61,111.48,99.99,700.425,352.625,147.96,945.24,298.8,122.49,1805.04,333.465,239.25,350.24,1303.92,1013.4,625.64,259.88,378.54,191.64,898.56,2124.84,1456.47,1075.4,116.46,167.535,2148.03,576.72,868.14,308.175,459.675,182.44,135.68,249.525,36.615,810.54,1614.6,256.455,991.44,1005.75,157.65,154.08,115.85,218.52,231.4,279.9,920.315,452.575,307.88,1105.16,158.4,0.0,1561.14,183.865,84.15,150.12,1087.12,796.6,520.84,147.08,229.14,54.84,681.76,1908.04,1212.57,858.6,0.0,0.0,1904.13,427.92,624.24,240.175,77.64,0.0,149.025,0.0,692.64,1370.7,129.555,71.52,747.54,829.035,22.15,0.0,0.0,0.0,94.6,0.0,622.215,317.075,91.08,888.36,290.04,133.32,1628.92,367.07,223.245,374.68,1328.36,1037.84,650.08,284.32,360.92,216.08,923.0,2149.28,1483.965,1099.84,143.955,173.36,1933.8,375.725,895.635,194.07,206.88,100.075,158.88,45.78,838.035,1642.095,252.4,312.76,1018.935,1033.245,172.925,161.4,131.125,246.015,255.84,307.395,780.48,280.71,332.32,1129.6,180.405,0.0,1533.645,210.76,111.045,154.125,1062.68,772.16,540.4,166.64,251.145,74.4,739.485,1883.6,1185.075,834.16,20.565,13.14,1876.635,447.48,596.745,252.4,97.2,50.44,161.25,0.0,714.645,1343.205,151.56,51.08,720.045,734.355,29.375,13.185,0.0,45.375,114.16,58.005,588.61,301.8,98.64,971.91,225.945,40.5,1732.185,244.42,150.205,321.165,1239.16,948.64,560.88,195.12,305.685,126.88,833.8,2060.08,1383.615,1010.64,43.605,94.68,2075.175,511.96,795.285,267.7,117.68,70.92,209.05,9.0,737.685,1541.745,183.6,223.56,918.585,932.895,117.175,81.225,75.375,145.665,166.64,207.045,831.215,412.075,243.08,1040.4,177.255,0.0,1633.995,169.29,107.195,222.975,1151.88,861.36,537.6,163.84,247.995,71.6,746.52,1972.8,1285.425,923.36,17.415,9.99,1976.985,444.68,697.095,250.65,94.4,47.64,159.5,0.0,711.495,1443.555,148.41,136.28,820.395,834.705,62.625,10.035,12.5,47.475,111.36,108.855,711.205,357.525,155.8,953.12,185.58,0.0,1646.82,217.085,117.37,235.8,1163.28,872.76,545.0,171.24,256.32,79.0,852.66,1984.2,1298.25,934.76,25.74,18.315,1989.81,452.08,709.92,255.275,101.8,55.04,164.125,0.0,719.82,1456.38,156.735,147.68,833.22,847.53,69.75,18.36,28.1,73.7,118.76,121.68,726.88,364.65,167.2,1085.085,189.44,32.72,1528.32,228.745,110.07,274.08,1227.76,937.24,549.48,183.72,260.32,115.48,822.4,2048.68,1370.79,999.24,30.78,72.76,1833.2,312.85,782.46,156.345,106.28,37.2,121.155,8.055,724.86,1528.92,151.8,212.16,905.76,920.07,110.05,60.8,68.25,132.84,155.24,194.22,667.26,242.97,231.68,1029.0,321.795,68.985,1751.535,268.07,173.855,302.68,1256.36,965.84,578.08,212.32,325.035,144.08,851.0,2077.28,1402.965,1027.84,62.955,114.03,2094.525,529.16,814.635,278.45,406.17,134.88,88.12,219.8,18.78,757.035,1561.095,202.95,240.76,937.935,952.245,127.925,100.575,86.125,165.015,183.84,226.395,854.865,422.825,260.28,1057.6,153.405,0.0,1538.145,177.76,78.045,127.125,1066.68,776.16,516.4,142.64,224.145,50.4,743.985,1887.6,1189.575,838.16,0.0,0.0,1881.135,423.48,601.245,237.4,73.2,26.44,146.25,0.0,687.645,1347.705,124.56,51.08,724.545,738.855,14.375,0.0,0.0,10.125,90.16,31.005,594.055,304.275,74.6,867.92,185.85,0.0,1683.09,217.415,117.7,272.07,1195.52,905.0,545.24,171.48,256.59,83.24,790.16,2016.44,1334.52,967.0,26.01,45.585,2026.08,468.32,746.19,255.425,102.04,55.28,181.775,0.0,720.09,1492.65,157.005,179.92,869.49,883.8,89.9,32.13,48.1,96.57,123.0,157.95,771.21,384.8,199.44,996.76,185.85,0.0,1683.09,217.415,117.7,272.07,1195.52,905.0,545.24,171.48,256.59,83.24,790.16,2016.44,1334.52,967.0,26.01,45.585,2026.08,468.32,746.19,255.425,102.04,55.28,181.775,0.0,720.09,1492.65,157.005,179.92,869.49,883.8,89.9,32.13,48.1,96.57,123.0,157.95,771.21,384.8,199.44,996.76,238.08,81.36,1576.96,295.625,164.79,322.72,1276.4,985.88,598.12,232.36,308.96,164.12,871.04,2097.32,1425.51,1047.88,85.5,121.4,1881.84,343.25,837.18,174.585,428.715,154.92,67.6,139.395,26.295,779.58,1407.68,200.44,260.8,960.48,866.48,84.27,109.44,98.65,187.56,203.88,221.28,722.025,261.225,280.36,1077.64,260.6,103.88,1599.48,326.59,190.125,345.24,811.825,1008.4,620.64,159.3,331.48,116.65,893.56,1324.9,1450.845,1070.4,110.835,143.92,1904.36,357.325,862.515,183.03,403.6,177.44,81.675,147.84,34.74,804.915,1430.2,222.96,177.075,985.815,889.0,92.715,131.96,112.725,212.895,226.4,243.8,747.36,269.67,302.88,1100.16,215.56,58.84,1554.44,286.66,152.955,300.2,1253.88,963.36,595.6,221.84,286.44,141.6,848.52,2074.8,1400.175,1025.36,82.665,98.88,1859.32,329.175,811.845,172.14,403.38,152.4,66.025,130.95,15.165,776.745,1558.305,189.92,238.28,935.145,949.455,126.375,86.92,84.575,162.225,181.36,223.605,696.69,252.78,257.84,1055.12,281.36,124.64,1620.24,355.135,213.48,366.0,824.8,1029.16,641.4,275.64,352.24,207.4,914.32,1337.875,1474.2,1091.16,134.19,164.68,1925.12,370.3,885.87,190.815,424.36,198.2,94.65,155.625,42.525,828.27,1450.96,243.72,190.05,1009.17,909.76,100.5,152.72,125.7,236.25,247.16,264.56,770.715,277.455,323.64,1120.92,214.8,40.44,1533.68,233.685,152.1,279.44,1233.12,942.6,594.84,221.08,277.68,128.84,827.76,2054.04,1376.82,1004.6,81.81,78.12,1838.56,316.2,788.49,171.855,380.025,151.64,65.55,123.165,15.165,775.89,1364.4,189.16,217.52,911.79,823.2,113.4,66.16,52.775,138.87,168.6,200.25,673.335,244.995,237.08,1034.36,308.88,152.16,1647.76,392.975,244.44,393.52,842.0,1056.68,668.92,189.475,379.76,146.825,941.84,1355.075,1505.16,699.175,146.8,192.2,1952.64,387.5,916.83,201.135,451.88,141.075,111.85,165.945,52.845,859.23,1478.48,271.24,207.25,1040.13,937.28,110.82,180.24,142.9,267.21,171.675,292.08,801.675,287.775,219.475,1148.44,207.28,45.495,1506.16,225.225,175.56,251.92,1205.6,915.08,587.32,213.56,270.16,121.32,800.24,2026.52,1345.86,977.08,73.35,58.6,2037.42,309.0,757.53,169.035,144.12,40.44,114.345,767.43,1503.99,204.345,190.0,880.83,895.14,96.2,65.97,40.275,107.91,161.08,169.29,642.375,391.125,209.56,1006.84,289.6,132.88,1628.48,366.465,222.75,374.24,1327.92,1037.4,649.64,283.88,360.48,215.64,922.56,2148.84,1483.47,1099.4,143.46,172.92,1933.36,375.45,895.14,193.905,486.675,206.44,99.8,158.715,45.615,837.54,1459.2,251.96,312.32,1018.44,918.0,103.59,160.96,130.85,245.52,255.4,272.8,779.985,280.545,331.88,1129.16,210.56,40.44,1525.44,279.785,147.33,271.2,1224.88,934.36,590.6,216.84,273.44,124.6,819.52,2045.8,1367.55,996.36,77.04,69.88,1830.32,311.05,779.22,170.265,147.4,62.9,120.075,15.165,771.12,1356.16,184.92,209.28,902.52,814.96,64.95,61.92,50.275,129.6,164.36,169.76,664.065,241.905,228.84,1026.12,346.48,189.76,1685.36,444.675,286.74,431.12,865.5,1094.28,706.52,340.76,417.36,272.52,979.44,1378.575,1547.46,1156.28,207.45,229.8,1990.24,411.0,959.13,215.235,489.48,263.32,135.35,180.045,66.945,901.53,1516.08,308.84,1082.43,974.88,124.92,217.84,166.4,309.51,312.28,329.68,843.975,301.875,388.76,1186.04,193.68,40.44,1468.56,256.575,128.34,214.32,1168.0,877.48,573.72,199.96,256.56,107.72,762.64,1988.92,1303.56,939.48,58.05,45.0,1773.44,300.5,715.23,163.935,130.52,52.35,109.245,15.165,752.13,1299.28,168.04,152.4,838.53,758.08,72.7,45.04,25.275,74.61,147.48,126.99,600.075,220.575,171.96,969.24,370.92,214.2,1709.8,478.28,314.235,455.56,880.775,1118.72,730.96,228.25,441.8,185.6,1003.88,1393.85,1399.96,737.95,208.84,254.24,2014.68,426.275,877.0,224.4,513.92,179.85,150.625,189.21,76.11,929.025,1540.52,333.28,246.025,986.6,999.32,134.085,242.28,181.675,337.005,210.45,354.12,871.47,311.04,258.25,1210.48,239.895,45.495,1624.635,283.47,183.755,189.88,1143.56,853.04,593.28,219.52,310.635,127.28,738.2,1964.48,1276.065,915.04,80.055,72.63,1967.625,500.36,687.735,285.45,150.08,103.32,194.3,15.165,774.135,1434.195,211.05,127.96,811.035,825.345,62.425,72.675,43.125,96.615,167.04,117.495,699.82,352.35,151.52,944.8,281.72,125.0,1620.6,355.63,213.885,366.36,1320.04,1029.52,641.76,276.0,352.6,207.76,914.68,2140.96,1474.605,1091.52,134.595,165.04,1925.48,370.525,886.275,190.95,477.81,198.56,94.875,155.76,42.66,828.675,1451.32,244.08,304.44,1009.575,910.12,100.635,153.08,125.925,236.655,247.52,264.92,771.075,277.575,323.96,1121.28,194.44,37.72,1533.32,241.12,115.695,279.08,1232.76,942.24,562.48,188.72,265.32,120.48,827.4,2053.68,1376.415,1004.24,45.405,77.76,1838.2,315.975,788.085,159.72,379.62,119.28,45.325,123.03,9.93,739.485,1364.04,156.8,217.16,911.385,822.84,67.905,65.8,71.375,138.465,160.24,177.64,672.885,244.845,236.68,1034.0,231.57,55.26,1737.81,251.295,157.08,290.48,1244.16,953.64,569.88,200.12,311.31,131.88,838.8,2065.08,1389.24,1015.64,53.73,100.305,2080.8,516.96,800.91,270.825,126.68,79.92,212.175,14.205,747.81,1547.37,189.225,228.56,924.21,938.52,120.3,86.85,78.5,151.29,171.64,212.67,838.09,415.2,248.08,1045.4,270.32,113.6,1609.2,339.955,201.06,354.96,817.9,1018.12,630.36,165.375,341.2,122.725,903.28,1330.975,1299.36,675.075,108.24,153.64,1914.08,363.4,776.4,186.675,413.32,116.975,87.75,151.485,38.385,815.85,1439.92,232.68,183.15,886.0,898.72,96.36,141.68,118.8,223.83,147.575,253.52,758.25,273.3,195.35,1109.88,366.92,142.2,1637.8,379.28,233.235,383.56,835.775,1046.72,658.96,183.25,369.8,140.6,931.88,1348.85,1493.955,1108.72,153.945,182.24,1942.68,381.275,905.625,197.4,441.92,215.76,105.625,162.21,49.11,848.025,1468.52,261.28,201.025,1028.925,927.32,107.085,136.675,256.005,264.72,282.12,790.425,284.025,341.16,1138.48,161.24,0.0,1448.12,211.97,91.845,193.88,1147.56,857.04,541.28,167.52,224.12,75.28,742.2,1968.48,1280.565,919.04,21.555,12.56,1753.0,280.225,692.235,151.77,98.08,32.075,97.08,0.0,715.635,1438.695,135.6,131.96,815.535,829.845,59.925,12.6,18.125,42.615,115.04,103.995,577.035,212.895,151.48,948.8,238.08,81.36,1576.96,295.625,164.79,322.72,1276.4,985.88,598.12,232.36,308.96,164.12,871.04,2097.32,1425.51,1047.88,85.5,121.4,1881.84,343.25,837.18,174.585,428.715,154.92,67.6,139.395,26.295,779.58,1407.68,200.44,260.8,960.48,866.48,84.27,109.44,98.65,187.56,203.88,221.28,721.98,261.21,280.32,1077.64,238.08,81.36,1576.96,295.625,164.79,322.72,1276.4,985.88,598.12,232.36,308.96,164.12,871.04,2097.32,1425.51,1047.88,85.5,121.4,1881.84,343.25,837.18,174.585,428.715,154.92,67.6,139.395,26.295,779.58,1407.68,200.44,260.8,960.48,866.48,84.27,109.44,98.65,187.56,203.88,221.28,721.98,261.21,280.32,1077.64],\"xaxis\":\"x\",\"yaxis\":\"y\",\"type\":\"histogram\"},{\"alignmentgroup\":\"True\",\"hovertemplate\":\"Churn=Non Churn<br>Customer Value=%{x}<extra></extra>\",\"legendgroup\":\"Non Churn\",\"marker\":{\"color\":\"#636efa\"},\"name\":\"Non Churn\",\"notched\":true,\"offsetgroup\":\"Non Churn\",\"showlegend\":false,\"x\":[197.64,46.035,1536.52,240.02,145.805,282.28,1235.96,945.44,557.68,191.92,268.52,123.68,830.6,2056.88,1380.015,1007.44,80.96,2071.575,317.975,791.685,159.42,114.48,67.72,124.23,11.13,734.085,1538.145,180.0,220.36,914.985,929.295,115.175,77.625,142.065,163.44,203.445,676.53,410.1,239.92,1037.2,220.16,63.44,1559.04,270.985,144.63,304.8,1258.48,967.96,580.2,214.44,291.04,146.2,853.12,2079.4,1405.35,1029.96,65.34,103.48,1863.92,332.05,817.02,167.865,408.555,137.0,56.4,132.675,19.575,759.42,1389.76,182.52,242.88,940.32,848.56,129.25,91.52,87.45,167.4,185.96,228.78,701.865,254.505,262.44,1059.72,197.01,20.7,1703.25,231.055,131.34,259.76,1213.44,922.92,555.16,181.4,276.75,101.16,808.08,2034.36,1354.68,984.92,37.17,65.745,2046.24,486.24,766.35,261.625,111.96,65.2,192.975,0.0,731.25,1512.81,168.165,197.84,889.65,903.96,101.1,52.29,116.73,140.92,178.11,795.905,396.025,217.4,1014.68,240.92,1579.8,299.53,167.985,325.56,1279.24,988.72,600.96,235.2,311.8,166.96,873.88,2100.16,1428.705,1050.72,88.695,124.24,1884.68,345.025,840.375,175.65,157.76,69.375,140.46,27.36,782.775,1586.835,203.28,263.64,963.675,977.985,142.225,112.28,100.425,190.755,206.72,252.135,725.22,262.29,283.2,1080.48,196.155,0.0,1679.895,230.01,130.295,239.0,1192.68,902.16,554.4,180.64,266.895,88.4,787.32,2013.6,1331.325,964.16,36.315,42.39,2022.885,465.48,742.995,261.15,111.2,64.44,180.0,0.0,730.395,1489.455,167.31,177.08,866.295,880.605,88.125,28.935,27.5,93.375,128.16,154.755,767.36,383.05,196.64,993.92,268.44,111.72,1607.32,337.37,198.945,353.08,1306.76,1016.24,628.48,262.72,339.32,194.48,901.4,2127.68,1459.665,1078.24,119.655,151.76,1912.2,362.225,871.335,185.97,462.87,185.28,86.575,150.78,37.68,813.735,1438.04,230.8,291.16,994.635,896.84,95.655,139.8,117.625,221.715,234.24,251.64,756.18,272.61,310.72,1108.0,187.695,0.0,1648.935,219.67,119.955,237.915,1165.16,874.64,546.88,173.12,258.435,80.88,759.8,1986.08,1300.365,936.64,27.855,20.43,1991.925,453.96,712.035,256.45,103.68,0.0,165.3,721.935,1458.495,158.85,149.56,835.335,849.645,70.925,20.475,15.0,62.415,120.64,123.795,729.52,365.85,169.12,966.4,249.16,103.995,1588.04,310.86,216.645,333.8,1287.48,996.96,609.2,243.44,320.04,175.2,882.12,2108.4,1437.975,1058.96,97.965,132.48,2129.535,350.175,849.645,178.74,441.18,166.0,119.24,143.55,30.45,792.045,1596.105,237.96,271.88,972.945,147.375,135.585,105.575,200.025,214.96,261.405,734.49,442.3,291.44,1088.72,170.12,0.0,1485.0,224.18,124.465,230.76,1184.44,893.92,550.16,176.4,233.0,84.16,779.08,2005.36,1322.055,955.92,31.545,29.44,2013.615,285.775,733.725,155.1,106.96,60.2,104.91,0.0,725.625,1480.185,162.54,168.84,857.025,871.335,82.975,24.165,25.0,84.105,123.92,145.485,618.57,377.9,188.4,985.68,306.04,149.32,1644.92,389.07,241.245,390.68,1344.36,1053.84,666.08,300.32,376.92,232.08,939.0,2165.28,1501.965,1115.84,161.955,189.36,1949.8,385.725,913.635,200.07,505.17,222.88,110.075,164.88,51.78,856.035,1660.095,268.4,1036.935,1051.245,182.925,177.4,141.125,264.015,271.84,325.395,798.48,286.71,348.32,1145.6,172.395,0.0,1606.635,200.97,101.255,173.88,1127.56,837.04,533.28,159.52,243.135,67.28,722.2,1948.48,1258.065,899.04,12.555,5.13,1949.625,440.36,669.735,247.95,90.08,43.32,156.8,0.0,706.635,1416.195,143.55,111.96,793.035,807.345,47.425,5.175,0.0,29.115,107.04,81.495,677.82,342.35,131.52,928.8,330.48,173.76,1669.36,422.675,268.74,415.12,855.5,1078.28,690.52,324.76,401.36,256.52,963.44,1368.575,1529.46,1140.28,189.45,213.8,1974.24,401.0,941.13,209.235,473.48,247.32,125.35,174.045,60.945,883.53,1500.08,292.84,220.75,1064.43,958.88,118.92,201.84,156.4,291.51,296.28,313.68,825.975,295.875,372.76,1170.04,194.4,0.0,1579.14,227.865,128.15,168.12,1103.12,812.6,552.84,179.08,265.14,86.84,697.76,1924.04,1230.57,874.6,34.56,27.135,1922.13,459.92,642.24,260.175,109.64,62.88,169.025,0.0,728.64,1388.7,165.555,87.52,765.54,779.85,37.15,27.18,17.85,51.12,126.6,72.0,644.215,327.075,111.08,904.36,241.28,95.13,1580.16,300.025,205.81,325.92,1279.6,989.08,601.32,235.56,312.16,167.32,874.24,2100.52,1429.11,1051.08,89.1,124.6,2120.67,345.25,840.78,175.785,158.12,111.36,140.595,27.495,783.18,1587.24,229.095,264.0,964.08,142.45,126.72,100.65,191.16,207.08,252.54,725.58,437.35,283.52,1080.84,170.0,5.94,1492.88,224.015,124.3,238.64,1192.32,901.8,550.04,176.28,232.88,84.04,786.96,2013.24,1330.92,963.8,31.41,37.32,2022.48,290.7,742.59,155.055,106.84,60.08,107.865,0.0,725.49,1489.05,162.405,176.72,865.89,880.2,87.9,28.53,46.1,92.97,123.8,154.35,627.39,382.8,196.24,993.56,199.575,14.49,1692.315,234.19,134.475,281.295,1203.72,913.2,557.44,183.68,270.315,91.44,798.36,2024.64,1343.745,975.2,39.735,54.81,2035.305,476.52,755.415,263.05,114.24,67.48,186.9,8.575,733.815,1501.875,170.73,188.12,878.715,893.025,95.025,41.355,53.225,105.795,131.2,167.175,782.485,389.925,207.64,1004.96,229.88,73.16,1568.76,284.35,155.565,314.52,792.625,977.68,589.92,224.16,300.76,155.92,862.84,1305.7,1416.285,1039.68,76.275,113.2,1873.64,338.125,827.955,171.51,372.88,146.72,62.475,136.32,23.22,770.355,1399.48,192.24,157.875,951.255,81.195,101.24,93.525,178.335,195.68,213.08,712.755,258.135,272.12,1069.44,326.48,101.76,1597.36,323.675,187.74,343.12,1296.8,1006.28,618.52,252.76,329.36,184.52,891.44,2117.72,1448.46,1068.28,108.45,141.8,1902.24,356.0,860.13,182.235,451.665,175.32,80.35,147.045,33.945,802.53,1428.08,220.84,281.2,983.43,886.88,153.2,129.84,111.4,210.51,224.28,271.89,744.93,268.86,300.72,1098.04,167.4,0.0,1583.64,194.865,95.15,153.44,1107.12,816.6,528.84,155.08,238.14,62.84,701.76,1928.04,1235.07,878.6,7.56,0.0,1926.63,435.92,646.74,245.175,85.64,38.88,154.025,0.0,701.64,1393.2,138.555,91.52,770.04,784.35,34.65,0.0,0.0,24.12,102.6,58.5,649.66,329.55,111.04,908.36,197.64,46.035,1536.52,240.02,145.805,282.28,1235.96,945.44,557.68,191.92,268.52,123.68,830.6,2056.88,1380.015,1007.44,40.005,80.96,2071.575,317.975,791.685,159.42,114.48,67.72,124.23,11.13,734.085,1538.145,180.0,220.36,914.985,115.175,77.625,73.375,142.065,163.44,203.445,676.485,410.075,239.88,1037.2,197.64,46.035,1536.52,240.02,145.805,282.28,1235.96,945.44,557.68,191.92,268.52,123.68,830.6,2056.88,1380.015,1007.44,40.005,80.96,2071.575,317.975,791.685,159.42,114.48,67.72,124.23,11.13,734.085,1538.145,180.0,220.36,914.985,929.295,115.175,77.625,73.375,142.065,163.44,203.445,676.485,410.075,239.88,1037.2,185.85,0.0,1683.09,217.415,117.7,272.07,1195.52,905.0,545.24,171.48,256.59,83.24,790.16,2016.44,1334.52,967.0,26.01,45.585,2026.08,468.32,746.19,255.425,102.04,55.28,181.775,0.0,720.09,1492.65,157.005,179.92,869.49,89.9,32.13,48.1,96.57,123.0,157.95,771.265,384.825,199.48,996.76,202.185,25.875,1708.425,220.88,121.165,264.36,1218.04,927.52,547.76,174.0,281.925,105.76,812.68,2038.96,1359.855,989.52,28.845,70.92,2051.415,490.84,771.525,257.0,104.56,57.8,195.85,4.41,722.925,1517.985,159.84,202.44,894.825,909.135,103.975,57.465,62.175,121.905,145.52,183.285,802.23,398.9,222.0,1019.28,183.015,0.0,1657.755,175.05,114.235,246.735,1173.0,882.48,542.72,168.96,253.755,76.72,863.595,1993.92,1309.185,944.48,23.175,20.25,2000.745,449.8,720.855,253.85,99.52,52.76,167.7,0.0,717.255,1467.315,154.17,157.4,844.155,858.465,75.825,15.795,22.5,71.235,116.48,132.615,740.3,370.75,176.96,974.24,225.54,49.23,1731.78,199.575,149.71,285.12,1238.8,948.28,560.52,194.76,305.28,126.52,833.44,2059.72,1383.21,1010.28,43.2,94.275,2074.77,511.6,794.88,267.475,117.32,70.56,208.825,10.5,737.28,1541.34,183.195,223.2,918.18,932.49,116.95,80.82,75.15,145.26,166.28,206.64,830.775,411.875,242.76,1040.04,182.16,0.0,1634.4,212.905,113.19,223.38,1152.24,861.72,541.96,168.2,252.9,75.96,746.88,1973.16,1285.83,923.72,22.32,14.895,1977.39,449.04,697.5,253.375,98.76,52.0,162.225,0.0,716.4,1443.96,153.315,136.64,820.8,835.11,62.85,14.94,10.0,47.88,115.72,109.26,711.755,357.775,156.2,953.48,228.0,80.19,1566.88,281.765,187.55,312.64,1266.32,975.8,588.04,222.28,298.88,154.04,860.96,2087.24,1414.17,1037.8,74.16,111.32,2105.73,336.95,825.84,170.805,417.375,144.84,98.08,135.615,22.515,768.24,1572.3,214.155,250.72,949.14,963.45,134.15,111.78,92.35,176.22,193.8,237.6,710.685,429.075,270.28,1067.56,173.7,0.0,1603.44,202.565,102.85,192.42,1124.72,834.2,534.44,160.68,244.44,68.44,809.28,1945.64,1254.87,896.2,0.0,0.0,1946.43,441.52,666.54,248.675,91.24,0.0,157.525,707.94,1413.0,144.855,109.12,789.84,804.15,45.65,0.0,0.0,30.42,108.2,78.3,673.915,340.575,128.68,1041.705,234.81,58.5,1741.05,255.255,161.04,330.03,1247.04,956.52,568.76,203.0,314.55,134.76,841.68,2067.96,1392.48,1018.52,52.47,103.545,2084.04,519.84,804.15,272.625,125.56,78.8,213.975,15.285,746.55,1550.61,192.465,231.44,927.45,941.76,122.1,90.09,80.3,154.53,174.52,215.91,842.105,417.025,251.0,1048.28,177.39,0.0,1625.13,207.075,107.36,214.11,1144.0,853.48,537.72,163.96,248.13,71.72,738.64,1964.92,1276.56,915.48,0.0,0.0,1968.12,444.8,688.23,250.725,94.52,0.0,159.575,0.0,711.63,1434.69,148.545,128.4,811.53,825.84,57.7,10.17,7.5,38.61,111.48,99.99,700.425,352.625,147.96,945.24,298.8,122.49,1805.04,333.465,239.25,350.24,1303.92,1013.4,625.64,259.88,378.54,191.64,898.56,2124.84,1456.47,1075.4,116.46,167.535,2148.03,576.72,868.14,308.175,459.675,182.44,135.68,249.525,36.615,810.54,1614.6,256.455,991.44,1005.75,157.65,154.08,115.85,218.52,231.4,279.9,920.315,452.575,307.88,1105.16,158.4,0.0,1561.14,183.865,84.15,150.12,1087.12,796.6,520.84,147.08,229.14,54.84,681.76,1908.04,1212.57,858.6,0.0,0.0,1904.13,427.92,624.24,240.175,77.64,0.0,149.025,0.0,692.64,1370.7,129.555,71.52,747.54,829.035,22.15,0.0,0.0,0.0,94.6,0.0,622.215,317.075,91.08,888.36,290.04,133.32,1628.92,367.07,223.245,374.68,1328.36,1037.84,650.08,284.32,360.92,216.08,923.0,2149.28,1483.965,1099.84,143.955,173.36,1933.8,375.725,895.635,194.07,206.88,100.075,158.88,45.78,838.035,1642.095,252.4,312.76,1018.935,1033.245,172.925,161.4,131.125,246.015,255.84,307.395,780.48,280.71,332.32,1129.6,180.405,0.0,1533.645,210.76,111.045,154.125,1062.68,772.16,540.4,166.64,251.145,74.4,739.485,1883.6,1185.075,834.16,20.565,13.14,1876.635,447.48,596.745,252.4,97.2,50.44,161.25,0.0,714.645,1343.205,151.56,51.08,720.045,734.355,29.375,13.185,0.0,45.375,114.16,58.005,588.61,301.8,98.64,971.91,225.945,40.5,1732.185,244.42,150.205,321.165,1239.16,948.64,560.88,195.12,305.685,126.88,833.8,2060.08,1383.615,1010.64,43.605,94.68,2075.175,511.96,795.285,267.7,117.68,70.92,209.05,9.0,737.685,1541.745,183.6,223.56,918.585,932.895,117.175,81.225,75.375,145.665,166.64,207.045,831.215,412.075,243.08,1040.4,177.255,0.0,1633.995,169.29,107.195,222.975,1151.88,861.36,537.6,163.84,247.995,71.6,746.52,1972.8,1285.425,923.36,17.415,9.99,1976.985,444.68,697.095,250.65,94.4,47.64,159.5,0.0,711.495,1443.555,148.41,136.28,820.395,834.705,62.625,10.035,12.5,47.475,111.36,108.855,711.205,357.525,155.8,953.12,185.58,0.0,1646.82,217.085,117.37,235.8,1163.28,872.76,545.0,171.24,256.32,79.0,852.66,1984.2,1298.25,934.76,25.74,18.315,1989.81,452.08,709.92,255.275,101.8,55.04,164.125,0.0,719.82,1456.38,156.735,147.68,833.22,847.53,69.75,18.36,28.1,73.7,118.76,121.68,726.88,364.65,167.2,1085.085,189.44,32.72,1528.32,228.745,110.07,274.08,1227.76,937.24,549.48,183.72,260.32,115.48,822.4,2048.68,1370.79,999.24,30.78,72.76,1833.2,312.85,782.46,156.345,106.28,37.2,121.155,8.055,724.86,1528.92,151.8,212.16,905.76,920.07,110.05,60.8,68.25,132.84,155.24,194.22,667.26,242.97,231.68,1029.0,321.795,68.985,1751.535,268.07,173.855,302.68,1256.36,965.84,578.08,212.32,325.035,144.08,851.0,2077.28,1402.965,1027.84,62.955,114.03,2094.525,529.16,814.635,278.45,406.17,134.88,88.12,219.8,18.78,757.035,1561.095,202.95,240.76,937.935,952.245,127.925,100.575,86.125,165.015,183.84,226.395,854.865,422.825,260.28,1057.6,153.405,0.0,1538.145,177.76,78.045,127.125,1066.68,776.16,516.4,142.64,224.145,50.4,743.985,1887.6,1189.575,838.16,0.0,0.0,1881.135,423.48,601.245,237.4,73.2,26.44,146.25,0.0,687.645,1347.705,124.56,51.08,724.545,738.855,14.375,0.0,0.0,10.125,90.16,31.005,594.055,304.275,74.6,867.92,185.85,0.0,1683.09,217.415,117.7,272.07,1195.52,905.0,545.24,171.48,256.59,83.24,790.16,2016.44,1334.52,967.0,26.01,45.585,2026.08,468.32,746.19,255.425,102.04,55.28,181.775,0.0,720.09,1492.65,157.005,179.92,869.49,883.8,89.9,32.13,48.1,96.57,123.0,157.95,771.21,384.8,199.44,996.76,185.85,0.0,1683.09,217.415,117.7,272.07,1195.52,905.0,545.24,171.48,256.59,83.24,790.16,2016.44,1334.52,967.0,26.01,45.585,2026.08,468.32,746.19,255.425,102.04,55.28,181.775,0.0,720.09,1492.65,157.005,179.92,869.49,883.8,89.9,32.13,48.1,96.57,123.0,157.95,771.21,384.8,199.44,996.76,238.08,81.36,1576.96,295.625,164.79,322.72,1276.4,985.88,598.12,232.36,308.96,164.12,871.04,2097.32,1425.51,1047.88,85.5,121.4,1881.84,343.25,837.18,174.585,428.715,154.92,67.6,139.395,26.295,779.58,1407.68,200.44,260.8,960.48,866.48,84.27,109.44,98.65,187.56,203.88,221.28,722.025,261.225,280.36,1077.64,260.6,103.88,1599.48,326.59,190.125,345.24,811.825,1008.4,620.64,159.3,331.48,116.65,893.56,1324.9,1450.845,1070.4,110.835,143.92,1904.36,357.325,862.515,183.03,403.6,177.44,81.675,147.84,34.74,804.915,1430.2,222.96,177.075,985.815,889.0,92.715,131.96,112.725,212.895,226.4,243.8,747.36,269.67,302.88,1100.16,215.56,58.84,1554.44,286.66,152.955,300.2,1253.88,963.36,595.6,221.84,286.44,141.6,848.52,2074.8,1400.175,1025.36,82.665,98.88,1859.32,329.175,811.845,172.14,403.38,152.4,66.025,130.95,15.165,776.745,1558.305,189.92,238.28,935.145,949.455,126.375,86.92,84.575,162.225,181.36,223.605,696.69,252.78,257.84,1055.12,281.36,124.64,1620.24,355.135,213.48,366.0,824.8,1029.16,641.4,275.64,352.24,207.4,914.32,1337.875,1474.2,1091.16,134.19,164.68,1925.12,370.3,885.87,190.815,424.36,198.2,94.65,155.625,42.525,828.27,1450.96,243.72,190.05,1009.17,909.76,100.5,152.72,125.7,236.25,247.16,264.56,770.715,277.455,323.64,1120.92,214.8,40.44,1533.68,233.685,152.1,279.44,1233.12,942.6,594.84,221.08,277.68,128.84,827.76,2054.04,1376.82,1004.6,81.81,78.12,1838.56,316.2,788.49,171.855,380.025,151.64,65.55,123.165,15.165,775.89,1364.4,189.16,217.52,911.79,823.2,113.4,66.16,52.775,138.87,168.6,200.25,673.335,244.995,237.08,1034.36,308.88,152.16,1647.76,392.975,244.44,393.52,842.0,1056.68,668.92,189.475,379.76,146.825,941.84,1355.075,1505.16,699.175,146.8,192.2,1952.64,387.5,916.83,201.135,451.88,141.075,111.85,165.945,52.845,859.23,1478.48,271.24,207.25,1040.13,937.28,110.82,180.24,142.9,267.21,171.675,292.08,801.675,287.775,219.475,1148.44,207.28,45.495,1506.16,225.225,175.56,251.92,1205.6,915.08,587.32,213.56,270.16,121.32,800.24,2026.52,1345.86,977.08,73.35,58.6,2037.42,309.0,757.53,169.035,144.12,40.44,114.345,767.43,1503.99,204.345,190.0,880.83,895.14,96.2,65.97,40.275,107.91,161.08,169.29,642.375,391.125,209.56,1006.84,289.6,132.88,1628.48,366.465,222.75,374.24,1327.92,1037.4,649.64,283.88,360.48,215.64,922.56,2148.84,1483.47,1099.4,143.46,172.92,1933.36,375.45,895.14,193.905,486.675,206.44,99.8,158.715,45.615,837.54,1459.2,251.96,312.32,1018.44,918.0,103.59,160.96,130.85,245.52,255.4,272.8,779.985,280.545,331.88,1129.16,210.56,40.44,1525.44,279.785,147.33,271.2,1224.88,934.36,590.6,216.84,273.44,124.6,819.52,2045.8,1367.55,996.36,77.04,69.88,1830.32,311.05,779.22,170.265,147.4,62.9,120.075,15.165,771.12,1356.16,184.92,209.28,902.52,814.96,64.95,61.92,50.275,129.6,164.36,169.76,664.065,241.905,228.84,1026.12,346.48,189.76,1685.36,444.675,286.74,431.12,865.5,1094.28,706.52,340.76,417.36,272.52,979.44,1378.575,1547.46,1156.28,207.45,229.8,1990.24,411.0,959.13,215.235,489.48,263.32,135.35,180.045,66.945,901.53,1516.08,308.84,1082.43,974.88,124.92,217.84,166.4,309.51,312.28,329.68,843.975,301.875,388.76,1186.04,193.68,40.44,1468.56,256.575,128.34,214.32,1168.0,877.48,573.72,199.96,256.56,107.72,762.64,1988.92,1303.56,939.48,58.05,45.0,1773.44,300.5,715.23,163.935,130.52,52.35,109.245,15.165,752.13,1299.28,168.04,152.4,838.53,758.08,72.7,45.04,25.275,74.61,147.48,126.99,600.075,220.575,171.96,969.24,370.92,214.2,1709.8,478.28,314.235,455.56,880.775,1118.72,730.96,228.25,441.8,185.6,1003.88,1393.85,1399.96,737.95,208.84,254.24,2014.68,426.275,877.0,224.4,513.92,179.85,150.625,189.21,76.11,929.025,1540.52,333.28,246.025,986.6,999.32,134.085,242.28,181.675,337.005,210.45,354.12,871.47,311.04,258.25,1210.48,239.895,45.495,1624.635,283.47,183.755,189.88,1143.56,853.04,593.28,219.52,310.635,127.28,738.2,1964.48,1276.065,915.04,80.055,72.63,1967.625,500.36,687.735,285.45,150.08,103.32,194.3,15.165,774.135,1434.195,211.05,127.96,811.035,825.345,62.425,72.675,43.125,96.615,167.04,117.495,699.82,352.35,151.52,944.8,281.72,125.0,1620.6,355.63,213.885,366.36,1320.04,1029.52,641.76,276.0,352.6,207.76,914.68,2140.96,1474.605,1091.52,134.595,165.04,1925.48,370.525,886.275,190.95,477.81,198.56,94.875,155.76,42.66,828.675,1451.32,244.08,304.44,1009.575,910.12,100.635,153.08,125.925,236.655,247.52,264.92,771.075,277.575,323.96,1121.28,194.44,37.72,1533.32,241.12,115.695,279.08,1232.76,942.24,562.48,188.72,265.32,120.48,827.4,2053.68,1376.415,1004.24,45.405,77.76,1838.2,315.975,788.085,159.72,379.62,119.28,45.325,123.03,9.93,739.485,1364.04,156.8,217.16,911.385,822.84,67.905,65.8,71.375,138.465,160.24,177.64,672.885,244.845,236.68,1034.0,231.57,55.26,1737.81,251.295,157.08,290.48,1244.16,953.64,569.88,200.12,311.31,131.88,838.8,2065.08,1389.24,1015.64,53.73,100.305,2080.8,516.96,800.91,270.825,126.68,79.92,212.175,14.205,747.81,1547.37,189.225,228.56,924.21,938.52,120.3,86.85,78.5,151.29,171.64,212.67,838.09,415.2,248.08,1045.4,270.32,113.6,1609.2,339.955,201.06,354.96,817.9,1018.12,630.36,165.375,341.2,122.725,903.28,1330.975,1299.36,675.075,108.24,153.64,1914.08,363.4,776.4,186.675,413.32,116.975,87.75,151.485,38.385,815.85,1439.92,232.68,183.15,886.0,898.72,96.36,141.68,118.8,223.83,147.575,253.52,758.25,273.3,195.35,1109.88,366.92,142.2,1637.8,379.28,233.235,383.56,835.775,1046.72,658.96,183.25,369.8,140.6,931.88,1348.85,1493.955,1108.72,153.945,182.24,1942.68,381.275,905.625,197.4,441.92,215.76,105.625,162.21,49.11,848.025,1468.52,261.28,201.025,1028.925,927.32,107.085,136.675,256.005,264.72,282.12,790.425,284.025,341.16,1138.48,161.24,0.0,1448.12,211.97,91.845,193.88,1147.56,857.04,541.28,167.52,224.12,75.28,742.2,1968.48,1280.565,919.04,21.555,12.56,1753.0,280.225,692.235,151.77,98.08,32.075,97.08,0.0,715.635,1438.695,135.6,131.96,815.535,829.845,59.925,12.6,18.125,42.615,115.04,103.995,577.035,212.895,151.48,948.8,238.08,81.36,1576.96,295.625,164.79,322.72,1276.4,985.88,598.12,232.36,308.96,164.12,871.04,2097.32,1425.51,1047.88,85.5,121.4,1881.84,343.25,837.18,174.585,428.715,154.92,67.6,139.395,26.295,779.58,1407.68,200.44,260.8,960.48,866.48,84.27,109.44,98.65,187.56,203.88,221.28,721.98,261.21,280.32,1077.64,238.08,81.36,1576.96,295.625,164.79,322.72,1276.4,985.88,598.12,232.36,308.96,164.12,871.04,2097.32,1425.51,1047.88,85.5,121.4,1881.84,343.25,837.18,174.585,428.715,154.92,67.6,139.395,26.295,779.58,1407.68,200.44,260.8,960.48,866.48,84.27,109.44,98.65,187.56,203.88,221.28,721.98,261.21,280.32,1077.64],\"xaxis\":\"x2\",\"yaxis\":\"y2\",\"type\":\"box\"},{\"alignmentgroup\":\"True\",\"bingroup\":\"x\",\"hovertemplate\":\"Churn=Churn<br>Customer Value=%{x}<br>count=%{y}<extra></extra>\",\"legendgroup\":\"Churn\",\"marker\":{\"color\":\"#EF553B\",\"pattern\":{\"shape\":\"\"}},\"name\":\"Churn\",\"nbinsx\":200,\"offsetgroup\":\"Churn\",\"orientation\":\"v\",\"showlegend\":true,\"x\":[40.005,0.0,117.09,383.22,157.24,228.48,5.4,38.375,73.375,60.28,25.335,126.6,179.76,251.0,27.92,52.45,82.8,0.0,91.755,357.885,151.56,205.96,0.0,24.3,59.3,57.76,84.2,48.69,147.36,431.91,200.52,271.76,48.68,65.425,103.56,0.0,68.4,334.53,117.96,185.2,0.0,0.0,57.0,79.65,174.88,228.04,187.05,76.2,82.625,131.08,0.0,37.44,303.57,124.245,157.68,0.0,0.0,0.0,55.665,57.96,175.05,208.76,280.0,56.92,70.575,987.255,111.8,0.0,59.13,325.26,113.72,176.96,0.0,0.0,52.76,121.95,212.48,265.64,336.88,113.8,106.125,328.76,168.68,0.0,17.64,261.27,96.84,120.08,0.0,0.0,35.88,149.445,236.92,290.08,225.825,138.24,121.4,193.12,0.0,39.645,260.775,130.95,95.64,0.0,12.85,62.37,49.095,166.185,432.315,200.88,272.12,49.04,65.65,978.39,103.88,0.0,67.995,334.125,113.6,184.84,0.0,11.1,52.6,0.0,80.82,346.95,140.625,196.24,0.0,18.225,67.5,36.0,136.32,189.48,162.95,37.64,58.525,858.28,92.48,68.445,164.92,218.08,289.32,66.24,76.4,121.08,0.0,12.645,238.275,103.95,99.64,0.0,0.0,31.4,0.0,117.09,383.22,157.24,228.48,5.4,38.375,929.295,60.24,0.0,117.09,383.22,157.24,228.48,5.4,38.375,60.24,0.0,71.595,337.725,131.4,188.04,0.0,13.1,883.8,53.82,0.0,96.93,363.06,139.32,210.56,0.0,27.175,50.36,0.0,46.26,312.39,119.565,165.52,0.0,10.56,50.985,13.5,120.285,386.415,180.09,231.32,12.0,40.15,63.12,0.0,27.405,289.035,118.71,144.76,0.0,0.0,50.13,36.0,151.245,187.6,258.84,35.76,57.35,90.64,0.0,18.945,258.075,110.25,117.24,0.0,0.0,0.0,0.0,18.0,129.555,395.685,189.36,239.56,16.48,45.3,80.28,0.0,22.635,279.765,113.94,136.52,0.0,0.0,45.36,76.455,193.545,253.35,296.44,73.36,80.85,288.32,128.24,0.0,2.34,224.775,94.95,79.64,0.0,0.0,0.0,112.5,196.48,487.17,249.64,320.88,100.0,96.125,152.68,0.0,25.65,246.78,116.955,75.2,0.0,0.0,48.375,9.0,120.69,386.82,180.495,231.68,8.0,40.375,71.37,0.0,22.5,288.63,113.805,144.4,0.0,0.0,45.18,0.0,35.325,301.455,122.13,155.8,0.0,0.0,53.505,4.5,95.88,373.995,149.04,220.28,4.0,33.25,52.04,4.5,140.04,177.64,248.88,25.8,51.125,80.64,0.0,0.0,219.78,89.955,59.2,0.0,0.0,21.33,0.0,71.595,337.725,131.4,188.04,0.0,13.1,53.775,0.0,71.595,337.725,131.4,188.04,0.0,13.1,53.775,45.495,144.52,197.68,168.075,45.84,63.65,100.72,62.96,167.04,220.2,182.15,68.36,77.725,123.24,45.495,122.0,175.16,246.4,40.44,49.575,98.2,94.185,187.8,240.96,195.125,89.12,90.7,144.0,45.495,101.24,158.4,225.64,40.44,25.275,97.44,111.24,215.32,268.48,212.325,116.64,107.9,171.52,45.495,82.935,349.065,150.88,198.12,40.44,25.275,15.165,89.92,103.455,196.04,249.2,200.275,97.36,95.85,152.24,45.495,93.0,370.755,154.16,135.875,40.44,25.275,93.2,167.445,252.92,306.08,235.825,154.24,131.4,230.75,209.12,45.495,56.12,306.765,137.28,160.52,40.44,25.275,76.32,173.28,277.36,330.52,251.1,178.68,146.675,233.56,45.495,85.14,306.27,156.84,136.08,40.44,38.125,95.88,94.59,188.16,241.32,195.35,89.48,90.925,144.32,0.0,100.88,154.04,140.8,10.2,36.375,65.04,0.0,126.315,392.445,165.44,236.68,17.6,43.5,72.44,72.68,176.76,229.92,188.225,78.08,83.8,132.92,101.28,205.36,258.52,206.1,106.68,101.675,170.28,161.52,0.0,23.68,283.77,104.84,140.08,0.0,5.625,43.84,45.495,144.52,197.68,168.075,45.84,63.65,100.68,45.495,144.52,197.68,168.075,45.84,63.65,100.68],\"xaxis\":\"x\",\"yaxis\":\"y\",\"type\":\"histogram\"},{\"alignmentgroup\":\"True\",\"hovertemplate\":\"Churn=Churn<br>Customer Value=%{x}<extra></extra>\",\"legendgroup\":\"Churn\",\"marker\":{\"color\":\"#EF553B\"},\"name\":\"Churn\",\"notched\":true,\"offsetgroup\":\"Churn\",\"showlegend\":false,\"x\":[40.005,0.0,117.09,383.22,157.24,228.48,5.4,38.375,73.375,60.28,25.335,126.6,179.76,251.0,27.92,52.45,82.8,0.0,91.755,357.885,151.56,205.96,0.0,24.3,59.3,57.76,84.2,48.69,147.36,431.91,200.52,271.76,48.68,65.425,103.56,0.0,68.4,334.53,117.96,185.2,0.0,0.0,57.0,79.65,174.88,228.04,187.05,76.2,82.625,131.08,0.0,37.44,303.57,124.245,157.68,0.0,0.0,0.0,55.665,57.96,175.05,208.76,280.0,56.92,70.575,987.255,111.8,0.0,59.13,325.26,113.72,176.96,0.0,0.0,52.76,121.95,212.48,265.64,336.88,113.8,106.125,328.76,168.68,0.0,17.64,261.27,96.84,120.08,0.0,0.0,35.88,149.445,236.92,290.08,225.825,138.24,121.4,193.12,0.0,39.645,260.775,130.95,95.64,0.0,12.85,62.37,49.095,166.185,432.315,200.88,272.12,49.04,65.65,978.39,103.88,0.0,67.995,334.125,113.6,184.84,0.0,11.1,52.6,0.0,80.82,346.95,140.625,196.24,0.0,18.225,67.5,36.0,136.32,189.48,162.95,37.64,58.525,858.28,92.48,68.445,164.92,218.08,289.32,66.24,76.4,121.08,0.0,12.645,238.275,103.95,99.64,0.0,0.0,31.4,0.0,117.09,383.22,157.24,228.48,5.4,38.375,929.295,60.24,0.0,117.09,383.22,157.24,228.48,5.4,38.375,60.24,0.0,71.595,337.725,131.4,188.04,0.0,13.1,883.8,53.82,0.0,96.93,363.06,139.32,210.56,0.0,27.175,50.36,0.0,46.26,312.39,119.565,165.52,0.0,10.56,50.985,13.5,120.285,386.415,180.09,231.32,12.0,40.15,63.12,0.0,27.405,289.035,118.71,144.76,0.0,0.0,50.13,36.0,151.245,187.6,258.84,35.76,57.35,90.64,0.0,18.945,258.075,110.25,117.24,0.0,0.0,0.0,0.0,18.0,129.555,395.685,189.36,239.56,16.48,45.3,80.28,0.0,22.635,279.765,113.94,136.52,0.0,0.0,45.36,76.455,193.545,253.35,296.44,73.36,80.85,288.32,128.24,0.0,2.34,224.775,94.95,79.64,0.0,0.0,0.0,112.5,196.48,487.17,249.64,320.88,100.0,96.125,152.68,0.0,25.65,246.78,116.955,75.2,0.0,0.0,48.375,9.0,120.69,386.82,180.495,231.68,8.0,40.375,71.37,0.0,22.5,288.63,113.805,144.4,0.0,0.0,45.18,0.0,35.325,301.455,122.13,155.8,0.0,0.0,53.505,4.5,95.88,373.995,149.04,220.28,4.0,33.25,52.04,4.5,140.04,177.64,248.88,25.8,51.125,80.64,0.0,0.0,219.78,89.955,59.2,0.0,0.0,21.33,0.0,71.595,337.725,131.4,188.04,0.0,13.1,53.775,0.0,71.595,337.725,131.4,188.04,0.0,13.1,53.775,45.495,144.52,197.68,168.075,45.84,63.65,100.72,62.96,167.04,220.2,182.15,68.36,77.725,123.24,45.495,122.0,175.16,246.4,40.44,49.575,98.2,94.185,187.8,240.96,195.125,89.12,90.7,144.0,45.495,101.24,158.4,225.64,40.44,25.275,97.44,111.24,215.32,268.48,212.325,116.64,107.9,171.52,45.495,82.935,349.065,150.88,198.12,40.44,25.275,15.165,89.92,103.455,196.04,249.2,200.275,97.36,95.85,152.24,45.495,93.0,370.755,154.16,135.875,40.44,25.275,93.2,167.445,252.92,306.08,235.825,154.24,131.4,230.75,209.12,45.495,56.12,306.765,137.28,160.52,40.44,25.275,76.32,173.28,277.36,330.52,251.1,178.68,146.675,233.56,45.495,85.14,306.27,156.84,136.08,40.44,38.125,95.88,94.59,188.16,241.32,195.35,89.48,90.925,144.32,0.0,100.88,154.04,140.8,10.2,36.375,65.04,0.0,126.315,392.445,165.44,236.68,17.6,43.5,72.44,72.68,176.76,229.92,188.225,78.08,83.8,132.92,101.28,205.36,258.52,206.1,106.68,101.675,170.28,161.52,0.0,23.68,283.77,104.84,140.08,0.0,5.625,43.84,45.495,144.52,197.68,168.075,45.84,63.65,100.68,45.495,144.52,197.68,168.075,45.84,63.65,100.68],\"xaxis\":\"x2\",\"yaxis\":\"y2\",\"type\":\"box\"}],                        {\"template\":{\"data\":{\"bar\":[{\"error_x\":{\"color\":\"#2a3f5f\"},\"error_y\":{\"color\":\"#2a3f5f\"},\"marker\":{\"line\":{\"color\":\"#E5ECF6\",\"width\":0.5},\"pattern\":{\"fillmode\":\"overlay\",\"size\":10,\"solidity\":0.2}},\"type\":\"bar\"}],\"barpolar\":[{\"marker\":{\"line\":{\"color\":\"#E5ECF6\",\"width\":0.5},\"pattern\":{\"fillmode\":\"overlay\",\"size\":10,\"solidity\":0.2}},\"type\":\"barpolar\"}],\"carpet\":[{\"aaxis\":{\"endlinecolor\":\"#2a3f5f\",\"gridcolor\":\"white\",\"linecolor\":\"white\",\"minorgridcolor\":\"white\",\"startlinecolor\":\"#2a3f5f\"},\"baxis\":{\"endlinecolor\":\"#2a3f5f\",\"gridcolor\":\"white\",\"linecolor\":\"white\",\"minorgridcolor\":\"white\",\"startlinecolor\":\"#2a3f5f\"},\"type\":\"carpet\"}],\"choropleth\":[{\"colorbar\":{\"outlinewidth\":0,\"ticks\":\"\"},\"type\":\"choropleth\"}],\"contour\":[{\"colorbar\":{\"outlinewidth\":0,\"ticks\":\"\"},\"colorscale\":[[0.0,\"#0d0887\"],[0.1111111111111111,\"#46039f\"],[0.2222222222222222,\"#7201a8\"],[0.3333333333333333,\"#9c179e\"],[0.4444444444444444,\"#bd3786\"],[0.5555555555555556,\"#d8576b\"],[0.6666666666666666,\"#ed7953\"],[0.7777777777777778,\"#fb9f3a\"],[0.8888888888888888,\"#fdca26\"],[1.0,\"#f0f921\"]],\"type\":\"contour\"}],\"contourcarpet\":[{\"colorbar\":{\"outlinewidth\":0,\"ticks\":\"\"},\"type\":\"contourcarpet\"}],\"heatmap\":[{\"colorbar\":{\"outlinewidth\":0,\"ticks\":\"\"},\"colorscale\":[[0.0,\"#0d0887\"],[0.1111111111111111,\"#46039f\"],[0.2222222222222222,\"#7201a8\"],[0.3333333333333333,\"#9c179e\"],[0.4444444444444444,\"#bd3786\"],[0.5555555555555556,\"#d8576b\"],[0.6666666666666666,\"#ed7953\"],[0.7777777777777778,\"#fb9f3a\"],[0.8888888888888888,\"#fdca26\"],[1.0,\"#f0f921\"]],\"type\":\"heatmap\"}],\"heatmapgl\":[{\"colorbar\":{\"outlinewidth\":0,\"ticks\":\"\"},\"colorscale\":[[0.0,\"#0d0887\"],[0.1111111111111111,\"#46039f\"],[0.2222222222222222,\"#7201a8\"],[0.3333333333333333,\"#9c179e\"],[0.4444444444444444,\"#bd3786\"],[0.5555555555555556,\"#d8576b\"],[0.6666666666666666,\"#ed7953\"],[0.7777777777777778,\"#fb9f3a\"],[0.8888888888888888,\"#fdca26\"],[1.0,\"#f0f921\"]],\"type\":\"heatmapgl\"}],\"histogram\":[{\"marker\":{\"pattern\":{\"fillmode\":\"overlay\",\"size\":10,\"solidity\":0.2}},\"type\":\"histogram\"}],\"histogram2d\":[{\"colorbar\":{\"outlinewidth\":0,\"ticks\":\"\"},\"colorscale\":[[0.0,\"#0d0887\"],[0.1111111111111111,\"#46039f\"],[0.2222222222222222,\"#7201a8\"],[0.3333333333333333,\"#9c179e\"],[0.4444444444444444,\"#bd3786\"],[0.5555555555555556,\"#d8576b\"],[0.6666666666666666,\"#ed7953\"],[0.7777777777777778,\"#fb9f3a\"],[0.8888888888888888,\"#fdca26\"],[1.0,\"#f0f921\"]],\"type\":\"histogram2d\"}],\"histogram2dcontour\":[{\"colorbar\":{\"outlinewidth\":0,\"ticks\":\"\"},\"colorscale\":[[0.0,\"#0d0887\"],[0.1111111111111111,\"#46039f\"],[0.2222222222222222,\"#7201a8\"],[0.3333333333333333,\"#9c179e\"],[0.4444444444444444,\"#bd3786\"],[0.5555555555555556,\"#d8576b\"],[0.6666666666666666,\"#ed7953\"],[0.7777777777777778,\"#fb9f3a\"],[0.8888888888888888,\"#fdca26\"],[1.0,\"#f0f921\"]],\"type\":\"histogram2dcontour\"}],\"mesh3d\":[{\"colorbar\":{\"outlinewidth\":0,\"ticks\":\"\"},\"type\":\"mesh3d\"}],\"parcoords\":[{\"line\":{\"colorbar\":{\"outlinewidth\":0,\"ticks\":\"\"}},\"type\":\"parcoords\"}],\"pie\":[{\"automargin\":true,\"type\":\"pie\"}],\"scatter\":[{\"marker\":{\"colorbar\":{\"outlinewidth\":0,\"ticks\":\"\"}},\"type\":\"scatter\"}],\"scatter3d\":[{\"line\":{\"colorbar\":{\"outlinewidth\":0,\"ticks\":\"\"}},\"marker\":{\"colorbar\":{\"outlinewidth\":0,\"ticks\":\"\"}},\"type\":\"scatter3d\"}],\"scattercarpet\":[{\"marker\":{\"colorbar\":{\"outlinewidth\":0,\"ticks\":\"\"}},\"type\":\"scattercarpet\"}],\"scattergeo\":[{\"marker\":{\"colorbar\":{\"outlinewidth\":0,\"ticks\":\"\"}},\"type\":\"scattergeo\"}],\"scattergl\":[{\"marker\":{\"colorbar\":{\"outlinewidth\":0,\"ticks\":\"\"}},\"type\":\"scattergl\"}],\"scattermapbox\":[{\"marker\":{\"colorbar\":{\"outlinewidth\":0,\"ticks\":\"\"}},\"type\":\"scattermapbox\"}],\"scatterpolar\":[{\"marker\":{\"colorbar\":{\"outlinewidth\":0,\"ticks\":\"\"}},\"type\":\"scatterpolar\"}],\"scatterpolargl\":[{\"marker\":{\"colorbar\":{\"outlinewidth\":0,\"ticks\":\"\"}},\"type\":\"scatterpolargl\"}],\"scatterternary\":[{\"marker\":{\"colorbar\":{\"outlinewidth\":0,\"ticks\":\"\"}},\"type\":\"scatterternary\"}],\"surface\":[{\"colorbar\":{\"outlinewidth\":0,\"ticks\":\"\"},\"colorscale\":[[0.0,\"#0d0887\"],[0.1111111111111111,\"#46039f\"],[0.2222222222222222,\"#7201a8\"],[0.3333333333333333,\"#9c179e\"],[0.4444444444444444,\"#bd3786\"],[0.5555555555555556,\"#d8576b\"],[0.6666666666666666,\"#ed7953\"],[0.7777777777777778,\"#fb9f3a\"],[0.8888888888888888,\"#fdca26\"],[1.0,\"#f0f921\"]],\"type\":\"surface\"}],\"table\":[{\"cells\":{\"fill\":{\"color\":\"#EBF0F8\"},\"line\":{\"color\":\"white\"}},\"header\":{\"fill\":{\"color\":\"#C8D4E3\"},\"line\":{\"color\":\"white\"}},\"type\":\"table\"}]},\"layout\":{\"annotationdefaults\":{\"arrowcolor\":\"#2a3f5f\",\"arrowhead\":0,\"arrowwidth\":1},\"autotypenumbers\":\"strict\",\"coloraxis\":{\"colorbar\":{\"outlinewidth\":0,\"ticks\":\"\"}},\"colorscale\":{\"diverging\":[[0,\"#8e0152\"],[0.1,\"#c51b7d\"],[0.2,\"#de77ae\"],[0.3,\"#f1b6da\"],[0.4,\"#fde0ef\"],[0.5,\"#f7f7f7\"],[0.6,\"#e6f5d0\"],[0.7,\"#b8e186\"],[0.8,\"#7fbc41\"],[0.9,\"#4d9221\"],[1,\"#276419\"]],\"sequential\":[[0.0,\"#0d0887\"],[0.1111111111111111,\"#46039f\"],[0.2222222222222222,\"#7201a8\"],[0.3333333333333333,\"#9c179e\"],[0.4444444444444444,\"#bd3786\"],[0.5555555555555556,\"#d8576b\"],[0.6666666666666666,\"#ed7953\"],[0.7777777777777778,\"#fb9f3a\"],[0.8888888888888888,\"#fdca26\"],[1.0,\"#f0f921\"]],\"sequentialminus\":[[0.0,\"#0d0887\"],[0.1111111111111111,\"#46039f\"],[0.2222222222222222,\"#7201a8\"],[0.3333333333333333,\"#9c179e\"],[0.4444444444444444,\"#bd3786\"],[0.5555555555555556,\"#d8576b\"],[0.6666666666666666,\"#ed7953\"],[0.7777777777777778,\"#fb9f3a\"],[0.8888888888888888,\"#fdca26\"],[1.0,\"#f0f921\"]]},\"colorway\":[\"#636efa\",\"#EF553B\",\"#00cc96\",\"#ab63fa\",\"#FFA15A\",\"#19d3f3\",\"#FF6692\",\"#B6E880\",\"#FF97FF\",\"#FECB52\"],\"font\":{\"color\":\"#2a3f5f\"},\"geo\":{\"bgcolor\":\"white\",\"lakecolor\":\"white\",\"landcolor\":\"#E5ECF6\",\"showlakes\":true,\"showland\":true,\"subunitcolor\":\"white\"},\"hoverlabel\":{\"align\":\"left\"},\"hovermode\":\"closest\",\"mapbox\":{\"style\":\"light\"},\"paper_bgcolor\":\"white\",\"plot_bgcolor\":\"#E5ECF6\",\"polar\":{\"angularaxis\":{\"gridcolor\":\"white\",\"linecolor\":\"white\",\"ticks\":\"\"},\"bgcolor\":\"#E5ECF6\",\"radialaxis\":{\"gridcolor\":\"white\",\"linecolor\":\"white\",\"ticks\":\"\"}},\"scene\":{\"xaxis\":{\"backgroundcolor\":\"#E5ECF6\",\"gridcolor\":\"white\",\"gridwidth\":2,\"linecolor\":\"white\",\"showbackground\":true,\"ticks\":\"\",\"zerolinecolor\":\"white\"},\"yaxis\":{\"backgroundcolor\":\"#E5ECF6\",\"gridcolor\":\"white\",\"gridwidth\":2,\"linecolor\":\"white\",\"showbackground\":true,\"ticks\":\"\",\"zerolinecolor\":\"white\"},\"zaxis\":{\"backgroundcolor\":\"#E5ECF6\",\"gridcolor\":\"white\",\"gridwidth\":2,\"linecolor\":\"white\",\"showbackground\":true,\"ticks\":\"\",\"zerolinecolor\":\"white\"}},\"shapedefaults\":{\"line\":{\"color\":\"#2a3f5f\"}},\"ternary\":{\"aaxis\":{\"gridcolor\":\"white\",\"linecolor\":\"white\",\"ticks\":\"\"},\"baxis\":{\"gridcolor\":\"white\",\"linecolor\":\"white\",\"ticks\":\"\"},\"bgcolor\":\"#E5ECF6\",\"caxis\":{\"gridcolor\":\"white\",\"linecolor\":\"white\",\"ticks\":\"\"}},\"title\":{\"x\":0.05},\"xaxis\":{\"automargin\":true,\"gridcolor\":\"white\",\"linecolor\":\"white\",\"ticks\":\"\",\"title\":{\"standoff\":15},\"zerolinecolor\":\"white\",\"zerolinewidth\":2},\"yaxis\":{\"automargin\":true,\"gridcolor\":\"white\",\"linecolor\":\"white\",\"ticks\":\"\",\"title\":{\"standoff\":15},\"zerolinecolor\":\"white\",\"zerolinewidth\":2}}},\"xaxis\":{\"anchor\":\"y\",\"domain\":[0.0,1.0],\"title\":{\"text\":\"Customer Value\"}},\"yaxis\":{\"anchor\":\"x\",\"domain\":[0.0,0.7326],\"title\":{\"text\":\"count\"}},\"xaxis2\":{\"anchor\":\"y2\",\"domain\":[0.0,1.0],\"matches\":\"x\",\"showticklabels\":false,\"showgrid\":true},\"yaxis2\":{\"anchor\":\"x2\",\"domain\":[0.7426,1.0],\"matches\":\"y2\",\"showticklabels\":false,\"showline\":false,\"ticks\":\"\",\"showgrid\":false},\"legend\":{\"title\":{\"text\":\"Churn\"},\"tracegroupgap\":0},\"margin\":{\"t\":60},\"barmode\":\"relative\",\"title\":{\"text\":\"Distribution of the Customer Value within the last 12 months\"},\"height\":500,\"width\":1200},                        {\"responsive\": true}                    ).then(function(){\n",
              "                            \n",
              "var gd = document.getElementById('42de5006-4b9a-46f1-9242-511d0defff96');\n",
              "var x = new MutationObserver(function (mutations, observer) {{\n",
              "        var display = window.getComputedStyle(gd).display;\n",
              "        if (!display || display === 'none') {{\n",
              "            console.log([gd, 'removed!']);\n",
              "            Plotly.purge(gd);\n",
              "            observer.disconnect();\n",
              "        }}\n",
              "}});\n",
              "\n",
              "// Listen for the removal of the full notebook cells\n",
              "var notebookContainer = gd.closest('#notebook-container');\n",
              "if (notebookContainer) {{\n",
              "    x.observe(notebookContainer, {childList: true});\n",
              "}}\n",
              "\n",
              "// Listen for the clearing of the current output cell\n",
              "var outputEl = gd.closest('.output');\n",
              "if (outputEl) {{\n",
              "    x.observe(outputEl, {childList: true});\n",
              "}}\n",
              "\n",
              "                        })                };                            </script>        </div>\n",
              "</body>\n",
              "</html>"
            ]
          },
          "metadata": {},
          "output_type": "display_data"
        }
      ],
      "source": [
        "fig = px.histogram(data, x=\"Customer Value\", color=\"Churn\", marginal=\"box\", nbins= 200)\n",
        "\n",
        "fig.update_layout(height=500, width=1200,  title_text=\"Distribution of the Customer Value within the last 12 months\")\n",
        "fig.show(renderer= 'colab')"
      ]
    },
    {
      "cell_type": "markdown",
      "metadata": {
        "id": "ga-ZhkupRT8y"
      },
      "source": [
        "Users with customer value within the range of 0 - 500 have more chances to leave compare to users with higher customer value."
      ]
    },
    {
      "cell_type": "code",
      "execution_count": null,
      "metadata": {
        "colab": {
          "base_uri": "https://localhost:8080/",
          "height": 206
        },
        "id": "zjgXgTDbq8oV",
        "outputId": "483bd3a9-e63e-4af7-a086-77c862050824"
      },
      "outputs": [
        {
          "data": {
            "text/html": [
              "\n",
              "  <div id=\"df-dfe76fc1-fe0d-433e-80ed-9149336ef498\">\n",
              "    <div class=\"colab-df-container\">\n",
              "      <div>\n",
              "<style scoped>\n",
              "    .dataframe tbody tr th:only-of-type {\n",
              "        vertical-align: middle;\n",
              "    }\n",
              "\n",
              "    .dataframe tbody tr th {\n",
              "        vertical-align: top;\n",
              "    }\n",
              "\n",
              "    .dataframe thead th {\n",
              "        text-align: right;\n",
              "    }\n",
              "</style>\n",
              "<table border=\"1\" class=\"dataframe\">\n",
              "  <thead>\n",
              "    <tr style=\"text-align: right;\">\n",
              "      <th></th>\n",
              "      <th>Call  Failure</th>\n",
              "      <th>Complains</th>\n",
              "      <th>Subscription  Length</th>\n",
              "      <th>Charge  Amount</th>\n",
              "      <th>Seconds of Use</th>\n",
              "      <th>Frequency of use</th>\n",
              "      <th>Frequency of SMS</th>\n",
              "      <th>Distinct Called Numbers</th>\n",
              "      <th>Age Group</th>\n",
              "      <th>Tariff Plan</th>\n",
              "      <th>Status</th>\n",
              "      <th>Age</th>\n",
              "      <th>Customer Value</th>\n",
              "      <th>FN</th>\n",
              "      <th>FP</th>\n",
              "      <th>Churn</th>\n",
              "    </tr>\n",
              "  </thead>\n",
              "  <tbody>\n",
              "    <tr>\n",
              "      <th>0</th>\n",
              "      <td>8</td>\n",
              "      <td>0</td>\n",
              "      <td>38</td>\n",
              "      <td>0</td>\n",
              "      <td>4370</td>\n",
              "      <td>71</td>\n",
              "      <td>5</td>\n",
              "      <td>17</td>\n",
              "      <td>3</td>\n",
              "      <td>1</td>\n",
              "      <td>1</td>\n",
              "      <td>30</td>\n",
              "      <td>197.640</td>\n",
              "      <td>177.8760</td>\n",
              "      <td>69.7640</td>\n",
              "      <td>Non Churn</td>\n",
              "    </tr>\n",
              "    <tr>\n",
              "      <th>1</th>\n",
              "      <td>0</td>\n",
              "      <td>0</td>\n",
              "      <td>39</td>\n",
              "      <td>0</td>\n",
              "      <td>318</td>\n",
              "      <td>5</td>\n",
              "      <td>7</td>\n",
              "      <td>4</td>\n",
              "      <td>2</td>\n",
              "      <td>1</td>\n",
              "      <td>2</td>\n",
              "      <td>25</td>\n",
              "      <td>46.035</td>\n",
              "      <td>41.4315</td>\n",
              "      <td>60.0000</td>\n",
              "      <td>Non Churn</td>\n",
              "    </tr>\n",
              "    <tr>\n",
              "      <th>2</th>\n",
              "      <td>10</td>\n",
              "      <td>0</td>\n",
              "      <td>37</td>\n",
              "      <td>0</td>\n",
              "      <td>2453</td>\n",
              "      <td>60</td>\n",
              "      <td>359</td>\n",
              "      <td>24</td>\n",
              "      <td>3</td>\n",
              "      <td>1</td>\n",
              "      <td>1</td>\n",
              "      <td>30</td>\n",
              "      <td>1536.520</td>\n",
              "      <td>1382.8680</td>\n",
              "      <td>203.6520</td>\n",
              "      <td>Non Churn</td>\n",
              "    </tr>\n",
              "    <tr>\n",
              "      <th>3</th>\n",
              "      <td>10</td>\n",
              "      <td>0</td>\n",
              "      <td>38</td>\n",
              "      <td>0</td>\n",
              "      <td>4198</td>\n",
              "      <td>66</td>\n",
              "      <td>1</td>\n",
              "      <td>35</td>\n",
              "      <td>1</td>\n",
              "      <td>1</td>\n",
              "      <td>1</td>\n",
              "      <td>15</td>\n",
              "      <td>240.020</td>\n",
              "      <td>216.0180</td>\n",
              "      <td>74.0020</td>\n",
              "      <td>Non Churn</td>\n",
              "    </tr>\n",
              "    <tr>\n",
              "      <th>4</th>\n",
              "      <td>3</td>\n",
              "      <td>0</td>\n",
              "      <td>38</td>\n",
              "      <td>0</td>\n",
              "      <td>2393</td>\n",
              "      <td>58</td>\n",
              "      <td>2</td>\n",
              "      <td>33</td>\n",
              "      <td>1</td>\n",
              "      <td>1</td>\n",
              "      <td>1</td>\n",
              "      <td>15</td>\n",
              "      <td>145.805</td>\n",
              "      <td>131.2245</td>\n",
              "      <td>64.5805</td>\n",
              "      <td>Non Churn</td>\n",
              "    </tr>\n",
              "  </tbody>\n",
              "</table>\n",
              "</div>\n",
              "      <button class=\"colab-df-convert\" onclick=\"convertToInteractive('df-dfe76fc1-fe0d-433e-80ed-9149336ef498')\"\n",
              "              title=\"Convert this dataframe to an interactive table.\"\n",
              "              style=\"display:none;\">\n",
              "        \n",
              "  <svg xmlns=\"http://www.w3.org/2000/svg\" height=\"24px\"viewBox=\"0 0 24 24\"\n",
              "       width=\"24px\">\n",
              "    <path d=\"M0 0h24v24H0V0z\" fill=\"none\"/>\n",
              "    <path d=\"M18.56 5.44l.94 2.06.94-2.06 2.06-.94-2.06-.94-.94-2.06-.94 2.06-2.06.94zm-11 1L8.5 8.5l.94-2.06 2.06-.94-2.06-.94L8.5 2.5l-.94 2.06-2.06.94zm10 10l.94 2.06.94-2.06 2.06-.94-2.06-.94-.94-2.06-.94 2.06-2.06.94z\"/><path d=\"M17.41 7.96l-1.37-1.37c-.4-.4-.92-.59-1.43-.59-.52 0-1.04.2-1.43.59L10.3 9.45l-7.72 7.72c-.78.78-.78 2.05 0 2.83L4 21.41c.39.39.9.59 1.41.59.51 0 1.02-.2 1.41-.59l7.78-7.78 2.81-2.81c.8-.78.8-2.07 0-2.86zM5.41 20L4 18.59l7.72-7.72 1.47 1.35L5.41 20z\"/>\n",
              "  </svg>\n",
              "      </button>\n",
              "      \n",
              "  <style>\n",
              "    .colab-df-container {\n",
              "      display:flex;\n",
              "      flex-wrap:wrap;\n",
              "      gap: 12px;\n",
              "    }\n",
              "\n",
              "    .colab-df-convert {\n",
              "      background-color: #E8F0FE;\n",
              "      border: none;\n",
              "      border-radius: 50%;\n",
              "      cursor: pointer;\n",
              "      display: none;\n",
              "      fill: #1967D2;\n",
              "      height: 32px;\n",
              "      padding: 0 0 0 0;\n",
              "      width: 32px;\n",
              "    }\n",
              "\n",
              "    .colab-df-convert:hover {\n",
              "      background-color: #E2EBFA;\n",
              "      box-shadow: 0px 1px 2px rgba(60, 64, 67, 0.3), 0px 1px 3px 1px rgba(60, 64, 67, 0.15);\n",
              "      fill: #174EA6;\n",
              "    }\n",
              "\n",
              "    [theme=dark] .colab-df-convert {\n",
              "      background-color: #3B4455;\n",
              "      fill: #D2E3FC;\n",
              "    }\n",
              "\n",
              "    [theme=dark] .colab-df-convert:hover {\n",
              "      background-color: #434B5C;\n",
              "      box-shadow: 0px 1px 3px 1px rgba(0, 0, 0, 0.15);\n",
              "      filter: drop-shadow(0px 1px 2px rgba(0, 0, 0, 0.3));\n",
              "      fill: #FFFFFF;\n",
              "    }\n",
              "  </style>\n",
              "\n",
              "      <script>\n",
              "        const buttonEl =\n",
              "          document.querySelector('#df-dfe76fc1-fe0d-433e-80ed-9149336ef498 button.colab-df-convert');\n",
              "        buttonEl.style.display =\n",
              "          google.colab.kernel.accessAllowed ? 'block' : 'none';\n",
              "\n",
              "        async function convertToInteractive(key) {\n",
              "          const element = document.querySelector('#df-dfe76fc1-fe0d-433e-80ed-9149336ef498');\n",
              "          const dataTable =\n",
              "            await google.colab.kernel.invokeFunction('convertToInteractive',\n",
              "                                                     [key], {});\n",
              "          if (!dataTable) return;\n",
              "\n",
              "          const docLinkHtml = 'Like what you see? Visit the ' +\n",
              "            '<a target=\"_blank\" href=https://colab.research.google.com/notebooks/data_table.ipynb>data table notebook</a>'\n",
              "            + ' to learn more about interactive tables.';\n",
              "          element.innerHTML = '';\n",
              "          dataTable['output_type'] = 'display_data';\n",
              "          await google.colab.output.renderOutput(dataTable, element);\n",
              "          const docLink = document.createElement('div');\n",
              "          docLink.innerHTML = docLinkHtml;\n",
              "          element.appendChild(docLink);\n",
              "        }\n",
              "      </script>\n",
              "    </div>\n",
              "  </div>\n",
              "  "
            ],
            "text/plain": [
              "   Call  Failure  Complains  ...        FP      Churn\n",
              "0              8          0  ...   69.7640  Non Churn\n",
              "1              0          0  ...   60.0000  Non Churn\n",
              "2             10          0  ...  203.6520  Non Churn\n",
              "3             10          0  ...   74.0020  Non Churn\n",
              "4              3          0  ...   64.5805  Non Churn\n",
              "\n",
              "[5 rows x 16 columns]"
            ]
          },
          "execution_count": 9,
          "metadata": {},
          "output_type": "execute_result"
        }
      ],
      "source": [
        "data.head()"
      ]
    },
    {
      "cell_type": "code",
      "execution_count": null,
      "metadata": {
        "colab": {
          "base_uri": "https://localhost:8080/"
        },
        "id": "PDe_JHtD1SDJ",
        "outputId": "eb8b6ae8-c31d-4d89-ac78-2c959fe1a085"
      },
      "outputs": [
        {
          "data": {
            "text/plain": [
              "array([38, 39, 37, 33, 36, 34, 35, 31, 27, 26, 25, 18, 17, 15, 16,  9, 40,\n",
              "       41, 29, 28, 20, 19, 11, 32, 24, 23, 13, 14,  7, 42, 43, 30, 22, 21,\n",
              "       12,  5, 44, 45, 10,  3,  6,  8,  4, 46, 47])"
            ]
          },
          "execution_count": 45,
          "metadata": {},
          "output_type": "execute_result"
        }
      ],
      "source": [
        "data['Subscription  Length'].unique()"
      ]
    },
    {
      "cell_type": "code",
      "execution_count": null,
      "metadata": {
        "colab": {
          "base_uri": "https://localhost:8080/",
          "height": 517
        },
        "id": "aUBA_C1wrPzM",
        "outputId": "f62ce284-67fc-4e9f-d7a7-6fff5f378752"
      },
      "outputs": [
        {
          "data": {
            "text/html": [
              "<html>\n",
              "<head><meta charset=\"utf-8\" /></head>\n",
              "<body>\n",
              "    <div>            <script src=\"https://cdnjs.cloudflare.com/ajax/libs/mathjax/2.7.5/MathJax.js?config=TeX-AMS-MML_SVG\"></script><script type=\"text/javascript\">if (window.MathJax) {MathJax.Hub.Config({SVG: {font: \"STIX-Web\"}});}</script>                <script type=\"text/javascript\">window.PlotlyConfig = {MathJaxConfig: 'local'};</script>\n",
              "        <script src=\"https://cdn.plot.ly/plotly-2.8.3.min.js\"></script>                <div id=\"7be74dde-f8bb-437a-b98a-275ca367aa44\" class=\"plotly-graph-div\" style=\"height:500px; width:1200px;\"></div>            <script type=\"text/javascript\">                                    window.PLOTLYENV=window.PLOTLYENV || {};                                    if (document.getElementById(\"7be74dde-f8bb-437a-b98a-275ca367aa44\")) {                    Plotly.newPlot(                        \"7be74dde-f8bb-437a-b98a-275ca367aa44\",                        [{\"alignmentgroup\":\"True\",\"bingroup\":\"x\",\"histfunc\":\"avg\",\"hovertemplate\":\"Customer Value=%{x}<br>avg of Seconds of Use=%{y}<extra></extra>\",\"legendgroup\":\"\",\"marker\":{\"color\":\"#636efa\",\"pattern\":{\"shape\":\"\"}},\"name\":\"\",\"nbinsx\":300,\"offsetgroup\":\"\",\"orientation\":\"v\",\"showlegend\":false,\"x\":[197.64,46.035,1536.52,240.02,145.805,282.28,1235.96,945.44,557.68,191.92,268.52,123.68,830.6,2056.88,1380.015,1007.44,40.005,80.96,0.0,2071.575,317.975,791.685,117.09,159.42,383.22,114.48,157.24,228.48,5.4,67.72,124.23,38.375,11.13,734.085,1538.145,180.0,220.36,914.985,929.295,115.175,77.625,73.375,142.065,163.44,203.445,676.53,410.1,239.92,1037.2,60.28,220.16,63.44,1559.04,270.985,144.63,304.8,1258.48,967.96,580.2,214.44,291.04,146.2,853.12,2079.4,1405.35,1029.96,65.34,103.48,25.335,1863.92,332.05,817.02,126.6,167.865,408.555,137.0,179.76,251.0,27.92,56.4,132.675,52.45,19.575,759.42,1389.76,182.52,242.88,940.32,848.56,129.25,91.52,87.45,167.4,185.96,228.78,701.865,254.505,262.44,1059.72,82.8,197.01,20.7,1703.25,231.055,131.34,259.76,1213.44,922.92,555.16,181.4,276.75,101.16,808.08,2034.36,1354.68,984.92,37.17,65.745,0.0,2046.24,486.24,766.35,91.755,261.625,357.885,111.96,151.56,205.96,0.0,65.2,192.975,24.3,0.0,731.25,1512.81,168.165,197.84,889.65,903.96,101.1,52.29,59.3,116.73,140.92,178.11,795.905,396.025,217.4,1014.68,57.76,240.92,84.2,1579.8,299.53,167.985,325.56,1279.24,988.72,600.96,235.2,311.8,166.96,873.88,2100.16,1428.705,1050.72,88.695,124.24,48.69,1884.68,345.025,840.375,147.36,175.65,431.91,157.76,200.52,271.76,48.68,69.375,140.46,65.425,27.36,782.775,1586.835,203.28,263.64,963.675,977.985,142.225,112.28,100.425,190.755,206.72,252.135,725.22,262.29,283.2,1080.48,103.56,196.155,0.0,1679.895,230.01,130.295,239.0,1192.68,902.16,554.4,180.64,266.895,88.4,787.32,2013.6,1331.325,964.16,36.315,42.39,0.0,2022.885,465.48,742.995,68.4,261.15,334.53,111.2,117.96,185.2,0.0,64.44,180.0,0.0,0.0,730.395,1489.455,167.31,177.08,866.295,880.605,88.125,28.935,27.5,93.375,128.16,154.755,767.36,383.05,196.64,993.92,57.0,268.44,111.72,1607.32,337.37,198.945,353.08,1306.76,1016.24,628.48,262.72,339.32,194.48,901.4,2127.68,1459.665,1078.24,119.655,151.76,79.65,1912.2,362.225,871.335,174.88,185.97,462.87,185.28,228.04,187.05,76.2,86.575,150.78,82.625,37.68,813.735,1438.04,230.8,291.16,994.635,896.84,95.655,139.8,117.625,221.715,234.24,251.64,756.18,272.61,310.72,1108.0,131.08,187.695,0.0,1648.935,219.67,119.955,237.915,1165.16,874.64,546.88,173.12,258.435,80.88,759.8,1986.08,1300.365,936.64,27.855,20.43,0.0,1991.925,453.96,712.035,37.44,256.45,303.57,103.68,124.245,157.68,0.0,0.0,165.3,0.0,0.0,721.935,1458.495,158.85,149.56,835.335,849.645,70.925,20.475,15.0,62.415,120.64,123.795,729.52,365.85,169.12,966.4,55.665,249.16,103.995,1588.04,310.86,216.645,333.8,1287.48,996.96,609.2,243.44,320.04,175.2,882.12,2108.4,1437.975,1058.96,97.965,132.48,57.96,2129.535,350.175,849.645,175.05,178.74,441.18,166.0,208.76,280.0,56.92,119.24,143.55,70.575,30.45,792.045,1596.105,237.96,271.88,972.945,987.255,147.375,135.585,105.575,200.025,214.96,261.405,734.49,442.3,291.44,1088.72,111.8,170.12,0.0,1485.0,224.18,124.465,230.76,1184.44,893.92,550.16,176.4,233.0,84.16,779.08,2005.36,1322.055,955.92,31.545,29.44,0.0,2013.615,285.775,733.725,59.13,155.1,325.26,106.96,113.72,176.96,0.0,60.2,104.91,0.0,0.0,725.625,1480.185,162.54,168.84,857.025,871.335,82.975,24.165,25.0,84.105,123.92,145.485,618.57,377.9,188.4,985.68,52.76,306.04,149.32,1644.92,389.07,241.245,390.68,1344.36,1053.84,666.08,300.32,376.92,232.08,939.0,2165.28,1501.965,1115.84,161.955,189.36,121.95,1949.8,385.725,913.635,212.48,200.07,505.17,222.88,265.64,336.88,113.8,110.075,164.88,106.125,51.78,856.035,1660.095,268.4,328.76,1036.935,1051.245,182.925,177.4,141.125,264.015,271.84,325.395,798.48,286.71,348.32,1145.6,168.68,172.395,0.0,1606.635,200.97,101.255,173.88,1127.56,837.04,533.28,159.52,243.135,67.28,722.2,1948.48,1258.065,899.04,12.555,5.13,0.0,1949.625,440.36,669.735,17.64,247.95,261.27,90.08,96.84,120.08,0.0,43.32,156.8,0.0,0.0,706.635,1416.195,143.55,111.96,793.035,807.345,47.425,5.175,0.0,29.115,107.04,81.495,677.82,342.35,131.52,928.8,35.88,330.48,173.76,1669.36,422.675,268.74,415.12,855.5,1078.28,690.52,324.76,401.36,256.52,963.44,1368.575,1529.46,1140.28,189.45,213.8,149.445,1974.24,401.0,941.13,236.92,209.235,473.48,247.32,290.08,225.825,138.24,125.35,174.045,121.4,60.945,883.53,1500.08,292.84,220.75,1064.43,958.88,118.92,201.84,156.4,291.51,296.28,313.68,825.975,295.875,372.76,1170.04,193.12,194.4,0.0,1579.14,227.865,128.15,168.12,1103.12,812.6,552.84,179.08,265.14,86.84,697.76,1924.04,1230.57,874.6,34.56,27.135,0.0,1922.13,459.92,642.24,39.645,260.175,260.775,109.64,130.95,95.64,0.0,62.88,169.025,12.85,0.0,728.64,1388.7,165.555,87.52,765.54,779.85,37.15,27.18,17.85,51.12,126.6,72.0,644.215,327.075,111.08,904.36,62.37,241.28,95.13,1580.16,300.025,205.81,325.92,1279.6,989.08,601.32,235.56,312.16,167.32,874.24,2100.52,1429.11,1051.08,89.1,124.6,49.095,2120.67,345.25,840.78,166.185,175.785,432.315,158.12,200.88,272.12,49.04,111.36,140.595,65.65,27.495,783.18,1587.24,229.095,264.0,964.08,978.39,142.45,126.72,100.65,191.16,207.08,252.54,725.58,437.35,283.52,1080.84,103.88,170.0,5.94,1492.88,224.015,124.3,238.64,1192.32,901.8,550.04,176.28,232.88,84.04,786.96,2013.24,1330.92,963.8,31.41,37.32,0.0,2022.48,290.7,742.59,67.995,155.055,334.125,106.84,113.6,184.84,0.0,60.08,107.865,11.1,0.0,725.49,1489.05,162.405,176.72,865.89,880.2,87.9,28.53,46.1,92.97,123.8,154.35,627.39,382.8,196.24,993.56,52.6,199.575,14.49,1692.315,234.19,134.475,281.295,1203.72,913.2,557.44,183.68,270.315,91.44,798.36,2024.64,1343.745,975.2,39.735,54.81,0.0,2035.305,476.52,755.415,80.82,263.05,346.95,114.24,140.625,196.24,0.0,67.48,186.9,18.225,8.575,733.815,1501.875,170.73,188.12,878.715,893.025,95.025,41.355,53.225,105.795,131.2,167.175,782.485,389.925,207.64,1004.96,67.5,229.88,73.16,1568.76,284.35,155.565,314.52,792.625,977.68,589.92,224.16,300.76,155.92,862.84,1305.7,1416.285,1039.68,76.275,113.2,36.0,1873.64,338.125,827.955,136.32,171.51,372.88,146.72,189.48,162.95,37.64,62.475,136.32,58.525,23.22,770.355,1399.48,192.24,157.875,951.255,858.28,81.195,101.24,93.525,178.335,195.68,213.08,712.755,258.135,272.12,1069.44,92.48,326.48,101.76,1597.36,323.675,187.74,343.12,1296.8,1006.28,618.52,252.76,329.36,184.52,891.44,2117.72,1448.46,1068.28,108.45,141.8,68.445,1902.24,356.0,860.13,164.92,182.235,451.665,175.32,218.08,289.32,66.24,80.35,147.045,76.4,33.945,802.53,1428.08,220.84,281.2,983.43,886.88,153.2,129.84,111.4,210.51,224.28,271.89,744.93,268.86,300.72,1098.04,121.08,167.4,0.0,1583.64,194.865,95.15,153.44,1107.12,816.6,528.84,155.08,238.14,62.84,701.76,1928.04,1235.07,878.6,7.56,0.0,0.0,1926.63,435.92,646.74,12.645,245.175,238.275,85.64,103.95,99.64,0.0,38.88,154.025,0.0,0.0,701.64,1393.2,138.555,91.52,770.04,784.35,34.65,0.0,0.0,24.12,102.6,58.5,649.66,329.55,111.04,908.36,31.4,197.64,46.035,1536.52,240.02,145.805,282.28,1235.96,945.44,557.68,191.92,268.52,123.68,830.6,2056.88,1380.015,1007.44,40.005,80.96,0.0,2071.575,317.975,791.685,117.09,159.42,383.22,114.48,157.24,228.48,5.4,67.72,124.23,38.375,11.13,734.085,1538.145,180.0,220.36,914.985,929.295,115.175,77.625,73.375,142.065,163.44,203.445,676.485,410.075,239.88,1037.2,60.24,197.64,46.035,1536.52,240.02,145.805,282.28,1235.96,945.44,557.68,191.92,268.52,123.68,830.6,2056.88,1380.015,1007.44,40.005,80.96,0.0,2071.575,317.975,791.685,117.09,159.42,383.22,114.48,157.24,228.48,5.4,67.72,124.23,38.375,11.13,734.085,1538.145,180.0,220.36,914.985,929.295,115.175,77.625,73.375,142.065,163.44,203.445,676.485,410.075,239.88,1037.2,60.24,185.85,0.0,1683.09,217.415,117.7,272.07,1195.52,905.0,545.24,171.48,256.59,83.24,790.16,2016.44,1334.52,967.0,26.01,45.585,0.0,2026.08,468.32,746.19,71.595,255.425,337.725,102.04,131.4,188.04,0.0,55.28,181.775,13.1,0.0,720.09,1492.65,157.005,179.92,869.49,883.8,89.9,32.13,48.1,96.57,123.0,157.95,771.265,384.825,199.48,996.76,53.82,202.185,25.875,1708.425,220.88,121.165,264.36,1218.04,927.52,547.76,174.0,281.925,105.76,812.68,2038.96,1359.855,989.52,28.845,70.92,0.0,2051.415,490.84,771.525,96.93,257.0,363.06,104.56,139.32,210.56,0.0,57.8,195.85,27.175,4.41,722.925,1517.985,159.84,202.44,894.825,909.135,103.975,57.465,62.175,121.905,145.52,183.285,802.23,398.9,222.0,1019.28,50.36,183.015,0.0,1657.755,175.05,114.235,246.735,1173.0,882.48,542.72,168.96,253.755,76.72,863.595,1993.92,1309.185,944.48,23.175,20.25,0.0,2000.745,449.8,720.855,46.26,253.85,312.39,99.52,119.565,165.52,0.0,52.76,167.7,10.56,0.0,717.255,1467.315,154.17,157.4,844.155,858.465,75.825,15.795,22.5,71.235,116.48,132.615,740.3,370.75,176.96,974.24,50.985,225.54,49.23,1731.78,199.575,149.71,285.12,1238.8,948.28,560.52,194.76,305.28,126.52,833.44,2059.72,1383.21,1010.28,43.2,94.275,13.5,2074.77,511.6,794.88,120.285,267.475,386.415,117.32,180.09,231.32,12.0,70.56,208.825,40.15,10.5,737.28,1541.34,183.195,223.2,918.18,932.49,116.95,80.82,75.15,145.26,166.28,206.64,830.775,411.875,242.76,1040.04,63.12,182.16,0.0,1634.4,212.905,113.19,223.38,1152.24,861.72,541.96,168.2,252.9,75.96,746.88,1973.16,1285.83,923.72,22.32,14.895,0.0,1977.39,449.04,697.5,27.405,253.375,289.035,98.76,118.71,144.76,0.0,52.0,162.225,0.0,0.0,716.4,1443.96,153.315,136.64,820.8,835.11,62.85,14.94,10.0,47.88,115.72,109.26,711.755,357.775,156.2,953.48,50.13,228.0,80.19,1566.88,281.765,187.55,312.64,1266.32,975.8,588.04,222.28,298.88,154.04,860.96,2087.24,1414.17,1037.8,74.16,111.32,36.0,2105.73,336.95,825.84,151.245,170.805,417.375,144.84,187.6,258.84,35.76,98.08,135.615,57.35,22.515,768.24,1572.3,214.155,250.72,949.14,963.45,134.15,111.78,92.35,176.22,193.8,237.6,710.685,429.075,270.28,1067.56,90.64,173.7,0.0,1603.44,202.565,102.85,192.42,1124.72,834.2,534.44,160.68,244.44,68.44,809.28,1945.64,1254.87,896.2,0.0,0.0,0.0,1946.43,441.52,666.54,18.945,248.675,258.075,91.24,110.25,117.24,0.0,0.0,157.525,0.0,0.0,707.94,1413.0,144.855,109.12,789.84,804.15,45.65,0.0,0.0,30.42,108.2,78.3,673.915,340.575,128.68,1041.705,0.0,234.81,58.5,1741.05,255.255,161.04,330.03,1247.04,956.52,568.76,203.0,314.55,134.76,841.68,2067.96,1392.48,1018.52,52.47,103.545,18.0,2084.04,519.84,804.15,129.555,272.625,395.685,125.56,189.36,239.56,16.48,78.8,213.975,45.3,15.285,746.55,1550.61,192.465,231.44,927.45,941.76,122.1,90.09,80.3,154.53,174.52,215.91,842.105,417.025,251.0,1048.28,80.28,177.39,0.0,1625.13,207.075,107.36,214.11,1144.0,853.48,537.72,163.96,248.13,71.72,738.64,1964.92,1276.56,915.48,0.0,0.0,0.0,1968.12,444.8,688.23,22.635,250.725,279.765,94.52,113.94,136.52,0.0,0.0,159.575,0.0,0.0,711.63,1434.69,148.545,128.4,811.53,825.84,57.7,10.17,7.5,38.61,111.48,99.99,700.425,352.625,147.96,945.24,45.36,298.8,122.49,1805.04,333.465,239.25,350.24,1303.92,1013.4,625.64,259.88,378.54,191.64,898.56,2124.84,1456.47,1075.4,116.46,167.535,76.455,2148.03,576.72,868.14,193.545,308.175,459.675,182.44,253.35,296.44,73.36,135.68,249.525,80.85,36.615,810.54,1614.6,256.455,288.32,991.44,1005.75,157.65,154.08,115.85,218.52,231.4,279.9,920.315,452.575,307.88,1105.16,128.24,158.4,0.0,1561.14,183.865,84.15,150.12,1087.12,796.6,520.84,147.08,229.14,54.84,681.76,1908.04,1212.57,858.6,0.0,0.0,0.0,1904.13,427.92,624.24,2.34,240.175,224.775,77.64,94.95,79.64,0.0,0.0,149.025,0.0,0.0,692.64,1370.7,129.555,71.52,747.54,829.035,22.15,0.0,0.0,0.0,94.6,0.0,622.215,317.075,91.08,888.36,0.0,290.04,133.32,1628.92,367.07,223.245,374.68,1328.36,1037.84,650.08,284.32,360.92,216.08,923.0,2149.28,1483.965,1099.84,143.955,173.36,112.5,1933.8,375.725,895.635,196.48,194.07,487.17,206.88,249.64,320.88,100.0,100.075,158.88,96.125,45.78,838.035,1642.095,252.4,312.76,1018.935,1033.245,172.925,161.4,131.125,246.015,255.84,307.395,780.48,280.71,332.32,1129.6,152.68,180.405,0.0,1533.645,210.76,111.045,154.125,1062.68,772.16,540.4,166.64,251.145,74.4,739.485,1883.6,1185.075,834.16,20.565,13.14,0.0,1876.635,447.48,596.745,25.65,252.4,246.78,97.2,116.955,75.2,0.0,50.44,161.25,0.0,0.0,714.645,1343.205,151.56,51.08,720.045,734.355,29.375,13.185,0.0,45.375,114.16,58.005,588.61,301.8,98.64,971.91,48.375,225.945,40.5,1732.185,244.42,150.205,321.165,1239.16,948.64,560.88,195.12,305.685,126.88,833.8,2060.08,1383.615,1010.64,43.605,94.68,9.0,2075.175,511.96,795.285,120.69,267.7,386.82,117.68,180.495,231.68,8.0,70.92,209.05,40.375,9.0,737.685,1541.745,183.6,223.56,918.585,932.895,117.175,81.225,75.375,145.665,166.64,207.045,831.215,412.075,243.08,1040.4,71.37,177.255,0.0,1633.995,169.29,107.195,222.975,1151.88,861.36,537.6,163.84,247.995,71.6,746.52,1972.8,1285.425,923.36,17.415,9.99,0.0,1976.985,444.68,697.095,22.5,250.65,288.63,94.4,113.805,144.4,0.0,47.64,159.5,0.0,0.0,711.495,1443.555,148.41,136.28,820.395,834.705,62.625,10.035,12.5,47.475,111.36,108.855,711.205,357.525,155.8,953.12,45.18,185.58,0.0,1646.82,217.085,117.37,235.8,1163.28,872.76,545.0,171.24,256.32,79.0,852.66,1984.2,1298.25,934.76,25.74,18.315,0.0,1989.81,452.08,709.92,35.325,255.275,301.455,101.8,122.13,155.8,0.0,55.04,164.125,0.0,0.0,719.82,1456.38,156.735,147.68,833.22,847.53,69.75,18.36,28.1,73.7,118.76,121.68,726.88,364.65,167.2,1085.085,53.505,189.44,32.72,1528.32,228.745,110.07,274.08,1227.76,937.24,549.48,183.72,260.32,115.48,822.4,2048.68,1370.79,999.24,30.78,72.76,4.5,1833.2,312.85,782.46,95.88,156.345,373.995,106.28,149.04,220.28,4.0,37.2,121.155,33.25,8.055,724.86,1528.92,151.8,212.16,905.76,920.07,110.05,60.8,68.25,132.84,155.24,194.22,667.26,242.97,231.68,1029.0,52.04,321.795,68.985,1751.535,268.07,173.855,302.68,1256.36,965.84,578.08,212.32,325.035,144.08,851.0,2077.28,1402.965,1027.84,62.955,114.03,4.5,2094.525,529.16,814.635,140.04,278.45,406.17,134.88,177.64,248.88,25.8,88.12,219.8,51.125,18.78,757.035,1561.095,202.95,240.76,937.935,952.245,127.925,100.575,86.125,165.015,183.84,226.395,854.865,422.825,260.28,1057.6,80.64,153.405,0.0,1538.145,177.76,78.045,127.125,1066.68,776.16,516.4,142.64,224.145,50.4,743.985,1887.6,1189.575,838.16,0.0,0.0,0.0,1881.135,423.48,601.245,0.0,237.4,219.78,73.2,89.955,59.2,0.0,26.44,146.25,0.0,0.0,687.645,1347.705,124.56,51.08,724.545,738.855,14.375,0.0,0.0,10.125,90.16,31.005,594.055,304.275,74.6,867.92,21.33,185.85,0.0,1683.09,217.415,117.7,272.07,1195.52,905.0,545.24,171.48,256.59,83.24,790.16,2016.44,1334.52,967.0,26.01,45.585,0.0,2026.08,468.32,746.19,71.595,255.425,337.725,102.04,131.4,188.04,0.0,55.28,181.775,13.1,0.0,720.09,1492.65,157.005,179.92,869.49,883.8,89.9,32.13,48.1,96.57,123.0,157.95,771.21,384.8,199.44,996.76,53.775,185.85,0.0,1683.09,217.415,117.7,272.07,1195.52,905.0,545.24,171.48,256.59,83.24,790.16,2016.44,1334.52,967.0,26.01,45.585,0.0,2026.08,468.32,746.19,71.595,255.425,337.725,102.04,131.4,188.04,0.0,55.28,181.775,13.1,0.0,720.09,1492.65,157.005,179.92,869.49,883.8,89.9,32.13,48.1,96.57,123.0,157.95,771.21,384.8,199.44,996.76,53.775,238.08,81.36,1576.96,295.625,164.79,322.72,1276.4,985.88,598.12,232.36,308.96,164.12,871.04,2097.32,1425.51,1047.88,85.5,121.4,45.495,1881.84,343.25,837.18,144.52,174.585,428.715,154.92,197.68,168.075,45.84,67.6,139.395,63.65,26.295,779.58,1407.68,200.44,260.8,960.48,866.48,84.27,109.44,98.65,187.56,203.88,221.28,722.025,261.225,280.36,1077.64,100.72,260.6,103.88,1599.48,326.59,190.125,345.24,811.825,1008.4,620.64,159.3,331.48,116.65,893.56,1324.9,1450.845,1070.4,110.835,143.92,62.96,1904.36,357.325,862.515,167.04,183.03,403.6,177.44,220.2,182.15,68.36,81.675,147.84,77.725,34.74,804.915,1430.2,222.96,177.075,985.815,889.0,92.715,131.96,112.725,212.895,226.4,243.8,747.36,269.67,302.88,1100.16,123.24,215.56,58.84,1554.44,286.66,152.955,300.2,1253.88,963.36,595.6,221.84,286.44,141.6,848.52,2074.8,1400.175,1025.36,82.665,98.88,45.495,1859.32,329.175,811.845,122.0,172.14,403.38,152.4,175.16,246.4,40.44,66.025,130.95,49.575,15.165,776.745,1558.305,189.92,238.28,935.145,949.455,126.375,86.92,84.575,162.225,181.36,223.605,696.69,252.78,257.84,1055.12,98.2,281.36,124.64,1620.24,355.135,213.48,366.0,824.8,1029.16,641.4,275.64,352.24,207.4,914.32,1337.875,1474.2,1091.16,134.19,164.68,94.185,1925.12,370.3,885.87,187.8,190.815,424.36,198.2,240.96,195.125,89.12,94.65,155.625,90.7,42.525,828.27,1450.96,243.72,190.05,1009.17,909.76,100.5,152.72,125.7,236.25,247.16,264.56,770.715,277.455,323.64,1120.92,144.0,214.8,40.44,1533.68,233.685,152.1,279.44,1233.12,942.6,594.84,221.08,277.68,128.84,827.76,2054.04,1376.82,1004.6,81.81,78.12,45.495,1838.56,316.2,788.49,101.24,171.855,380.025,151.64,158.4,225.64,40.44,65.55,123.165,25.275,15.165,775.89,1364.4,189.16,217.52,911.79,823.2,113.4,66.16,52.775,138.87,168.6,200.25,673.335,244.995,237.08,1034.36,97.44,308.88,152.16,1647.76,392.975,244.44,393.52,842.0,1056.68,668.92,189.475,379.76,146.825,941.84,1355.075,1505.16,699.175,146.8,192.2,111.24,1952.64,387.5,916.83,215.32,201.135,451.88,141.075,268.48,212.325,116.64,111.85,165.945,107.9,52.845,859.23,1478.48,271.24,207.25,1040.13,937.28,110.82,180.24,142.9,267.21,171.675,292.08,801.675,287.775,219.475,1148.44,171.52,207.28,45.495,1506.16,225.225,175.56,251.92,1205.6,915.08,587.32,213.56,270.16,121.32,800.24,2026.52,1345.86,977.08,73.35,58.6,45.495,2037.42,309.0,757.53,82.935,169.035,349.065,144.12,150.88,198.12,40.44,40.44,114.345,25.275,15.165,767.43,1503.99,204.345,190.0,880.83,895.14,96.2,65.97,40.275,107.91,161.08,169.29,642.375,391.125,209.56,1006.84,89.92,289.6,132.88,1628.48,366.465,222.75,374.24,1327.92,1037.4,649.64,283.88,360.48,215.64,922.56,2148.84,1483.47,1099.4,143.46,172.92,103.455,1933.36,375.45,895.14,196.04,193.905,486.675,206.44,249.2,200.275,97.36,99.8,158.715,95.85,45.615,837.54,1459.2,251.96,312.32,1018.44,918.0,103.59,160.96,130.85,245.52,255.4,272.8,779.985,280.545,331.88,1129.16,152.24,210.56,40.44,1525.44,279.785,147.33,271.2,1224.88,934.36,590.6,216.84,273.44,124.6,819.52,2045.8,1367.55,996.36,77.04,69.88,45.495,1830.32,311.05,779.22,93.0,170.265,370.755,147.4,154.16,135.875,40.44,62.9,120.075,25.275,15.165,771.12,1356.16,184.92,209.28,902.52,814.96,64.95,61.92,50.275,129.6,164.36,169.76,664.065,241.905,228.84,1026.12,93.2,346.48,189.76,1685.36,444.675,286.74,431.12,865.5,1094.28,706.52,340.76,417.36,272.52,979.44,1378.575,1547.46,1156.28,207.45,229.8,167.445,1990.24,411.0,959.13,252.92,215.235,489.48,263.32,306.08,235.825,154.24,135.35,180.045,131.4,66.945,901.53,1516.08,308.84,230.75,1082.43,974.88,124.92,217.84,166.4,309.51,312.28,329.68,843.975,301.875,388.76,1186.04,209.12,193.68,40.44,1468.56,256.575,128.34,214.32,1168.0,877.48,573.72,199.96,256.56,107.72,762.64,1988.92,1303.56,939.48,58.05,45.0,45.495,1773.44,300.5,715.23,56.12,163.935,306.765,130.52,137.28,160.52,40.44,52.35,109.245,25.275,15.165,752.13,1299.28,168.04,152.4,838.53,758.08,72.7,45.04,25.275,74.61,147.48,126.99,600.075,220.575,171.96,969.24,76.32,370.92,214.2,1709.8,478.28,314.235,455.56,880.775,1118.72,730.96,228.25,441.8,185.6,1003.88,1393.85,1399.96,737.95,208.84,254.24,173.28,2014.68,426.275,877.0,277.36,224.4,513.92,179.85,330.52,251.1,178.68,150.625,189.21,146.675,76.11,929.025,1540.52,333.28,246.025,986.6,999.32,134.085,242.28,181.675,337.005,210.45,354.12,871.47,311.04,258.25,1210.48,233.56,239.895,45.495,1624.635,283.47,183.755,189.88,1143.56,853.04,593.28,219.52,310.635,127.28,738.2,1964.48,1276.065,915.04,80.055,72.63,45.495,1967.625,500.36,687.735,85.14,285.45,306.27,150.08,156.84,136.08,40.44,103.32,194.3,38.125,15.165,774.135,1434.195,211.05,127.96,811.035,825.345,62.425,72.675,43.125,96.615,167.04,117.495,699.82,352.35,151.52,944.8,95.88,281.72,125.0,1620.6,355.63,213.885,366.36,1320.04,1029.52,641.76,276.0,352.6,207.76,914.68,2140.96,1474.605,1091.52,134.595,165.04,94.59,1925.48,370.525,886.275,188.16,190.95,477.81,198.56,241.32,195.35,89.48,94.875,155.76,90.925,42.66,828.675,1451.32,244.08,304.44,1009.575,910.12,100.635,153.08,125.925,236.655,247.52,264.92,771.075,277.575,323.96,1121.28,144.32,194.44,37.72,1533.32,241.12,115.695,279.08,1232.76,942.24,562.48,188.72,265.32,120.48,827.4,2053.68,1376.415,1004.24,45.405,77.76,0.0,1838.2,315.975,788.085,100.88,159.72,379.62,119.28,154.04,140.8,10.2,45.325,123.03,36.375,9.93,739.485,1364.04,156.8,217.16,911.385,822.84,67.905,65.8,71.375,138.465,160.24,177.64,672.885,244.845,236.68,1034.0,65.04,231.57,55.26,1737.81,251.295,157.08,290.48,1244.16,953.64,569.88,200.12,311.31,131.88,838.8,2065.08,1389.24,1015.64,53.73,100.305,0.0,2080.8,516.96,800.91,126.315,270.825,392.445,126.68,165.44,236.68,17.6,79.92,212.175,43.5,14.205,747.81,1547.37,189.225,228.56,924.21,938.52,120.3,86.85,78.5,151.29,171.64,212.67,838.09,415.2,248.08,1045.4,72.44,270.32,113.6,1609.2,339.955,201.06,354.96,817.9,1018.12,630.36,165.375,341.2,122.725,903.28,1330.975,1299.36,675.075,108.24,153.64,72.68,1914.08,363.4,776.4,176.76,186.675,413.32,116.975,229.92,188.225,78.08,87.75,151.485,83.8,38.385,815.85,1439.92,232.68,183.15,886.0,898.72,96.36,141.68,118.8,223.83,147.575,253.52,758.25,273.3,195.35,1109.88,132.92,366.92,142.2,1637.8,379.28,233.235,383.56,835.775,1046.72,658.96,183.25,369.8,140.6,931.88,1348.85,1493.955,1108.72,153.945,182.24,101.28,1942.68,381.275,905.625,205.36,197.4,441.92,215.76,258.52,206.1,106.68,105.625,162.21,101.675,49.11,848.025,1468.52,261.28,201.025,1028.925,927.32,107.085,170.28,136.675,256.005,264.72,282.12,790.425,284.025,341.16,1138.48,161.52,161.24,0.0,1448.12,211.97,91.845,193.88,1147.56,857.04,541.28,167.52,224.12,75.28,742.2,1968.48,1280.565,919.04,21.555,12.56,0.0,1753.0,280.225,692.235,23.68,151.77,283.77,98.08,104.84,140.08,0.0,32.075,97.08,5.625,0.0,715.635,1438.695,135.6,131.96,815.535,829.845,59.925,12.6,18.125,42.615,115.04,103.995,577.035,212.895,151.48,948.8,43.84,238.08,81.36,1576.96,295.625,164.79,322.72,1276.4,985.88,598.12,232.36,308.96,164.12,871.04,2097.32,1425.51,1047.88,85.5,121.4,45.495,1881.84,343.25,837.18,144.52,174.585,428.715,154.92,197.68,168.075,45.84,67.6,139.395,63.65,26.295,779.58,1407.68,200.44,260.8,960.48,866.48,84.27,109.44,98.65,187.56,203.88,221.28,721.98,261.21,280.32,1077.64,100.68,238.08,81.36,1576.96,295.625,164.79,322.72,1276.4,985.88,598.12,232.36,308.96,164.12,871.04,2097.32,1425.51,1047.88,85.5,121.4,45.495,1881.84,343.25,837.18,144.52,174.585,428.715,154.92,197.68,168.075,45.84,67.6,139.395,63.65,26.295,779.58,1407.68,200.44,260.8,960.48,866.48,84.27,109.44,98.65,187.56,203.88,221.28,721.98,261.21,280.32,1077.64,100.68],\"xaxis\":\"x\",\"y\":[4370,318,2453,4198,2393,3775,2360,9115,13773,4515,5918,2238,15140,3095,15485,6500,875,710,0,7508,11465,6718,955,10435,5818,2840,2990,2268,133,1668,6785,628,338,16075,6965,3718,1665,2780,1315,1568,700,825,1225,3225,1695,6393,8933,2853,4390,1488,4430,378,2513,4258,2453,3835,2420,9175,13833,4575,5978,2298,15200,3155,15545,6560,935,770,60,7568,11525,6778,1015,10495,5878,2900,3050,2328,193,1728,6845,688,398,16135,7025,3778,1725,2840,1375,1628,760,885,1285,3285,1755,6453,8993,2913,4450,1548,4310,258,2393,4138,2333,3715,2300,9055,13713,4455,5858,2178,15080,3035,15425,6440,815,650,0,7448,11405,6658,895,10375,5758,2780,2930,2208,0,1608,6725,568,0,16015,6905,3658,1605,2720,1255,1508,640,765,1165,3165,1635,6333,8873,2793,4330,1428,4450,398,2533,4278,2473,3855,2440,9195,13853,4595,5998,2318,15220,3175,15565,6580,955,790,80,7588,11545,6798,1035,10515,5898,2920,3070,2348,213,1748,6865,708,418,16155,7045,3798,1745,2860,1395,1648,780,905,1305,3305,1775,6473,9013,2933,4470,1568,4290,0,2373,4118,2313,3695,2280,9035,13693,4435,5838,2158,15060,3015,15405,6420,795,630,0,7428,11385,6638,875,10355,5738,2760,2910,2188,0,1588,6705,0,0,15995,6885,3638,1585,2700,1235,1488,620,0,1145,3145,1615,6313,8853,2773,4310,1408,4630,578,2713,4458,2653,4035,2620,9375,14033,4775,6178,2498,15400,3355,15745,6760,1135,970,260,7768,11725,6978,1215,10695,6078,3100,3250,2528,393,1928,7045,888,598,16335,7225,3978,1925,3040,1575,1828,960,1085,1485,3485,1955,6653,9193,3113,4650,1748,4110,0,2193,3938,2133,3515,2100,8855,13513,4255,5658,1978,14880,2835,15225,6240,615,450,0,7248,11205,6458,695,10175,5558,2580,2730,2008,0,0,6525,0,0,15815,6705,3458,1405,2520,1055,1308,440,0,965,2965,1435,6133,8673,2593,4130,1228,4550,498,2633,4378,2573,3955,2540,9295,13953,4695,6098,2418,15320,3275,15665,6680,1055,890,180,7688,11645,6898,1135,10615,5998,3020,3170,2448,313,1848,6965,808,518,16255,7145,3898,1845,2960,1495,1748,880,1005,1405,3405,1875,6573,9113,3033,4570,1668,4190,0,2273,4018,2213,3595,2180,8935,13593,4335,5738,2058,14960,2915,15305,6320,695,530,0,7328,11285,6538,775,10255,5638,2660,2810,2088,0,1488,6605,0,0,15895,6785,3538,1485,2600,1135,1388,520,0,1045,3045,1515,6213,8753,2673,4210,1308,4970,918,3053,4798,2993,4375,2960,9715,14373,5115,6518,2838,15740,3695,16085,7100,1475,1310,600,8108,12065,7318,1555,11035,6418,3440,3590,2868,733,2268,7385,1228,938,16675,7565,4318,2265,3380,1915,2168,1300,1425,1825,3825,2295,6993,9533,3453,4990,2088,3770,0,1853,3598,1793,3175,1760,8515,13173,3915,5318,1638,14540,2495,14885,5900,275,110,0,6908,10865,6118,355,9835,5218,2240,2390,1668,0,1068,6185,0,0,15475,6365,3118,1065,2180,715,968,100,0,625,2625,1095,5793,8333,2253,3790,888,4485,433,2568,4313,2508,3890,2475,9230,13888,4630,6033,2353,15255,3210,15600,6615,990,825,115,7623,11580,6833,1070,10550,5933,2955,3105,2383,248,1783,6900,743,453,16190,7080,3833,1780,2895,1430,1683,815,940,1340,3340,1810,6508,9048,2968,4505,1603,4255,0,2338,4083,2278,3660,2245,9000,13658,4400,5803,2123,15025,2980,15370,6385,760,595,0,7393,11350,6603,840,10320,5703,2725,2875,2153,0,1553,6670,513,0,15960,6850,3603,1550,2665,1200,1453,585,710,1110,3110,1580,6278,8818,2738,4275,1373,4560,508,2643,4388,2583,3965,2550,9305,13963,4705,6108,2428,15330,3285,15675,6690,1065,900,190,7698,11655,6908,1145,10625,6008,3030,3180,2458,323,1858,6975,818,528,16265,7155,3908,1855,2970,1505,1758,890,1015,1415,3415,1885,6582,9122,3042,4580,1677,4180,128,2263,4008,2203,3585,2170,8925,13583,4325,5728,2048,14950,2905,15295,6310,685,520,0,7318,11275,6528,765,10245,5628,2650,2800,2078,0,1478,6595,438,0,15885,6775,3528,1475,2590,1125,1378,510,635,1035,3035,1505,6202,8742,2662,4200,1297,4370,318,2453,4198,2393,3775,2360,9115,13773,4515,5918,2238,15140,3095,15485,6500,875,710,0,7508,11465,6718,955,10435,5818,2840,2990,2268,0,1668,6785,628,338,16075,6965,3718,1665,2780,1315,1568,700,825,1225,3225,1695,6392,8932,2852,4390,1487,4370,318,2453,4198,2393,3775,2360,9115,13773,4515,5918,2238,15140,3095,15485,6500,875,710,0,7508,11465,6718,955,10435,5818,2840,2990,2268,133,1668,6785,628,338,16075,6965,3718,1665,2780,1315,1568,700,825,1225,3225,1695,6392,8932,2852,4390,1487,5080,1028,3163,4908,3103,4485,3070,9825,14483,5225,6628,2948,15850,3805,16195,7210,1585,1420,710,8218,12175,7428,1665,11145,6528,3550,3700,2978,843,2378,7495,1338,1048,16785,7675,4428,2375,3490,2025,2278,1410,1535,1935,3935,2405,7102,9642,3562,5100,2197,3660,0,1743,3488,1683,3065,1650,8405,13063,3805,5208,1528,14430,2385,14775,5790,165,0,0,6798,10755,6008,245,9725,5108,2130,2280,1558,0,958,6075,0,0,15365,6255,3008,955,2070,605,858,0,0,515,2515,985,5682,8222,2142,3680,777,4370,318,2453,4198,2393,3775,2360,9115,13773,4515,5918,2238,15140,3095,15485,6500,875,710,0,7508,11465,6718,955,10435,5818,2840,2990,2268,133,1668,6785,628,338,16075,6965,3718,1665,2780,1315,1568,700,825,1225,3225,1695,6392,8932,2852,4390,1487,4370,318,2453,4198,2393,3775,2360,9115,13773,4515,5918,2238,15140,3095,15485,6500,875,710,0,7508,11465,6718,955,10435,5818,2840,2990,2268,133,1668,6785,628,338,16075,6965,3718,1665,2780,1315,1568,700,825,1225,3225,1695,6392,8932,2852,4390,1487,4065,0,2148,3893,2088,3470,2055,8810,13468,4210,5613,1933,14835,2790,15180,6195,570,405,0,7203,11160,6413,650,10130,5513,2535,2685,1963,0,1363,6480,323,0,15770,6660,3413,1360,2475,1010,1263,395,520,920,2920,1390,6088,8628,2548,4085,1183,4125,73,2208,3953,2148,3530,2115,8870,13528,4270,5673,1993,14895,2850,15240,6255,630,465,0,7263,11220,6473,710,10190,5573,2595,2745,2023,0,1423,6540,383,93,15830,6720,3473,1420,2535,1070,1323,455,580,980,2980,1450,6148,8688,2608,4145,1243,4005,0,2088,3833,2028,3410,1995,8750,13408,4150,5553,1873,14775,2730,15120,6135,510,345,0,7143,11100,6353,590,10070,5453,2475,2625,1903,0,1303,6420,263,0,15710,6600,3353,1300,2415,950,1203,335,0,860,2860,1330,6028,8568,2488,4025,1123,4145,93,2228,3973,2168,3550,2135,8890,13548,4290,5693,2013,14915,2870,15260,6275,650,485,0,7283,11240,6493,730,10210,5593,2615,2765,2043,0,1443,6560,403,0,15850,6740,3493,1440,2555,1090,1343,475,600,1000,3000,1470,6168,8708,2628,4165,1263,3985,0,2068,3813,2008,3390,1975,8730,13388,4130,5533,1853,14755,2710,15100,6115,490,325,0,7123,11080,6333,570,10050,5433,2455,2605,1883,0,1283,6400,0,0,15690,6580,3333,1280,2395,930,1183,315,0,840,2840,1310,6008,8548,2468,4005,1103,4325,273,2408,4153,2348,3730,2315,9070,13728,4470,5873,2193,15095,3050,15440,6455,830,665,0,7463,11420,6673,910,10390,5773,2795,2945,2223,88,1623,6740,583,293,16030,6920,3673,1620,2735,1270,1523,655,780,1180,3180,1650,6348,8888,2808,4345,1443,3805,0,1888,3633,1828,3210,1795,8550,13208,3950,5353,1673,14575,2530,14920,5935,0,0,0,6943,10900,6153,390,9870,5253,2275,2425,1703,0,0,6220,0,0,15510,6400,3153,1100,2215,750,1003,0,0,660,2660,1130,5828,8368,2288,3825,0,4245,193,2328,4073,2268,3650,2235,8990,13648,4390,5793,2113,15015,2970,15360,6375,750,585,0,7383,11340,6593,830,10310,5693,2715,2865,2143,8,1543,6660,503,213,15950,6840,3593,1540,2655,1190,1443,575,700,1100,3100,1570,6268,8808,2728,4265,1363,3885,0,1968,3713,1908,3290,1875,8630,13288,4030,5433,1753,14655,2610,15000,6015,0,0,0,7023,10980,6233,470,9950,5333,2355,2505,1783,0,0,6300,0,0,15590,6480,3233,1180,2295,830,1083,215,0,740,2740,1210,5908,8448,2368,3905,1003,4665,613,2748,4493,2688,4070,2655,9410,14068,4810,6213,2533,15435,3390,15780,6795,1170,1005,295,7803,11760,7013,1250,10730,6113,3135,3285,2563,428,1963,7080,923,633,16370,7260,4013,1960,3075,1610,1863,995,1120,1520,3520,1990,6688,9228,3148,4685,1783,3465,0,1548,3293,1488,2870,1455,8210,12868,3610,5013,1333,14235,2190,14580,5595,0,0,0,6603,10560,5813,50,9530,4913,1935,2085,1363,0,0,5880,0,0,15170,6060,2813,760,1875,1903,663,0,0,0,2320,0,5488,8028,1948,3485,0,4180,128,2263,4008,2203,3585,2170,8925,13583,4325,5728,2048,14950,2905,15295,6310,685,520,0,7318,11275,6528,765,10245,5628,2650,2800,2078,0,1478,6595,438,148,15885,6775,3528,1475,2590,1125,1378,510,635,1035,3035,1505,6203,8743,2663,4200,1298,3950,0,2033,3778,1973,3355,1940,8695,13353,4095,5498,1818,14720,2675,15065,6080,455,290,0,7088,11045,6298,535,10015,5398,2420,2570,1848,0,1248,6365,0,0,15655,6545,3298,1245,2360,895,1148,280,0,805,2805,1275,5973,8513,2433,3970,1068,4255,0,2338,4083,2278,3660,2245,9000,13658,4400,5803,2123,15025,2980,15370,6385,760,595,0,7393,11350,6603,840,10320,5703,2725,2875,2153,0,1553,6670,513,0,15960,6850,3603,1550,2665,1200,1453,585,710,1110,3110,1580,6277,8817,2737,4275,1372,3875,0,1958,3703,1898,3280,1865,8620,13278,4020,5423,1743,14645,2600,14990,6005,380,215,0,7013,10970,6223,460,9940,5323,2345,2495,1773,0,1173,6290,0,0,15580,6470,3223,1170,2285,820,1073,205,0,730,2730,1200,5897,8437,2357,3895,992,4065,0,2148,3893,2088,3470,2055,8810,13468,4210,5613,1933,14835,2790,15180,6195,570,405,0,7203,11160,6413,650,10130,5513,2535,2685,1963,0,1363,6480,0,0,15770,6660,3413,1360,2475,1010,1263,395,520,920,2920,1390,6087,8627,2547,4085,1182,4065,13,2148,3893,2088,3470,2055,8810,13468,4210,5613,1933,14835,2790,15180,6195,570,405,0,7203,11160,6413,650,10130,5513,2535,2685,1963,0,1363,6480,323,33,15770,6660,3413,1360,2475,1010,1263,395,520,920,2920,1390,6087,8627,2547,4085,1182,4775,723,2858,4603,2798,4180,2765,9520,14178,4920,6323,2643,15545,3500,15890,6905,1280,1115,0,7913,11870,7123,1360,10840,6223,3245,3395,2673,538,2073,7190,1033,743,16480,7370,4123,2070,3185,1720,1973,1105,1230,1630,3630,2100,6797,9337,3257,4795,1892,3355,0,1438,3183,1378,2760,1345,8100,12758,3500,4903,1223,14125,2080,14470,5485,0,0,0,6493,10450,5703,0,9420,4803,1825,1975,1253,0,653,5770,0,0,15060,5950,2703,650,1765,300,553,0,0,210,2210,680,5377,7917,1837,3375,472,4065,0,2148,3893,2088,3470,2055,8810,13468,4210,5613,1933,14835,2790,15180,6195,570,405,0,7203,11160,6413,650,10130,5513,2535,2685,1963,0,1363,6480,323,0,15770,6660,3413,1360,2475,1010,1263,395,520,920,2920,1390,6087,8627,2547,4085,1182,4065,0,2148,3893,2088,3470,2055,8810,13468,4210,5613,1933,14835,2790,15180,6195,570,405,0,7203,11160,6413,650,10130,5513,2535,2685,1963,0,1363,6480,323,0,15770,6660,3413,1360,2475,1010,1263,395,520,920,2920,1390,6087,8627,2547,4085,1182,4675,623,2758,4503,2698,4080,2665,9420,14078,4820,6223,2543,15445,3400,15790,6805,1180,1015,305,7813,11770,7023,1260,10740,6123,3145,3295,2573,438,1973,7090,933,643,16380,7270,4023,1970,3085,1620,1873,1005,1130,1530,3530,2000,6698,9238,3158,4695,1793,4735,683,2818,4563,2758,4140,2725,9480,14138,4880,6283,2603,15505,3460,15850,6865,1240,1075,365,7873,11830,7083,1320,10800,6183,3205,3355,2633,498,2033,7150,993,703,16440,7330,4083,2030,3145,1680,1933,1065,1190,1590,3590,2060,6758,9298,3218,4755,1853,4615,563,2698,4443,2638,4020,2605,9360,14018,4760,6163,2483,15385,3340,15730,6745,1120,955,305,7753,11710,6963,1200,10680,6063,3085,3235,2513,305,1913,7030,873,305,16320,7210,3963,1910,3025,1560,1813,945,1070,1470,3470,1940,6638,9178,3098,4635,1733,4755,703,2838,4583,2778,4160,2745,9500,14158,4900,6303,2623,15525,3480,15870,6885,1260,1095,385,7893,11850,7103,1340,10820,6203,3225,3375,2653,518,2053,7170,1013,723,16460,7350,4103,2050,3165,1700,1953,1085,1210,1610,3610,2080,6778,9318,3238,4775,1873,4595,305,2678,4423,2618,4000,2585,9340,13998,4740,6143,2463,15365,3320,15710,6725,1100,935,305,7733,11690,6943,1180,10660,6043,3065,3215,2493,305,1893,7010,305,305,16300,7190,3943,1890,3005,1540,1793,925,305,1450,3450,1920,6618,9158,3078,4615,1713,4935,883,3018,4763,2958,4340,2925,9680,14338,5080,6483,2803,15705,3660,16050,7065,1440,1275,565,8073,12030,7283,1520,11000,6383,3405,3555,2833,698,2233,7350,1193,903,16640,7530,4283,2230,3345,1880,2133,1265,1390,1790,3790,2260,6958,9498,3418,4955,2053,4415,305,2498,4243,2438,3820,2405,9160,13818,4560,5963,2283,15185,3140,15530,6545,920,755,305,7553,11510,6763,1000,10480,5863,2885,3035,2313,305,305,6830,305,305,16120,7010,3763,1710,2825,1360,1613,745,305,1270,3270,1740,6438,8978,2898,4435,1533,4855,803,2938,4683,2878,4260,2845,9600,14258,5000,6403,2723,15625,3580,15970,6985,1360,1195,485,7993,11950,7203,1440,10920,6303,3325,3475,2753,618,2153,7270,1113,823,16560,7450,4203,2150,3265,1800,2053,1185,1310,1710,3710,2180,6878,9418,3338,4875,1973,4495,305,2578,4323,2518,3900,2485,9240,13898,4640,6043,2363,15265,3220,15610,6625,1000,835,305,7633,11590,6843,1080,10560,5943,2965,3115,2393,305,1793,6910,305,305,16200,7090,3843,1790,2905,1440,1693,825,305,1350,3350,1820,6518,9058,2978,4515,1613,5275,1223,3358,5103,3298,4680,3265,10020,14678,5420,6823,3143,16045,4000,16390,7405,1780,1615,905,8413,12370,7623,1860,11340,6723,3745,3895,3173,1038,2573,7690,1533,1243,16980,7870,4623,2570,3685,2220,2473,1605,1730,2130,4130,2600,7298,9838,3758,5295,2393,4075,305,2158,3903,2098,3480,2065,8820,13478,4220,5623,1943,14845,2800,15190,6205,580,415,305,7213,11170,6423,660,10140,5523,2545,2695,1973,305,1373,6490,305,305,15780,6670,3423,1370,2485,1020,1273,405,305,930,2930,1400,6098,8638,2558,4095,1193,4790,738,2873,4618,2813,4195,2780,9535,14193,4935,6338,2658,15560,3515,15905,6920,1295,1130,420,7928,11885,7138,1375,10855,6238,3260,3410,2688,553,2088,7205,1048,758,16495,7385,4138,2085,3200,1735,1988,1120,1245,1645,3645,2115,6813,9353,3273,4810,1908,4560,305,2643,4388,2583,3965,2550,9305,13963,4705,6108,2428,15330,3285,15675,6690,1065,900,305,7698,11655,6908,1145,10625,6008,3030,3180,2458,305,1858,6975,818,305,16265,7155,3908,1855,2970,1505,1758,890,1015,1415,3415,1885,6583,9123,3043,4580,1678,4865,813,2948,4693,2888,4270,2855,9610,14268,5010,6413,2733,15635,3590,15980,6995,1370,1205,495,8003,11960,7213,1450,10930,6313,3335,3485,2763,628,2163,7280,1123,833,16570,7460,4213,2160,3275,1810,2063,1195,1320,1720,3720,2190,6887,9427,3347,4885,1982,4485,433,2568,4313,2508,3890,2475,9230,13888,4630,6033,2353,15255,3210,15600,6615,990,825,0,7623,11580,6833,1070,10550,5933,2955,3105,2383,248,1783,6900,743,453,16190,7080,3833,1780,2895,1430,1683,815,940,1340,3340,1810,6507,9047,2967,4505,1602,4675,623,2758,4503,2698,4080,2665,9420,14078,4820,6223,2543,15445,3400,15790,6805,1180,1015,0,7813,11770,7023,1260,10740,6123,3145,3295,2573,438,1973,7090,933,643,16380,7270,4023,1970,3085,1620,1873,1005,1130,1530,3530,2000,6697,9237,3157,4695,1792,4675,623,2758,4503,2698,4080,2665,9420,14078,4820,6223,2543,15445,3400,15790,6805,1180,1015,305,7813,11770,7023,1260,10740,6123,3145,3295,2573,438,1973,7090,933,643,16380,7270,4023,1970,3085,1620,1873,1005,1130,1530,3530,2000,6697,9237,3157,4695,1792,5385,1333,3468,5213,3408,4790,3375,10130,14788,5530,6933,3253,16155,4110,16500,7515,1890,1725,1015,8523,12480,7733,1970,11450,6833,3855,4005,3283,1148,2683,7800,1643,1353,17090,7980,4733,2680,3795,2330,2583,1715,1840,2240,4240,2710,7407,9947,3867,5405,2502,3965,0,2048,3793,1988,3370,1955,8710,13368,4110,5513,1833,14735,2690,15080,6095,470,305,0,7103,11060,6313,550,10030,5413,2435,2585,1863,0,1263,6380,223,0,15670,6560,3313,1260,2375,910,1163,295,420,820,2820,1290,5987,8527,2447,3985,1082,4675,623,2758,4503,2698,4080,2665,9420,14078,4820,6223,2543,15445,3400,15790,6805,1180,1015,305,7813,11770,7023,1260,10740,6123,3145,3295,2573,438,1973,7090,933,643,16380,7270,4023,1970,3085,1620,1873,1005,1130,1530,3530,2000,6697,9237,3157,4695,1792,4675,623,2758,4503,2698,4080,2665,9420,14078,4820,6223,2543,15445,3400,15790,6805,1180,1015,305,7813,11770,7023,1260,10740,6123,3145,3295,2573,438,1973,7090,933,643,16380,7270,4023,1970,3085,1620,1873,1005,1130,1530,3530,2000,6697,9237,3157,4695,1792],\"yaxis\":\"y\",\"type\":\"histogram\"}],                        {\"template\":{\"data\":{\"bar\":[{\"error_x\":{\"color\":\"#2a3f5f\"},\"error_y\":{\"color\":\"#2a3f5f\"},\"marker\":{\"line\":{\"color\":\"#E5ECF6\",\"width\":0.5},\"pattern\":{\"fillmode\":\"overlay\",\"size\":10,\"solidity\":0.2}},\"type\":\"bar\"}],\"barpolar\":[{\"marker\":{\"line\":{\"color\":\"#E5ECF6\",\"width\":0.5},\"pattern\":{\"fillmode\":\"overlay\",\"size\":10,\"solidity\":0.2}},\"type\":\"barpolar\"}],\"carpet\":[{\"aaxis\":{\"endlinecolor\":\"#2a3f5f\",\"gridcolor\":\"white\",\"linecolor\":\"white\",\"minorgridcolor\":\"white\",\"startlinecolor\":\"#2a3f5f\"},\"baxis\":{\"endlinecolor\":\"#2a3f5f\",\"gridcolor\":\"white\",\"linecolor\":\"white\",\"minorgridcolor\":\"white\",\"startlinecolor\":\"#2a3f5f\"},\"type\":\"carpet\"}],\"choropleth\":[{\"colorbar\":{\"outlinewidth\":0,\"ticks\":\"\"},\"type\":\"choropleth\"}],\"contour\":[{\"colorbar\":{\"outlinewidth\":0,\"ticks\":\"\"},\"colorscale\":[[0.0,\"#0d0887\"],[0.1111111111111111,\"#46039f\"],[0.2222222222222222,\"#7201a8\"],[0.3333333333333333,\"#9c179e\"],[0.4444444444444444,\"#bd3786\"],[0.5555555555555556,\"#d8576b\"],[0.6666666666666666,\"#ed7953\"],[0.7777777777777778,\"#fb9f3a\"],[0.8888888888888888,\"#fdca26\"],[1.0,\"#f0f921\"]],\"type\":\"contour\"}],\"contourcarpet\":[{\"colorbar\":{\"outlinewidth\":0,\"ticks\":\"\"},\"type\":\"contourcarpet\"}],\"heatmap\":[{\"colorbar\":{\"outlinewidth\":0,\"ticks\":\"\"},\"colorscale\":[[0.0,\"#0d0887\"],[0.1111111111111111,\"#46039f\"],[0.2222222222222222,\"#7201a8\"],[0.3333333333333333,\"#9c179e\"],[0.4444444444444444,\"#bd3786\"],[0.5555555555555556,\"#d8576b\"],[0.6666666666666666,\"#ed7953\"],[0.7777777777777778,\"#fb9f3a\"],[0.8888888888888888,\"#fdca26\"],[1.0,\"#f0f921\"]],\"type\":\"heatmap\"}],\"heatmapgl\":[{\"colorbar\":{\"outlinewidth\":0,\"ticks\":\"\"},\"colorscale\":[[0.0,\"#0d0887\"],[0.1111111111111111,\"#46039f\"],[0.2222222222222222,\"#7201a8\"],[0.3333333333333333,\"#9c179e\"],[0.4444444444444444,\"#bd3786\"],[0.5555555555555556,\"#d8576b\"],[0.6666666666666666,\"#ed7953\"],[0.7777777777777778,\"#fb9f3a\"],[0.8888888888888888,\"#fdca26\"],[1.0,\"#f0f921\"]],\"type\":\"heatmapgl\"}],\"histogram\":[{\"marker\":{\"pattern\":{\"fillmode\":\"overlay\",\"size\":10,\"solidity\":0.2}},\"type\":\"histogram\"}],\"histogram2d\":[{\"colorbar\":{\"outlinewidth\":0,\"ticks\":\"\"},\"colorscale\":[[0.0,\"#0d0887\"],[0.1111111111111111,\"#46039f\"],[0.2222222222222222,\"#7201a8\"],[0.3333333333333333,\"#9c179e\"],[0.4444444444444444,\"#bd3786\"],[0.5555555555555556,\"#d8576b\"],[0.6666666666666666,\"#ed7953\"],[0.7777777777777778,\"#fb9f3a\"],[0.8888888888888888,\"#fdca26\"],[1.0,\"#f0f921\"]],\"type\":\"histogram2d\"}],\"histogram2dcontour\":[{\"colorbar\":{\"outlinewidth\":0,\"ticks\":\"\"},\"colorscale\":[[0.0,\"#0d0887\"],[0.1111111111111111,\"#46039f\"],[0.2222222222222222,\"#7201a8\"],[0.3333333333333333,\"#9c179e\"],[0.4444444444444444,\"#bd3786\"],[0.5555555555555556,\"#d8576b\"],[0.6666666666666666,\"#ed7953\"],[0.7777777777777778,\"#fb9f3a\"],[0.8888888888888888,\"#fdca26\"],[1.0,\"#f0f921\"]],\"type\":\"histogram2dcontour\"}],\"mesh3d\":[{\"colorbar\":{\"outlinewidth\":0,\"ticks\":\"\"},\"type\":\"mesh3d\"}],\"parcoords\":[{\"line\":{\"colorbar\":{\"outlinewidth\":0,\"ticks\":\"\"}},\"type\":\"parcoords\"}],\"pie\":[{\"automargin\":true,\"type\":\"pie\"}],\"scatter\":[{\"marker\":{\"colorbar\":{\"outlinewidth\":0,\"ticks\":\"\"}},\"type\":\"scatter\"}],\"scatter3d\":[{\"line\":{\"colorbar\":{\"outlinewidth\":0,\"ticks\":\"\"}},\"marker\":{\"colorbar\":{\"outlinewidth\":0,\"ticks\":\"\"}},\"type\":\"scatter3d\"}],\"scattercarpet\":[{\"marker\":{\"colorbar\":{\"outlinewidth\":0,\"ticks\":\"\"}},\"type\":\"scattercarpet\"}],\"scattergeo\":[{\"marker\":{\"colorbar\":{\"outlinewidth\":0,\"ticks\":\"\"}},\"type\":\"scattergeo\"}],\"scattergl\":[{\"marker\":{\"colorbar\":{\"outlinewidth\":0,\"ticks\":\"\"}},\"type\":\"scattergl\"}],\"scattermapbox\":[{\"marker\":{\"colorbar\":{\"outlinewidth\":0,\"ticks\":\"\"}},\"type\":\"scattermapbox\"}],\"scatterpolar\":[{\"marker\":{\"colorbar\":{\"outlinewidth\":0,\"ticks\":\"\"}},\"type\":\"scatterpolar\"}],\"scatterpolargl\":[{\"marker\":{\"colorbar\":{\"outlinewidth\":0,\"ticks\":\"\"}},\"type\":\"scatterpolargl\"}],\"scatterternary\":[{\"marker\":{\"colorbar\":{\"outlinewidth\":0,\"ticks\":\"\"}},\"type\":\"scatterternary\"}],\"surface\":[{\"colorbar\":{\"outlinewidth\":0,\"ticks\":\"\"},\"colorscale\":[[0.0,\"#0d0887\"],[0.1111111111111111,\"#46039f\"],[0.2222222222222222,\"#7201a8\"],[0.3333333333333333,\"#9c179e\"],[0.4444444444444444,\"#bd3786\"],[0.5555555555555556,\"#d8576b\"],[0.6666666666666666,\"#ed7953\"],[0.7777777777777778,\"#fb9f3a\"],[0.8888888888888888,\"#fdca26\"],[1.0,\"#f0f921\"]],\"type\":\"surface\"}],\"table\":[{\"cells\":{\"fill\":{\"color\":\"#EBF0F8\"},\"line\":{\"color\":\"white\"}},\"header\":{\"fill\":{\"color\":\"#C8D4E3\"},\"line\":{\"color\":\"white\"}},\"type\":\"table\"}]},\"layout\":{\"annotationdefaults\":{\"arrowcolor\":\"#2a3f5f\",\"arrowhead\":0,\"arrowwidth\":1},\"autotypenumbers\":\"strict\",\"coloraxis\":{\"colorbar\":{\"outlinewidth\":0,\"ticks\":\"\"}},\"colorscale\":{\"diverging\":[[0,\"#8e0152\"],[0.1,\"#c51b7d\"],[0.2,\"#de77ae\"],[0.3,\"#f1b6da\"],[0.4,\"#fde0ef\"],[0.5,\"#f7f7f7\"],[0.6,\"#e6f5d0\"],[0.7,\"#b8e186\"],[0.8,\"#7fbc41\"],[0.9,\"#4d9221\"],[1,\"#276419\"]],\"sequential\":[[0.0,\"#0d0887\"],[0.1111111111111111,\"#46039f\"],[0.2222222222222222,\"#7201a8\"],[0.3333333333333333,\"#9c179e\"],[0.4444444444444444,\"#bd3786\"],[0.5555555555555556,\"#d8576b\"],[0.6666666666666666,\"#ed7953\"],[0.7777777777777778,\"#fb9f3a\"],[0.8888888888888888,\"#fdca26\"],[1.0,\"#f0f921\"]],\"sequentialminus\":[[0.0,\"#0d0887\"],[0.1111111111111111,\"#46039f\"],[0.2222222222222222,\"#7201a8\"],[0.3333333333333333,\"#9c179e\"],[0.4444444444444444,\"#bd3786\"],[0.5555555555555556,\"#d8576b\"],[0.6666666666666666,\"#ed7953\"],[0.7777777777777778,\"#fb9f3a\"],[0.8888888888888888,\"#fdca26\"],[1.0,\"#f0f921\"]]},\"colorway\":[\"#636efa\",\"#EF553B\",\"#00cc96\",\"#ab63fa\",\"#FFA15A\",\"#19d3f3\",\"#FF6692\",\"#B6E880\",\"#FF97FF\",\"#FECB52\"],\"font\":{\"color\":\"#2a3f5f\"},\"geo\":{\"bgcolor\":\"white\",\"lakecolor\":\"white\",\"landcolor\":\"#E5ECF6\",\"showlakes\":true,\"showland\":true,\"subunitcolor\":\"white\"},\"hoverlabel\":{\"align\":\"left\"},\"hovermode\":\"closest\",\"mapbox\":{\"style\":\"light\"},\"paper_bgcolor\":\"white\",\"plot_bgcolor\":\"#E5ECF6\",\"polar\":{\"angularaxis\":{\"gridcolor\":\"white\",\"linecolor\":\"white\",\"ticks\":\"\"},\"bgcolor\":\"#E5ECF6\",\"radialaxis\":{\"gridcolor\":\"white\",\"linecolor\":\"white\",\"ticks\":\"\"}},\"scene\":{\"xaxis\":{\"backgroundcolor\":\"#E5ECF6\",\"gridcolor\":\"white\",\"gridwidth\":2,\"linecolor\":\"white\",\"showbackground\":true,\"ticks\":\"\",\"zerolinecolor\":\"white\"},\"yaxis\":{\"backgroundcolor\":\"#E5ECF6\",\"gridcolor\":\"white\",\"gridwidth\":2,\"linecolor\":\"white\",\"showbackground\":true,\"ticks\":\"\",\"zerolinecolor\":\"white\"},\"zaxis\":{\"backgroundcolor\":\"#E5ECF6\",\"gridcolor\":\"white\",\"gridwidth\":2,\"linecolor\":\"white\",\"showbackground\":true,\"ticks\":\"\",\"zerolinecolor\":\"white\"}},\"shapedefaults\":{\"line\":{\"color\":\"#2a3f5f\"}},\"ternary\":{\"aaxis\":{\"gridcolor\":\"white\",\"linecolor\":\"white\",\"ticks\":\"\"},\"baxis\":{\"gridcolor\":\"white\",\"linecolor\":\"white\",\"ticks\":\"\"},\"bgcolor\":\"#E5ECF6\",\"caxis\":{\"gridcolor\":\"white\",\"linecolor\":\"white\",\"ticks\":\"\"}},\"title\":{\"x\":0.05},\"xaxis\":{\"automargin\":true,\"gridcolor\":\"white\",\"linecolor\":\"white\",\"ticks\":\"\",\"title\":{\"standoff\":15},\"zerolinecolor\":\"white\",\"zerolinewidth\":2},\"yaxis\":{\"automargin\":true,\"gridcolor\":\"white\",\"linecolor\":\"white\",\"ticks\":\"\",\"title\":{\"standoff\":15},\"zerolinecolor\":\"white\",\"zerolinewidth\":2}}},\"xaxis\":{\"anchor\":\"y\",\"domain\":[0.0,1.0],\"title\":{\"text\":\"Customer Value\"}},\"yaxis\":{\"anchor\":\"x\",\"domain\":[0.0,1.0],\"title\":{\"text\":\"avg of Seconds of Use\"}},\"legend\":{\"tracegroupgap\":0},\"margin\":{\"t\":60},\"barmode\":\"relative\",\"title\":{\"text\":\"Average\"},\"height\":500,\"width\":1200},                        {\"responsive\": true}                    ).then(function(){\n",
              "                            \n",
              "var gd = document.getElementById('7be74dde-f8bb-437a-b98a-275ca367aa44');\n",
              "var x = new MutationObserver(function (mutations, observer) {{\n",
              "        var display = window.getComputedStyle(gd).display;\n",
              "        if (!display || display === 'none') {{\n",
              "            console.log([gd, 'removed!']);\n",
              "            Plotly.purge(gd);\n",
              "            observer.disconnect();\n",
              "        }}\n",
              "}});\n",
              "\n",
              "// Listen for the removal of the full notebook cells\n",
              "var notebookContainer = gd.closest('#notebook-container');\n",
              "if (notebookContainer) {{\n",
              "    x.observe(notebookContainer, {childList: true});\n",
              "}}\n",
              "\n",
              "// Listen for the clearing of the current output cell\n",
              "var outputEl = gd.closest('.output');\n",
              "if (outputEl) {{\n",
              "    x.observe(outputEl, {childList: true});\n",
              "}}\n",
              "\n",
              "                        })                };                            </script>        </div>\n",
              "</body>\n",
              "</html>"
            ]
          },
          "metadata": {},
          "output_type": "display_data"
        }
      ],
      "source": [
        "fig = px.histogram(data, x=\"Customer Value\", y=\"Seconds of Use\", histfunc='avg',nbins= 300)\n",
        "fig.update_layout(height=500, width=1200,  title_text=\"Average\")\n",
        "fig.show(renderer = 'colab')"
      ]
    },
    {
      "cell_type": "code",
      "execution_count": null,
      "metadata": {
        "colab": {
          "base_uri": "https://localhost:8080/",
          "height": 517
        },
        "id": "gLIgLCAp00_j",
        "outputId": "1e8686dd-3dca-4f42-ebed-22e65c2e71f6"
      },
      "outputs": [
        {
          "data": {
            "text/html": [
              "<html>\n",
              "<head><meta charset=\"utf-8\" /></head>\n",
              "<body>\n",
              "    <div>            <script src=\"https://cdnjs.cloudflare.com/ajax/libs/mathjax/2.7.5/MathJax.js?config=TeX-AMS-MML_SVG\"></script><script type=\"text/javascript\">if (window.MathJax) {MathJax.Hub.Config({SVG: {font: \"STIX-Web\"}});}</script>                <script type=\"text/javascript\">window.PlotlyConfig = {MathJaxConfig: 'local'};</script>\n",
              "        <script src=\"https://cdn.plot.ly/plotly-2.8.3.min.js\"></script>                <div id=\"0d1d579e-78dc-4bc9-a3e0-e5155f005967\" class=\"plotly-graph-div\" style=\"height:500px; width:1200px;\"></div>            <script type=\"text/javascript\">                                    window.PLOTLYENV=window.PLOTLYENV || {};                                    if (document.getElementById(\"0d1d579e-78dc-4bc9-a3e0-e5155f005967\")) {                    Plotly.newPlot(                        \"0d1d579e-78dc-4bc9-a3e0-e5155f005967\",                        [{\"alignmentgroup\":\"True\",\"bingroup\":\"x\",\"histfunc\":\"avg\",\"hovertemplate\":\"Subscription  Length=%{x}<br>avg of Frequency of use=%{y}<extra></extra>\",\"legendgroup\":\"\",\"marker\":{\"color\":\"#636efa\",\"pattern\":{\"shape\":\"\"}},\"name\":\"\",\"nbinsx\":500,\"offsetgroup\":\"\",\"orientation\":\"v\",\"showlegend\":false,\"x\":[38,39,37,38,38,38,38,37,38,38,38,38,38,38,37,37,37,38,37,37,37,37,33,36,36,34,35,36,36,36,33,36,36,31,34,36,35,36,27,26,27,26,25,25,18,17,15,16,9,9,40,41,39,40,40,40,40,39,40,40,40,40,40,40,39,39,39,40,39,39,39,39,35,38,38,36,37,38,38,38,35,38,38,33,36,38,37,38,29,28,29,28,27,27,20,19,17,18,11,11,36,37,35,36,36,36,36,35,36,36,36,36,36,36,35,35,35,36,35,35,35,35,31,34,34,32,33,34,34,34,31,34,34,29,32,34,33,34,25,24,25,24,23,23,16,15,13,14,7,7,42,43,41,42,42,42,42,41,42,42,42,42,42,42,41,41,41,42,41,41,41,41,37,40,40,38,39,40,40,40,37,40,40,35,38,40,39,40,31,30,31,30,29,29,22,21,19,20,13,13,34,35,33,34,34,34,34,33,34,34,34,34,34,34,33,33,33,34,33,33,33,33,29,32,32,30,31,32,32,32,29,32,32,27,30,32,31,32,23,22,23,22,21,21,14,13,11,12,5,5,44,45,43,44,44,44,44,43,44,44,44,44,44,44,43,43,43,44,43,43,43,43,39,42,42,40,41,42,42,42,39,42,42,37,40,42,41,42,33,32,33,32,31,31,24,23,21,22,15,15,32,33,31,32,32,32,32,31,32,32,32,32,32,32,31,31,31,32,31,31,31,31,27,30,30,28,29,30,30,30,27,30,30,25,28,30,29,30,21,20,21,20,19,19,12,11,9,10,3,3,41,42,40,41,41,41,41,40,41,41,41,41,41,41,40,40,40,41,40,40,40,40,36,39,39,37,38,39,39,39,36,39,39,34,37,39,38,39,30,29,30,29,28,28,21,20,18,19,12,12,35,36,34,35,35,35,35,34,35,35,35,35,35,35,34,34,34,35,34,34,34,34,30,33,33,31,32,33,33,33,30,33,33,28,31,33,32,33,24,23,24,23,22,22,15,14,12,13,6,6,38,39,37,38,38,38,38,37,38,38,38,38,38,38,37,37,37,38,37,37,37,37,33,36,36,34,35,36,36,36,33,36,36,31,34,36,35,36,27,26,27,26,25,25,18,17,15,16,9,9,38,39,37,38,38,38,38,37,38,38,38,38,38,38,37,37,37,38,37,37,37,37,33,36,36,34,35,36,36,36,33,36,36,31,34,36,35,36,27,26,27,26,25,25,18,17,15,16,9,9,39,40,38,39,39,39,39,38,39,39,39,39,39,39,38,38,38,39,38,38,38,38,34,37,37,35,36,37,37,37,34,37,37,32,35,37,36,37,28,27,28,27,26,26,19,18,16,17,10,10,37,38,36,37,37,37,37,36,37,37,37,37,37,37,36,36,36,37,36,36,36,36,32,35,35,33,34,35,35,35,32,35,35,30,33,35,34,35,26,25,26,25,24,24,17,16,14,15,8,8,38,39,37,38,38,38,38,37,38,38,38,38,38,38,37,37,37,38,37,37,37,37,33,36,36,34,35,36,36,36,33,36,36,31,34,36,35,36,27,26,27,26,25,25,18,17,15,16,9,9,38,39,37,38,38,38,38,37,38,38,38,38,38,38,37,37,37,38,37,37,37,37,33,36,36,34,35,36,36,36,33,36,36,31,34,36,35,36,27,26,27,26,25,25,18,17,15,16,9,9,33,34,32,33,33,33,33,32,33,33,33,33,33,33,32,32,32,33,32,32,32,32,28,31,31,29,30,31,31,31,28,31,31,26,29,31,30,31,22,21,22,21,20,20,13,12,10,11,4,4,43,44,42,43,43,43,43,42,43,43,43,43,43,43,42,42,42,43,42,42,42,42,38,41,41,39,40,41,41,41,38,41,41,36,39,41,40,41,32,31,32,31,30,30,23,22,20,21,14,14,39,40,38,39,39,39,39,38,39,39,39,39,39,39,38,38,38,39,38,38,38,38,34,37,37,35,36,37,37,37,34,37,37,32,35,37,36,37,28,27,28,27,26,26,19,18,16,17,10,10,37,38,36,37,37,37,37,36,37,37,37,37,37,37,36,36,36,37,36,36,36,36,32,35,35,33,34,35,35,35,32,35,35,30,33,35,34,35,26,25,26,25,24,24,17,16,14,15,8,8,38,39,37,38,38,38,38,37,38,38,38,38,38,38,37,37,37,38,37,37,37,37,33,36,36,34,35,36,36,36,33,36,36,31,34,36,35,36,27,26,27,26,25,25,18,17,15,16,9,9,38,39,37,38,38,38,38,37,38,38,38,38,38,38,37,37,37,38,37,37,37,37,33,36,36,34,35,36,36,36,33,36,36,31,34,36,35,36,27,26,27,26,25,25,18,17,15,16,9,9,36,37,35,36,36,36,36,35,36,36,36,36,36,36,35,35,35,36,35,35,35,35,31,34,34,32,33,34,34,34,31,34,34,29,32,34,33,34,25,24,25,24,23,23,16,15,13,14,7,7,38,39,37,38,38,38,38,37,38,38,38,38,38,38,37,37,37,38,37,37,37,37,33,36,36,34,35,36,36,36,33,36,36,31,34,36,35,36,27,26,27,26,25,25,18,17,15,16,9,9,34,35,33,34,34,34,34,33,34,34,34,34,34,34,33,33,33,34,33,33,33,33,29,32,32,30,31,32,32,32,29,32,32,27,30,32,31,32,23,22,23,22,21,21,14,13,11,12,5,5,40,41,39,40,40,40,40,39,40,40,40,40,40,40,39,39,39,40,39,39,39,39,35,38,38,36,37,38,38,38,35,38,38,33,36,38,37,38,29,28,29,28,27,27,20,19,17,18,11,11,32,33,31,32,32,32,32,31,32,32,32,32,32,32,31,31,31,32,31,31,31,31,27,30,30,28,29,30,30,30,27,30,30,25,28,30,29,30,21,20,21,20,19,19,12,11,9,10,3,3,42,43,41,42,42,42,42,41,42,42,42,42,42,42,41,41,41,42,41,41,41,41,37,40,40,38,39,40,40,40,37,40,40,35,38,40,39,40,31,30,31,30,29,29,22,21,19,20,13,13,30,31,29,30,30,30,30,29,30,30,30,30,30,30,29,29,29,30,29,29,29,29,25,28,28,26,27,28,28,28,25,28,28,23,26,28,27,28,19,18,19,18,17,17,10,9,7,8,3,3,39,40,38,39,39,39,39,38,39,39,39,39,39,39,38,38,38,39,38,38,38,38,34,37,37,35,36,37,37,37,34,37,37,32,35,37,36,37,28,27,28,27,26,26,19,18,16,17,10,10,33,34,32,33,33,33,33,32,33,33,33,33,33,33,32,32,32,33,32,32,32,32,28,31,31,29,30,31,31,31,28,31,31,26,29,31,30,31,22,21,22,21,20,20,13,12,10,11,4,4,36,37,35,36,36,36,36,35,36,36,36,36,36,36,35,35,35,36,35,35,35,35,31,34,34,32,33,34,34,34,31,34,34,29,32,34,33,34,25,24,25,24,23,23,16,15,13,14,7,7,36,37,35,36,36,36,36,35,36,36,36,36,36,36,35,35,35,36,35,35,35,35,31,34,34,32,33,34,34,34,31,34,34,29,32,34,33,34,25,24,25,24,23,23,16,15,13,14,7,7,37,38,36,37,37,37,37,36,37,37,37,37,37,37,36,36,36,37,36,36,36,36,32,35,35,33,34,35,35,35,32,35,35,30,33,35,34,35,26,25,26,25,24,24,17,16,14,15,8,8,35,36,34,35,35,35,35,34,35,35,35,35,35,35,34,34,34,35,34,34,34,34,30,33,33,31,32,33,33,33,30,33,33,28,31,33,32,33,24,23,24,23,22,22,15,14,12,13,6,6,36,37,35,36,36,36,36,35,36,36,36,36,36,36,35,35,35,36,35,35,35,35,31,34,34,32,33,34,34,34,31,34,34,29,32,34,33,34,25,24,25,24,23,23,16,15,13,14,7,7,36,37,35,36,36,36,36,35,36,36,36,36,36,36,35,35,35,36,35,35,35,35,31,34,34,32,33,34,34,34,31,34,34,29,32,34,33,34,25,24,25,24,23,23,16,15,13,14,7,7,31,32,30,31,31,31,31,30,31,31,31,31,31,31,30,30,30,31,30,30,30,30,26,29,29,27,28,29,29,29,26,29,29,24,27,29,28,29,20,19,20,19,18,18,11,10,8,9,3,3,41,42,40,41,41,41,41,40,41,41,41,41,41,41,40,40,40,41,40,40,40,40,36,39,39,37,38,39,39,39,36,39,39,34,37,39,38,39,30,29,30,29,28,28,21,20,18,19,12,12,37,38,36,37,37,37,37,36,37,37,37,37,37,37,36,36,36,37,36,36,36,36,32,35,35,33,34,35,35,35,32,35,35,30,33,35,34,35,26,25,26,25,24,24,17,16,14,15,8,8,35,36,34,35,35,35,35,34,35,35,35,35,35,35,34,34,34,35,34,34,34,34,30,33,33,31,32,33,33,33,30,33,33,28,31,33,32,33,24,23,24,23,22,22,15,14,12,13,6,6,36,37,35,36,36,36,36,35,36,36,36,36,36,36,35,35,35,36,35,35,35,35,31,34,34,32,33,34,34,34,31,34,34,29,32,34,33,34,25,24,25,24,23,23,16,15,13,14,7,7,36,37,35,36,36,36,36,35,36,36,36,36,36,36,35,35,35,36,35,35,35,35,31,34,34,32,33,34,34,34,31,34,34,29,32,34,33,34,25,24,25,24,23,23,16,15,13,14,7,7,40,41,39,40,40,40,40,39,40,40,40,40,40,40,39,39,39,40,39,39,39,39,35,38,38,36,37,38,38,38,35,38,38,33,36,38,37,38,29,28,29,28,27,27,20,19,17,18,11,11,42,43,41,42,42,42,42,41,42,42,42,42,42,42,41,41,41,42,41,41,41,41,37,40,40,38,39,40,40,40,37,40,40,35,38,40,39,40,31,30,31,30,29,29,22,21,19,20,13,13,38,39,37,38,38,38,38,37,38,38,38,38,38,38,37,37,37,38,37,37,37,37,33,36,36,34,35,36,36,36,33,36,36,31,34,36,35,36,27,26,27,26,25,25,18,17,15,16,9,9,44,45,43,44,44,44,44,43,44,44,44,44,44,44,43,43,43,44,43,43,43,43,39,42,42,40,41,42,42,42,39,42,42,37,40,42,41,42,33,32,33,32,31,31,24,23,21,22,15,15,36,37,35,36,36,36,36,35,36,36,36,36,36,36,35,35,35,36,35,35,35,35,31,34,34,32,33,34,34,34,31,34,34,29,32,34,33,34,25,24,25,24,23,23,16,15,13,14,7,7,46,47,45,46,46,46,46,45,46,46,46,46,46,46,45,45,45,46,45,45,45,45,41,44,44,42,43,44,44,44,41,44,44,39,42,44,43,44,35,34,35,34,33,33,26,25,23,24,17,17,34,35,33,34,34,34,34,33,34,34,34,34,34,34,33,33,33,34,33,33,33,33,29,32,32,30,31,32,32,32,29,32,32,27,30,32,31,32,23,22,23,22,21,21,14,13,11,12,5,5,43,44,42,43,43,43,43,42,43,43,43,43,43,43,42,42,42,43,42,42,42,42,38,41,41,39,40,41,41,41,38,41,41,36,39,41,40,41,32,31,32,31,30,30,23,22,20,21,14,14,37,38,36,37,37,37,37,36,37,37,37,37,37,37,36,36,36,37,36,36,36,36,32,35,35,33,34,35,35,35,32,35,35,30,33,35,34,35,26,25,26,25,24,24,17,16,14,15,8,8,40,41,39,40,40,40,40,39,40,40,40,40,40,40,39,39,39,40,39,39,39,39,35,38,38,36,37,38,38,38,35,38,38,33,36,38,37,38,29,28,29,28,27,27,20,19,17,18,11,11,40,41,39,40,40,40,40,39,40,40,40,40,40,40,39,39,39,40,39,39,39,39,35,38,38,36,37,38,38,38,35,38,38,33,36,38,37,38,29,28,29,28,27,27,20,19,17,18,11,11,41,42,40,41,41,41,41,40,41,41,41,41,41,41,40,40,40,41,40,40,40,40,36,39,39,37,38,39,39,39,36,39,39,34,37,39,38,39,30,29,30,29,28,28,21,20,18,19,12,12,39,40,38,39,39,39,39,38,39,39,39,39,39,39,38,38,38,39,38,38,38,38,34,37,37,35,36,37,37,37,34,37,37,32,35,37,36,37,28,27,28,27,26,26,19,18,16,17,10,10,40,41,39,40,40,40,40,39,40,40,40,40,40,40,39,39,39,40,39,39,39,39,35,38,38,36,37,38,38,38,35,38,38,33,36,38,37,38,29,28,29,28,27,27,20,19,17,18,11,11,40,41,39,40,40,40,40,39,40,40,40,40,40,40,39,39,39,40,39,39,39,39,35,38,38,36,37,38,38,38,35,38,38,33,36,38,37,38,29,28,29,28,27,27,20,19,17,18,11,11,35,36,34,35,35,35,35,34,35,35,35,35,35,35,34,34,34,35,34,34,34,34,30,33,33,31,32,33,33,33,30,33,33,28,31,33,32,33,24,23,24,23,22,22,15,14,12,13,6,6,45,46,44,45,45,45,45,44,45,45,45,45,45,45,44,44,44,45,44,44,44,44,40,43,43,41,42,43,43,43,40,43,43,38,41,43,42,43,34,33,34,33,32,32,25,24,22,23,16,16,41,42,40,41,41,41,41,40,41,41,41,41,41,41,40,40,40,41,40,40,40,40,36,39,39,37,38,39,39,39,36,39,39,34,37,39,38,39,30,29,30,29,28,28,21,20,18,19,12,12,39,40,38,39,39,39,39,38,39,39,39,39,39,39,38,38,38,39,38,38,38,38,34,37,37,35,36,37,37,37,34,37,37,32,35,37,36,37,28,27,28,27,26,26,19,18,16,17,10,10,40,41,39,40,40,40,40,39,40,40,40,40,40,40,39,39,39,40,39,39,39,39,35,38,38,36,37,38,38,38,35,38,38,33,36,38,37,38,29,28,29,28,27,27,20,19,17,18,11,11,40,41,39,40,40,40,40,39,40,40,40,40,40,40,39,39,39,40,39,39,39,39,35,38,38,36,37,38,38,38,35,38,38,33,36,38,37,38,29,28,29,28,27,27,20,19,17,18,11,11],\"xaxis\":\"x\",\"y\":[71,5,60,66,58,82,39,121,169,83,95,54,225,27,182,86,14,14,0,127,154,75,47,93,98,22,41,44,2,25,97,7,4,238,116,82,44,53,36,39,25,10,32,61,26,141,171,45,40,19,74,8,63,69,61,85,42,124,172,86,98,57,228,30,185,89,17,17,3,130,157,78,50,96,101,25,44,47,5,28,100,10,7,241,119,85,47,56,39,42,28,13,35,64,29,144,174,48,43,22,68,2,57,63,55,79,36,118,166,80,92,51,222,24,179,83,11,11,0,124,151,72,44,90,95,19,38,41,0,22,94,4,0,235,113,79,41,50,33,36,22,7,29,58,23,138,168,42,37,16,73,7,62,68,60,84,41,123,171,85,97,56,227,29,184,88,16,16,2,129,156,77,49,95,100,24,43,46,4,27,99,9,6,240,118,84,46,55,38,41,27,12,34,63,28,143,173,47,42,21,69,0,58,64,56,80,37,119,167,81,93,52,223,25,180,84,12,12,0,125,152,73,45,91,96,20,39,42,0,23,95,0,0,236,114,80,42,51,34,37,23,0,30,59,24,139,169,43,38,17,81,15,70,76,68,92,49,131,179,93,105,64,235,37,192,96,24,24,10,137,164,85,57,103,108,32,51,54,12,35,107,17,14,248,126,92,54,63,46,49,35,20,42,71,36,151,181,55,50,29,61,0,50,56,48,72,29,111,159,73,85,44,215,17,172,76,4,4,0,117,144,65,37,83,88,12,31,34,0,0,87,0,0,228,106,72,34,43,26,29,15,0,22,51,16,131,161,35,30,9,79,13,68,74,66,90,47,129,177,91,103,62,233,35,190,94,22,22,8,135,162,83,55,101,106,30,49,52,10,33,105,15,12,246,124,90,52,61,44,47,33,18,40,69,34,149,179,53,48,27,63,0,52,58,50,74,31,113,161,75,87,46,217,19,174,78,6,6,0,119,146,67,39,85,90,14,33,36,0,17,89,0,0,230,108,74,36,45,28,31,17,0,24,53,18,133,163,37,32,11,81,15,70,76,68,92,49,131,179,93,105,64,235,37,192,96,24,24,10,137,164,85,57,103,108,32,51,54,12,35,107,17,14,248,126,92,54,63,46,49,35,20,42,71,36,151,181,55,50,29,61,0,50,56,48,72,29,111,159,73,85,44,215,17,172,76,4,4,0,117,144,65,37,83,88,12,31,34,0,15,87,0,0,228,106,72,34,43,26,29,15,0,22,51,16,131,161,35,30,9,77,11,66,72,64,88,45,127,175,89,101,60,231,33,188,92,20,20,6,133,160,81,53,99,104,28,47,50,8,31,103,13,10,244,122,88,50,59,42,45,31,16,38,67,32,147,177,51,46,25,65,0,54,60,52,76,33,115,163,77,89,48,219,21,176,80,8,8,0,121,148,69,41,87,92,16,35,38,0,19,91,1,0,232,110,76,38,47,30,33,19,4,26,55,20,135,165,39,34,13,72,6,61,67,59,83,40,122,170,84,96,55,226,28,183,87,15,15,1,128,155,76,48,94,99,23,42,45,3,26,98,8,5,239,117,83,45,54,37,40,26,11,33,62,27,142,172,46,41,20,70,4,59,65,57,81,38,120,168,82,94,53,224,26,181,85,13,13,0,126,153,74,46,92,97,21,40,43,0,24,96,6,0,237,115,81,43,52,35,38,24,9,31,60,25,140,170,44,39,18,65,4,54,60,52,76,33,115,163,77,89,48,219,21,176,80,8,8,0,121,148,69,41,87,92,16,35,38,0,19,91,1,5,232,110,76,38,47,30,33,19,4,26,55,20,135,165,39,34,13,77,11,66,72,64,88,45,127,175,89,101,60,231,33,188,92,20,20,0,133,160,81,53,99,104,28,47,50,8,31,103,13,10,244,122,88,50,59,42,45,31,16,38,67,32,147,177,51,46,25,82,16,71,77,69,93,50,132,180,94,106,65,236,38,193,97,25,25,11,138,165,86,58,104,109,33,52,55,13,36,108,18,15,249,127,93,55,64,47,50,36,21,43,72,37,152,182,56,51,30,60,0,49,55,47,71,28,110,158,72,84,43,214,16,171,75,3,0,0,116,143,64,36,82,87,11,30,33,0,14,86,0,0,227,105,71,33,42,25,28,0,0,21,50,15,130,160,34,29,8,71,5,60,66,58,82,39,121,169,83,95,54,225,27,182,86,14,14,0,127,154,75,47,93,98,22,41,44,2,25,97,7,4,238,116,82,44,53,36,39,25,10,32,61,26,141,171,45,40,19,71,5,60,66,58,82,39,121,169,83,95,54,225,27,182,86,14,14,0,127,154,75,47,93,98,22,41,44,2,25,97,7,4,238,116,82,44,53,36,39,25,10,32,61,26,141,171,45,40,19,65,0,54,60,52,76,33,115,163,77,89,48,219,21,176,80,8,8,0,121,148,69,41,87,92,16,35,38,0,19,91,1,0,232,110,76,38,47,30,33,19,4,26,55,20,135,165,39,34,13,68,2,57,63,55,79,36,118,166,80,92,51,222,24,179,83,11,11,0,124,151,72,44,90,95,19,38,41,0,22,94,4,1,235,113,79,41,50,33,36,22,7,29,58,23,138,168,42,37,16,62,0,51,57,49,73,30,112,160,74,86,45,216,18,173,77,5,5,0,118,145,66,38,84,89,13,32,35,0,16,88,1,0,229,107,73,35,44,27,30,16,0,23,52,17,132,162,36,31,10,67,1,56,62,54,78,35,117,165,79,91,50,221,23,178,82,10,10,0,123,150,71,43,89,94,18,37,40,0,21,93,3,0,234,112,78,40,49,32,35,21,6,28,57,22,137,167,41,36,15,63,0,52,58,50,74,31,113,161,75,87,46,217,19,174,78,6,6,0,119,146,67,39,85,90,14,33,36,0,17,89,0,0,230,108,74,36,45,28,31,17,0,24,53,18,133,163,37,32,11,75,9,64,70,62,86,43,125,173,87,99,58,229,31,186,90,18,18,0,131,158,79,51,97,102,26,45,48,6,29,101,11,8,242,120,86,48,57,40,43,29,14,36,65,30,145,175,49,44,23,55,0,44,50,42,66,23,105,153,67,79,38,209,11,166,70,0,0,0,111,138,59,31,77,82,6,25,28,0,0,81,0,0,222,100,66,28,37,20,23,0,0,16,45,10,125,155,29,24,0,73,7,62,68,60,84,41,123,171,85,97,56,227,29,184,88,16,16,0,129,156,77,49,95,100,24,43,46,4,27,99,9,6,240,118,84,46,55,38,41,27,12,34,63,28,143,173,47,42,21,57,0,46,52,44,68,25,107,155,69,81,40,211,13,168,72,0,0,0,113,140,61,33,79,84,8,27,30,0,0,83,0,0,224,102,68,30,39,22,25,11,0,18,47,12,127,157,31,26,5,75,9,64,70,62,86,43,125,173,87,99,58,229,31,186,90,18,18,4,131,158,79,51,97,102,26,45,48,6,29,101,11,8,242,120,86,48,57,40,43,29,14,36,65,30,145,175,49,44,23,55,0,44,50,42,66,23,105,153,67,79,38,209,11,166,70,0,0,0,111,138,59,2,77,82,6,25,28,0,0,81,0,0,222,100,66,28,37,20,23,0,0,0,45,0,125,155,29,24,0,71,5,60,66,58,82,39,121,169,83,95,54,225,27,182,86,14,14,0,127,154,75,47,93,98,22,41,44,0,25,97,7,4,238,116,82,44,53,36,39,25,10,32,61,26,141,171,45,40,19,59,0,48,54,46,70,27,109,157,71,83,42,213,15,170,74,2,2,0,115,142,63,35,81,86,10,29,32,0,13,85,0,0,226,104,70,32,41,24,27,13,0,20,49,14,129,159,33,28,7,66,0,55,61,53,77,34,116,164,78,90,49,220,22,177,81,9,9,0,122,149,70,42,88,93,17,36,39,0,20,92,2,0,233,111,77,39,48,31,34,20,5,27,56,21,136,166,40,35,14,64,0,53,59,51,75,32,114,162,76,88,47,218,20,175,79,7,7,0,120,147,68,40,86,91,15,34,37,0,18,90,0,0,231,109,75,37,46,29,32,18,0,25,54,19,134,164,38,33,12,59,0,48,54,46,70,27,109,157,71,83,42,213,15,170,74,2,2,0,115,142,63,35,81,86,10,29,32,0,13,85,0,0,226,104,70,32,41,24,27,13,4,20,49,14,129,159,33,28,7,71,5,60,66,58,82,39,121,169,83,95,54,225,27,182,86,14,14,0,127,154,75,47,93,98,22,41,44,0,25,97,7,4,238,116,82,44,53,36,39,25,10,32,61,26,141,171,45,40,19,76,10,65,71,63,87,44,126,174,88,100,59,230,32,187,91,19,19,0,132,159,80,52,98,103,27,46,49,7,30,102,12,9,243,121,87,49,58,41,44,30,15,37,66,31,146,176,50,45,24,54,0,43,49,41,65,22,104,152,66,78,37,208,10,165,69,0,0,0,110,137,58,0,76,81,5,24,27,0,8,80,0,0,221,99,65,27,36,19,22,0,0,15,44,9,124,154,28,23,2,65,0,54,60,52,76,33,115,163,77,89,48,219,21,176,80,8,8,0,121,148,69,41,87,92,16,35,38,0,19,91,1,0,232,110,76,38,47,30,33,19,4,26,55,20,135,165,39,34,13,65,0,54,60,52,76,33,115,163,77,89,48,219,21,176,80,8,8,0,121,148,69,41,87,92,16,35,38,0,19,91,1,0,232,110,76,38,47,30,33,19,4,26,55,20,135,165,39,34,13,77,11,66,72,64,88,45,127,175,89,101,60,231,33,188,92,20,20,6,133,160,81,53,99,104,28,47,50,8,31,103,13,10,244,122,88,50,59,42,45,31,16,38,67,32,147,177,51,46,25,80,14,69,75,67,91,48,130,178,92,104,63,234,36,191,95,23,23,9,136,163,84,56,102,107,31,50,53,11,34,106,16,13,247,125,91,53,62,45,48,34,19,41,70,35,150,180,54,49,28,74,8,63,69,61,85,42,124,172,86,98,57,228,30,185,89,17,17,6,130,157,78,50,96,101,25,44,47,6,28,100,10,6,241,119,85,47,56,39,42,28,13,35,64,29,144,174,48,43,22,79,13,68,74,66,90,47,129,177,91,103,62,233,35,190,94,22,22,8,135,162,83,55,101,106,30,49,52,10,33,105,15,12,246,124,90,52,61,44,47,33,18,40,69,34,149,179,53,48,27,75,6,64,70,62,86,43,125,173,87,99,58,229,31,186,90,18,18,6,131,158,79,51,97,102,26,45,48,6,29,101,6,6,242,120,86,48,57,40,43,29,6,36,65,30,145,175,49,44,23,87,21,76,82,74,98,55,137,185,99,111,70,241,43,198,102,30,30,16,143,170,91,63,109,114,38,57,60,18,41,113,23,20,254,132,98,60,69,52,55,41,26,48,77,42,157,187,61,56,35,67,6,56,62,54,78,35,117,165,79,91,50,221,23,178,82,10,10,6,123,150,71,43,89,94,18,37,40,6,6,93,6,6,234,112,78,40,49,32,35,21,6,28,57,22,137,167,41,36,15,85,19,74,80,72,96,53,135,183,97,109,68,239,41,196,100,28,28,14,141,168,89,61,107,112,36,55,58,16,39,111,21,18,252,130,96,58,67,50,53,39,24,46,75,40,155,185,59,54,33,69,6,58,64,56,80,37,119,167,81,93,52,223,25,180,84,12,12,6,125,152,73,45,91,96,20,39,42,6,23,95,6,6,236,114,80,42,51,34,37,23,6,30,59,24,139,169,43,38,17,87,21,76,82,74,98,55,137,185,99,111,70,241,43,198,102,30,30,16,143,170,91,63,109,114,38,57,60,18,41,113,23,20,254,132,98,60,69,52,55,41,26,48,77,42,157,187,61,56,35,67,6,56,62,54,78,35,117,165,79,91,50,221,23,178,82,10,10,6,123,150,71,43,89,94,18,37,40,6,21,93,6,6,234,112,78,40,49,32,35,21,6,28,57,22,137,167,41,36,15,83,17,72,78,70,94,51,133,181,95,107,66,237,39,194,98,26,26,12,139,166,87,59,105,110,34,53,56,14,37,109,19,16,250,128,94,56,65,48,51,37,22,44,73,38,153,183,57,52,31,71,6,60,66,58,82,39,121,169,83,95,54,225,27,182,86,14,14,6,127,154,75,47,93,98,22,41,44,6,25,97,7,6,238,116,82,44,53,36,39,25,10,32,61,26,141,171,45,40,19,78,12,67,73,65,89,46,128,176,90,102,61,232,34,189,93,21,21,7,134,161,82,54,100,105,29,48,51,9,32,104,14,11,245,123,89,51,60,43,46,32,17,39,68,33,148,178,52,47,26,76,10,65,71,63,87,44,126,174,88,100,59,230,32,187,91,19,19,0,132,159,80,52,98,103,27,46,49,7,30,102,12,9,243,121,87,49,58,41,44,30,15,37,66,31,146,176,50,45,24,71,5,60,66,58,82,39,121,169,83,95,54,225,27,182,86,14,14,0,127,154,75,47,93,98,22,41,44,2,25,97,7,4,238,116,82,44,53,36,39,25,10,32,61,26,141,171,45,40,19,83,17,72,78,70,94,51,133,181,95,107,66,237,39,194,98,26,26,12,139,166,87,59,105,110,34,53,56,14,37,109,19,16,250,128,94,56,65,48,51,37,22,44,73,38,153,183,57,52,31,88,22,77,83,75,99,56,138,186,100,112,71,242,44,199,103,31,31,17,144,171,92,64,110,115,39,58,61,19,42,114,24,21,255,133,99,61,70,53,56,42,27,49,78,43,158,188,62,57,36,66,0,55,61,53,77,34,116,164,78,90,49,220,22,177,81,9,9,0,122,149,70,42,88,93,17,36,39,0,20,92,2,0,233,111,77,39,48,31,34,20,5,27,56,21,136,166,40,35,14,77,11,66,72,64,88,45,127,175,89,101,60,231,33,188,92,20,20,6,133,160,81,53,99,104,28,47,50,8,31,103,13,10,244,122,88,50,59,42,45,31,16,38,67,32,147,177,51,46,25,77,11,66,72,64,88,45,127,175,89,101,60,231,33,188,92,20,20,6,133,160,81,53,99,104,28,47,50,8,31,103,13,10,244,122,88,50,59,42,45,31,16,38,67,32,147,177,51,46,25],\"yaxis\":\"y\",\"type\":\"histogram\"}],                        {\"template\":{\"data\":{\"bar\":[{\"error_x\":{\"color\":\"#2a3f5f\"},\"error_y\":{\"color\":\"#2a3f5f\"},\"marker\":{\"line\":{\"color\":\"#E5ECF6\",\"width\":0.5},\"pattern\":{\"fillmode\":\"overlay\",\"size\":10,\"solidity\":0.2}},\"type\":\"bar\"}],\"barpolar\":[{\"marker\":{\"line\":{\"color\":\"#E5ECF6\",\"width\":0.5},\"pattern\":{\"fillmode\":\"overlay\",\"size\":10,\"solidity\":0.2}},\"type\":\"barpolar\"}],\"carpet\":[{\"aaxis\":{\"endlinecolor\":\"#2a3f5f\",\"gridcolor\":\"white\",\"linecolor\":\"white\",\"minorgridcolor\":\"white\",\"startlinecolor\":\"#2a3f5f\"},\"baxis\":{\"endlinecolor\":\"#2a3f5f\",\"gridcolor\":\"white\",\"linecolor\":\"white\",\"minorgridcolor\":\"white\",\"startlinecolor\":\"#2a3f5f\"},\"type\":\"carpet\"}],\"choropleth\":[{\"colorbar\":{\"outlinewidth\":0,\"ticks\":\"\"},\"type\":\"choropleth\"}],\"contour\":[{\"colorbar\":{\"outlinewidth\":0,\"ticks\":\"\"},\"colorscale\":[[0.0,\"#0d0887\"],[0.1111111111111111,\"#46039f\"],[0.2222222222222222,\"#7201a8\"],[0.3333333333333333,\"#9c179e\"],[0.4444444444444444,\"#bd3786\"],[0.5555555555555556,\"#d8576b\"],[0.6666666666666666,\"#ed7953\"],[0.7777777777777778,\"#fb9f3a\"],[0.8888888888888888,\"#fdca26\"],[1.0,\"#f0f921\"]],\"type\":\"contour\"}],\"contourcarpet\":[{\"colorbar\":{\"outlinewidth\":0,\"ticks\":\"\"},\"type\":\"contourcarpet\"}],\"heatmap\":[{\"colorbar\":{\"outlinewidth\":0,\"ticks\":\"\"},\"colorscale\":[[0.0,\"#0d0887\"],[0.1111111111111111,\"#46039f\"],[0.2222222222222222,\"#7201a8\"],[0.3333333333333333,\"#9c179e\"],[0.4444444444444444,\"#bd3786\"],[0.5555555555555556,\"#d8576b\"],[0.6666666666666666,\"#ed7953\"],[0.7777777777777778,\"#fb9f3a\"],[0.8888888888888888,\"#fdca26\"],[1.0,\"#f0f921\"]],\"type\":\"heatmap\"}],\"heatmapgl\":[{\"colorbar\":{\"outlinewidth\":0,\"ticks\":\"\"},\"colorscale\":[[0.0,\"#0d0887\"],[0.1111111111111111,\"#46039f\"],[0.2222222222222222,\"#7201a8\"],[0.3333333333333333,\"#9c179e\"],[0.4444444444444444,\"#bd3786\"],[0.5555555555555556,\"#d8576b\"],[0.6666666666666666,\"#ed7953\"],[0.7777777777777778,\"#fb9f3a\"],[0.8888888888888888,\"#fdca26\"],[1.0,\"#f0f921\"]],\"type\":\"heatmapgl\"}],\"histogram\":[{\"marker\":{\"pattern\":{\"fillmode\":\"overlay\",\"size\":10,\"solidity\":0.2}},\"type\":\"histogram\"}],\"histogram2d\":[{\"colorbar\":{\"outlinewidth\":0,\"ticks\":\"\"},\"colorscale\":[[0.0,\"#0d0887\"],[0.1111111111111111,\"#46039f\"],[0.2222222222222222,\"#7201a8\"],[0.3333333333333333,\"#9c179e\"],[0.4444444444444444,\"#bd3786\"],[0.5555555555555556,\"#d8576b\"],[0.6666666666666666,\"#ed7953\"],[0.7777777777777778,\"#fb9f3a\"],[0.8888888888888888,\"#fdca26\"],[1.0,\"#f0f921\"]],\"type\":\"histogram2d\"}],\"histogram2dcontour\":[{\"colorbar\":{\"outlinewidth\":0,\"ticks\":\"\"},\"colorscale\":[[0.0,\"#0d0887\"],[0.1111111111111111,\"#46039f\"],[0.2222222222222222,\"#7201a8\"],[0.3333333333333333,\"#9c179e\"],[0.4444444444444444,\"#bd3786\"],[0.5555555555555556,\"#d8576b\"],[0.6666666666666666,\"#ed7953\"],[0.7777777777777778,\"#fb9f3a\"],[0.8888888888888888,\"#fdca26\"],[1.0,\"#f0f921\"]],\"type\":\"histogram2dcontour\"}],\"mesh3d\":[{\"colorbar\":{\"outlinewidth\":0,\"ticks\":\"\"},\"type\":\"mesh3d\"}],\"parcoords\":[{\"line\":{\"colorbar\":{\"outlinewidth\":0,\"ticks\":\"\"}},\"type\":\"parcoords\"}],\"pie\":[{\"automargin\":true,\"type\":\"pie\"}],\"scatter\":[{\"marker\":{\"colorbar\":{\"outlinewidth\":0,\"ticks\":\"\"}},\"type\":\"scatter\"}],\"scatter3d\":[{\"line\":{\"colorbar\":{\"outlinewidth\":0,\"ticks\":\"\"}},\"marker\":{\"colorbar\":{\"outlinewidth\":0,\"ticks\":\"\"}},\"type\":\"scatter3d\"}],\"scattercarpet\":[{\"marker\":{\"colorbar\":{\"outlinewidth\":0,\"ticks\":\"\"}},\"type\":\"scattercarpet\"}],\"scattergeo\":[{\"marker\":{\"colorbar\":{\"outlinewidth\":0,\"ticks\":\"\"}},\"type\":\"scattergeo\"}],\"scattergl\":[{\"marker\":{\"colorbar\":{\"outlinewidth\":0,\"ticks\":\"\"}},\"type\":\"scattergl\"}],\"scattermapbox\":[{\"marker\":{\"colorbar\":{\"outlinewidth\":0,\"ticks\":\"\"}},\"type\":\"scattermapbox\"}],\"scatterpolar\":[{\"marker\":{\"colorbar\":{\"outlinewidth\":0,\"ticks\":\"\"}},\"type\":\"scatterpolar\"}],\"scatterpolargl\":[{\"marker\":{\"colorbar\":{\"outlinewidth\":0,\"ticks\":\"\"}},\"type\":\"scatterpolargl\"}],\"scatterternary\":[{\"marker\":{\"colorbar\":{\"outlinewidth\":0,\"ticks\":\"\"}},\"type\":\"scatterternary\"}],\"surface\":[{\"colorbar\":{\"outlinewidth\":0,\"ticks\":\"\"},\"colorscale\":[[0.0,\"#0d0887\"],[0.1111111111111111,\"#46039f\"],[0.2222222222222222,\"#7201a8\"],[0.3333333333333333,\"#9c179e\"],[0.4444444444444444,\"#bd3786\"],[0.5555555555555556,\"#d8576b\"],[0.6666666666666666,\"#ed7953\"],[0.7777777777777778,\"#fb9f3a\"],[0.8888888888888888,\"#fdca26\"],[1.0,\"#f0f921\"]],\"type\":\"surface\"}],\"table\":[{\"cells\":{\"fill\":{\"color\":\"#EBF0F8\"},\"line\":{\"color\":\"white\"}},\"header\":{\"fill\":{\"color\":\"#C8D4E3\"},\"line\":{\"color\":\"white\"}},\"type\":\"table\"}]},\"layout\":{\"annotationdefaults\":{\"arrowcolor\":\"#2a3f5f\",\"arrowhead\":0,\"arrowwidth\":1},\"autotypenumbers\":\"strict\",\"coloraxis\":{\"colorbar\":{\"outlinewidth\":0,\"ticks\":\"\"}},\"colorscale\":{\"diverging\":[[0,\"#8e0152\"],[0.1,\"#c51b7d\"],[0.2,\"#de77ae\"],[0.3,\"#f1b6da\"],[0.4,\"#fde0ef\"],[0.5,\"#f7f7f7\"],[0.6,\"#e6f5d0\"],[0.7,\"#b8e186\"],[0.8,\"#7fbc41\"],[0.9,\"#4d9221\"],[1,\"#276419\"]],\"sequential\":[[0.0,\"#0d0887\"],[0.1111111111111111,\"#46039f\"],[0.2222222222222222,\"#7201a8\"],[0.3333333333333333,\"#9c179e\"],[0.4444444444444444,\"#bd3786\"],[0.5555555555555556,\"#d8576b\"],[0.6666666666666666,\"#ed7953\"],[0.7777777777777778,\"#fb9f3a\"],[0.8888888888888888,\"#fdca26\"],[1.0,\"#f0f921\"]],\"sequentialminus\":[[0.0,\"#0d0887\"],[0.1111111111111111,\"#46039f\"],[0.2222222222222222,\"#7201a8\"],[0.3333333333333333,\"#9c179e\"],[0.4444444444444444,\"#bd3786\"],[0.5555555555555556,\"#d8576b\"],[0.6666666666666666,\"#ed7953\"],[0.7777777777777778,\"#fb9f3a\"],[0.8888888888888888,\"#fdca26\"],[1.0,\"#f0f921\"]]},\"colorway\":[\"#636efa\",\"#EF553B\",\"#00cc96\",\"#ab63fa\",\"#FFA15A\",\"#19d3f3\",\"#FF6692\",\"#B6E880\",\"#FF97FF\",\"#FECB52\"],\"font\":{\"color\":\"#2a3f5f\"},\"geo\":{\"bgcolor\":\"white\",\"lakecolor\":\"white\",\"landcolor\":\"#E5ECF6\",\"showlakes\":true,\"showland\":true,\"subunitcolor\":\"white\"},\"hoverlabel\":{\"align\":\"left\"},\"hovermode\":\"closest\",\"mapbox\":{\"style\":\"light\"},\"paper_bgcolor\":\"white\",\"plot_bgcolor\":\"#E5ECF6\",\"polar\":{\"angularaxis\":{\"gridcolor\":\"white\",\"linecolor\":\"white\",\"ticks\":\"\"},\"bgcolor\":\"#E5ECF6\",\"radialaxis\":{\"gridcolor\":\"white\",\"linecolor\":\"white\",\"ticks\":\"\"}},\"scene\":{\"xaxis\":{\"backgroundcolor\":\"#E5ECF6\",\"gridcolor\":\"white\",\"gridwidth\":2,\"linecolor\":\"white\",\"showbackground\":true,\"ticks\":\"\",\"zerolinecolor\":\"white\"},\"yaxis\":{\"backgroundcolor\":\"#E5ECF6\",\"gridcolor\":\"white\",\"gridwidth\":2,\"linecolor\":\"white\",\"showbackground\":true,\"ticks\":\"\",\"zerolinecolor\":\"white\"},\"zaxis\":{\"backgroundcolor\":\"#E5ECF6\",\"gridcolor\":\"white\",\"gridwidth\":2,\"linecolor\":\"white\",\"showbackground\":true,\"ticks\":\"\",\"zerolinecolor\":\"white\"}},\"shapedefaults\":{\"line\":{\"color\":\"#2a3f5f\"}},\"ternary\":{\"aaxis\":{\"gridcolor\":\"white\",\"linecolor\":\"white\",\"ticks\":\"\"},\"baxis\":{\"gridcolor\":\"white\",\"linecolor\":\"white\",\"ticks\":\"\"},\"bgcolor\":\"#E5ECF6\",\"caxis\":{\"gridcolor\":\"white\",\"linecolor\":\"white\",\"ticks\":\"\"}},\"title\":{\"x\":0.05},\"xaxis\":{\"automargin\":true,\"gridcolor\":\"white\",\"linecolor\":\"white\",\"ticks\":\"\",\"title\":{\"standoff\":15},\"zerolinecolor\":\"white\",\"zerolinewidth\":2},\"yaxis\":{\"automargin\":true,\"gridcolor\":\"white\",\"linecolor\":\"white\",\"ticks\":\"\",\"title\":{\"standoff\":15},\"zerolinecolor\":\"white\",\"zerolinewidth\":2}}},\"xaxis\":{\"anchor\":\"y\",\"domain\":[0.0,1.0],\"title\":{\"text\":\"Subscription  Length\"}},\"yaxis\":{\"anchor\":\"x\",\"domain\":[0.0,1.0],\"title\":{\"text\":\"avg of Frequency of use\"}},\"legend\":{\"tracegroupgap\":0},\"margin\":{\"t\":60},\"barmode\":\"relative\",\"title\":{\"text\":\"Average\"},\"height\":500,\"width\":1200},                        {\"responsive\": true}                    ).then(function(){\n",
              "                            \n",
              "var gd = document.getElementById('0d1d579e-78dc-4bc9-a3e0-e5155f005967');\n",
              "var x = new MutationObserver(function (mutations, observer) {{\n",
              "        var display = window.getComputedStyle(gd).display;\n",
              "        if (!display || display === 'none') {{\n",
              "            console.log([gd, 'removed!']);\n",
              "            Plotly.purge(gd);\n",
              "            observer.disconnect();\n",
              "        }}\n",
              "}});\n",
              "\n",
              "// Listen for the removal of the full notebook cells\n",
              "var notebookContainer = gd.closest('#notebook-container');\n",
              "if (notebookContainer) {{\n",
              "    x.observe(notebookContainer, {childList: true});\n",
              "}}\n",
              "\n",
              "// Listen for the clearing of the current output cell\n",
              "var outputEl = gd.closest('.output');\n",
              "if (outputEl) {{\n",
              "    x.observe(outputEl, {childList: true});\n",
              "}}\n",
              "\n",
              "                        })                };                            </script>        </div>\n",
              "</body>\n",
              "</html>"
            ]
          },
          "metadata": {},
          "output_type": "display_data"
        }
      ],
      "source": [
        "fig = px.histogram(data, x=\"Subscription  Length\", y=\"Frequency of use\", histfunc='avg',nbins= 500)\n",
        "fig.update_layout(height=500, width=1200,  title_text=\"Average\")\n",
        "fig.show(renderer = 'colab')"
      ]
    },
    {
      "cell_type": "markdown",
      "metadata": {
        "id": "Rjk-Z1sNVbPi"
      },
      "source": [
        "The higher the subscription length the more time the users make use of the service. "
      ]
    },
    {
      "cell_type": "code",
      "execution_count": null,
      "metadata": {
        "colab": {
          "base_uri": "https://localhost:8080/",
          "height": 517
        },
        "id": "0Ov76BV13L5H",
        "outputId": "b6afb4ee-a805-4d9c-c98e-6fcccb3858f9"
      },
      "outputs": [
        {
          "data": {
            "text/html": [
              "<html>\n",
              "<head><meta charset=\"utf-8\" /></head>\n",
              "<body>\n",
              "    <div>            <script src=\"https://cdnjs.cloudflare.com/ajax/libs/mathjax/2.7.5/MathJax.js?config=TeX-AMS-MML_SVG\"></script><script type=\"text/javascript\">if (window.MathJax) {MathJax.Hub.Config({SVG: {font: \"STIX-Web\"}});}</script>                <script type=\"text/javascript\">window.PlotlyConfig = {MathJaxConfig: 'local'};</script>\n",
              "        <script src=\"https://cdn.plot.ly/plotly-2.8.3.min.js\"></script>                <div id=\"55856452-b41a-4417-a4d3-85e8e4373ae6\" class=\"plotly-graph-div\" style=\"height:500px; width:1200px;\"></div>            <script type=\"text/javascript\">                                    window.PLOTLYENV=window.PLOTLYENV || {};                                    if (document.getElementById(\"55856452-b41a-4417-a4d3-85e8e4373ae6\")) {                    Plotly.newPlot(                        \"55856452-b41a-4417-a4d3-85e8e4373ae6\",                        [{\"alignmentgroup\":\"True\",\"bingroup\":\"x\",\"histfunc\":\"avg\",\"hovertemplate\":\"Distinct Called Numbers=%{x}<br>avg of Call  Failure=%{y}<extra></extra>\",\"legendgroup\":\"\",\"marker\":{\"color\":\"#636efa\",\"pattern\":{\"shape\":\"\"}},\"name\":\"\",\"nbinsx\":200,\"offsetgroup\":\"\",\"orientation\":\"v\",\"showlegend\":false,\"x\":[17,4,24,35,33,28,18,43,44,25,12,17,32,8,30,26,11,8,0,43,47,37,17,42,24,14,16,31,2,6,22,4,2,80,33,28,20,23,11,68,7,3,13,23,14,42,40,19,10,7,19,6,26,37,35,30,20,45,46,27,14,19,34,10,32,28,13,10,2,45,49,39,19,44,26,16,18,33,4,8,24,6,4,82,35,30,22,25,13,70,9,5,15,25,16,44,42,21,12,9,15,2,22,33,31,26,16,41,42,23,10,15,30,6,28,24,9,6,0,41,45,35,15,40,22,12,14,29,0,4,20,2,0,78,31,26,18,21,9,66,5,1,11,21,12,40,38,17,8,5,21,8,28,39,37,32,22,47,48,29,16,21,36,12,34,30,15,12,4,47,51,41,21,46,28,18,20,35,6,10,26,8,6,84,37,32,24,27,15,72,11,7,17,27,18,46,44,23,14,11,13,0,20,31,29,24,14,39,40,21,8,13,28,4,26,22,7,4,0,39,43,33,13,38,20,10,12,27,0,2,18,0,0,76,29,24,16,19,7,64,3,0,9,19,10,38,36,15,6,3,23,10,30,41,39,34,24,49,50,31,18,23,38,14,36,32,17,14,6,49,53,43,23,48,30,20,22,37,8,12,28,10,8,86,39,34,26,29,17,74,13,9,19,29,20,48,46,25,16,13,11,0,18,29,27,22,12,37,38,19,6,11,26,2,24,20,5,2,0,37,41,31,11,36,18,8,10,25,0,0,16,0,0,74,27,22,14,17,5,62,1,0,7,17,8,36,34,13,4,1,22,9,29,40,38,33,23,48,49,30,17,22,37,13,35,31,16,13,5,48,52,42,22,47,29,19,21,36,7,11,27,9,7,85,38,33,25,28,16,73,12,8,18,28,19,47,45,24,15,12,12,0,19,30,28,23,13,38,39,20,7,12,27,3,25,21,6,3,0,38,42,32,12,37,19,9,11,26,0,1,17,0,0,75,28,23,15,18,6,63,2,0,8,18,9,37,35,14,5,2,32,19,39,50,48,43,33,58,59,40,27,32,47,23,45,41,26,23,15,58,62,52,32,57,39,29,31,46,17,21,37,19,17,95,48,43,35,38,26,83,22,18,28,38,29,57,55,34,25,22,2,0,9,20,18,13,3,28,29,10,15,2,17,7,15,11,1,1,0,28,32,22,2,27,9,4,1,16,0,3,7,0,0,65,18,13,5,8,1,53,3,0,2,8,6,27,25,4,23,3,21,8,28,39,37,32,22,47,48,29,16,21,36,12,34,30,15,12,4,47,51,41,21,46,28,18,20,35,6,10,26,8,6,84,37,32,24,27,15,72,11,7,17,27,18,46,44,23,14,11,13,0,20,31,29,24,14,39,40,21,8,13,28,4,26,22,7,4,0,39,43,33,13,38,20,10,12,27,0,2,18,3,0,76,29,24,16,19,7,64,3,1,9,19,10,38,36,15,6,3,20,7,27,38,36,31,21,46,47,28,15,20,35,11,33,29,14,11,3,46,50,40,20,45,27,17,19,34,5,9,25,7,5,83,36,31,23,26,14,71,10,6,16,26,17,45,43,22,13,10,14,1,21,32,30,25,15,40,41,22,9,14,29,5,27,23,8,5,0,40,44,34,14,39,21,11,13,28,0,3,19,1,0,77,30,25,17,20,8,65,4,1,10,20,11,39,37,16,7,4,16,3,23,34,32,27,17,42,43,24,11,16,31,7,29,25,10,7,0,42,46,36,16,41,23,13,15,30,0,5,21,3,1,79,32,27,19,22,10,67,6,2,12,22,13,41,39,18,9,6,18,5,25,36,34,29,19,44,45,26,13,18,33,9,31,27,12,9,0,44,48,38,18,43,25,15,17,32,3,7,23,5,3,81,34,29,21,24,12,69,8,4,14,24,15,43,41,20,11,8,17,4,24,35,33,28,18,43,44,25,12,17,32,8,30,26,11,8,2,43,47,37,17,42,24,14,16,31,2,6,22,4,2,80,33,28,20,23,11,68,7,3,13,23,14,42,40,19,10,7,17,0,24,35,33,28,18,43,44,25,12,17,32,8,30,26,11,0,0,43,47,37,17,42,24,14,16,31,0,6,22,0,0,80,33,28,20,23,11,68,0,0,13,23,14,42,40,19,10,7,17,4,24,35,33,28,18,43,44,25,12,17,32,8,30,26,11,8,0,43,47,37,17,42,24,14,16,31,2,6,22,4,2,80,33,28,20,23,11,68,7,3,13,23,14,42,40,19,10,7,17,4,24,35,33,28,18,43,44,25,12,17,32,8,30,26,11,8,0,43,47,37,17,42,24,14,16,31,2,6,22,4,2,80,33,28,20,23,11,68,7,3,13,23,14,42,40,19,10,7,15,0,22,33,31,26,16,41,42,23,10,15,30,6,28,24,9,6,0,41,45,35,15,40,22,12,14,29,0,4,20,2,0,78,31,26,18,21,9,66,5,1,11,21,12,40,38,17,8,5,17,4,24,35,33,28,18,43,44,25,12,17,32,8,30,26,11,8,0,43,47,37,17,42,24,14,16,31,0,6,22,4,2,80,33,28,20,23,11,68,7,3,13,23,14,42,40,19,10,7,13,0,20,31,29,24,14,39,40,21,8,13,28,4,26,22,7,4,0,39,43,33,13,38,20,10,12,27,0,2,18,1,0,76,29,24,16,19,7,64,3,0,9,19,10,38,36,15,6,3,19,6,26,37,35,30,20,45,46,27,14,19,34,10,32,28,13,10,0,45,49,39,19,44,26,16,18,33,0,8,24,6,0,82,35,30,22,25,13,70,9,5,15,25,16,44,42,21,12,9,11,0,18,29,27,22,12,37,38,19,6,11,26,2,24,20,5,2,0,37,41,31,11,36,18,8,10,25,0,5,16,0,0,74,27,22,14,17,5,62,1,0,7,17,8,36,34,13,4,1,21,8,28,39,37,32,22,47,48,29,16,21,36,12,34,30,15,12,0,47,51,41,21,46,28,18,20,35,6,10,26,8,6,84,37,32,24,27,15,72,11,7,17,27,18,46,44,23,14,11,9,0,16,27,25,20,10,35,36,17,4,9,24,7,22,18,0,0,0,35,39,29,9,34,16,6,8,23,0,0,14,0,0,72,25,20,12,15,3,60,0,0,5,15,6,34,32,11,2,0,20,7,27,38,36,31,21,46,47,28,15,20,35,11,33,29,14,11,0,46,50,40,20,45,27,17,19,34,5,9,25,7,5,83,36,31,23,26,14,71,10,6,16,26,17,45,43,22,13,10,10,0,17,28,26,21,11,36,37,18,5,10,25,1,23,19,0,0,0,36,40,30,10,35,17,7,9,24,0,0,15,0,0,73,26,21,13,16,4,61,3,0,6,16,7,35,33,12,3,4,30,17,37,48,46,41,31,56,57,38,25,30,45,21,43,39,24,21,13,56,60,50,30,55,37,27,29,44,15,19,35,17,15,93,46,41,33,36,24,81,20,16,26,36,27,55,53,32,23,20,10,0,7,18,16,11,1,26,27,8,13,4,15,5,13,9,0,0,0,26,30,20,1,25,7,2,9,14,0,0,5,0,0,63,16,11,3,6,8,51,0,0,0,6,0,25,23,2,21,0,19,6,26,37,35,30,20,45,46,27,14,19,34,10,32,28,13,10,0,45,49,39,19,44,26,16,18,33,0,8,24,6,4,82,35,30,22,25,13,70,9,5,15,25,16,44,42,21,12,9,11,0,18,29,27,22,12,37,38,19,6,11,26,2,24,20,5,2,0,37,41,31,11,36,18,8,10,25,0,3,16,0,0,74,27,22,14,17,5,62,1,0,7,17,8,36,34,13,4,1,18,0,25,36,34,29,19,44,45,26,13,18,33,9,31,27,12,9,0,44,48,38,18,43,25,15,17,32,0,7,23,5,0,81,34,29,21,24,12,69,8,4,14,24,15,43,41,20,11,8,12,0,19,30,28,23,13,38,39,20,7,12,27,3,25,21,6,3,0,38,42,32,12,37,19,9,11,26,0,1,17,0,0,75,28,23,15,18,6,63,2,0,8,18,9,37,35,14,5,2,14,0,21,32,30,25,15,40,41,22,9,14,29,5,27,23,8,5,0,40,44,34,14,39,21,11,13,28,0,3,19,0,0,77,30,25,17,20,8,65,4,2,10,20,11,39,37,16,7,4,16,3,23,34,32,27,17,42,43,24,11,16,31,7,29,25,10,7,0,42,46,36,16,41,23,13,15,30,0,5,21,3,1,79,32,27,19,22,10,67,6,2,12,22,13,41,39,18,9,6,15,2,22,33,31,26,16,41,42,23,10,15,30,6,28,24,9,6,0,41,45,35,15,40,22,12,14,29,1,4,20,2,1,78,31,26,18,21,9,66,5,1,11,21,12,40,38,17,8,5,15,0,22,33,31,26,16,41,42,23,10,15,30,6,28,24,0,0,0,41,45,35,0,40,22,12,14,29,0,4,20,0,0,78,31,26,18,21,9,66,0,0,11,21,12,40,38,17,8,5,15,0,22,33,31,26,16,41,42,23,10,15,30,6,28,24,9,6,0,41,45,35,15,40,22,12,14,29,0,4,20,2,0,78,31,26,18,21,9,66,5,1,11,21,12,40,38,17,8,5,15,0,22,33,31,26,16,41,42,23,10,15,30,6,28,24,9,6,0,41,45,35,15,40,22,12,14,29,0,4,20,2,0,78,31,26,18,21,9,66,5,1,11,21,12,40,38,17,8,5,19,6,26,37,35,30,20,45,46,27,14,19,34,10,32,28,13,10,2,45,49,39,19,44,26,16,18,33,4,8,24,6,4,82,35,30,22,25,13,70,9,5,15,25,16,44,42,21,12,9,21,8,28,39,37,32,22,47,48,29,16,21,36,12,34,30,15,12,4,47,51,41,21,46,28,18,20,35,6,10,26,8,6,84,37,32,24,27,15,72,11,7,17,27,18,46,44,23,14,11,17,4,24,35,33,28,18,43,44,25,12,17,32,8,30,26,11,8,2,43,47,37,17,42,24,14,16,31,2,6,22,4,2,80,33,28,20,23,11,68,7,3,13,23,14,42,40,19,10,7,23,10,30,41,39,34,24,49,50,31,18,23,38,14,36,32,17,14,6,49,53,43,23,48,30,20,22,37,8,12,28,10,8,86,39,34,26,29,17,74,13,9,19,29,20,48,46,25,16,13,15,2,22,33,31,26,16,41,42,23,10,15,30,6,28,24,9,6,2,41,45,35,15,40,22,12,14,29,2,4,20,2,2,78,31,26,18,21,9,66,5,2,11,21,12,40,38,17,8,5,25,12,32,43,41,36,26,51,52,33,20,25,40,16,38,34,19,16,8,51,55,45,25,50,32,22,24,39,10,14,30,12,10,88,41,36,28,31,19,76,15,11,21,31,22,50,48,27,18,15,13,2,20,31,29,24,14,39,40,21,8,13,28,4,26,22,7,4,2,39,43,33,13,38,20,10,12,27,2,2,18,2,2,76,29,24,16,19,7,64,3,2,9,19,10,38,36,15,6,3,24,11,31,42,40,35,25,50,51,32,19,24,39,15,37,33,18,15,7,50,54,44,24,49,31,21,23,38,9,13,29,11,9,87,40,35,27,30,18,75,14,10,20,30,21,49,47,26,17,14,14,2,21,32,30,25,15,40,41,22,9,14,29,5,27,23,8,5,2,40,44,34,14,39,21,11,13,28,2,3,19,2,2,77,30,25,17,20,8,65,4,2,10,20,11,39,37,16,7,4,34,21,41,52,50,45,35,60,61,42,29,34,49,25,47,43,28,25,17,60,64,54,34,59,41,31,33,48,19,23,39,21,19,97,50,45,37,40,28,85,24,20,30,40,31,59,57,36,27,24,4,2,11,22,20,15,5,30,31,12,17,4,19,9,17,13,2,2,2,30,34,24,4,29,11,6,3,18,2,2,9,2,2,67,20,15,7,10,2,55,2,2,2,10,2,29,27,6,25,2,23,10,30,41,39,34,24,49,50,31,18,23,38,14,36,32,17,14,6,49,53,43,23,48,30,20,22,37,8,12,28,10,8,86,39,34,26,29,17,74,13,9,19,29,20,48,46,25,16,13,15,2,22,33,31,26,16,41,42,23,10,15,30,6,28,24,9,6,2,41,45,35,15,40,22,12,14,29,2,4,20,2,2,78,31,26,18,21,9,66,5,2,11,21,12,40,38,17,8,5,22,9,29,40,38,33,23,48,49,30,17,22,37,13,35,31,16,13,5,48,52,42,22,47,29,19,21,36,7,11,27,9,7,85,38,33,25,28,16,73,12,8,18,28,19,47,45,24,15,12,16,3,23,34,32,27,17,42,43,24,11,16,31,7,29,25,10,7,0,42,46,36,16,41,23,13,15,30,1,5,21,3,1,79,32,27,19,22,10,67,6,2,12,22,13,41,39,18,9,6,18,5,25,36,34,29,19,44,45,26,13,18,33,9,31,27,12,9,0,44,48,38,18,43,25,15,17,32,3,7,23,5,3,81,34,29,21,24,12,69,8,4,14,24,15,43,41,20,11,8,20,7,27,38,36,31,21,46,47,28,15,20,35,11,33,29,14,11,3,46,50,40,20,45,27,17,19,34,5,9,25,7,5,83,36,31,23,26,14,71,10,6,16,26,17,45,43,22,13,10,19,6,26,37,35,30,20,45,46,27,14,19,34,10,32,28,13,10,2,45,49,39,19,44,26,16,18,33,4,8,24,6,4,82,35,30,22,25,13,70,9,5,15,25,16,44,42,21,12,9,19,0,26,37,35,30,20,45,46,27,14,19,34,10,32,28,13,10,0,45,49,39,19,44,26,16,18,33,0,8,24,6,0,82,35,30,22,25,13,70,9,5,15,25,16,44,42,21,12,9,19,6,26,37,35,30,20,45,46,27,14,19,34,10,32,28,13,10,2,45,49,39,19,44,26,16,18,33,4,8,24,6,4,82,35,30,22,25,13,70,9,5,15,25,16,44,42,21,12,9,19,6,26,37,35,30,20,45,46,27,14,19,34,10,32,28,13,10,2,45,49,39,19,44,26,16,18,33,4,8,24,6,4,82,35,30,22,25,13,70,9,5,15,25,16,44,42,21,12,9],\"xaxis\":\"x\",\"y\":[8,0,10,10,3,11,4,13,7,7,6,9,25,4,9,3,0,2,0,3,7,8,23,21,13,1,9,9,0,1,3,0,0,25,6,2,3,6,4,4,11,0,10,2,2,16,12,8,2,3,11,3,13,13,6,14,7,16,10,10,9,12,28,7,12,6,3,5,3,6,10,11,26,24,16,4,12,12,3,4,6,3,3,28,9,5,6,9,7,7,14,3,13,5,5,19,15,11,5,6,5,0,7,7,0,8,1,10,4,4,3,6,22,1,6,0,0,0,0,0,4,5,20,18,10,0,6,6,0,0,0,0,0,22,3,0,0,3,1,1,8,0,7,0,0,13,9,5,0,0,9,1,11,11,4,12,5,14,8,8,7,10,26,5,10,4,1,3,1,4,8,9,24,22,14,2,10,10,1,2,4,1,1,26,7,3,4,7,5,5,12,1,11,3,3,17,13,9,3,4,7,0,9,9,2,10,3,12,6,6,5,8,24,3,8,2,0,1,0,2,6,7,22,20,12,0,8,8,0,0,2,0,0,24,5,1,2,5,3,3,10,0,9,1,1,15,11,7,1,2,13,5,15,15,8,16,9,18,12,12,11,14,30,9,14,8,5,7,5,8,12,13,28,26,18,6,14,14,5,6,8,5,5,30,11,7,8,11,9,9,16,5,15,7,7,21,17,13,7,8,3,0,5,5,0,6,0,8,2,2,1,4,20,0,4,0,0,0,0,0,2,3,18,16,8,0,4,4,0,0,0,0,0,20,1,0,0,1,0,0,6,0,5,0,0,11,7,3,0,0,10,2,12,12,5,13,6,15,9,9,8,11,27,6,11,5,2,4,2,5,9,10,25,23,15,3,11,11,2,3,5,2,2,27,8,4,5,8,6,6,13,2,12,4,4,18,14,10,4,5,6,0,8,8,1,9,2,11,5,5,4,7,23,2,7,1,0,0,0,1,5,6,21,19,11,0,7,7,0,0,1,0,0,23,4,0,1,4,2,2,9,0,8,0,0,14,10,6,0,1,12,4,14,14,7,15,8,17,11,11,10,13,29,8,13,7,4,6,4,7,11,12,27,25,17,5,13,13,4,5,7,4,4,29,10,6,7,10,8,8,15,4,14,6,6,20,16,12,6,7,4,0,6,6,0,7,0,9,3,3,2,5,21,0,5,0,0,0,0,0,3,4,19,17,9,0,5,5,0,0,0,0,0,21,2,0,0,2,0,0,7,0,6,0,0,12,8,4,0,0,8,0,10,10,3,11,4,13,7,7,6,9,25,4,9,3,0,2,0,3,7,8,23,21,13,1,9,9,0,1,3,0,0,25,6,2,3,6,4,4,11,0,10,2,2,16,12,8,2,3,8,0,10,10,3,11,4,13,7,7,6,9,25,4,9,3,0,2,0,3,7,8,23,21,13,1,9,9,0,1,3,0,0,25,6,2,3,6,4,4,11,0,10,2,2,16,12,8,2,3,10,2,12,12,5,13,6,15,9,9,8,11,27,6,11,5,2,4,2,5,9,10,25,23,15,3,11,11,2,3,5,2,2,27,8,4,5,8,6,6,13,2,12,4,4,18,14,10,4,5,6,0,8,8,1,9,2,11,5,5,4,7,23,2,7,1,0,0,0,1,5,6,21,19,11,0,7,7,0,0,1,0,0,23,4,0,1,4,2,2,9,0,8,0,0,14,10,6,0,1,6,0,8,8,1,9,2,11,5,5,4,7,23,2,7,1,0,0,0,1,5,6,21,19,11,0,7,7,0,0,1,0,0,23,4,0,1,4,2,2,9,0,8,0,0,14,10,6,0,1,10,2,12,12,5,13,6,15,9,9,8,11,27,6,11,5,2,4,0,5,9,10,25,23,15,3,11,11,2,3,5,2,2,27,8,4,5,8,6,6,13,2,12,4,4,18,14,10,4,5,14,6,16,16,9,17,10,19,13,13,12,15,31,10,15,9,6,8,6,9,13,14,29,27,19,7,15,15,6,7,9,6,6,31,12,8,9,12,10,10,17,6,16,8,8,22,18,14,8,9,2,0,4,4,0,5,0,7,1,1,0,3,19,0,3,0,0,0,0,0,1,2,17,15,7,0,3,3,0,0,0,0,0,19,0,0,0,0,0,0,0,0,4,0,0,10,6,2,0,0,8,0,10,10,3,11,4,13,7,7,6,9,25,4,9,3,0,2,0,3,7,8,23,21,13,1,9,9,0,1,3,0,0,25,6,2,3,6,4,4,11,0,10,2,2,16,12,8,2,3,8,0,10,10,3,11,4,13,7,7,6,9,25,4,9,3,0,2,0,3,7,8,23,21,13,1,9,9,0,1,3,0,0,25,6,2,3,6,4,4,11,0,10,2,2,16,12,8,2,3,3,0,5,5,0,6,0,8,2,2,1,4,20,0,4,0,0,0,0,0,2,3,18,16,8,0,4,4,0,0,0,0,0,20,1,0,0,1,0,0,6,0,5,0,0,11,7,3,0,0,6,0,8,8,1,9,2,11,5,5,4,7,23,2,7,1,0,0,0,1,5,6,21,19,11,0,7,7,0,0,1,0,0,23,4,0,1,4,2,2,9,0,8,0,0,14,10,6,0,1,0,0,2,2,0,3,0,5,0,0,0,1,17,0,1,0,0,0,0,0,0,0,15,13,5,0,1,1,0,0,0,0,0,17,0,0,0,0,0,0,3,0,2,0,0,8,4,0,0,0,4,0,6,6,0,7,0,9,3,3,2,5,21,0,5,0,0,0,0,0,3,4,19,17,9,0,5,5,0,0,0,0,0,21,2,0,0,2,0,0,7,0,6,0,0,12,8,4,0,0,2,0,4,4,0,5,0,7,1,1,0,3,19,0,3,0,0,0,0,0,1,2,17,15,7,0,3,3,0,0,0,0,0,19,0,0,0,0,0,0,5,0,4,0,0,10,6,2,0,0,8,0,10,10,3,11,4,13,7,7,6,9,25,4,9,3,0,2,0,3,7,8,23,21,13,1,9,9,0,1,3,0,0,25,6,2,3,6,4,4,11,0,10,2,2,16,12,8,2,3,0,0,0,0,0,1,0,3,0,0,0,0,15,0,0,0,0,0,0,0,0,0,13,11,3,0,0,0,0,0,0,0,0,15,0,0,0,0,0,0,0,0,0,0,0,6,2,0,0,0,5,0,7,7,0,8,1,10,4,4,3,6,22,1,6,0,0,0,0,0,4,5,20,18,10,0,6,6,0,0,0,0,0,22,3,0,0,3,1,1,8,0,7,0,0,13,9,5,0,0,1,0,3,3,0,4,0,6,0,0,0,2,18,0,2,0,0,0,0,0,0,1,16,14,6,0,2,2,0,0,0,0,0,18,0,0,0,0,0,0,4,0,3,0,0,9,5,1,0,0,7,0,9,9,2,10,3,12,6,6,5,8,24,3,8,2,0,1,0,2,6,7,22,20,12,0,8,8,0,0,2,0,0,24,5,1,2,5,3,3,10,0,9,1,1,15,11,7,1,2,0,0,1,1,0,2,0,4,0,0,0,0,16,0,0,0,0,0,0,0,0,0,7,12,4,0,0,0,0,0,0,0,0,16,0,0,0,0,0,0,0,0,0,0,0,7,3,0,0,0,3,0,5,5,0,6,0,8,2,2,1,4,20,0,4,0,0,0,0,0,2,3,18,16,8,0,4,4,0,0,0,0,0,20,1,0,0,1,0,0,6,0,5,0,0,11,7,3,0,0,3,0,5,5,0,6,0,8,2,2,1,4,20,0,4,0,0,0,0,0,2,3,18,16,8,0,4,4,0,0,0,0,0,20,1,0,0,1,0,0,6,0,5,0,0,11,7,3,0,0,5,0,7,7,0,8,1,10,4,4,3,6,22,1,6,0,0,0,0,0,4,5,20,18,10,0,6,6,0,0,0,0,0,22,3,0,0,3,1,1,8,0,7,0,0,13,9,5,0,0,1,0,3,3,0,4,0,6,0,0,0,2,18,0,2,0,0,0,0,0,0,1,16,14,6,0,2,2,0,0,0,0,0,18,0,0,0,0,0,0,4,0,3,0,0,9,5,1,0,0,1,0,3,3,0,4,0,6,0,0,0,2,18,0,2,0,0,0,0,0,0,1,16,14,6,0,2,2,0,0,0,0,0,18,0,0,0,0,0,0,4,0,3,0,0,9,5,1,0,0,5,0,7,7,0,8,1,10,4,4,3,6,22,1,6,0,0,0,0,0,4,5,20,18,10,0,6,6,0,0,0,0,0,22,3,0,0,3,1,1,8,0,7,0,0,13,9,5,0,0,9,1,11,11,4,12,5,14,8,8,7,10,26,5,10,4,1,3,0,4,8,9,24,22,14,2,10,10,1,2,4,1,1,26,7,3,4,7,5,5,12,1,11,3,3,17,13,9,3,4,0,0,0,0,0,0,0,2,0,0,0,0,14,0,0,0,0,0,0,0,0,0,0,10,2,0,0,0,0,0,0,0,0,14,0,0,0,0,0,0,0,0,0,0,0,5,1,0,0,0,3,0,5,5,0,6,0,8,2,2,1,4,20,0,4,0,0,0,0,0,2,3,18,16,8,0,4,4,0,0,0,0,0,20,1,0,0,1,0,0,6,0,5,0,0,11,7,3,0,0,3,0,5,5,0,6,0,8,2,2,1,4,20,0,4,0,0,0,0,0,2,3,18,16,8,0,4,4,0,0,0,0,0,20,1,0,0,1,0,0,6,0,5,0,0,11,7,3,0,0,13,5,15,15,8,16,9,18,12,12,11,14,30,9,14,8,5,7,5,8,12,13,28,26,18,6,14,14,5,6,8,5,5,30,11,7,8,11,9,9,16,5,15,7,7,21,17,13,7,8,16,8,18,18,11,19,12,21,15,15,14,17,33,12,17,11,8,10,8,11,15,16,31,29,21,9,17,17,8,9,11,8,8,33,14,10,11,14,12,12,19,8,18,10,10,24,20,16,10,11,10,5,12,12,5,13,6,15,9,9,8,11,27,6,11,5,5,5,5,5,9,10,25,23,15,5,11,11,5,5,5,5,5,27,8,5,5,8,6,6,13,5,12,5,5,18,14,10,5,5,14,6,16,16,9,17,10,19,13,13,12,15,31,10,15,9,6,8,6,9,13,14,29,27,19,7,15,15,6,7,9,6,6,31,12,8,9,12,10,10,17,6,16,8,8,22,18,14,8,9,12,5,14,14,7,15,8,17,11,11,10,13,29,8,13,7,5,6,5,7,11,12,27,25,17,5,13,13,5,5,7,5,5,29,10,6,7,10,8,8,15,5,14,6,6,20,16,12,6,7,18,10,20,20,13,21,14,23,17,17,16,19,35,14,19,13,10,12,10,13,17,18,33,31,23,11,19,19,10,11,13,10,10,35,16,12,13,16,14,14,21,10,20,12,12,26,22,18,12,13,8,5,10,10,5,11,5,13,7,7,6,9,25,5,9,5,5,5,5,5,7,8,23,21,13,5,9,9,5,5,5,5,5,25,6,5,5,6,5,5,11,5,10,5,5,16,12,8,5,5,15,7,17,17,10,18,11,20,14,14,13,16,32,11,16,10,7,9,7,10,14,15,30,28,20,8,16,16,7,8,10,7,7,32,13,9,10,13,11,11,18,7,17,9,9,23,19,15,9,10,11,5,13,13,6,14,7,16,10,10,9,12,28,7,12,6,5,5,5,6,10,11,26,24,16,5,12,12,5,5,6,5,5,28,9,5,6,9,7,7,14,5,13,5,5,19,15,11,5,6,17,9,19,19,12,20,13,22,16,16,15,18,34,13,18,12,9,11,9,12,16,17,32,30,22,10,18,18,9,10,12,9,9,34,15,11,12,15,13,13,20,9,19,11,11,25,21,17,11,12,9,5,11,11,5,12,5,14,8,8,7,10,26,5,10,5,5,5,5,5,8,9,24,22,14,5,10,10,5,5,5,5,5,26,7,5,5,7,5,5,12,5,11,5,5,17,13,9,5,5,13,5,15,15,8,16,9,18,12,12,11,14,30,9,14,8,5,7,5,8,12,13,28,26,18,6,14,14,5,6,8,5,5,30,11,7,8,11,9,9,16,5,15,7,7,21,17,13,7,8,13,5,15,15,8,16,9,18,12,12,11,14,30,9,14,8,5,7,5,8,12,13,28,26,18,6,14,14,5,6,8,5,5,30,11,7,8,11,9,9,16,5,15,7,7,21,17,13,7,8,15,7,17,17,10,18,11,20,14,14,13,16,32,11,16,10,7,9,7,10,14,15,30,28,20,8,16,16,7,8,10,7,7,32,13,9,10,13,11,11,18,7,17,9,9,23,19,15,9,10,11,3,13,13,6,14,7,16,10,10,9,12,28,7,12,6,3,5,0,6,10,11,26,24,16,4,12,12,3,4,6,3,3,28,9,5,6,9,7,7,14,3,13,5,5,19,15,11,5,6,11,3,13,13,6,14,7,16,10,10,9,12,28,7,12,6,3,5,0,6,10,11,26,24,16,4,12,12,3,4,6,3,3,28,9,5,6,9,7,7,14,3,13,5,5,19,15,11,5,6,15,7,17,17,10,18,11,20,14,14,13,16,32,11,16,10,7,9,7,10,14,15,30,28,20,8,16,16,7,8,10,7,7,32,13,9,10,13,11,11,18,7,17,9,9,23,19,15,9,10,19,11,21,21,14,22,15,24,18,18,17,20,36,15,20,14,11,13,11,14,18,19,34,32,24,12,20,20,11,12,14,11,11,36,17,13,14,17,15,15,22,11,21,13,13,27,23,19,13,14,7,0,9,9,2,10,3,12,6,6,5,8,24,3,8,2,0,1,0,2,6,7,22,20,12,0,8,8,0,0,2,0,0,24,5,1,2,5,3,3,10,0,9,1,1,15,11,7,1,2,13,5,15,15,8,16,9,18,12,12,11,14,30,9,14,8,5,7,5,8,12,13,28,26,18,6,14,14,5,6,8,5,5,30,11,7,8,11,9,9,16,5,15,7,7,21,17,13,7,8,13,5,15,15,8,16,9,18,12,12,11,14,30,9,14,8,5,7,5,8,12,13,28,26,18,6,14,14,5,6,8,5,5,30,11,7,8,11,9,9,16,5,15,7,7,21,17,13,7,8],\"yaxis\":\"y\",\"type\":\"histogram\"}],                        {\"template\":{\"data\":{\"bar\":[{\"error_x\":{\"color\":\"#2a3f5f\"},\"error_y\":{\"color\":\"#2a3f5f\"},\"marker\":{\"line\":{\"color\":\"#E5ECF6\",\"width\":0.5},\"pattern\":{\"fillmode\":\"overlay\",\"size\":10,\"solidity\":0.2}},\"type\":\"bar\"}],\"barpolar\":[{\"marker\":{\"line\":{\"color\":\"#E5ECF6\",\"width\":0.5},\"pattern\":{\"fillmode\":\"overlay\",\"size\":10,\"solidity\":0.2}},\"type\":\"barpolar\"}],\"carpet\":[{\"aaxis\":{\"endlinecolor\":\"#2a3f5f\",\"gridcolor\":\"white\",\"linecolor\":\"white\",\"minorgridcolor\":\"white\",\"startlinecolor\":\"#2a3f5f\"},\"baxis\":{\"endlinecolor\":\"#2a3f5f\",\"gridcolor\":\"white\",\"linecolor\":\"white\",\"minorgridcolor\":\"white\",\"startlinecolor\":\"#2a3f5f\"},\"type\":\"carpet\"}],\"choropleth\":[{\"colorbar\":{\"outlinewidth\":0,\"ticks\":\"\"},\"type\":\"choropleth\"}],\"contour\":[{\"colorbar\":{\"outlinewidth\":0,\"ticks\":\"\"},\"colorscale\":[[0.0,\"#0d0887\"],[0.1111111111111111,\"#46039f\"],[0.2222222222222222,\"#7201a8\"],[0.3333333333333333,\"#9c179e\"],[0.4444444444444444,\"#bd3786\"],[0.5555555555555556,\"#d8576b\"],[0.6666666666666666,\"#ed7953\"],[0.7777777777777778,\"#fb9f3a\"],[0.8888888888888888,\"#fdca26\"],[1.0,\"#f0f921\"]],\"type\":\"contour\"}],\"contourcarpet\":[{\"colorbar\":{\"outlinewidth\":0,\"ticks\":\"\"},\"type\":\"contourcarpet\"}],\"heatmap\":[{\"colorbar\":{\"outlinewidth\":0,\"ticks\":\"\"},\"colorscale\":[[0.0,\"#0d0887\"],[0.1111111111111111,\"#46039f\"],[0.2222222222222222,\"#7201a8\"],[0.3333333333333333,\"#9c179e\"],[0.4444444444444444,\"#bd3786\"],[0.5555555555555556,\"#d8576b\"],[0.6666666666666666,\"#ed7953\"],[0.7777777777777778,\"#fb9f3a\"],[0.8888888888888888,\"#fdca26\"],[1.0,\"#f0f921\"]],\"type\":\"heatmap\"}],\"heatmapgl\":[{\"colorbar\":{\"outlinewidth\":0,\"ticks\":\"\"},\"colorscale\":[[0.0,\"#0d0887\"],[0.1111111111111111,\"#46039f\"],[0.2222222222222222,\"#7201a8\"],[0.3333333333333333,\"#9c179e\"],[0.4444444444444444,\"#bd3786\"],[0.5555555555555556,\"#d8576b\"],[0.6666666666666666,\"#ed7953\"],[0.7777777777777778,\"#fb9f3a\"],[0.8888888888888888,\"#fdca26\"],[1.0,\"#f0f921\"]],\"type\":\"heatmapgl\"}],\"histogram\":[{\"marker\":{\"pattern\":{\"fillmode\":\"overlay\",\"size\":10,\"solidity\":0.2}},\"type\":\"histogram\"}],\"histogram2d\":[{\"colorbar\":{\"outlinewidth\":0,\"ticks\":\"\"},\"colorscale\":[[0.0,\"#0d0887\"],[0.1111111111111111,\"#46039f\"],[0.2222222222222222,\"#7201a8\"],[0.3333333333333333,\"#9c179e\"],[0.4444444444444444,\"#bd3786\"],[0.5555555555555556,\"#d8576b\"],[0.6666666666666666,\"#ed7953\"],[0.7777777777777778,\"#fb9f3a\"],[0.8888888888888888,\"#fdca26\"],[1.0,\"#f0f921\"]],\"type\":\"histogram2d\"}],\"histogram2dcontour\":[{\"colorbar\":{\"outlinewidth\":0,\"ticks\":\"\"},\"colorscale\":[[0.0,\"#0d0887\"],[0.1111111111111111,\"#46039f\"],[0.2222222222222222,\"#7201a8\"],[0.3333333333333333,\"#9c179e\"],[0.4444444444444444,\"#bd3786\"],[0.5555555555555556,\"#d8576b\"],[0.6666666666666666,\"#ed7953\"],[0.7777777777777778,\"#fb9f3a\"],[0.8888888888888888,\"#fdca26\"],[1.0,\"#f0f921\"]],\"type\":\"histogram2dcontour\"}],\"mesh3d\":[{\"colorbar\":{\"outlinewidth\":0,\"ticks\":\"\"},\"type\":\"mesh3d\"}],\"parcoords\":[{\"line\":{\"colorbar\":{\"outlinewidth\":0,\"ticks\":\"\"}},\"type\":\"parcoords\"}],\"pie\":[{\"automargin\":true,\"type\":\"pie\"}],\"scatter\":[{\"marker\":{\"colorbar\":{\"outlinewidth\":0,\"ticks\":\"\"}},\"type\":\"scatter\"}],\"scatter3d\":[{\"line\":{\"colorbar\":{\"outlinewidth\":0,\"ticks\":\"\"}},\"marker\":{\"colorbar\":{\"outlinewidth\":0,\"ticks\":\"\"}},\"type\":\"scatter3d\"}],\"scattercarpet\":[{\"marker\":{\"colorbar\":{\"outlinewidth\":0,\"ticks\":\"\"}},\"type\":\"scattercarpet\"}],\"scattergeo\":[{\"marker\":{\"colorbar\":{\"outlinewidth\":0,\"ticks\":\"\"}},\"type\":\"scattergeo\"}],\"scattergl\":[{\"marker\":{\"colorbar\":{\"outlinewidth\":0,\"ticks\":\"\"}},\"type\":\"scattergl\"}],\"scattermapbox\":[{\"marker\":{\"colorbar\":{\"outlinewidth\":0,\"ticks\":\"\"}},\"type\":\"scattermapbox\"}],\"scatterpolar\":[{\"marker\":{\"colorbar\":{\"outlinewidth\":0,\"ticks\":\"\"}},\"type\":\"scatterpolar\"}],\"scatterpolargl\":[{\"marker\":{\"colorbar\":{\"outlinewidth\":0,\"ticks\":\"\"}},\"type\":\"scatterpolargl\"}],\"scatterternary\":[{\"marker\":{\"colorbar\":{\"outlinewidth\":0,\"ticks\":\"\"}},\"type\":\"scatterternary\"}],\"surface\":[{\"colorbar\":{\"outlinewidth\":0,\"ticks\":\"\"},\"colorscale\":[[0.0,\"#0d0887\"],[0.1111111111111111,\"#46039f\"],[0.2222222222222222,\"#7201a8\"],[0.3333333333333333,\"#9c179e\"],[0.4444444444444444,\"#bd3786\"],[0.5555555555555556,\"#d8576b\"],[0.6666666666666666,\"#ed7953\"],[0.7777777777777778,\"#fb9f3a\"],[0.8888888888888888,\"#fdca26\"],[1.0,\"#f0f921\"]],\"type\":\"surface\"}],\"table\":[{\"cells\":{\"fill\":{\"color\":\"#EBF0F8\"},\"line\":{\"color\":\"white\"}},\"header\":{\"fill\":{\"color\":\"#C8D4E3\"},\"line\":{\"color\":\"white\"}},\"type\":\"table\"}]},\"layout\":{\"annotationdefaults\":{\"arrowcolor\":\"#2a3f5f\",\"arrowhead\":0,\"arrowwidth\":1},\"autotypenumbers\":\"strict\",\"coloraxis\":{\"colorbar\":{\"outlinewidth\":0,\"ticks\":\"\"}},\"colorscale\":{\"diverging\":[[0,\"#8e0152\"],[0.1,\"#c51b7d\"],[0.2,\"#de77ae\"],[0.3,\"#f1b6da\"],[0.4,\"#fde0ef\"],[0.5,\"#f7f7f7\"],[0.6,\"#e6f5d0\"],[0.7,\"#b8e186\"],[0.8,\"#7fbc41\"],[0.9,\"#4d9221\"],[1,\"#276419\"]],\"sequential\":[[0.0,\"#0d0887\"],[0.1111111111111111,\"#46039f\"],[0.2222222222222222,\"#7201a8\"],[0.3333333333333333,\"#9c179e\"],[0.4444444444444444,\"#bd3786\"],[0.5555555555555556,\"#d8576b\"],[0.6666666666666666,\"#ed7953\"],[0.7777777777777778,\"#fb9f3a\"],[0.8888888888888888,\"#fdca26\"],[1.0,\"#f0f921\"]],\"sequentialminus\":[[0.0,\"#0d0887\"],[0.1111111111111111,\"#46039f\"],[0.2222222222222222,\"#7201a8\"],[0.3333333333333333,\"#9c179e\"],[0.4444444444444444,\"#bd3786\"],[0.5555555555555556,\"#d8576b\"],[0.6666666666666666,\"#ed7953\"],[0.7777777777777778,\"#fb9f3a\"],[0.8888888888888888,\"#fdca26\"],[1.0,\"#f0f921\"]]},\"colorway\":[\"#636efa\",\"#EF553B\",\"#00cc96\",\"#ab63fa\",\"#FFA15A\",\"#19d3f3\",\"#FF6692\",\"#B6E880\",\"#FF97FF\",\"#FECB52\"],\"font\":{\"color\":\"#2a3f5f\"},\"geo\":{\"bgcolor\":\"white\",\"lakecolor\":\"white\",\"landcolor\":\"#E5ECF6\",\"showlakes\":true,\"showland\":true,\"subunitcolor\":\"white\"},\"hoverlabel\":{\"align\":\"left\"},\"hovermode\":\"closest\",\"mapbox\":{\"style\":\"light\"},\"paper_bgcolor\":\"white\",\"plot_bgcolor\":\"#E5ECF6\",\"polar\":{\"angularaxis\":{\"gridcolor\":\"white\",\"linecolor\":\"white\",\"ticks\":\"\"},\"bgcolor\":\"#E5ECF6\",\"radialaxis\":{\"gridcolor\":\"white\",\"linecolor\":\"white\",\"ticks\":\"\"}},\"scene\":{\"xaxis\":{\"backgroundcolor\":\"#E5ECF6\",\"gridcolor\":\"white\",\"gridwidth\":2,\"linecolor\":\"white\",\"showbackground\":true,\"ticks\":\"\",\"zerolinecolor\":\"white\"},\"yaxis\":{\"backgroundcolor\":\"#E5ECF6\",\"gridcolor\":\"white\",\"gridwidth\":2,\"linecolor\":\"white\",\"showbackground\":true,\"ticks\":\"\",\"zerolinecolor\":\"white\"},\"zaxis\":{\"backgroundcolor\":\"#E5ECF6\",\"gridcolor\":\"white\",\"gridwidth\":2,\"linecolor\":\"white\",\"showbackground\":true,\"ticks\":\"\",\"zerolinecolor\":\"white\"}},\"shapedefaults\":{\"line\":{\"color\":\"#2a3f5f\"}},\"ternary\":{\"aaxis\":{\"gridcolor\":\"white\",\"linecolor\":\"white\",\"ticks\":\"\"},\"baxis\":{\"gridcolor\":\"white\",\"linecolor\":\"white\",\"ticks\":\"\"},\"bgcolor\":\"#E5ECF6\",\"caxis\":{\"gridcolor\":\"white\",\"linecolor\":\"white\",\"ticks\":\"\"}},\"title\":{\"x\":0.05},\"xaxis\":{\"automargin\":true,\"gridcolor\":\"white\",\"linecolor\":\"white\",\"ticks\":\"\",\"title\":{\"standoff\":15},\"zerolinecolor\":\"white\",\"zerolinewidth\":2},\"yaxis\":{\"automargin\":true,\"gridcolor\":\"white\",\"linecolor\":\"white\",\"ticks\":\"\",\"title\":{\"standoff\":15},\"zerolinecolor\":\"white\",\"zerolinewidth\":2}}},\"xaxis\":{\"anchor\":\"y\",\"domain\":[0.0,1.0],\"title\":{\"text\":\"Distinct Called Numbers\"}},\"yaxis\":{\"anchor\":\"x\",\"domain\":[0.0,1.0],\"title\":{\"text\":\"avg of Call  Failure\"}},\"legend\":{\"tracegroupgap\":0},\"margin\":{\"t\":60},\"barmode\":\"relative\",\"title\":{\"text\":\"Average\"},\"height\":500,\"width\":1200},                        {\"responsive\": true}                    ).then(function(){\n",
              "                            \n",
              "var gd = document.getElementById('55856452-b41a-4417-a4d3-85e8e4373ae6');\n",
              "var x = new MutationObserver(function (mutations, observer) {{\n",
              "        var display = window.getComputedStyle(gd).display;\n",
              "        if (!display || display === 'none') {{\n",
              "            console.log([gd, 'removed!']);\n",
              "            Plotly.purge(gd);\n",
              "            observer.disconnect();\n",
              "        }}\n",
              "}});\n",
              "\n",
              "// Listen for the removal of the full notebook cells\n",
              "var notebookContainer = gd.closest('#notebook-container');\n",
              "if (notebookContainer) {{\n",
              "    x.observe(notebookContainer, {childList: true});\n",
              "}}\n",
              "\n",
              "// Listen for the clearing of the current output cell\n",
              "var outputEl = gd.closest('.output');\n",
              "if (outputEl) {{\n",
              "    x.observe(outputEl, {childList: true});\n",
              "}}\n",
              "\n",
              "                        })                };                            </script>        </div>\n",
              "</body>\n",
              "</html>"
            ]
          },
          "metadata": {},
          "output_type": "display_data"
        }
      ],
      "source": [
        "fig = px.histogram(data, x=\"Distinct Called Numbers\", y=\"Call  Failure\", histfunc='avg',nbins= 200)\n",
        "fig.update_layout(height=500, width=1200,  title_text=\"Average\")\n",
        "fig.show(renderer = 'colab')"
      ]
    },
    {
      "cell_type": "markdown",
      "metadata": {
        "id": "ODUl1Wa5VssB"
      },
      "source": [
        "Users that make distinct calls have more chances of having call failure."
      ]
    },
    {
      "cell_type": "code",
      "execution_count": null,
      "metadata": {
        "id": "2wlFh2noMf_v"
      },
      "outputs": [],
      "source": [
        "bins= [0,10,20,30,40,50,60,70,80,90,100,110,120,130,140,150,160,170,180,190,\\\n",
        "        200,210,220,230,240,250,260]\n",
        "labels = ['0-9','10-19','20-29','30-39','40-49', '50-59','60-69','70-79', '80-89',\\\n",
        "        '90-99', '100-109','110-119','120-129','130-139','140-149', '150-159', \\\n",
        "        '160-169','170-179', '180-189','190-199', '200-209','210-219','220-229',\\\n",
        "        '230-239','240-249', '250-259']\n",
        "data_2 = data.assign(grouped_frequency = pd.cut(data['Frequency of use'], bins \\\n",
        "                                                      = bins, labels = labels ))"
      ]
    },
    {
      "cell_type": "code",
      "execution_count": null,
      "metadata": {
        "id": "-QCAoo0NoT8s"
      },
      "outputs": [],
      "source": [
        "df_pivot = data_2.pivot_table(index = 'grouped_frequency', \\\n",
        "                          columns = 'Churn', values='Frequency of use',\\\n",
        "                          aggfunc='count', margins = True, margins_name='Total')\n",
        "df_pivot_2 = df_pivot.fillna(0)\n",
        "df_pivot_3 = df_pivot_2.style.format('{:,.0f}')"
      ]
    },
    {
      "cell_type": "code",
      "execution_count": null,
      "metadata": {
        "id": "yx6Uv51dGCOg"
      },
      "outputs": [],
      "source": [
        "df_pivot_4 = df_pivot_2.reset_index()\n",
        "# df_pivot_2.head(5)"
      ]
    },
    {
      "cell_type": "code",
      "execution_count": null,
      "metadata": {
        "colab": {
          "base_uri": "https://localhost:8080/",
          "height": 517
        },
        "id": "pDZgZZtaQh1-",
        "outputId": "2541eddb-0117-4912-b410-d1ef7e09aafc"
      },
      "outputs": [
        {
          "data": {
            "text/html": [
              "<html>\n",
              "<head><meta charset=\"utf-8\" /></head>\n",
              "<body>\n",
              "    <div>            <script src=\"https://cdnjs.cloudflare.com/ajax/libs/mathjax/2.7.5/MathJax.js?config=TeX-AMS-MML_SVG\"></script><script type=\"text/javascript\">if (window.MathJax) {MathJax.Hub.Config({SVG: {font: \"STIX-Web\"}});}</script>                <script type=\"text/javascript\">window.PlotlyConfig = {MathJaxConfig: 'local'};</script>\n",
              "        <script src=\"https://cdn.plot.ly/plotly-2.8.3.min.js\"></script>                <div id=\"2918b599-f4c3-4e2e-8ae9-b5055fbfdefc\" class=\"plotly-graph-div\" style=\"height:500px; width:1200px;\"></div>            <script type=\"text/javascript\">                                    window.PLOTLYENV=window.PLOTLYENV || {};                                    if (document.getElementById(\"2918b599-f4c3-4e2e-8ae9-b5055fbfdefc\")) {                    Plotly.newPlot(                        \"2918b599-f4c3-4e2e-8ae9-b5055fbfdefc\",                        [{\"marker\":{\"color\":\"rgb(55, 83, 109)\"},\"name\":\"Churn\",\"x\":[\"0-9\",\"10-19\",\"20-29\",\"30-39\",\"40-49\",\"50-59\",\"60-69\",\"70-79\",\"80-89\",\"90-99\",\"100-109\",\"110-119\",\"120-129\",\"130-139\",\"140-149\",\"150-159\",\"160-169\",\"170-179\",\"180-189\",\"190-199\",\"200-209\",\"210-219\",\"220-229\",\"230-239\",\"240-249\",\"250-259\"],\"y\":[87.0,62.0,37.0,59.0,84.0,42.0,5.0,0.0,12.0,26.0,0.0,0.0,0.0,0.0,0.0,0.0,0.0,0.0,0.0,0.0,0.0,0.0,0.0,0.0,0.0,0.0,414.0],\"type\":\"bar\"},{\"marker\":{\"color\":\"rgb(26, 118, 255)\"},\"name\":\"Non Churn\",\"x\":[\"0-9\",\"10-19\",\"20-29\",\"30-39\",\"40-49\",\"50-59\",\"60-69\",\"70-79\",\"80-89\",\"90-99\",\"100-109\",\"110-119\",\"120-129\",\"130-139\",\"140-149\",\"150-159\",\"160-169\",\"170-179\",\"180-189\",\"190-199\",\"200-209\",\"210-219\",\"220-229\",\"230-239\",\"240-249\",\"250-259\"],\"y\":[119.0,187.0,233.0,249.0,222.0,198.0,178.0,175.0,180.0,133.0,93.0,69.0,77.0,56.0,49.0,53.0,65.0,69.0,41.0,10.0,3.0,17.0,37.0,41.0,24.0,4.0,2582.0],\"type\":\"bar\"}],                        {\"template\":{\"data\":{\"bar\":[{\"error_x\":{\"color\":\"#2a3f5f\"},\"error_y\":{\"color\":\"#2a3f5f\"},\"marker\":{\"line\":{\"color\":\"#E5ECF6\",\"width\":0.5},\"pattern\":{\"fillmode\":\"overlay\",\"size\":10,\"solidity\":0.2}},\"type\":\"bar\"}],\"barpolar\":[{\"marker\":{\"line\":{\"color\":\"#E5ECF6\",\"width\":0.5},\"pattern\":{\"fillmode\":\"overlay\",\"size\":10,\"solidity\":0.2}},\"type\":\"barpolar\"}],\"carpet\":[{\"aaxis\":{\"endlinecolor\":\"#2a3f5f\",\"gridcolor\":\"white\",\"linecolor\":\"white\",\"minorgridcolor\":\"white\",\"startlinecolor\":\"#2a3f5f\"},\"baxis\":{\"endlinecolor\":\"#2a3f5f\",\"gridcolor\":\"white\",\"linecolor\":\"white\",\"minorgridcolor\":\"white\",\"startlinecolor\":\"#2a3f5f\"},\"type\":\"carpet\"}],\"choropleth\":[{\"colorbar\":{\"outlinewidth\":0,\"ticks\":\"\"},\"type\":\"choropleth\"}],\"contour\":[{\"colorbar\":{\"outlinewidth\":0,\"ticks\":\"\"},\"colorscale\":[[0.0,\"#0d0887\"],[0.1111111111111111,\"#46039f\"],[0.2222222222222222,\"#7201a8\"],[0.3333333333333333,\"#9c179e\"],[0.4444444444444444,\"#bd3786\"],[0.5555555555555556,\"#d8576b\"],[0.6666666666666666,\"#ed7953\"],[0.7777777777777778,\"#fb9f3a\"],[0.8888888888888888,\"#fdca26\"],[1.0,\"#f0f921\"]],\"type\":\"contour\"}],\"contourcarpet\":[{\"colorbar\":{\"outlinewidth\":0,\"ticks\":\"\"},\"type\":\"contourcarpet\"}],\"heatmap\":[{\"colorbar\":{\"outlinewidth\":0,\"ticks\":\"\"},\"colorscale\":[[0.0,\"#0d0887\"],[0.1111111111111111,\"#46039f\"],[0.2222222222222222,\"#7201a8\"],[0.3333333333333333,\"#9c179e\"],[0.4444444444444444,\"#bd3786\"],[0.5555555555555556,\"#d8576b\"],[0.6666666666666666,\"#ed7953\"],[0.7777777777777778,\"#fb9f3a\"],[0.8888888888888888,\"#fdca26\"],[1.0,\"#f0f921\"]],\"type\":\"heatmap\"}],\"heatmapgl\":[{\"colorbar\":{\"outlinewidth\":0,\"ticks\":\"\"},\"colorscale\":[[0.0,\"#0d0887\"],[0.1111111111111111,\"#46039f\"],[0.2222222222222222,\"#7201a8\"],[0.3333333333333333,\"#9c179e\"],[0.4444444444444444,\"#bd3786\"],[0.5555555555555556,\"#d8576b\"],[0.6666666666666666,\"#ed7953\"],[0.7777777777777778,\"#fb9f3a\"],[0.8888888888888888,\"#fdca26\"],[1.0,\"#f0f921\"]],\"type\":\"heatmapgl\"}],\"histogram\":[{\"marker\":{\"pattern\":{\"fillmode\":\"overlay\",\"size\":10,\"solidity\":0.2}},\"type\":\"histogram\"}],\"histogram2d\":[{\"colorbar\":{\"outlinewidth\":0,\"ticks\":\"\"},\"colorscale\":[[0.0,\"#0d0887\"],[0.1111111111111111,\"#46039f\"],[0.2222222222222222,\"#7201a8\"],[0.3333333333333333,\"#9c179e\"],[0.4444444444444444,\"#bd3786\"],[0.5555555555555556,\"#d8576b\"],[0.6666666666666666,\"#ed7953\"],[0.7777777777777778,\"#fb9f3a\"],[0.8888888888888888,\"#fdca26\"],[1.0,\"#f0f921\"]],\"type\":\"histogram2d\"}],\"histogram2dcontour\":[{\"colorbar\":{\"outlinewidth\":0,\"ticks\":\"\"},\"colorscale\":[[0.0,\"#0d0887\"],[0.1111111111111111,\"#46039f\"],[0.2222222222222222,\"#7201a8\"],[0.3333333333333333,\"#9c179e\"],[0.4444444444444444,\"#bd3786\"],[0.5555555555555556,\"#d8576b\"],[0.6666666666666666,\"#ed7953\"],[0.7777777777777778,\"#fb9f3a\"],[0.8888888888888888,\"#fdca26\"],[1.0,\"#f0f921\"]],\"type\":\"histogram2dcontour\"}],\"mesh3d\":[{\"colorbar\":{\"outlinewidth\":0,\"ticks\":\"\"},\"type\":\"mesh3d\"}],\"parcoords\":[{\"line\":{\"colorbar\":{\"outlinewidth\":0,\"ticks\":\"\"}},\"type\":\"parcoords\"}],\"pie\":[{\"automargin\":true,\"type\":\"pie\"}],\"scatter\":[{\"marker\":{\"colorbar\":{\"outlinewidth\":0,\"ticks\":\"\"}},\"type\":\"scatter\"}],\"scatter3d\":[{\"line\":{\"colorbar\":{\"outlinewidth\":0,\"ticks\":\"\"}},\"marker\":{\"colorbar\":{\"outlinewidth\":0,\"ticks\":\"\"}},\"type\":\"scatter3d\"}],\"scattercarpet\":[{\"marker\":{\"colorbar\":{\"outlinewidth\":0,\"ticks\":\"\"}},\"type\":\"scattercarpet\"}],\"scattergeo\":[{\"marker\":{\"colorbar\":{\"outlinewidth\":0,\"ticks\":\"\"}},\"type\":\"scattergeo\"}],\"scattergl\":[{\"marker\":{\"colorbar\":{\"outlinewidth\":0,\"ticks\":\"\"}},\"type\":\"scattergl\"}],\"scattermapbox\":[{\"marker\":{\"colorbar\":{\"outlinewidth\":0,\"ticks\":\"\"}},\"type\":\"scattermapbox\"}],\"scatterpolar\":[{\"marker\":{\"colorbar\":{\"outlinewidth\":0,\"ticks\":\"\"}},\"type\":\"scatterpolar\"}],\"scatterpolargl\":[{\"marker\":{\"colorbar\":{\"outlinewidth\":0,\"ticks\":\"\"}},\"type\":\"scatterpolargl\"}],\"scatterternary\":[{\"marker\":{\"colorbar\":{\"outlinewidth\":0,\"ticks\":\"\"}},\"type\":\"scatterternary\"}],\"surface\":[{\"colorbar\":{\"outlinewidth\":0,\"ticks\":\"\"},\"colorscale\":[[0.0,\"#0d0887\"],[0.1111111111111111,\"#46039f\"],[0.2222222222222222,\"#7201a8\"],[0.3333333333333333,\"#9c179e\"],[0.4444444444444444,\"#bd3786\"],[0.5555555555555556,\"#d8576b\"],[0.6666666666666666,\"#ed7953\"],[0.7777777777777778,\"#fb9f3a\"],[0.8888888888888888,\"#fdca26\"],[1.0,\"#f0f921\"]],\"type\":\"surface\"}],\"table\":[{\"cells\":{\"fill\":{\"color\":\"#EBF0F8\"},\"line\":{\"color\":\"white\"}},\"header\":{\"fill\":{\"color\":\"#C8D4E3\"},\"line\":{\"color\":\"white\"}},\"type\":\"table\"}]},\"layout\":{\"annotationdefaults\":{\"arrowcolor\":\"#2a3f5f\",\"arrowhead\":0,\"arrowwidth\":1},\"autotypenumbers\":\"strict\",\"coloraxis\":{\"colorbar\":{\"outlinewidth\":0,\"ticks\":\"\"}},\"colorscale\":{\"diverging\":[[0,\"#8e0152\"],[0.1,\"#c51b7d\"],[0.2,\"#de77ae\"],[0.3,\"#f1b6da\"],[0.4,\"#fde0ef\"],[0.5,\"#f7f7f7\"],[0.6,\"#e6f5d0\"],[0.7,\"#b8e186\"],[0.8,\"#7fbc41\"],[0.9,\"#4d9221\"],[1,\"#276419\"]],\"sequential\":[[0.0,\"#0d0887\"],[0.1111111111111111,\"#46039f\"],[0.2222222222222222,\"#7201a8\"],[0.3333333333333333,\"#9c179e\"],[0.4444444444444444,\"#bd3786\"],[0.5555555555555556,\"#d8576b\"],[0.6666666666666666,\"#ed7953\"],[0.7777777777777778,\"#fb9f3a\"],[0.8888888888888888,\"#fdca26\"],[1.0,\"#f0f921\"]],\"sequentialminus\":[[0.0,\"#0d0887\"],[0.1111111111111111,\"#46039f\"],[0.2222222222222222,\"#7201a8\"],[0.3333333333333333,\"#9c179e\"],[0.4444444444444444,\"#bd3786\"],[0.5555555555555556,\"#d8576b\"],[0.6666666666666666,\"#ed7953\"],[0.7777777777777778,\"#fb9f3a\"],[0.8888888888888888,\"#fdca26\"],[1.0,\"#f0f921\"]]},\"colorway\":[\"#636efa\",\"#EF553B\",\"#00cc96\",\"#ab63fa\",\"#FFA15A\",\"#19d3f3\",\"#FF6692\",\"#B6E880\",\"#FF97FF\",\"#FECB52\"],\"font\":{\"color\":\"#2a3f5f\"},\"geo\":{\"bgcolor\":\"white\",\"lakecolor\":\"white\",\"landcolor\":\"#E5ECF6\",\"showlakes\":true,\"showland\":true,\"subunitcolor\":\"white\"},\"hoverlabel\":{\"align\":\"left\"},\"hovermode\":\"closest\",\"mapbox\":{\"style\":\"light\"},\"paper_bgcolor\":\"white\",\"plot_bgcolor\":\"#E5ECF6\",\"polar\":{\"angularaxis\":{\"gridcolor\":\"white\",\"linecolor\":\"white\",\"ticks\":\"\"},\"bgcolor\":\"#E5ECF6\",\"radialaxis\":{\"gridcolor\":\"white\",\"linecolor\":\"white\",\"ticks\":\"\"}},\"scene\":{\"xaxis\":{\"backgroundcolor\":\"#E5ECF6\",\"gridcolor\":\"white\",\"gridwidth\":2,\"linecolor\":\"white\",\"showbackground\":true,\"ticks\":\"\",\"zerolinecolor\":\"white\"},\"yaxis\":{\"backgroundcolor\":\"#E5ECF6\",\"gridcolor\":\"white\",\"gridwidth\":2,\"linecolor\":\"white\",\"showbackground\":true,\"ticks\":\"\",\"zerolinecolor\":\"white\"},\"zaxis\":{\"backgroundcolor\":\"#E5ECF6\",\"gridcolor\":\"white\",\"gridwidth\":2,\"linecolor\":\"white\",\"showbackground\":true,\"ticks\":\"\",\"zerolinecolor\":\"white\"}},\"shapedefaults\":{\"line\":{\"color\":\"#2a3f5f\"}},\"ternary\":{\"aaxis\":{\"gridcolor\":\"white\",\"linecolor\":\"white\",\"ticks\":\"\"},\"baxis\":{\"gridcolor\":\"white\",\"linecolor\":\"white\",\"ticks\":\"\"},\"bgcolor\":\"#E5ECF6\",\"caxis\":{\"gridcolor\":\"white\",\"linecolor\":\"white\",\"ticks\":\"\"}},\"title\":{\"x\":0.05},\"xaxis\":{\"automargin\":true,\"gridcolor\":\"white\",\"linecolor\":\"white\",\"ticks\":\"\",\"title\":{\"standoff\":15},\"zerolinecolor\":\"white\",\"zerolinewidth\":2},\"yaxis\":{\"automargin\":true,\"gridcolor\":\"white\",\"linecolor\":\"white\",\"ticks\":\"\",\"title\":{\"standoff\":15},\"zerolinecolor\":\"white\",\"zerolinewidth\":2}}},\"title\":{\"text\":\"Frequency of Use\"},\"height\":500,\"width\":1200,\"barmode\":\"group\",\"bargap\":0.15,\"bargroupgap\":0.1},                        {\"responsive\": true}                    ).then(function(){\n",
              "                            \n",
              "var gd = document.getElementById('2918b599-f4c3-4e2e-8ae9-b5055fbfdefc');\n",
              "var x = new MutationObserver(function (mutations, observer) {{\n",
              "        var display = window.getComputedStyle(gd).display;\n",
              "        if (!display || display === 'none') {{\n",
              "            console.log([gd, 'removed!']);\n",
              "            Plotly.purge(gd);\n",
              "            observer.disconnect();\n",
              "        }}\n",
              "}});\n",
              "\n",
              "// Listen for the removal of the full notebook cells\n",
              "var notebookContainer = gd.closest('#notebook-container');\n",
              "if (notebookContainer) {{\n",
              "    x.observe(notebookContainer, {childList: true});\n",
              "}}\n",
              "\n",
              "// Listen for the clearing of the current output cell\n",
              "var outputEl = gd.closest('.output');\n",
              "if (outputEl) {{\n",
              "    x.observe(outputEl, {childList: true});\n",
              "}}\n",
              "\n",
              "                        })                };                            </script>        </div>\n",
              "</body>\n",
              "</html>"
            ]
          },
          "metadata": {},
          "output_type": "display_data"
        }
      ],
      "source": [
        "frequ = df_pivot_4.grouped_frequency[:-1]\n",
        "\n",
        "fig = go.Figure()\n",
        "fig.add_trace(go.Bar(x=frequ,\n",
        "                y=df_pivot_4['Churn'],\n",
        "                name='Churn',\n",
        "                marker_color='rgb(55, 83, 109)'\n",
        "                ))\n",
        "fig.add_trace(go.Bar(x=frequ,\n",
        "                y=df_pivot_4['Non Churn'],\n",
        "                name='Non Churn',\n",
        "                marker_color='rgb(26, 118, 255)'\n",
        "                ))\n",
        "\n",
        "fig.update_layout(\n",
        "    title='Frequency of Use',\n",
        "    height=500, width=1200,\n",
        "    barmode='group',\n",
        "    bargap=0.15, # gap between bars of adjacent location coordinates.\n",
        "    bargroupgap=0.1 # gap between bars of the same location coordinate.\n",
        ")\n",
        "fig.show(renderer = 'colab')"
      ]
    },
    {
      "cell_type": "markdown",
      "metadata": {
        "id": "KskL9nEOV1mU"
      },
      "source": [
        "users with low frequency of use have a much higher chances of leaving compaired to that with much higher frequency of use."
      ]
    }
  ],
  "metadata": {
    "colab": {
      "collapsed_sections": [
        "jd1rpTypW5Ae",
        "jIfENJZyWwUt",
        "Ycmw0KesJv6W"
      ],
      "name": "Customer_Churn.ipynb",
      "provenance": []
    },
    "kernelspec": {
      "display_name": "Python 3",
      "name": "python3"
    },
    "language_info": {
      "name": "python"
    }
  },
  "nbformat": 4,
  "nbformat_minor": 0
}
